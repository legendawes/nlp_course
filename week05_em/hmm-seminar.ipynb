{
 "cells": [
  {
   "cell_type": "markdown",
   "metadata": {},
   "source": [
    "**Hidden Markov models for cracking codes**\n",
    "\n",
    "In this exercise you have to make a partially built HMM work and use it to solve some simple substitution ciphers. Plaintext data is provided in 'plaintext' directory. Encrypted data is in 'encrypted'. Some of the texts were originally English some of them were Russian; the sequences are also of different lengths. \n",
    "\n",
    "This homework is worth **15 points** and is due by the next class (**24th Oct.**), please submit the results of the **TASK 5** (a list of files and names of the author/work) to Anytask in the following format: 'filename author' where 'filename' is a file from \"encrypted/\\*_encrypted.txt\" and 'author' is a file from \"plaintext/\\*.txt\" (not including 'english.txt', 'russian.txt' or 'all.txt') which best matches the decrypted text.\n",
    "\n",
    "\n"
   ]
  },
  {
   "cell_type": "code",
   "execution_count": 1,
   "metadata": {},
   "outputs": [],
   "source": [
    "# Utilities for loading data from file and converting characters to integers and back.\n",
    "import numpy as np\n",
    "from tqdm import tqdm_notebook as tqdm\n",
    "    \n",
    "def get_char_to_int_mapping(path):\n",
    "    # Load data from path and get mapping from characters to integers and back.\n",
    "    characters = set()\n",
    "    for line in open(path):\n",
    "        characters.update(set([c for c in line.strip()]))\n",
    "    char_to_int_mapping = dict([(char, i) for i, char in enumerate(sorted(list(characters)))])\n",
    "    int_to_char_mapping = [char for char, i in char_to_int_mapping.items()]\n",
    "    return char_to_int_mapping, int_to_char_mapping\n",
    "\n",
    "def load_sequences(path, char_to_int_mapping):\n",
    "    # Load data from path and map to integers using mapping.\n",
    "    return [[char_to_int_mapping[c] for c in line.strip()] for line in open(path)]\n",
    "\n",
    "def estimate_markov_model_from_sequences(sequences, num_states):\n",
    "    # Estimate a Markov model based on the sequences (integers) provided.\n",
    "\n",
    "    # pi[i] = Pr(s_0 = i)\n",
    "    pi_counts = np.zeros(num_states)\n",
    "\n",
    "    # A[i, j] = Pr(s_t = j | s_{t-1} = i)\n",
    "    A_counts = np.zeros((num_states, num_states))\n",
    "    \n",
    "    for n, sequence in enumerate(sequences):\n",
    "        prev_char = None\n",
    "        for n_char, char in enumerate(sequence):\n",
    "            if n_char == 0:\n",
    "                pi_counts[char] += 1\n",
    "            \n",
    "            if prev_char is not None:\n",
    "                A_counts[prev_char, char] += 1\n",
    "            \n",
    "            prev_char = char\n",
    "            \n",
    "    pi = pi_counts / np.sum(pi_counts)\n",
    "    A = A_counts / np.sum(A_counts, 1, keepdims=True)\n",
    "    \n",
    "    return pi, A"
   ]
  },
  {
   "cell_type": "markdown",
   "metadata": {},
   "source": [
    "**TASK 1**: Make the following block run by completing the method 'estimate_markov_model_from_sequences' above."
   ]
  },
  {
   "cell_type": "code",
   "execution_count": 2,
   "metadata": {},
   "outputs": [],
   "source": [
    "# Some data to use.\n",
    "plaintext = 'plaintext/english.txt'\n",
    "# plaintext = 'plaintext/shakespeare.txt'\n",
    "# plaintext = 'plaintext/russian.txt'\n",
    "\n",
    "ciphertext = 'encrypted/1_encrypted.txt' # short sequences in english\n",
    "# ciphertext = 'encrypted/99_encrypted.txt' # longer sequences in russian\n",
    "\n",
    "# load a character to integer mapping and reverse                                                                                                         \n",
    "char_to_int_mapping, int_to_char_mapping = get_char_to_int_mapping(plaintext)\n",
    "\n",
    "# load sequences as ints                                                                                                                                  \n",
    "plaintext_sequences = load_sequences(plaintext, char_to_int_mapping)\n",
    "encrypted_sequences = load_sequences(ciphertext, char_to_int_mapping)\n",
    "\n",
    "# estimate a markov model over characters                                                                                                                 \n",
    "pi, A = estimate_markov_model_from_sequences(plaintext_sequences, len(char_to_int_mapping))"
   ]
  },
  {
   "cell_type": "code",
   "execution_count": 3,
   "metadata": {},
   "outputs": [
    {
     "data": {
      "text/plain": [
       "('q', 'u')"
      ]
     },
     "execution_count": 3,
     "metadata": {},
     "output_type": "execute_result"
    }
   ],
   "source": [
    "prev_char, next_char = np.unravel_index(A.argmax(), A.shape)\n",
    "int_to_char_mapping[prev_char], int_to_char_mapping[next_char]"
   ]
  },
  {
   "cell_type": "markdown",
   "metadata": {},
   "source": [
    "Below is a mostly implemented HMM."
   ]
  },
  {
   "cell_type": "markdown",
   "metadata": {},
   "source": [
    "$\\alpha_{t+1}(i) = \\sum_{j} \\alpha_{t}(j)A_{j}(i)B_{i}(x_{t+1})$\n",
    "\n",
    "$\\beta_{t}(i) = \\sum_{j}\\beta_{t+1}A_{i}(j)B_{j}(x_{t+1})$"
   ]
  },
  {
   "cell_type": "code",
   "execution_count": 4,
   "metadata": {},
   "outputs": [],
   "source": [
    "class HMM_base():\n",
    "    def __init__(self, observations_to_char_mapping={}, states_to_char_mapping={}, seed=None,\n",
    "                 print_test_output=True, early_stopping_thresh=None):\n",
    "        # Determine number of states and observation space. \n",
    "        self.num_states = len(states_to_char_mapping)\n",
    "        self.num_outputs = len(observations_to_char_mapping)\n",
    "        self.states_to_char_mapping = states_to_char_mapping\n",
    "        self.observations_to_char_mapping = observations_to_char_mapping\n",
    "        self.print_test_output = print_test_output\n",
    "        self.early_stopping_thresh = early_stopping_thresh\n",
    "       \n",
    "        if seed is not None:\n",
    "            np.random.seed(seed)\n",
    "        # Random initialization\n",
    "        self.pi = np.random.rand(self.num_states)\n",
    "        self.pi /= np.sum(self.pi)\n",
    "        \n",
    "#         self.pi = np.ones((self.num_states)) / self.num_states\n",
    "        \n",
    "        self.A = np.random.rand(self.num_states, self.num_states)\n",
    "        self.A /= np.sum(self.A, 1, keepdims=True)\n",
    "        \n",
    "#         self.A = np.ones((self.num_states, self.num_states)) / self.num_states\n",
    "#       \n",
    "        \n",
    "        self.B = np.ones((self.num_states, self.num_outputs)) / self.num_outputs\n",
    "        self.B = self.B + np.random.rand(self.num_states, self.num_outputs) / 100\n",
    "        self.B = np.clip(self.B, 0, None)\n",
    "#         self.B = np.random.rand(self.num_states, self.num_outputs)\n",
    "        self.B /= np.sum(self.B, 1, keepdims=True)\n",
    "        \n",
    "        \n",
    "    def estimate_with_em(self, sequences, parameters={}, epsilon=0.001, max_iters=100):\n",
    "        # Estimates all parameters not provided in 'parameters' based on 'sequences'.\n",
    "        self.fixed_pi = 'pi' in parameters\n",
    "        if self.fixed_pi:\n",
    "            print('pi is fixed')\n",
    "            self.pi = parameters['pi']\n",
    "        \n",
    "        self.fixed_A = 'A' in parameters\n",
    "        if self.fixed_A:\n",
    "            print('A is fixed')\n",
    "            self.A = parameters['A']\n",
    "            \n",
    "        self.fixed_B = 'B' in parameters\n",
    "        if self.fixed_B:\n",
    "            print('B is fixed')\n",
    "            self.B = parameters['B']\n",
    "    \n",
    "        previous_llh = None\n",
    "        iter = 0\n",
    "        while True and iter < max_iters:\n",
    "            # Infer expected counts.\n",
    "            pi_counts, A_counts, B_counts, log_likelihood = self.e_step(sequences)\n",
    "\n",
    "            # Update parameters based on counts.\n",
    "            self.m_step(pi_counts, A_counts, B_counts)\n",
    "\n",
    "            # Output some sequences for debugging.\n",
    "            if self.print_test_output:\n",
    "                self.output(sequences[:10])\n",
    "\n",
    "            # Log likelihood should be increasing\n",
    "            print('iteration %d; log likelihood %.4f' % (iter, log_likelihood))\n",
    "            if previous_llh:\n",
    "                assert log_likelihood >= previous_llh\n",
    "                if log_likelihood - previous_llh < epsilon:\n",
    "                    break\n",
    "                if self.early_stopping_thresh is not None:\n",
    "                    if abs(previous_llh - log_likelihood) < self.early_stopping_thresh:\n",
    "                        print(f'early stopping previous_llh {previous_llh}, log_likelihood {log_likelihood}')\n",
    "                        break\n",
    "                        \n",
    "            previous_llh = log_likelihood\n",
    "        \n",
    "            iter += 1\n",
    "\n",
    "\n",
    "    def e_step(self, sequences):\n",
    "        # Reset counters of statistics\n",
    "        pi_counts = np.zeros_like(self.pi)\n",
    "        A_counts = np.zeros_like(self.A) \n",
    "        B_counts = np.zeros_like(self.B) \n",
    "        total_log_likelihood = 0.0\n",
    "\n",
    "        for sequence in sequences:\n",
    "            # Run Forward-Backward dynamic program\n",
    "            alpha, beta, gamma, xi, log_likelihood = self.forward_backward(sequence)\n",
    "  \n",
    "            # Accumulate statistics\n",
    "            pi_counts += gamma[:, 0]\n",
    "            A_counts += xi\n",
    "            for t, x in enumerate(sequence):\n",
    "                B_counts[:, x] += gamma[:, t]\n",
    "            \n",
    "            total_log_likelihood += log_likelihood\n",
    "\n",
    "        return pi_counts, A_counts, B_counts, total_log_likelihood\n",
    "\n",
    "    def m_step(self, pi_counts, A_counts, B_counts):\n",
    "        if not self.fixed_pi:\n",
    "            self.pi = pi_counts / np.sum(pi_counts)\n",
    "        if not self.fixed_A:\n",
    "            self.A = A_counts / np.sum(A_counts, 1, keepdims=True)\n",
    "        if not self.fixed_B:\n",
    "            self.B = B_counts / np.sum(B_counts, 1, keepdims=True)\n",
    "        \n",
    "    def max_posterior_decode(self, sequence):\n",
    "        _, _, gamma, _, log_likelihood = self.forward_backward(sequence)\n",
    "        return np.argmax(gamma, 0)\n",
    "        \n",
    "\n",
    "    def output(self, sequences):\n",
    "        # Output some decoded states. \n",
    "        for i, sequence in enumerate(sequences):\n",
    "            \n",
    "            observations = [self.observations_to_char_mapping[x] for x in sequence]                \n",
    "            map_states = [self.states_to_char_mapping[x] for x in self.max_posterior_decode(sequence)]\n",
    "            print('(states):       %s\\n(observations): %s' % (''.join(map_states), ''.join(observations)))"
   ]
  },
  {
   "cell_type": "code",
   "execution_count": 5,
   "metadata": {},
   "outputs": [],
   "source": [
    "# divide classes for clarity\n",
    "class HMM(HMM_base):        \n",
    "    def forward_backward(self, sequence):\n",
    "        # alpha[i][t] = p(x_1, ..., x_t, z_t = i)\n",
    "        alpha, alpha_norms = self.forward(sequence)\n",
    "        \n",
    "        # beta[i][t] = p(x_t+1, ..., x_T|z_t = i)\n",
    "        beta = self.backward(sequence, alpha_norms)\n",
    "\n",
    "        # gamma[i][t] = p(z_t = i|x_1, ..., x_T)\n",
    "        gamma = (alpha * beta) / np.sum(alpha * beta, 0)# * (alpha_norms.T ** 2)\n",
    "        # gamma is normalized -> no need to apply alpha_norms\n",
    "\n",
    "        # xi[i][j] = p(z_t = i, z_{t+1} = j|x_1, ..., x_T)\n",
    "        xi = np.zeros_like(self.A)\n",
    "        for t in range(1, len(sequence)-1):\n",
    "            this_xi = alpha[:, t].reshape(-1, 1) * self.A * beta[:, t+1] * self.B[:, sequence[t+1]]\n",
    "            xi += this_xi / np.sum(this_xi)\n",
    "        \n",
    "        # * alpha_norms[len(sequence)-1]\n",
    "        log_likelihood = np.log(np.sum(alpha[:, len(sequence)-1]))\n",
    "        \n",
    "        if alpha_norms is not None:\n",
    "            log_likelihood = np.sum(np.log(alpha_norms))\n",
    "        \n",
    "        return alpha, beta, gamma, xi, log_likelihood\n",
    "    \n",
    "    def forward(self, sequence, scale=True):\n",
    "        # alpha[i][t] = p(x_1, ..., x_t, z_t = i)\n",
    "        alpha = np.zeros((len(self.pi), len(sequence)))\n",
    "        alpha_norms = np.zeros(len(sequence)) if scale else None\n",
    "        \n",
    "        for t, xt in enumerate(sequence):\n",
    "            if t == 0:\n",
    "                prev_alpha = self.pi * self.B[:, xt]\n",
    "                alpha_initialized = True\n",
    "            else:\n",
    "                prev_alpha = self.A.T.dot(prev_alpha).flatten() * self.B[:, xt]\n",
    "            \n",
    "            alpha_norm = np.sum(prev_alpha)\n",
    "            \n",
    "            if scale:\n",
    "                prev_alpha = prev_alpha / alpha_norm\n",
    "                alpha_norms[t] = alpha_norm\n",
    "                \n",
    "            alpha[:, t] = prev_alpha.copy()\n",
    "            \n",
    "        \n",
    "        assert(alpha_initialized)\n",
    "        return alpha, alpha_norms\n",
    "    \n",
    "    def backward(self, sequence, alpha_norms=None):\n",
    "        # beta[i][t] = p(x_t+1, ..., x_T|z_t = i)\n",
    "        num_states = len(self.pi)\n",
    "        beta = np.zeros((num_states, len(sequence)))\n",
    "    \n",
    "        for ind, xt in enumerate(sequence[::-1]):\n",
    "            t = len(sequence) - ind - 1\n",
    "            if ind == 0:\n",
    "                prev_beta = np.ones(num_states)\n",
    "                beta_initialized = True\n",
    "            else:\n",
    "                prev_beta = (prev_beta * self.B[:, xt_plus1]).dot(self.A.T)                \n",
    "            \n",
    "            if alpha_norms is not None:\n",
    "                prev_beta = prev_beta / alpha_norms[t]\n",
    "            beta[:, t] = prev_beta.copy()\n",
    "            xt_plus1 = xt\n",
    "    \n",
    "        assert(beta_initialized)\n",
    "        \n",
    "        return beta\n",
    "\n",
    "    def output(self, sequences):\n",
    "        # Output some decoded states. \n",
    "        for i, sequence in enumerate(sequences):\n",
    "            \n",
    "            observations = [self.observations_to_char_mapping[x] for x in sequence]                \n",
    "            map_states = [self.states_to_char_mapping[x] for x in self.max_posterior_decode(sequence)]\n",
    "            print('(states):       %s\\n(observations): %s' % (''.join(map_states), ''.join(observations)))\n",
    "    \n",
    "    def decode(self, sequences):\n",
    "        decoded_tokens = []\n",
    "        decoded_text = []\n",
    "        \n",
    "        for sequence in sequences:\n",
    "            tokens = self.max_posterior_decode(sequence)\n",
    "            text = [self.states_to_char_mapping[x] for x in tokens]\n",
    "            decoded_tokens.append(tokens)\n",
    "            decoded_text.append(''.join(text))\n",
    "        \n",
    "        return decoded_tokens, decoded_text"
   ]
  },
  {
   "cell_type": "markdown",
   "metadata": {},
   "source": [
    "Compare numpy and cycles"
   ]
  },
  {
   "cell_type": "markdown",
   "metadata": {},
   "source": [
    "**TASK 2**: Implement the assertions in 'forward' and 'backward' methods on the HMM class so that the following block passes."
   ]
  },
  {
   "cell_type": "code",
   "execution_count": 6,
   "metadata": {},
   "outputs": [
    {
     "name": "stdout",
     "output_type": "stream",
     "text": [
      "pi is fixed\n",
      "A is fixed\n",
      "iteration 0; log likelihood -12087.8863\n",
      "iteration 1; log likelihood -10425.6340\n",
      "iteration 2; log likelihood -10414.1728\n",
      "iteration 3; log likelihood -10400.7130\n",
      "iteration 4; log likelihood -10382.3546\n",
      "iteration 5; log likelihood -10354.5472\n",
      "iteration 6; log likelihood -10310.6183\n",
      "iteration 7; log likelihood -10242.5469\n",
      "iteration 8; log likelihood -10143.6626\n",
      "iteration 9; log likelihood -10010.5171\n",
      "iteration 10; log likelihood -9841.0102\n",
      "iteration 11; log likelihood -9639.8194\n",
      "iteration 12; log likelihood -9435.3972\n",
      "iteration 13; log likelihood -9262.8650\n",
      "iteration 14; log likelihood -9127.5356\n",
      "iteration 15; log likelihood -9016.7499\n",
      "iteration 16; log likelihood -8921.8371\n",
      "iteration 17; log likelihood -8842.3876\n",
      "iteration 18; log likelihood -8779.3327\n",
      "iteration 19; log likelihood -8730.7606\n",
      "iteration 20; log likelihood -8693.5743\n",
      "iteration 21; log likelihood -8665.1298\n",
      "iteration 22; log likelihood -8643.4481\n",
      "iteration 23; log likelihood -8626.8097\n",
      "iteration 24; log likelihood -8613.2251\n",
      "iteration 25; log likelihood -8601.6080\n",
      "iteration 26; log likelihood -8592.9878\n",
      "iteration 27; log likelihood -8586.7214\n",
      "iteration 28; log likelihood -8581.9420\n",
      "iteration 29; log likelihood -8578.0895\n",
      "iteration 30; log likelihood -8574.8584\n",
      "iteration 31; log likelihood -8572.1227\n",
      "iteration 32; log likelihood -8569.8243\n",
      "iteration 33; log likelihood -8567.9074\n",
      "iteration 34; log likelihood -8566.3084\n",
      "iteration 35; log likelihood -8564.9652\n",
      "iteration 36; log likelihood -8563.8249\n",
      "iteration 37; log likelihood -8562.8450\n",
      "early stopping previous_llh -8563.824931262085, log_likelihood -8562.845029080898\n"
     ]
    }
   ],
   "source": [
    "# Since it's a substitution cipher we assume hidden states and observations have same alphabet.\n",
    "state_to_char_mapping = int_to_char_mapping\n",
    "observation_to_char_mapping = int_to_char_mapping\n",
    "\n",
    "# Initialize a HMM with the correct state/output spaces.\n",
    "hmm = HMM(observation_to_char_mapping, state_to_char_mapping, seed=17, print_test_output=False, early_stopping_thresh=1)\n",
    "\n",
    "# Estimate the parameters and decode the encrypted sequences.\n",
    "hmm.estimate_with_em(encrypted_sequences[:100],\n",
    "                     parameters={'A':A, 'pi':pi},\n",
    "                    )"
   ]
  },
  {
   "cell_type": "code",
   "execution_count": 7,
   "metadata": {},
   "outputs": [
    {
     "name": "stdout",
     "output_type": "stream",
     "text": [
      "(states):       than such a roman\n",
      "(observations): noeixjtcoxexhwfei\n",
      "(states):       cassous brutus bait not me\n",
      "(observations): cejjgtjxkhtntjxkegnxiwnxfq\n",
      "(states):       ill not endure it you forget yourself\n",
      "(observations): gddxiwnxqi thqxgnxbwtxpwhvqnxbwthjqdp\n",
      "(states):       to hedge me in i am a soldier i\n",
      "(observations): nwxoq vqxfqxgixgxefxexjwd gqhxg\n",
      "(states):       older in prackice abler than yourself\n",
      "(observations): wd qhxgixyhecngcqxekdqhxnoeixbwthjqdp\n",
      "(states):       to mave conditions\n",
      "(observations): nwxfeaqxcwi gngwij\n",
      "(states):       brutus go to you are not cassous\n",
      "(observations): khtntjxvwxnwxbwtxehqxiwnxcejjgtj\n",
      "(states):       cassous i am\n",
      "(observations): cejjgtjxgxef\n",
      "(states):       brutus i say you are not\n",
      "(observations): khtntjxgxjebxbwtxehqxiwn\n",
      "(states):       cassous urge me no more i thall forget myself\n",
      "(observations): cejjgtjxthvqxfqxiwxfwhqxgxjoeddxpwhvqnxfbjqdp\n"
     ]
    }
   ],
   "source": [
    "hmm.output(encrypted_sequences[:10])"
   ]
  },
  {
   "cell_type": "markdown",
   "metadata": {},
   "source": [
    "**TASK 3**: Some of the encrypted sequences are quite long. Try decoding some from 'encrypted/99_encrypted.txt' (note these are in Russian)."
   ]
  },
  {
   "cell_type": "code",
   "execution_count": 8,
   "metadata": {},
   "outputs": [],
   "source": [
    "# Some data to use.\n",
    "plaintext = 'plaintext/russian.txt'\n",
    "\n",
    "ciphertext = 'encrypted/99_encrypted.txt' # longer sequences in russian\n",
    "\n",
    "# load a character to integer mapping and reverse                                                                                                         \n",
    "char_to_int_mapping, int_to_char_mapping = get_char_to_int_mapping(plaintext)\n",
    "\n",
    "# load sequences as ints                                                                                                                                  \n",
    "plaintext_sequences = load_sequences(plaintext, char_to_int_mapping)\n",
    "encrypted_sequences = load_sequences(ciphertext, char_to_int_mapping)\n",
    "\n",
    "# estimate a markov model over characters                                                                                                                 \n",
    "pi, A = estimate_markov_model_from_sequences(plaintext_sequences, len(char_to_int_mapping))"
   ]
  },
  {
   "cell_type": "code",
   "execution_count": 9,
   "metadata": {},
   "outputs": [
    {
     "name": "stdout",
     "output_type": "stream",
     "text": [
      "pi is fixed\n",
      "A is fixed\n",
      "iteration 0; log likelihood -75849.1413\n",
      "iteration 1; log likelihood -61365.4920\n",
      "iteration 2; log likelihood -61360.6204\n",
      "iteration 3; log likelihood -61352.4391\n",
      "iteration 4; log likelihood -61336.7049\n",
      "iteration 5; log likelihood -61304.1466\n",
      "iteration 6; log likelihood -61234.8371\n",
      "iteration 7; log likelihood -61105.8987\n",
      "iteration 8; log likelihood -60912.6211\n",
      "iteration 9; log likelihood -60639.7005\n",
      "iteration 10; log likelihood -60276.3419\n",
      "iteration 11; log likelihood -59842.6999\n",
      "iteration 12; log likelihood -59374.5491\n",
      "iteration 13; log likelihood -58862.5497\n",
      "iteration 14; log likelihood -58271.5384\n",
      "iteration 15; log likelihood -57569.3887\n",
      "iteration 16; log likelihood -56771.8011\n",
      "iteration 17; log likelihood -55964.2246\n",
      "iteration 18; log likelihood -55231.4917\n",
      "iteration 19; log likelihood -54604.1579\n",
      "iteration 20; log likelihood -54072.0722\n",
      "iteration 21; log likelihood -53633.9813\n",
      "iteration 22; log likelihood -53288.0677\n",
      "iteration 23; log likelihood -52985.9379\n",
      "iteration 24; log likelihood -52703.1726\n",
      "iteration 25; log likelihood -52430.2135\n",
      "iteration 26; log likelihood -52163.4980\n",
      "iteration 27; log likelihood -51901.1988\n",
      "iteration 28; log likelihood -51645.3262\n",
      "iteration 29; log likelihood -51404.4978\n",
      "iteration 30; log likelihood -51189.2301\n",
      "iteration 31; log likelihood -51006.4875\n",
      "iteration 32; log likelihood -50858.0131\n",
      "iteration 33; log likelihood -50739.8344\n",
      "iteration 34; log likelihood -50640.7423\n",
      "iteration 35; log likelihood -50517.2894\n",
      "iteration 36; log likelihood -50352.3408\n",
      "iteration 37; log likelihood -50222.6964\n",
      "iteration 38; log likelihood -50122.4927\n",
      "iteration 39; log likelihood -50047.2368\n",
      "iteration 40; log likelihood -49994.5174\n",
      "iteration 41; log likelihood -49958.9830\n",
      "iteration 42; log likelihood -49934.6410\n",
      "iteration 43; log likelihood -49917.3139\n",
      "iteration 44; log likelihood -49904.5570\n",
      "iteration 45; log likelihood -49894.8884\n",
      "iteration 46; log likelihood -49887.3643\n",
      "iteration 47; log likelihood -49881.3679\n",
      "iteration 48; log likelihood -49876.4851\n",
      "iteration 49; log likelihood -49872.4262\n",
      "iteration 50; log likelihood -49868.9794\n",
      "iteration 51; log likelihood -49865.9822\n",
      "iteration 52; log likelihood -49863.3061\n",
      "iteration 53; log likelihood -49860.8542\n",
      "iteration 54; log likelihood -49858.5658\n",
      "iteration 55; log likelihood -49856.4241\n",
      "iteration 56; log likelihood -49854.4509\n",
      "iteration 57; log likelihood -49852.6811\n",
      "iteration 58; log likelihood -49851.1339\n",
      "iteration 59; log likelihood -49849.8013\n",
      "iteration 60; log likelihood -49848.6565\n",
      "iteration 61; log likelihood -49847.6675\n",
      "early stopping previous_llh -49848.65646325104, log_likelihood -49847.66752789273\n"
     ]
    }
   ],
   "source": [
    "# Since it's a substitution cipher we assume hidden states and observations have same alphabet.\n",
    "state_to_char_mapping = int_to_char_mapping\n",
    "observation_to_char_mapping = int_to_char_mapping\n",
    "\n",
    "# Initialize a HMM with the correct state/output spaces.\n",
    "hmm = HMM(observation_to_char_mapping, state_to_char_mapping, seed=None, print_test_output=False, early_stopping_thresh=1)\n",
    "\n",
    "# Estimate the parameters and decode the encrypted sequences.\n",
    "hmm.estimate_with_em(encrypted_sequences[:100],\n",
    "                     parameters={'A':A, 'pi':pi},\n",
    "                    )"
   ]
  },
  {
   "cell_type": "code",
   "execution_count": 10,
   "metadata": {},
   "outputs": [
    {
     "name": "stdout",
     "output_type": "stream",
     "text": [
      "(states):       19286 андрей пожал плечами и поморщился как морщатся любители музыки услышав пальшивую ноту обе женщины отпустили друг друга потом опять как бучто боясь опоздать схватили друг друга за руки стали целовать и отрывать руки и потом опять стали целовать друг друга в лицо и совершенно неожиданно для 19280 андрея обе заплакали и опять стали целоваться тоже заплакала 19234 андрею было очевидно неловко но для двух женщин казалось так естественно что они плакали казалось они и не предполагали чтобы могло иначе совершиться это свидание\n",
      "(observations): йдрьуопдшщмзояю4пфояфм3пч о ояючющ8 ф0ройпйочющ8пъ0рофцх ъмф очнь2й он0ф2гпвоипфуг внцодюъноюхмо4мд8 д2оюъян0ъ ф ошщн1ошщн1пояюъючоюяръуойпйохншъюохюр0уоюяюьшпъуо0твпъ ф ошщн1ошщн1поьпощнй о0ъпф о5мфювпъуо оюъщ2впъуощнй о ояюъючоюяръуо0ъпф о5мфювпъуошщн1ошщн1повоф 5юо о0ювмщгмддюодмю4 шпддюошфройдрьропдшщмроюхмоьпяфпйпф о оюяръуо0ъпф о5мфювпъу0роъю4моьпяфпйпфпойдрьцопдшщмцох2фюою3мв шдюодмфювйюодюошфрошвнто4мд8 дойпьпфю0уоъпйом0ъм0ъвмддюо3ъюоюд ояфпйпф ойпьпфю0уоюд о одмоящмшяюфп1пф о3ъюх2очю1фюо дп3мо0ювмщг ъу0ро9ъюо0в шпд м\n",
      "(states):       вдруг заговорили обе женщины и засмеялись с ах милая ах мари а я видела во сне так вы нас не ожидали ах мари вы так похудели а вы так пополнел\n",
      "(observations): вшщн1оьп1ювющ ф оюхмо4мд8 д2о оьп0чмрф 0уо0опточ фпропточпщ опоров шмфповюо0дмоъпйов2одп0одмою4 шпф опточпщ ов2оъпйояютншмф опов2оъпйояюяюфдмф\n",
      "(states):       я тотчас узнала 1927194 вставила бурьен\n",
      "(observations): роъюъ3п0оньдпфпойдр1 дцов0ъпв фпохнщумд\n",
      "(states):       восклицала княжна марья а я не подозревала ах я и не видела тебя\n",
      "(observations): вю0йф 5пфпойдр4дпочпщуропородмояюшюьщмвпфпопторо одмов шмфпоъмхр\n",
      "(states):       19286 андрей поцеловался с сестрою рука в руку и сказал ей что она такая же плакса как всегда была княжна марья повернулась к брату и сквозь слезы любовный теплый и кроткий взгляд ей прекрасных в ту минуту больших лучистых глаз остановился на лице 19280 андрея\n",
      "(observations): йдрьуопдшщмзояю5мфювпф0ро0о0м0ъщюцощнйповощнйно о0йпьпфомзо3ъюоюдпоъпйпро4мояфпй0пойпйов0м1шпох2фпойдр4дпочпщурояювмщднфп0уойохщпъно о0йвюьуо0фмь2офцхювд2зоъмяф2зо ойщюъй зовь1фршоммоящмйщп0д2товоъноч днънохюфуг тофн3 0ъ2то1фпьою0ъпдюв ф0родпоф 5мойдрьропдшщмр\n",
      "(states):       1927192 говорила без умолку короткая верхняя губка с усиками то и дело на мгновение слетала вниз притрогивалась где нужно было к румяной нижней губке и вновь открывалась блестевшая зубами и глазами улыбка 1927192 рассказывала случай который был с ними на спасской горе грозивший ей опасностию в ей положении и сейчас же после этого сообщила что она все платья свои оставила в петербурге и здесь будет ходить бог знает в чем и что андрей совсем переменился и что китти одынцова вышла замуж за старика и что есть жених для княжны марьи вполне серьезный но что об этом поговорим после княжна марья все еще молча смотрела на брата и в прекрасных глазах ей была и любовь и грусть видно было что в ней установился теперь свой ход мысли независимый от речей невестки она в середине ей рассказа о последнем празднике в петербурге обратилась к брату\n",
      "(observations): йдр1 дро1ювющ фпохмьончюфйнойющюъйпровмщтдрро1нхйпо0он0 йпч оъюо ошмфюодпоч1дювмд мо0фмъпфповд ьоящ ъщю1 впфп0уо1шмодн4дюох2фюойощнчрдюзод 4дмзо1нхймо овдювуоюъйщ2впфп0уохфм0ъмвгпроьнхпч о о1фпьпч онф2хйпойдр1 дрощп00йпь2впфпо0фн3пзойюъющ2зох2фо0од ч одпо0яп00йюзо1ющмо1щюь вг зомзоюяп0дю0ъ цовоммояюфю4мд  о о0мз3п0о4мояю0фмо9ъю1юо0ююх8 фпо3ъюоюдпов0мояфпъуро0вю ою0ъпв фповоямъмщхнщ1мо оьшм0уохншмъотюш ъуохю1оьдпмъово3мчо о3ъюопдшщмзо0юв0мчоямщмчмд ф0ро о3ъюой ъъ оюш2д5ювпов2гфпоьпчн4оьпо0ъпщ йпо о3ъюом0ъуо4мд тошфройдр4д2очпщу овяюфдмо0мщумьд2зодюо3ъюоюхо9ъючояю1ювющ чояю0фмойдр4дпочпщуров0мом8мочюф3по0чюъщмфподпохщпъпо овоящмйщп0д2то1фпьптоммох2фпо офцхювуо о1щн0ъуов шдюох2фюо3ъюоводмзон0ъпдюв ф0роъмямщуо0вюзотюшоч20ф одмьпв 0 ч2зоюъощм3мзодмвм0ъй оюдпово0мщмш дмоммощп00йпьпоюояю0фмшдмчоящпьшд ймовоямъмщхнщ1моюхщпъ фп0уойохщпън\n",
      "(states):       эты решительно едешь на войну сказала вздохнув\n",
      "(observations): оъ2ощмг ъмфудюомшмгуодповюздно0йпьпфповьшютднв\n",
      "(states):       вздрогнула тоже\n",
      "(observations): вьшщю1днфпоъю4м\n",
      "(states):       даже завтра отвечал брат\n",
      "(observations): шп4моьпвъщпоюъвм3пфохщпъ\n",
      "(states):       ой покидает меня здесь и бог знает зачем тогда как ой мог бы получить повышение\n",
      "(observations): юдояюй шпмъочмдроьшм0уо охю1оьдпмъоьп3мчоъю1шпойпйоюдочю1ох2ояюфн3 ъуояюв2гмд м\n"
     ]
    }
   ],
   "source": [
    "hmm.output(encrypted_sequences[:10])"
   ]
  },
  {
   "cell_type": "markdown",
   "metadata": {},
   "source": [
    "**TASK 4**: Make your implementation of forward and backward more efficient by removing all but the outermost for-loop."
   ]
  },
  {
   "cell_type": "markdown",
   "metadata": {},
   "source": [
    "Done, version with loops is moved to the bottom of this notebook (HMM_cycles)"
   ]
  },
  {
   "cell_type": "markdown",
   "metadata": {},
   "source": [
    "**TASK 5**: Try to classify the author of each text. "
   ]
  },
  {
   "cell_type": "markdown",
   "metadata": {},
   "source": [
    "#### Lets first try to create bilingual model: joined russian + english mapping + A,pi"
   ]
  },
  {
   "cell_type": "code",
   "execution_count": 11,
   "metadata": {},
   "outputs": [],
   "source": [
    "russian_plaintext = 'plaintext/russian.txt'\n",
    "english_plaintext = 'plaintext/english.txt'\n",
    "                                                                                   \n",
    "ru_char_to_int_mapping, ru_int_to_char_mapping = get_char_to_int_mapping(russian_plaintext)\n",
    "en_char_to_int_mapping, en_int_to_char_mapping = get_char_to_int_mapping(english_plaintext)"
   ]
  },
  {
   "cell_type": "code",
   "execution_count": 12,
   "metadata": {},
   "outputs": [],
   "source": [
    "char_to_int_mapping = {char: int_code + len(ru_char_to_int_mapping) - 1 # space is common\n",
    "                       for char, int_code in en_char_to_int_mapping.items()}\n",
    "\n",
    "char_to_int_mapping.update(ru_char_to_int_mapping)\n",
    "int_to_char_mapping = ru_int_to_char_mapping + en_int_to_char_mapping[1:]"
   ]
  },
  {
   "cell_type": "code",
   "execution_count": 13,
   "metadata": {},
   "outputs": [],
   "source": [
    "for char, int_code in char_to_int_mapping.items():\n",
    "    assert(int_to_char_mapping[int_code] == char)"
   ]
  },
  {
   "cell_type": "markdown",
   "metadata": {},
   "source": [
    "#### Load sequences and create joined pi and A"
   ]
  },
  {
   "cell_type": "code",
   "execution_count": 14,
   "metadata": {},
   "outputs": [],
   "source": [
    "plaintext_sequences = load_sequences(russian_plaintext, char_to_int_mapping)\n",
    "plaintext_sequences += load_sequences(english_plaintext, char_to_int_mapping)\n",
    "\n",
    "# estimate a markov model over characters                                                                                                                 \n",
    "pi, A = estimate_markov_model_from_sequences(plaintext_sequences, len(char_to_int_mapping))"
   ]
  },
  {
   "cell_type": "code",
   "execution_count": 15,
   "metadata": {},
   "outputs": [
    {
     "name": "stdout",
     "output_type": "stream",
     "text": [
      "pi is fixed\n",
      "A is fixed\n",
      "iteration 0; log likelihood -85362.0392\n",
      "iteration 1; log likelihood -61357.5870\n",
      "iteration 2; log likelihood -61340.4636\n",
      "iteration 3; log likelihood -61299.6340\n",
      "iteration 4; log likelihood -61191.9074\n",
      "iteration 5; log likelihood -60909.5046\n",
      "iteration 6; log likelihood -60296.5942\n",
      "iteration 7; log likelihood -59390.8230\n",
      "iteration 8; log likelihood -58396.9388\n",
      "iteration 9; log likelihood -57405.9911\n",
      "iteration 10; log likelihood -56472.1195\n",
      "iteration 11; log likelihood -55677.8974\n",
      "iteration 12; log likelihood -55042.2895\n",
      "iteration 13; log likelihood -54529.0451\n",
      "iteration 14; log likelihood -54099.5316\n",
      "iteration 15; log likelihood -53730.2001\n",
      "iteration 16; log likelihood -53408.6185\n",
      "iteration 17; log likelihood -53126.9351\n",
      "iteration 18; log likelihood -52879.6729\n",
      "iteration 19; log likelihood -52664.5111\n",
      "iteration 20; log likelihood -52480.8957\n",
      "iteration 21; log likelihood -52327.4292\n",
      "iteration 22; log likelihood -52200.8964\n",
      "iteration 23; log likelihood -52096.8740\n",
      "iteration 24; log likelihood -52010.7935\n",
      "iteration 25; log likelihood -51938.8209\n",
      "iteration 26; log likelihood -51878.3012\n",
      "iteration 27; log likelihood -51827.6361\n",
      "iteration 28; log likelihood -51785.6672\n",
      "iteration 29; log likelihood -51751.1621\n",
      "iteration 30; log likelihood -51722.8087\n",
      "iteration 31; log likelihood -51699.3942\n",
      "iteration 32; log likelihood -51679.9008\n",
      "iteration 33; log likelihood -51663.5132\n",
      "iteration 34; log likelihood -51649.5850\n",
      "iteration 35; log likelihood -51637.6031\n",
      "iteration 36; log likelihood -51627.1696\n",
      "iteration 37; log likelihood -51617.9957\n",
      "iteration 38; log likelihood -51609.8862\n",
      "iteration 39; log likelihood -51602.7090\n",
      "iteration 40; log likelihood -51596.3677\n",
      "iteration 41; log likelihood -51590.7872\n",
      "iteration 42; log likelihood -51585.8995\n",
      "iteration 43; log likelihood -51581.6322\n",
      "iteration 44; log likelihood -51577.9061\n",
      "iteration 45; log likelihood -51574.6405\n",
      "iteration 46; log likelihood -51571.7604\n",
      "iteration 47; log likelihood -51569.2009\n",
      "iteration 48; log likelihood -51566.9085\n",
      "iteration 49; log likelihood -51564.8400\n",
      "iteration 50; log likelihood -51562.9616\n",
      "iteration 51; log likelihood -51561.2457\n",
      "iteration 52; log likelihood -51559.6695\n",
      "iteration 53; log likelihood -51558.2128\n",
      "iteration 54; log likelihood -51556.8574\n",
      "iteration 55; log likelihood -51555.5867\n",
      "iteration 56; log likelihood -51554.3861\n",
      "iteration 57; log likelihood -51553.2434\n",
      "iteration 58; log likelihood -51552.1487\n",
      "iteration 59; log likelihood -51551.0950\n",
      "iteration 60; log likelihood -51550.0777\n",
      "iteration 61; log likelihood -51549.0941\n",
      "early stopping previous_llh -51550.07773828673, log_likelihood -51549.09406786773\n"
     ]
    }
   ],
   "source": [
    "# Since it's a substitution cipher we assume hidden states and observations have same alphabet.\n",
    "state_to_char_mapping = int_to_char_mapping\n",
    "observation_to_char_mapping = int_to_char_mapping\n",
    "\n",
    "# Initialize a HMM with the correct state/output spaces.\n",
    "hmm = HMM(observation_to_char_mapping, state_to_char_mapping, seed=17, print_test_output=False, early_stopping_thresh=1)\n",
    "\n",
    "# Estimate the parameters and decode the encrypted sequences.\n",
    "hmm.estimate_with_em(encrypted_sequences[:100],\n",
    "                     parameters={'A':A, 'pi':pi},\n",
    "                     max_iters=200\n",
    "                    )"
   ]
  },
  {
   "cell_type": "code",
   "execution_count": 16,
   "metadata": {},
   "outputs": [
    {
     "name": "stdout",
     "output_type": "stream",
     "text": [
      "(states):       thand ingher пожал плечами y поморщился wit морщатся любители муnыки услышав пальшивую haly ace женщины отпустили than друга потом aпald wit бучто боясь опоздать схватили than друга за руки стали целовать y отрывать руки y потом aпald стали целовать than друга s лицо y совершенно неожиданно дrя thand inghed ace заплакали y aпald стали целоваться тave заплакала thand inghed было очевидно неrовко но дrя двух жungon казалось lit естественно что any плакали казалось any y he предполагали чтобы могло oнаve совершиться это свидание\n",
      "(observations): йдрьуопдшщмзояю4пфояфм3пч о ояючющ8 ф0ройпйочющ8пъ0рофцх ъмф очнь2й он0ф2гпвоипфуг внцодюъноюхмо4мд8 д2оюъян0ъ ф ошщн1ошщн1пояюъючоюяръуойпйохншъюохюр0уоюяюьшпъуо0твпъ ф ошщн1ошщн1поьпощнй о0ъпф о5мфювпъуо оюъщ2впъуощнй о ояюъючоюяръуо0ъпф о5мфювпъуошщн1ошщн1повоф 5юо о0ювмщгмддюодмю4 шпддюошфройдрьропдшщмроюхмоьпяфпйпф о оюяръуо0ъпф о5мфювпъу0роъю4моьпяфпйпфпойдрьцопдшщмцох2фюою3мв шдюодмфювйюодюошфрошвнто4мд8 дойпьпфю0уоъпйом0ъм0ъвмддюо3ъюоюд ояфпйпф ойпьпфю0уоюд о одмоящмшяюфп1пф о3ъюх2очю1фюо дп3мо0ювмщг ъу0ро9ъюо0в шпд м\n",
      "(states):       sthan заговорили ace женщины y засмеялись s if милая if mely i d видела во the lit вы his he ожидали if mely вы lit похудели i вы lit пополнел\n",
      "(observations): вшщн1оьп1ювющ ф оюхмо4мд8 д2о оьп0чмрф 0уо0опточ фпропточпщ опоров шмфповюо0дмоъпйов2одп0одмою4 шпф опточпщ ов2оъпйояютншмф опов2оъпйояюяюфдмф\n",
      "(states):       d malves узнала thanond вставила бурьен\n",
      "(observations): роъюъ3п0оньдпфпойдр1 дцов0ъпв фпохнщумд\n",
      "(states):       восклицала thathe марья i d he подозревала if d y he видела beca\n",
      "(observations): вю0йф 5пфпойдр4дпочпщуропородмояюшюьщмвпфпопторо одмов шмфпоъмхр\n",
      "(states):       thand ingher поцеловался s сестрою рука s руку y сказал еr что the такая жe плакса wit всегда была thathe марья повернулась t брату y sthand слезы любовный теплый y thastor взгляд be прекрасных s my мoнуту больших лучистых глаз остановился he лице thand inghea\n",
      "(observations): йдрьуопдшщмзояю5мфювпф0ро0о0м0ъщюцощнйповощнйно о0йпьпфомзо3ъюоюдпоъпйпро4мояфпй0пойпйов0м1шпох2фпойдр4дпочпщурояювмщднфп0уойохщпъно о0йвюьуо0фмь2офцхювд2зоъмяф2зо ойщюъй зовь1фршоммоящмйщп0д2товоъноч днънохюфуг тофн3 0ъ2то1фпьою0ъпдюв ф0родпоф 5мойдрьропдшщмр\n",
      "(states):       thanond говорила cen умолку короткая serthad губка s aсoкаmy то y дело he мгноsеnиu слетала shon притрогивалась где нужно было t румяной нother губъе y вновь открывалась блестевшая wacomy y глазами улыбка thanond рассказывала случай который был s нomy he спасской горе грозивший еr опасностию s be положении y perves жe после этого сообщила что the всe платья свay оставила s петербурге y здесь будет ходить can whous s чем y что ingher совсем переменился y что tolly одынцова вышла замуж за старика y что есть жених дrя thathe meldy вполне серьезный но 192708 этом поговорим после thathe марья все ещe marve смотрела he брата y s прекрасных глазах be была y любовь y грусть видно было что s нer установился bexerd свой fag мысли независимый as речей невестки the s середине be рассказа t последнем празднике s петербурге обратилась t брату\n",
      "(observations): йдр1 дро1ювющ фпохмьончюфйнойющюъйпровмщтдрро1нхйпо0он0 йпч оъюо ошмфюодпоч1дювмд мо0фмъпфповд ьоящ ъщю1 впфп0уо1шмодн4дюох2фюойощнчрдюзод 4дмзо1нхймо овдювуоюъйщ2впфп0уохфм0ъмвгпроьнхпч о о1фпьпч онф2хйпойдр1 дрощп00йпь2впфпо0фн3пзойюъющ2зох2фо0од ч одпо0яп00йюзо1ющмо1щюь вг зомзоюяп0дю0ъ цовоммояюфю4мд  о о0мз3п0о4мояю0фмо9ъю1юо0ююх8 фпо3ъюоюдпов0мояфпъуро0вю ою0ъпв фповоямъмщхнщ1мо оьшм0уохншмъотюш ъуохю1оьдпмъово3мчо о3ъюопдшщмзо0юв0мчоямщмчмд ф0ро о3ъюой ъъ оюш2д5ювпов2гфпоьпчн4оьпо0ъпщ йпо о3ъюом0ъуо4мд тошфройдр4д2очпщу овяюфдмо0мщумьд2зодюо3ъюоюхо9ъючояю1ювющ чояю0фмойдр4дпочпщуров0мом8мочюф3по0чюъщмфподпохщпъпо овоящмйщп0д2то1фпьптоммох2фпо офцхювуо о1щн0ъуов шдюох2фюо3ъюоводмзон0ъпдюв ф0роъмямщуо0вюзотюшоч20ф одмьпв 0 ч2зоюъощм3мзодмвм0ъй оюдпово0мщмш дмоммощп00йпьпоюояю0фмшдмчоящпьшд ймовоямъмщхнщ1моюхщпъ фп0уойохщпън\n",
      "(states):       aты решительно едешь he войну сказала вздохнув\n",
      "(observations): оъ2ощмг ъмфудюомшмгуодповюздно0йпьпфповьшютднв\n",
      "(states):       вздрогнула тave\n",
      "(observations): вьшщю1днфпоъю4м\n",
      "(states):       gаve wisтрe отвечал брат\n",
      "(observations): шп4моьпвъщпоюъвм3пфохщпъ\n",
      "(states):       an покидает mend здесь y can whous зачем тоngа wit an man бы получить повышение\n",
      "(observations): юдояюй шпмъочмдроьшм0уо охю1оьдпмъоьп3мчоъю1шпойпйоюдочю1ох2ояюфн3 ъуояюв2гмд м\n"
     ]
    }
   ],
   "source": [
    "hmm.output(encrypted_sequences[:10])"
   ]
  },
  {
   "cell_type": "markdown",
   "metadata": {},
   "source": [
    "#### Quality is worse than using separate eng / russian models. Better stick to separate models, because about 30 percent of decoded letters are in the wrong language, and this will severely affect cosine similarity."
   ]
  },
  {
   "cell_type": "code",
   "execution_count": 23,
   "metadata": {},
   "outputs": [],
   "source": [
    "from pathlib import Path\n",
    "plaintexts_path = Path('plaintext/')"
   ]
  },
  {
   "cell_type": "code",
   "execution_count": 24,
   "metadata": {},
   "outputs": [],
   "source": [
    "def get_pi_A(plaintext):\n",
    "    char_to_int_mapping, int_to_char_mapping = get_char_to_int_mapping(plaintext)\n",
    "    plaintext_sequences = load_sequences(plaintext, char_to_int_mapping)\n",
    "    pi, A = estimate_markov_model_from_sequences(plaintext_sequences, len(char_to_int_mapping))\n",
    "    \n",
    "    return pi, A, char_to_int_mapping, int_to_char_mapping"
   ]
  },
  {
   "cell_type": "code",
   "execution_count": 25,
   "metadata": {},
   "outputs": [],
   "source": [
    "language_texts = ['english.txt', 'russian.txt']"
   ]
  },
  {
   "cell_type": "code",
   "execution_count": 26,
   "metadata": {},
   "outputs": [],
   "source": [
    "from collections import defaultdict"
   ]
  },
  {
   "cell_type": "code",
   "execution_count": 27,
   "metadata": {},
   "outputs": [],
   "source": [
    "params_dict = defaultdict(dict)\n",
    "for plain_text_file in plaintexts_path.iterdir():\n",
    "    if plain_text_file.name in language_texts:\n",
    "        pi, A, char_to_int_mapping, int_to_char_mapping = get_pi_A(plain_text_file)\n",
    "        language = plain_text_file.name.strip('.txt')\n",
    "        params_dict[language]['pi'] = pi\n",
    "        params_dict[language]['A'] = A\n",
    "        params_dict[language]['char_to_int_mapping'] = char_to_int_mapping\n",
    "        params_dict[language]['int_to_char_mapping'] = int_to_char_mapping"
   ]
  },
  {
   "cell_type": "code",
   "execution_count": 28,
   "metadata": {},
   "outputs": [
    {
     "data": {
      "text/plain": [
       "dict_keys(['english', 'russian'])"
      ]
     },
     "execution_count": 28,
     "metadata": {},
     "output_type": "execute_result"
    }
   ],
   "source": [
    "params_dict.keys()"
   ]
  },
  {
   "cell_type": "code",
   "execution_count": 29,
   "metadata": {},
   "outputs": [],
   "source": [
    "def bilingual_load_sequences(plain_text_file):\n",
    "    for language in ['russian', 'english']:\n",
    "        char_to_int_mapping = params_dict[language]['char_to_int_mapping']\n",
    "        try:\n",
    "            sequences = load_sequences(plain_text_file, char_to_int_mapping)\n",
    "            return sequences, language\n",
    "        except KeyError:\n",
    "            continue"
   ]
  },
  {
   "cell_type": "code",
   "execution_count": 184,
   "metadata": {},
   "outputs": [
    {
     "data": {
      "application/vnd.jupyter.widget-view+json": {
       "model_id": "1ce12d876979420e9f580647bc96e602",
       "version_major": 2,
       "version_minor": 0
      },
      "text/plain": [
       "HBox(children=(IntProgress(value=0, max=11), HTML(value='')))"
      ]
     },
     "metadata": {},
     "output_type": "display_data"
    }
   ],
   "source": [
    "plaintexts = defaultdict(list)\n",
    "\n",
    "for plain_text_file in tqdm(list(plaintexts_path.iterdir())):\n",
    "    if plain_text_file.suffix != '.txt':\n",
    "        continue\n",
    "    if plain_text_file.name in ['all.txt', 'russian.txt', 'english.txt']: #no point to consider it a class\n",
    "        continue\n",
    "    \n",
    "    sequences, language = bilingual_load_sequences(plain_text_file)\n",
    "    original_text = open(plain_text_file).read().splitlines()\n",
    "    plaintexts[language].append((sequences, plain_text_file.name, original_text))"
   ]
  },
  {
   "cell_type": "code",
   "execution_count": 186,
   "metadata": {},
   "outputs": [],
   "source": [
    "def decode(encrypted_sequences, language, n=100):\n",
    "    pi = params_dict[language]['pi']\n",
    "    A = params_dict[language]['A']\n",
    "    int_to_char_mapping = params_dict[language]['int_to_char_mapping']\n",
    "    \n",
    "    state_to_char_mapping = int_to_char_mapping\n",
    "    observation_to_char_mapping = int_to_char_mapping\n",
    "\n",
    "    # Initialize a HMM with the correct state/output spaces.\n",
    "    hmm = HMM(observation_to_char_mapping, state_to_char_mapping, seed=17,\n",
    "              print_test_output=False, early_stopping_thresh=1)\n",
    "\n",
    "    # Estimate the parameters and decode the encrypted sequences.\n",
    "    hmm.estimate_with_em(encrypted_sequences[:n],\n",
    "                         parameters={'A':A, 'pi':pi},\n",
    "                         max_iters=100\n",
    "                        )\n",
    "    \n",
    "    decoded_tokens, decoded_text = hmm.decode(encrypted_sequences[:n])\n",
    "    return decoded_tokens, decoded_text"
   ]
  },
  {
   "cell_type": "markdown",
   "metadata": {},
   "source": [
    "#### Let's compare sentences by calculating cosine similarity between decoded and plain.\n",
    "Dimensions have to allow dot to happen -> we will trim / pad them."
   ]
  },
  {
   "cell_type": "code",
   "execution_count": 258,
   "metadata": {},
   "outputs": [],
   "source": [
    "from numpy.linalg import norm\n",
    "\n",
    "def merge_sequences(text):\n",
    "    return [char for sent in text for char in sent]\n",
    "\n",
    "def trim_for_dot(plain, decoded_len):\n",
    "    extra_len = len(plain) % decoded_len\n",
    "    \n",
    "    if extra_len > 0:\n",
    "        plain = plain[:-extra_len]\n",
    "    plain = np.array(plain).reshape(-1, decoded_len)\n",
    "    return plain\n",
    "    \n",
    "def pad_for_dot((plain, decoded_len):\n",
    "    if len(plain) % decoded_len != 0:\n",
    "        a = decoded_len - (len(plain) % decoded_len)\n",
    "        plain = np.pad(plain, (0, a), constant_values=-1)\n",
    "    \n",
    "    plain = np.array(plain).reshape(-1, decoded_len)\n",
    "    \n",
    "    return plain"
   ]
  },
  {
   "cell_type": "code",
   "execution_count": 265,
   "metadata": {},
   "outputs": [],
   "source": [
    "def max_cosine_sim(decoded_tokens, text):\n",
    "    decoded_tokens_merged = merge_sequences(decoded_tokens)\n",
    "    concatenated_text = merge_sequences(text)\n",
    "    \n",
    "    if len(decoded_tokens_merged) == 0 or len(concatenated_text) == 0:\n",
    "        return 0\n",
    "    \n",
    "    if len(decoded_tokens_merged) <= len(concatenated_text):\n",
    "        min_len_text = decoded_tokens_merged\n",
    "        max_len_text = concatenated_text\n",
    "    else:\n",
    "        min_len_text = concatenated_text\n",
    "        max_len_text = decoded_tokens_merged\n",
    "    \n",
    "    max_len_text = trim_for_dot(max_len_text, len(min_len_text))\n",
    "\n",
    "    cos_sim = np.dot(min_len_text,  max_len_text.T)/(norm(min_len_text) * norm(max_len_text, axis=1))\n",
    "    \n",
    "    return max(cos_sim)\n",
    "\n",
    "assert(max_cosine_sim([[1,2,3,4]],[[1,2,3,4],[4,3,2,1]]) == 1.0)"
   ]
  },
  {
   "cell_type": "code",
   "execution_count": 296,
   "metadata": {},
   "outputs": [],
   "source": [
    "def find_origin(decoded_tokens, language, n_sents=3):\n",
    "    max_cosine = 0\n",
    "    mle_textfile = None\n",
    "    max_sents = None\n",
    "\n",
    "    for text, textfile, original_text in plaintexts[language]:\n",
    "        for start_ind in tqdm(range(0, len(text))):\n",
    "            compared_sents = text[start_ind:start_ind + n_sents]\n",
    "\n",
    "            cosine = max_cosine_sim(decoded_tokens[:n_sents], compared_sents)\n",
    "\n",
    "            if cosine > max_cosine:\n",
    "                max_cosine = cosine\n",
    "                mle_textfile = textfile\n",
    "                max_sents = original_text[start_ind:start_ind + n_sents]\n",
    "\n",
    "    return mle_textfile"
   ]
  },
  {
   "cell_type": "code",
   "execution_count": 300,
   "metadata": {},
   "outputs": [],
   "source": [
    "encrypted_path = Path('encrypted/')\n",
    "decrypted_path = Path('decrypted/')"
   ]
  },
  {
   "cell_type": "code",
   "execution_count": 314,
   "metadata": {},
   "outputs": [
    {
     "data": {
      "application/vnd.jupyter.widget-view+json": {
       "model_id": "a75f84952ace4f71ad63c4ab75b3b1ef",
       "version_major": 2,
       "version_minor": 0
      },
      "text/plain": [
       "HBox(children=(IntProgress(value=0, max=144), HTML(value='')))"
      ]
     },
     "metadata": {},
     "output_type": "display_data"
    },
    {
     "name": "stdout",
     "output_type": "stream",
     "text": [
      "pi is fixed\n",
      "A is fixed\n",
      "iteration 0; log likelihood -8139.7568\n",
      "iteration 1; log likelihood -6663.3704\n",
      "iteration 2; log likelihood -6657.3548\n",
      "iteration 3; log likelihood -6648.7506\n",
      "iteration 4; log likelihood -6634.1730\n",
      "iteration 5; log likelihood -6607.6328\n",
      "iteration 6; log likelihood -6565.0294\n",
      "iteration 7; log likelihood -6503.3267\n",
      "iteration 8; log likelihood -6420.4731\n",
      "iteration 9; log likelihood -6315.3126\n",
      "iteration 10; log likelihood -6187.3436\n",
      "iteration 11; log likelihood -6051.2568\n",
      "iteration 12; log likelihood -5935.4445\n",
      "iteration 13; log likelihood -5851.4574\n",
      "iteration 14; log likelihood -5793.2697\n",
      "iteration 15; log likelihood -5750.2670\n",
      "iteration 16; log likelihood -5715.0656\n",
      "iteration 17; log likelihood -5683.6691\n",
      "iteration 18; log likelihood -5652.6587\n",
      "iteration 19; log likelihood -5623.4798\n",
      "iteration 20; log likelihood -5597.8667\n",
      "iteration 21; log likelihood -5575.7508\n",
      "iteration 22; log likelihood -5556.9034\n",
      "iteration 23; log likelihood -5541.1443\n",
      "iteration 24; log likelihood -5528.1775\n",
      "iteration 25; log likelihood -5517.5887\n",
      "iteration 26; log likelihood -5508.9740\n",
      "iteration 27; log likelihood -5502.0039\n",
      "iteration 28; log likelihood -5496.3757\n",
      "iteration 29; log likelihood -5491.8088\n",
      "iteration 30; log likelihood -5488.0681\n",
      "iteration 31; log likelihood -5484.9650\n",
      "iteration 32; log likelihood -5482.3493\n",
      "iteration 33; log likelihood -5480.1048\n",
      "iteration 34; log likelihood -5478.1517\n",
      "iteration 35; log likelihood -5476.4483\n",
      "iteration 36; log likelihood -5474.9779\n",
      "iteration 37; log likelihood -5473.7260\n",
      "iteration 38; log likelihood -5472.6679\n",
      "iteration 39; log likelihood -5471.7739\n",
      "early stopping previous_llh -5472.667944263393, log_likelihood -5471.773901193118\n"
     ]
    },
    {
     "data": {
      "application/vnd.jupyter.widget-view+json": {
       "model_id": "89828366b61742b6b8c16615262e0b97",
       "version_major": 2,
       "version_minor": 0
      },
      "text/plain": [
       "HBox(children=(IntProgress(value=0, max=2755), HTML(value='')))"
      ]
     },
     "metadata": {},
     "output_type": "display_data"
    },
    {
     "data": {
      "application/vnd.jupyter.widget-view+json": {
       "model_id": "b21b04177f124d13a846e7677edb6d78",
       "version_major": 2,
       "version_minor": 0
      },
      "text/plain": [
       "HBox(children=(IntProgress(value=0, max=8292), HTML(value='')))"
      ]
     },
     "metadata": {},
     "output_type": "display_data"
    },
    {
     "data": {
      "application/vnd.jupyter.widget-view+json": {
       "model_id": "3c6363c5650f47e28f99d4f2591d707c",
       "version_major": 2,
       "version_minor": 0
      },
      "text/plain": [
       "HBox(children=(IntProgress(value=0, max=10337), HTML(value='')))"
      ]
     },
     "metadata": {},
     "output_type": "display_data"
    },
    {
     "data": {
      "application/vnd.jupyter.widget-view+json": {
       "model_id": "b3f74a23e650404f9662b7ffbe68065e",
       "version_major": 2,
       "version_minor": 0
      },
      "text/plain": [
       "HBox(children=(IntProgress(value=0, max=5584), HTML(value='')))"
      ]
     },
     "metadata": {},
     "output_type": "display_data"
    },
    {
     "data": {
      "application/vnd.jupyter.widget-view+json": {
       "model_id": "c5399d081d934b8fbd0a3dca5700504e",
       "version_major": 2,
       "version_minor": 0
      },
      "text/plain": [
       "HBox(children=(IntProgress(value=0, max=3009), HTML(value='')))"
      ]
     },
     "metadata": {},
     "output_type": "display_data"
    },
    {
     "name": "stdout",
     "output_type": "stream",
     "text": [
      "pi is fixed\n",
      "A is fixed\n",
      "iteration 0; log likelihood -13835.0008\n",
      "iteration 1; log likelihood -11803.9745\n",
      "iteration 2; log likelihood -11800.8107\n",
      "iteration 3; log likelihood -11797.0864\n",
      "iteration 4; log likelihood -11792.2567\n",
      "iteration 5; log likelihood -11785.4276\n",
      "iteration 6; log likelihood -11775.1050\n",
      "iteration 7; log likelihood -11758.8659\n",
      "iteration 8; log likelihood -11733.1358\n",
      "iteration 9; log likelihood -11693.6151\n",
      "iteration 10; log likelihood -11637.0119\n",
      "iteration 11; log likelihood -11563.1911\n",
      "iteration 12; log likelihood -11473.9893\n",
      "iteration 13; log likelihood -11366.5734\n",
      "iteration 14; log likelihood -11228.0707\n",
      "iteration 15; log likelihood -11047.5720\n",
      "iteration 16; log likelihood -10841.6040\n",
      "iteration 17; log likelihood -10641.7374\n",
      "iteration 18; log likelihood -10467.5122\n",
      "iteration 19; log likelihood -10324.5674\n",
      "iteration 20; log likelihood -10207.9203\n",
      "iteration 21; log likelihood -10113.0530\n",
      "iteration 22; log likelihood -10038.5730\n",
      "iteration 23; log likelihood -9982.3234\n",
      "iteration 24; log likelihood -9940.9637\n",
      "iteration 25; log likelihood -9911.0850\n",
      "iteration 26; log likelihood -9889.3593\n",
      "iteration 27; log likelihood -9873.3004\n",
      "iteration 28; log likelihood -9861.2556\n",
      "iteration 29; log likelihood -9852.1148\n",
      "iteration 30; log likelihood -9845.1156\n",
      "iteration 31; log likelihood -9839.7189\n",
      "iteration 32; log likelihood -9835.5299\n",
      "iteration 33; log likelihood -9832.2542\n",
      "iteration 34; log likelihood -9829.6714\n",
      "iteration 35; log likelihood -9827.6177\n",
      "iteration 36; log likelihood -9825.9716\n",
      "iteration 37; log likelihood -9824.6430\n",
      "iteration 38; log likelihood -9823.5648\n",
      "iteration 39; log likelihood -9822.6861\n",
      "early stopping previous_llh -9823.564781440053, log_likelihood -9822.68607705713\n"
     ]
    },
    {
     "data": {
      "application/vnd.jupyter.widget-view+json": {
       "model_id": "ba64b04992224572aca7d5407dac72d3",
       "version_major": 2,
       "version_minor": 0
      },
      "text/plain": [
       "HBox(children=(IntProgress(value=0, max=3355), HTML(value='')))"
      ]
     },
     "metadata": {},
     "output_type": "display_data"
    },
    {
     "data": {
      "application/vnd.jupyter.widget-view+json": {
       "model_id": "396d92506dda4f979fd1a0ce19a20dc2",
       "version_major": 2,
       "version_minor": 0
      },
      "text/plain": [
       "HBox(children=(IntProgress(value=0, max=112711), HTML(value='')))"
      ]
     },
     "metadata": {},
     "output_type": "display_data"
    },
    {
     "name": "stdout",
     "output_type": "stream",
     "text": [
      "pi is fixed\n",
      "A is fixed\n",
      "iteration 0; log likelihood -13915.8630\n",
      "iteration 1; log likelihood -12049.3721\n",
      "iteration 2; log likelihood -12044.8896\n",
      "iteration 3; log likelihood -12039.3252\n",
      "iteration 4; log likelihood -12031.6157\n",
      "iteration 5; log likelihood -12020.0880\n",
      "iteration 6; log likelihood -12002.1987\n",
      "iteration 7; log likelihood -11974.4588\n",
      "iteration 8; log likelihood -11932.9325\n",
      "iteration 9; log likelihood -11874.5450\n",
      "iteration 10; log likelihood -11798.6000\n",
      "iteration 11; log likelihood -11707.6214\n",
      "iteration 12; log likelihood -11607.7490\n",
      "iteration 13; log likelihood -11508.1350\n",
      "iteration 14; log likelihood -11417.5729\n",
      "iteration 15; log likelihood -11340.7074\n",
      "iteration 16; log likelihood -11277.6613\n",
      "iteration 17; log likelihood -11226.2352\n",
      "iteration 18; log likelihood -11183.8476\n",
      "iteration 19; log likelihood -11148.2944\n",
      "iteration 20; log likelihood -11117.8227\n",
      "iteration 21; log likelihood -11091.0760\n",
      "iteration 22; log likelihood -11067.1117\n",
      "iteration 23; log likelihood -11045.4205\n",
      "iteration 24; log likelihood -11025.8447\n",
      "iteration 25; log likelihood -11008.3974\n",
      "iteration 26; log likelihood -10993.0829\n",
      "iteration 27; log likelihood -10979.8083\n",
      "iteration 28; log likelihood -10968.3900\n",
      "iteration 29; log likelihood -10958.5962\n",
      "iteration 30; log likelihood -10950.1843\n",
      "iteration 31; log likelihood -10942.9233\n",
      "iteration 32; log likelihood -10936.6055\n",
      "iteration 33; log likelihood -10931.0514\n",
      "iteration 34; log likelihood -10926.1106\n",
      "iteration 35; log likelihood -10921.6599\n",
      "iteration 36; log likelihood -10917.6043\n",
      "iteration 37; log likelihood -10913.8786\n",
      "iteration 38; log likelihood -10910.4455\n",
      "iteration 39; log likelihood -10907.2786\n",
      "iteration 40; log likelihood -10904.3392\n",
      "iteration 41; log likelihood -10901.5684\n",
      "iteration 42; log likelihood -10898.9019\n",
      "iteration 43; log likelihood -10896.2884\n",
      "iteration 44; log likelihood -10893.6981\n",
      "iteration 45; log likelihood -10891.1236\n",
      "iteration 46; log likelihood -10888.5753\n",
      "iteration 47; log likelihood -10886.0736\n",
      "iteration 48; log likelihood -10883.6403\n",
      "iteration 49; log likelihood -10881.2929\n",
      "iteration 50; log likelihood -10879.0433\n",
      "iteration 51; log likelihood -10876.8978\n",
      "iteration 52; log likelihood -10874.8592\n",
      "iteration 53; log likelihood -10872.9279\n",
      "iteration 54; log likelihood -10871.1025\n",
      "iteration 55; log likelihood -10869.3812\n",
      "iteration 56; log likelihood -10867.7618\n",
      "iteration 57; log likelihood -10866.2425\n",
      "iteration 58; log likelihood -10864.8217\n",
      "iteration 59; log likelihood -10863.4980\n",
      "iteration 60; log likelihood -10862.2693\n",
      "iteration 61; log likelihood -10861.1328\n",
      "iteration 62; log likelihood -10860.0843\n",
      "iteration 63; log likelihood -10859.1184\n",
      "early stopping previous_llh -10860.0842813265, log_likelihood -10859.118352376472\n"
     ]
    },
    {
     "data": {
      "application/vnd.jupyter.widget-view+json": {
       "model_id": "6f40fb9b528b463f927364049ba9f838",
       "version_major": 2,
       "version_minor": 0
      },
      "text/plain": [
       "HBox(children=(IntProgress(value=0, max=3355), HTML(value='')))"
      ]
     },
     "metadata": {},
     "output_type": "display_data"
    },
    {
     "data": {
      "application/vnd.jupyter.widget-view+json": {
       "model_id": "bc716e520dd24916b22815a099d56192",
       "version_major": 2,
       "version_minor": 0
      },
      "text/plain": [
       "HBox(children=(IntProgress(value=0, max=112711), HTML(value='')))"
      ]
     },
     "metadata": {},
     "output_type": "display_data"
    },
    {
     "name": "stdout",
     "output_type": "stream",
     "text": [
      "pi is fixed\n",
      "A is fixed\n",
      "iteration 0; log likelihood -11774.8198\n",
      "iteration 1; log likelihood -10271.6799\n",
      "iteration 2; log likelihood -10264.8700\n",
      "iteration 3; log likelihood -10257.3051\n",
      "iteration 4; log likelihood -10247.7274\n",
      "iteration 5; log likelihood -10234.4159\n",
      "iteration 6; log likelihood -10214.9908\n",
      "iteration 7; log likelihood -10186.4338\n",
      "iteration 8; log likelihood -10145.4130\n",
      "iteration 9; log likelihood -10088.8388\n",
      "iteration 10; log likelihood -10014.7667\n",
      "iteration 11; log likelihood -9923.7280\n",
      "iteration 12; log likelihood -9820.1934\n",
      "iteration 13; log likelihood -9713.3073\n",
      "iteration 14; log likelihood -9614.4702\n",
      "iteration 15; log likelihood -9531.1603\n",
      "iteration 16; log likelihood -9464.4920\n",
      "iteration 17; log likelihood -9412.3551\n",
      "iteration 18; log likelihood -9372.0052\n",
      "iteration 19; log likelihood -9340.7945\n",
      "iteration 20; log likelihood -9316.4541\n",
      "iteration 21; log likelihood -9297.2699\n",
      "iteration 22; log likelihood -9282.0348\n",
      "iteration 23; log likelihood -9269.8822\n",
      "iteration 24; log likelihood -9260.1456\n",
      "iteration 25; log likelihood -9252.2913\n",
      "iteration 26; log likelihood -9245.8932\n",
      "iteration 27; log likelihood -9240.6200\n",
      "iteration 28; log likelihood -9236.2201\n",
      "iteration 29; log likelihood -9232.5050\n",
      "iteration 30; log likelihood -9229.3328\n",
      "iteration 31; log likelihood -9226.5963\n",
      "iteration 32; log likelihood -9224.2126\n",
      "iteration 33; log likelihood -9222.1171\n",
      "iteration 34; log likelihood -9220.2587\n",
      "iteration 35; log likelihood -9218.5962\n",
      "iteration 36; log likelihood -9217.0964\n",
      "iteration 37; log likelihood -9215.7324\n",
      "iteration 38; log likelihood -9214.4822\n",
      "iteration 39; log likelihood -9213.3277\n",
      "iteration 40; log likelihood -9212.2541\n",
      "iteration 41; log likelihood -9211.2497\n",
      "iteration 42; log likelihood -9210.3045\n",
      "early stopping previous_llh -9211.249662379096, log_likelihood -9210.304539805007\n"
     ]
    },
    {
     "data": {
      "application/vnd.jupyter.widget-view+json": {
       "model_id": "27e641409b124342a62016ce836f61c5",
       "version_major": 2,
       "version_minor": 0
      },
      "text/plain": [
       "HBox(children=(IntProgress(value=0, max=3355), HTML(value='')))"
      ]
     },
     "metadata": {},
     "output_type": "display_data"
    },
    {
     "data": {
      "application/vnd.jupyter.widget-view+json": {
       "model_id": "b68bb9b1ac714213b773c99de48fd705",
       "version_major": 2,
       "version_minor": 0
      },
      "text/plain": [
       "HBox(children=(IntProgress(value=0, max=112711), HTML(value='')))"
      ]
     },
     "metadata": {},
     "output_type": "display_data"
    },
    {
     "name": "stdout",
     "output_type": "stream",
     "text": [
      "pi is fixed\n",
      "A is fixed\n",
      "iteration 0; log likelihood -13407.1908\n",
      "iteration 1; log likelihood -11665.0728\n",
      "iteration 2; log likelihood -11659.7333\n",
      "iteration 3; log likelihood -11653.2537\n",
      "iteration 4; log likelihood -11644.4015\n",
      "iteration 5; log likelihood -11631.0224\n",
      "iteration 6; log likelihood -11609.4080\n",
      "iteration 7; log likelihood -11573.6979\n",
      "iteration 8; log likelihood -11516.1459\n",
      "iteration 9; log likelihood -11428.8423\n",
      "iteration 10; log likelihood -11303.9746\n",
      "iteration 11; log likelihood -11129.4871\n",
      "iteration 12; log likelihood -10900.2347\n",
      "iteration 13; log likelihood -10653.8682\n",
      "iteration 14; log likelihood -10438.7443\n",
      "iteration 15; log likelihood -10260.2792\n",
      "iteration 16; log likelihood -10110.4810\n",
      "iteration 17; log likelihood -9989.8714\n",
      "iteration 18; log likelihood -9895.9024\n",
      "iteration 19; log likelihood -9823.6056\n",
      "iteration 20; log likelihood -9769.6982\n",
      "iteration 21; log likelihood -9730.6966\n",
      "iteration 22; log likelihood -9702.8510\n",
      "iteration 23; log likelihood -9683.0431\n",
      "iteration 24; log likelihood -9668.7609\n",
      "iteration 25; log likelihood -9658.1391\n",
      "iteration 26; log likelihood -9649.9617\n",
      "iteration 27; log likelihood -9643.4874\n",
      "iteration 28; log likelihood -9638.2865\n",
      "iteration 29; log likelihood -9634.1057\n",
      "iteration 30; log likelihood -9630.7665\n",
      "iteration 31; log likelihood -9628.1079\n",
      "iteration 32; log likelihood -9625.9761\n",
      "iteration 33; log likelihood -9624.2455\n",
      "iteration 34; log likelihood -9622.8235\n",
      "iteration 35; log likelihood -9621.6425\n",
      "iteration 36; log likelihood -9620.6519\n",
      "early stopping previous_llh -9621.642481176481, log_likelihood -9620.65191104007\n"
     ]
    },
    {
     "data": {
      "application/vnd.jupyter.widget-view+json": {
       "model_id": "c6d89077fd8f47b0b2ca44af5d5be698",
       "version_major": 2,
       "version_minor": 0
      },
      "text/plain": [
       "HBox(children=(IntProgress(value=0, max=3355), HTML(value='')))"
      ]
     },
     "metadata": {},
     "output_type": "display_data"
    },
    {
     "data": {
      "application/vnd.jupyter.widget-view+json": {
       "model_id": "10ea69260e644e56bcfcdc3d64a2334e",
       "version_major": 2,
       "version_minor": 0
      },
      "text/plain": [
       "HBox(children=(IntProgress(value=0, max=112711), HTML(value='')))"
      ]
     },
     "metadata": {},
     "output_type": "display_data"
    },
    {
     "name": "stdout",
     "output_type": "stream",
     "text": [
      "pi is fixed\n",
      "A is fixed\n",
      "iteration 0; log likelihood -13800.2180\n",
      "iteration 1; log likelihood -11769.8502\n",
      "iteration 2; log likelihood -11764.3635\n",
      "iteration 3; log likelihood -11757.0893\n",
      "iteration 4; log likelihood -11746.2352\n",
      "iteration 5; log likelihood -11728.7881\n",
      "iteration 6; log likelihood -11700.0897\n",
      "iteration 7; log likelihood -11654.3147\n",
      "iteration 8; log likelihood -11587.0907\n",
      "iteration 9; log likelihood -11499.2196\n",
      "iteration 10; log likelihood -11395.8633\n",
      "iteration 11; log likelihood -11278.5153\n",
      "iteration 12; log likelihood -11135.6417\n",
      "iteration 13; log likelihood -10939.0851\n",
      "iteration 14; log likelihood -10671.9180\n",
      "iteration 15; log likelihood -10387.1769\n",
      "iteration 16; log likelihood -10161.3346\n",
      "iteration 17; log likelihood -10007.4380\n",
      "iteration 18; log likelihood -9902.5692\n",
      "iteration 19; log likelihood -9827.3077\n",
      "iteration 20; log likelihood -9771.1685\n",
      "iteration 21; log likelihood -9728.5743\n",
      "iteration 22; log likelihood -9695.8037\n",
      "iteration 23; log likelihood -9670.0405\n",
      "iteration 24; log likelihood -9649.3194\n",
      "iteration 25; log likelihood -9632.4164\n",
      "iteration 26; log likelihood -9618.5886\n",
      "iteration 27; log likelihood -9607.3413\n",
      "iteration 28; log likelihood -9598.2943\n",
      "iteration 29; log likelihood -9591.1059\n",
      "iteration 30; log likelihood -9585.4476\n",
      "iteration 31; log likelihood -9581.0184\n",
      "iteration 32; log likelihood -9577.5623\n",
      "iteration 33; log likelihood -9574.8698\n",
      "iteration 34; log likelihood -9572.7720\n",
      "iteration 35; log likelihood -9571.1340\n",
      "iteration 36; log likelihood -9569.8487\n",
      "iteration 37; log likelihood -9568.8325\n",
      "iteration 38; log likelihood -9568.0210\n",
      "early stopping previous_llh -9568.832508913889, log_likelihood -9568.020960467476\n"
     ]
    },
    {
     "data": {
      "application/vnd.jupyter.widget-view+json": {
       "model_id": "b96147bc6a294d09a81f062c6aafd1fa",
       "version_major": 2,
       "version_minor": 0
      },
      "text/plain": [
       "HBox(children=(IntProgress(value=0, max=3355), HTML(value='')))"
      ]
     },
     "metadata": {},
     "output_type": "display_data"
    },
    {
     "data": {
      "application/vnd.jupyter.widget-view+json": {
       "model_id": "62b5f152cfda4a8ba900d7a1a46d6da6",
       "version_major": 2,
       "version_minor": 0
      },
      "text/plain": [
       "HBox(children=(IntProgress(value=0, max=112711), HTML(value='')))"
      ]
     },
     "metadata": {},
     "output_type": "display_data"
    },
    {
     "name": "stdout",
     "output_type": "stream",
     "text": [
      "pi is fixed\n",
      "A is fixed\n",
      "iteration 0; log likelihood -13232.8858\n",
      "iteration 1; log likelihood -11401.5751\n",
      "iteration 2; log likelihood -11395.0719\n",
      "iteration 3; log likelihood -11385.7410\n",
      "iteration 4; log likelihood -11371.0555\n",
      "iteration 5; log likelihood -11346.8148\n",
      "iteration 6; log likelihood -11307.0314\n",
      "iteration 7; log likelihood -11245.9169\n",
      "iteration 8; log likelihood -11162.5163\n",
      "iteration 9; log likelihood -11062.7965\n",
      "iteration 10; log likelihood -10953.1468\n",
      "iteration 11; log likelihood -10830.0977\n",
      "iteration 12; log likelihood -10674.9568\n",
      "iteration 13; log likelihood -10465.8232\n",
      "iteration 14; log likelihood -10217.3142\n",
      "iteration 15; log likelihood -9977.0998\n",
      "iteration 16; log likelihood -9770.9944\n",
      "iteration 17; log likelihood -9603.6267\n",
      "iteration 18; log likelihood -9472.3163\n",
      "iteration 19; log likelihood -9373.4927\n",
      "iteration 20; log likelihood -9303.3495\n",
      "iteration 21; log likelihood -9254.8997\n",
      "iteration 22; log likelihood -9222.4566\n",
      "iteration 23; log likelihood -9200.8698\n",
      "iteration 24; log likelihood -9186.3143\n",
      "iteration 25; log likelihood -9176.2892\n",
      "iteration 26; log likelihood -9169.1751\n",
      "iteration 27; log likelihood -9163.9571\n",
      "iteration 28; log likelihood -9160.0021\n",
      "iteration 29; log likelihood -9156.9170\n",
      "iteration 30; log likelihood -9154.4620\n",
      "iteration 31; log likelihood -9152.4667\n",
      "iteration 32; log likelihood -9150.8203\n",
      "iteration 33; log likelihood -9149.4848\n",
      "iteration 34; log likelihood -9148.4277\n",
      "iteration 35; log likelihood -9147.5939\n",
      "early stopping previous_llh -9148.42772334526, log_likelihood -9147.593870683733\n"
     ]
    },
    {
     "data": {
      "application/vnd.jupyter.widget-view+json": {
       "model_id": "81cb22beae2f4c32bc4008587367d948",
       "version_major": 2,
       "version_minor": 0
      },
      "text/plain": [
       "HBox(children=(IntProgress(value=0, max=3355), HTML(value='')))"
      ]
     },
     "metadata": {},
     "output_type": "display_data"
    },
    {
     "data": {
      "application/vnd.jupyter.widget-view+json": {
       "model_id": "023a0d7350bd4f10931ab479fe005464",
       "version_major": 2,
       "version_minor": 0
      },
      "text/plain": [
       "HBox(children=(IntProgress(value=0, max=112711), HTML(value='')))"
      ]
     },
     "metadata": {},
     "output_type": "display_data"
    },
    {
     "name": "stdout",
     "output_type": "stream",
     "text": [
      "pi is fixed\n",
      "A is fixed\n",
      "iteration 0; log likelihood -11390.9538\n",
      "iteration 1; log likelihood -9838.6653\n",
      "iteration 2; log likelihood -9829.6512\n",
      "iteration 3; log likelihood -9819.4226\n",
      "iteration 4; log likelihood -9806.8436\n",
      "iteration 5; log likelihood -9790.3719\n",
      "iteration 6; log likelihood -9767.9464\n",
      "iteration 7; log likelihood -9736.9140\n",
      "iteration 8; log likelihood -9693.8181\n",
      "iteration 9; log likelihood -9633.2985\n",
      "iteration 10; log likelihood -9544.7262\n",
      "iteration 11; log likelihood -9408.3352\n",
      "iteration 12; log likelihood -9209.1703\n",
      "iteration 13; log likelihood -8977.6981\n",
      "iteration 14; log likelihood -8768.7653\n",
      "iteration 15; log likelihood -8598.8551\n",
      "iteration 16; log likelihood -8464.1388\n",
      "iteration 17; log likelihood -8360.9761\n",
      "iteration 18; log likelihood -8285.0228\n",
      "iteration 19; log likelihood -8230.5721\n",
      "iteration 20; log likelihood -8192.5436\n",
      "iteration 21; log likelihood -8166.4273\n",
      "iteration 22; log likelihood -8148.1930\n",
      "iteration 23; log likelihood -8135.1836\n",
      "iteration 24; log likelihood -8125.7228\n",
      "iteration 25; log likelihood -8118.7179\n",
      "iteration 26; log likelihood -8113.4417\n",
      "iteration 27; log likelihood -8109.4039\n",
      "iteration 28; log likelihood -8106.2687\n",
      "iteration 29; log likelihood -8103.8017\n",
      "iteration 30; log likelihood -8101.8356\n",
      "iteration 31; log likelihood -8100.2498\n",
      "iteration 32; log likelihood -8098.9557\n",
      "iteration 33; log likelihood -8097.8877\n",
      "iteration 34; log likelihood -8096.9966\n",
      "early stopping previous_llh -8097.887671709912, log_likelihood -8096.996550612245\n"
     ]
    },
    {
     "data": {
      "application/vnd.jupyter.widget-view+json": {
       "model_id": "9665eec0275a4f098c0339e792de42f9",
       "version_major": 2,
       "version_minor": 0
      },
      "text/plain": [
       "HBox(children=(IntProgress(value=0, max=3355), HTML(value='')))"
      ]
     },
     "metadata": {},
     "output_type": "display_data"
    },
    {
     "data": {
      "application/vnd.jupyter.widget-view+json": {
       "model_id": "ac3cbeaffdf244dda38a7842b81f2d78",
       "version_major": 2,
       "version_minor": 0
      },
      "text/plain": [
       "HBox(children=(IntProgress(value=0, max=112711), HTML(value='')))"
      ]
     },
     "metadata": {},
     "output_type": "display_data"
    },
    {
     "name": "stderr",
     "output_type": "stream",
     "text": [
      "/opt/anaconda3/lib/python3.7/site-packages/ipykernel_launcher.py:27: RuntimeWarning: invalid value encountered in true_divide\n"
     ]
    },
    {
     "name": "stdout",
     "output_type": "stream",
     "text": [
      "pi is fixed\n",
      "A is fixed\n",
      "iteration 0; log likelihood -12541.0688\n",
      "iteration 1; log likelihood -10891.5805\n",
      "iteration 2; log likelihood -10882.8710\n",
      "iteration 3; log likelihood -10872.3513\n",
      "iteration 4; log likelihood -10857.4491\n",
      "iteration 5; log likelihood -10833.8199\n",
      "iteration 6; log likelihood -10794.1786\n",
      "iteration 7; log likelihood -10727.2824\n",
      "iteration 8; log likelihood -10618.0780\n",
      "iteration 9; log likelihood -10450.5203\n",
      "iteration 10; log likelihood -10221.9261\n",
      "iteration 11; log likelihood -9973.1645\n",
      "iteration 12; log likelihood -9763.1844\n",
      "iteration 13; log likelihood -9601.3671\n",
      "iteration 14; log likelihood -9464.5779\n",
      "iteration 15; log likelihood -9339.3377\n",
      "iteration 16; log likelihood -9230.7389\n",
      "iteration 17; log likelihood -9145.1212\n",
      "iteration 18; log likelihood -9080.7795\n",
      "iteration 19; log likelihood -9026.9568\n",
      "iteration 20; log likelihood -8986.4131\n",
      "iteration 21; log likelihood -8961.3587\n",
      "iteration 22; log likelihood -8945.0796\n",
      "iteration 23; log likelihood -8933.7551\n",
      "iteration 24; log likelihood -8925.5581\n",
      "iteration 25; log likelihood -8919.4590\n",
      "iteration 26; log likelihood -8914.8134\n",
      "iteration 27; log likelihood -8911.1961\n",
      "iteration 28; log likelihood -8908.3145\n",
      "iteration 29; log likelihood -8905.9577\n",
      "iteration 30; log likelihood -8903.9710\n",
      "iteration 31; log likelihood -8902.2508\n",
      "iteration 32; log likelihood -8900.7505\n",
      "iteration 33; log likelihood -8899.4648\n",
      "iteration 34; log likelihood -8898.3923\n",
      "iteration 35; log likelihood -8897.5138\n",
      "early stopping previous_llh -8898.392336201463, log_likelihood -8897.513804708595\n"
     ]
    },
    {
     "data": {
      "application/vnd.jupyter.widget-view+json": {
       "model_id": "92ff6eee0bb54a0db07a54d6dd76231e",
       "version_major": 2,
       "version_minor": 0
      },
      "text/plain": [
       "HBox(children=(IntProgress(value=0, max=3355), HTML(value='')))"
      ]
     },
     "metadata": {},
     "output_type": "display_data"
    },
    {
     "data": {
      "application/vnd.jupyter.widget-view+json": {
       "model_id": "9fcca5e93d4d49c4811f9225aff7ebb5",
       "version_major": 2,
       "version_minor": 0
      },
      "text/plain": [
       "HBox(children=(IntProgress(value=0, max=112711), HTML(value='')))"
      ]
     },
     "metadata": {},
     "output_type": "display_data"
    },
    {
     "name": "stdout",
     "output_type": "stream",
     "text": [
      "pi is fixed\n",
      "A is fixed\n",
      "iteration 0; log likelihood -12429.0298\n",
      "iteration 1; log likelihood -10738.7293\n",
      "iteration 2; log likelihood -10731.3434\n",
      "iteration 3; log likelihood -10723.3601\n",
      "iteration 4; log likelihood -10713.8065\n",
      "iteration 5; log likelihood -10701.4099\n",
      "iteration 6; log likelihood -10684.4271\n",
      "iteration 7; log likelihood -10660.6146\n",
      "iteration 8; log likelihood -10627.5616\n",
      "iteration 9; log likelihood -10583.0494\n",
      "iteration 10; log likelihood -10524.7668\n",
      "iteration 11; log likelihood -10450.4539\n",
      "iteration 12; log likelihood -10359.9720\n",
      "iteration 13; log likelihood -10258.4045\n",
      "iteration 14; log likelihood -10156.3712\n",
      "iteration 15; log likelihood -10065.1846\n",
      "iteration 16; log likelihood -9991.1578\n",
      "iteration 17; log likelihood -9934.5050\n",
      "iteration 18; log likelihood -9892.0829\n",
      "iteration 19; log likelihood -9860.1713\n",
      "iteration 20; log likelihood -9835.7252\n",
      "iteration 21; log likelihood -9816.5609\n",
      "iteration 22; log likelihood -9801.1814\n",
      "iteration 23; log likelihood -9788.5757\n",
      "iteration 24; log likelihood -9778.0655\n",
      "iteration 25; log likelihood -9769.1915\n",
      "iteration 26; log likelihood -9761.6320\n",
      "iteration 27; log likelihood -9755.1498\n",
      "iteration 28; log likelihood -9749.5617\n",
      "iteration 29; log likelihood -9744.7205\n",
      "iteration 30; log likelihood -9740.5067\n",
      "iteration 31; log likelihood -9736.8235\n",
      "iteration 32; log likelihood -9733.5937\n",
      "iteration 33; log likelihood -9730.7542\n",
      "iteration 34; log likelihood -9728.2503\n",
      "iteration 35; log likelihood -9726.0316\n",
      "iteration 36; log likelihood -9724.0522\n",
      "iteration 37; log likelihood -9722.2717\n",
      "iteration 38; log likelihood -9720.6564\n",
      "iteration 39; log likelihood -9719.1794\n",
      "iteration 40; log likelihood -9717.8205\n",
      "iteration 41; log likelihood -9716.5646\n",
      "iteration 42; log likelihood -9715.3991\n",
      "iteration 43; log likelihood -9714.3123\n",
      "iteration 44; log likelihood -9713.2935\n",
      "iteration 45; log likelihood -9712.3335\n",
      "early stopping previous_llh -9713.293501176118, log_likelihood -9712.333528141564\n"
     ]
    },
    {
     "data": {
      "application/vnd.jupyter.widget-view+json": {
       "model_id": "1b693952e45345f98ef70096b2952cfc",
       "version_major": 2,
       "version_minor": 0
      },
      "text/plain": [
       "HBox(children=(IntProgress(value=0, max=3355), HTML(value='')))"
      ]
     },
     "metadata": {},
     "output_type": "display_data"
    },
    {
     "data": {
      "application/vnd.jupyter.widget-view+json": {
       "model_id": "4b9fdc4f7b8741ddae4e51d92d8de9ef",
       "version_major": 2,
       "version_minor": 0
      },
      "text/plain": [
       "HBox(children=(IntProgress(value=0, max=112711), HTML(value='')))"
      ]
     },
     "metadata": {},
     "output_type": "display_data"
    },
    {
     "name": "stdout",
     "output_type": "stream",
     "text": [
      "pi is fixed\n",
      "A is fixed\n",
      "iteration 0; log likelihood -12438.2338\n",
      "iteration 1; log likelihood -10690.9832\n",
      "iteration 2; log likelihood -10686.4561\n",
      "iteration 3; log likelihood -10681.5331\n",
      "iteration 4; log likelihood -10675.2575\n",
      "iteration 5; log likelihood -10666.3146\n",
      "iteration 6; log likelihood -10652.7437\n",
      "iteration 7; log likelihood -10631.7079\n",
      "iteration 8; log likelihood -10599.1431\n",
      "iteration 9; log likelihood -10549.8549\n",
      "iteration 10; log likelihood -10479.4529\n",
      "iteration 11; log likelihood -10386.7240\n",
      "iteration 12; log likelihood -10271.0040\n",
      "iteration 13; log likelihood -10122.4684\n",
      "iteration 14; log likelihood -9919.0196\n",
      "iteration 15; log likelihood -9666.2760\n",
      "iteration 16; log likelihood -9429.0709\n",
      "iteration 17; log likelihood -9251.2408\n",
      "iteration 18; log likelihood -9123.7383\n",
      "iteration 19; log likelihood -9027.2185\n",
      "iteration 20; log likelihood -8951.9995\n",
      "iteration 21; log likelihood -8897.4797\n",
      "iteration 22; log likelihood -8860.3531\n",
      "iteration 23; log likelihood -8835.1068\n",
      "iteration 24; log likelihood -8817.6755\n",
      "iteration 25; log likelihood -8805.4380\n",
      "iteration 26; log likelihood -8796.7013\n",
      "iteration 27; log likelihood -8790.3606\n",
      "iteration 28; log likelihood -8785.6862\n",
      "iteration 29; log likelihood -8782.1889\n",
      "iteration 30; log likelihood -8779.5356\n",
      "iteration 31; log likelihood -8777.4960\n",
      "iteration 32; log likelihood -8775.9086\n",
      "iteration 33; log likelihood -8774.6585\n",
      "iteration 34; log likelihood -8773.6630\n",
      "early stopping previous_llh -8774.65849506287, log_likelihood -8773.66300109951\n"
     ]
    },
    {
     "data": {
      "application/vnd.jupyter.widget-view+json": {
       "model_id": "9b437ba170084fc7a214e47f4935d9d6",
       "version_major": 2,
       "version_minor": 0
      },
      "text/plain": [
       "HBox(children=(IntProgress(value=0, max=3355), HTML(value='')))"
      ]
     },
     "metadata": {},
     "output_type": "display_data"
    },
    {
     "data": {
      "application/vnd.jupyter.widget-view+json": {
       "model_id": "63a15252be0c4b248163fa6ddc2f3825",
       "version_major": 2,
       "version_minor": 0
      },
      "text/plain": [
       "HBox(children=(IntProgress(value=0, max=112711), HTML(value='')))"
      ]
     },
     "metadata": {},
     "output_type": "display_data"
    },
    {
     "name": "stdout",
     "output_type": "stream",
     "text": [
      "pi is fixed\n",
      "A is fixed\n",
      "iteration 0; log likelihood -78870.9692\n",
      "iteration 1; log likelihood -67518.4392\n",
      "iteration 2; log likelihood -67516.3631\n",
      "iteration 3; log likelihood -67513.6435\n",
      "iteration 4; log likelihood -67509.5457\n",
      "iteration 5; log likelihood -67502.7089\n",
      "iteration 6; log likelihood -67490.5091\n",
      "iteration 7; log likelihood -67467.8478\n",
      "iteration 8; log likelihood -67424.9668\n",
      "iteration 9; log likelihood -67344.0399\n",
      "iteration 10; log likelihood -67195.5766\n",
      "iteration 11; log likelihood -66939.2468\n",
      "iteration 12; log likelihood -66537.6388\n",
      "iteration 13; log likelihood -65987.4777\n",
      "iteration 14; log likelihood -65350.9596\n",
      "iteration 15; log likelihood -64735.5804\n",
      "iteration 16; log likelihood -64219.4055\n",
      "iteration 17; log likelihood -63817.9858\n",
      "iteration 18; log likelihood -63511.9473\n",
      "iteration 19; log likelihood -63276.3249\n",
      "iteration 20; log likelihood -63091.2592\n",
      "iteration 21; log likelihood -62942.9526\n",
      "iteration 22; log likelihood -62822.1657\n",
      "iteration 23; log likelihood -62722.5464\n",
      "iteration 24; log likelihood -62639.4125\n",
      "iteration 25; log likelihood -62569.1141\n",
      "iteration 26; log likelihood -62508.7365\n",
      "iteration 27; log likelihood -62455.9349\n",
      "iteration 28; log likelihood -62408.8243\n",
      "iteration 29; log likelihood -62365.8884\n",
      "iteration 30; log likelihood -62325.8977\n",
      "iteration 31; log likelihood -62287.8425\n",
      "iteration 32; log likelihood -62250.8827\n",
      "iteration 33; log likelihood -62214.3159\n",
      "iteration 34; log likelihood -62177.5598\n",
      "iteration 35; log likelihood -62140.1428\n",
      "iteration 36; log likelihood -62101.6907\n",
      "iteration 37; log likelihood -62061.9023\n",
      "iteration 38; log likelihood -62020.5081\n",
      "iteration 39; log likelihood -61977.2224\n",
      "iteration 40; log likelihood -61931.6948\n",
      "iteration 41; log likelihood -61883.4439\n",
      "iteration 42; log likelihood -61831.7378\n",
      "iteration 43; log likelihood -61775.4131\n",
      "iteration 44; log likelihood -61712.6918\n",
      "iteration 45; log likelihood -61641.0916\n",
      "iteration 46; log likelihood -61557.5075\n",
      "iteration 47; log likelihood -61458.4946\n",
      "iteration 48; log likelihood -61340.9016\n",
      "iteration 49; log likelihood -61203.2357\n",
      "iteration 50; log likelihood -61047.6403\n",
      "iteration 51; log likelihood -60880.9937\n",
      "iteration 52; log likelihood -60714.0710\n",
      "iteration 53; log likelihood -60560.0177\n",
      "iteration 54; log likelihood -60431.2059\n",
      "iteration 55; log likelihood -60333.0784\n",
      "iteration 56; log likelihood -60262.3826\n",
      "iteration 57; log likelihood -60212.0449\n",
      "iteration 58; log likelihood -60175.5491\n",
      "iteration 59; log likelihood -60148.2007\n",
      "iteration 60; log likelihood -60126.8632\n",
      "iteration 61; log likelihood -60109.4546\n",
      "iteration 62; log likelihood -60094.5635\n",
      "iteration 63; log likelihood -60081.1966\n",
      "iteration 64; log likelihood -60068.6442\n",
      "iteration 65; log likelihood -60056.4612\n",
      "iteration 66; log likelihood -60044.5218\n",
      "iteration 67; log likelihood -60032.9956\n",
      "iteration 68; log likelihood -60022.1516\n",
      "iteration 69; log likelihood -60012.1511\n",
      "iteration 70; log likelihood -60003.0073\n",
      "iteration 71; log likelihood -59994.6500\n",
      "iteration 72; log likelihood -59986.9857\n",
      "iteration 73; log likelihood -59979.9235\n",
      "iteration 74; log likelihood -59973.3828\n",
      "iteration 75; log likelihood -59967.2935\n",
      "iteration 76; log likelihood -59961.5926\n",
      "iteration 77; log likelihood -59956.2218\n",
      "iteration 78; log likelihood -59951.1253\n",
      "iteration 79; log likelihood -59946.2500\n",
      "iteration 80; log likelihood -59941.5453\n",
      "iteration 81; log likelihood -59936.9651\n",
      "iteration 82; log likelihood -59932.4692\n",
      "iteration 83; log likelihood -59928.0255\n",
      "iteration 84; log likelihood -59923.6113\n",
      "iteration 85; log likelihood -59919.2145\n",
      "iteration 86; log likelihood -59914.8328\n",
      "iteration 87; log likelihood -59910.4724\n",
      "iteration 88; log likelihood -59906.1446\n",
      "iteration 89; log likelihood -59901.8618\n",
      "iteration 90; log likelihood -59897.6342\n",
      "iteration 91; log likelihood -59893.4678\n",
      "iteration 92; log likelihood -59889.3637\n",
      "iteration 93; log likelihood -59885.3194\n",
      "iteration 94; log likelihood -59881.3306\n",
      "iteration 95; log likelihood -59877.3930\n",
      "iteration 96; log likelihood -59873.5040\n",
      "iteration 97; log likelihood -59869.6631\n",
      "iteration 98; log likelihood -59865.8725\n",
      "iteration 99; log likelihood -59862.1365\n"
     ]
    },
    {
     "data": {
      "application/vnd.jupyter.widget-view+json": {
       "model_id": "d4ac09e5c48c485e89d86aa8d9625fd5",
       "version_major": 2,
       "version_minor": 0
      },
      "text/plain": [
       "HBox(children=(IntProgress(value=0, max=3355), HTML(value='')))"
      ]
     },
     "metadata": {},
     "output_type": "display_data"
    },
    {
     "data": {
      "application/vnd.jupyter.widget-view+json": {
       "model_id": "5634669f6e1c4f729ec210e95c77196d",
       "version_major": 2,
       "version_minor": 0
      },
      "text/plain": [
       "HBox(children=(IntProgress(value=0, max=112711), HTML(value='')))"
      ]
     },
     "metadata": {},
     "output_type": "display_data"
    },
    {
     "name": "stdout",
     "output_type": "stream",
     "text": [
      "pi is fixed\n",
      "A is fixed\n",
      "iteration 0; log likelihood -12341.2658\n",
      "iteration 1; log likelihood -10687.9223\n",
      "iteration 2; log likelihood -10675.8473\n",
      "iteration 3; log likelihood -10664.3434\n",
      "iteration 4; log likelihood -10651.3963\n",
      "iteration 5; log likelihood -10634.4055\n",
      "iteration 6; log likelihood -10609.5361\n",
      "iteration 7; log likelihood -10571.1915\n",
      "iteration 8; log likelihood -10512.2074\n",
      "iteration 9; log likelihood -10424.6073\n",
      "iteration 10; log likelihood -10297.5619\n",
      "iteration 11; log likelihood -10115.0087\n",
      "iteration 12; log likelihood -9878.8955\n",
      "iteration 13; log likelihood -9634.7020\n",
      "iteration 14; log likelihood -9424.6424\n",
      "iteration 15; log likelihood -9260.0084\n",
      "iteration 16; log likelihood -9135.4593\n",
      "iteration 17; log likelihood -9041.2721\n",
      "iteration 18; log likelihood -8971.5298\n",
      "iteration 19; log likelihood -8919.3052\n",
      "iteration 20; log likelihood -8877.2100\n",
      "iteration 21; log likelihood -8847.4316\n",
      "iteration 22; log likelihood -8827.8489\n",
      "iteration 23; log likelihood -8814.3331\n",
      "iteration 24; log likelihood -8804.4963\n",
      "iteration 25; log likelihood -8797.0974\n",
      "iteration 26; log likelihood -8791.4729\n",
      "iteration 27; log likelihood -8787.1665\n",
      "iteration 28; log likelihood -8783.8198\n",
      "iteration 29; log likelihood -8781.1788\n",
      "iteration 30; log likelihood -8779.0661\n",
      "iteration 31; log likelihood -8777.3538\n",
      "iteration 32; log likelihood -8775.9476\n",
      "iteration 33; log likelihood -8774.7783\n",
      "iteration 34; log likelihood -8773.7948\n",
      "early stopping previous_llh -8774.778347584446, log_likelihood -8773.794841458935\n"
     ]
    },
    {
     "data": {
      "application/vnd.jupyter.widget-view+json": {
       "model_id": "7b7cbfafb96244a9b68e5900a9282506",
       "version_major": 2,
       "version_minor": 0
      },
      "text/plain": [
       "HBox(children=(IntProgress(value=0, max=3355), HTML(value='')))"
      ]
     },
     "metadata": {},
     "output_type": "display_data"
    },
    {
     "data": {
      "application/vnd.jupyter.widget-view+json": {
       "model_id": "153a15c125d94ac3a9efad2f7745866c",
       "version_major": 2,
       "version_minor": 0
      },
      "text/plain": [
       "HBox(children=(IntProgress(value=0, max=112711), HTML(value='')))"
      ]
     },
     "metadata": {},
     "output_type": "display_data"
    },
    {
     "name": "stdout",
     "output_type": "stream",
     "text": [
      "pi is fixed\n",
      "A is fixed\n",
      "iteration 0; log likelihood -12213.7058\n",
      "iteration 1; log likelihood -10444.8147\n",
      "iteration 2; log likelihood -10441.0714\n",
      "iteration 3; log likelihood -10436.4954\n",
      "iteration 4; log likelihood -10430.4565\n",
      "iteration 5; log likelihood -10422.0653\n",
      "iteration 6; log likelihood -10410.0772\n",
      "iteration 7; log likelihood -10392.8380\n",
      "iteration 8; log likelihood -10368.3504\n",
      "iteration 9; log likelihood -10334.5392\n",
      "iteration 10; log likelihood -10289.6308\n",
      "iteration 11; log likelihood -10232.5798\n",
      "iteration 12; log likelihood -10163.8480\n",
      "iteration 13; log likelihood -10086.4747\n",
      "iteration 14; log likelihood -10006.2506\n",
      "iteration 15; log likelihood -9929.4719\n",
      "iteration 16; log likelihood -9859.9476\n",
      "iteration 17; log likelihood -9798.8026\n",
      "iteration 18; log likelihood -9745.7924\n",
      "iteration 19; log likelihood -9700.4190\n",
      "iteration 20; log likelihood -9662.7707\n",
      "iteration 21; log likelihood -9632.7216\n",
      "iteration 22; log likelihood -9609.2010\n",
      "iteration 23; log likelihood -9590.6841\n",
      "iteration 24; log likelihood -9575.8109\n",
      "iteration 25; log likelihood -9563.5729\n",
      "iteration 26; log likelihood -9553.2641\n",
      "iteration 27; log likelihood -9544.3954\n",
      "iteration 28; log likelihood -9536.6314\n",
      "iteration 29; log likelihood -9529.7465\n",
      "iteration 30; log likelihood -9523.5907\n",
      "iteration 31; log likelihood -9518.0615\n",
      "iteration 32; log likelihood -9513.0833\n",
      "iteration 33; log likelihood -9508.5939\n",
      "iteration 34; log likelihood -9504.5362\n",
      "iteration 35; log likelihood -9500.8548\n",
      "iteration 36; log likelihood -9497.4946\n",
      "iteration 37; log likelihood -9494.4025\n",
      "iteration 38; log likelihood -9491.5279\n",
      "iteration 39; log likelihood -9488.8252\n",
      "iteration 40; log likelihood -9486.2556\n",
      "iteration 41; log likelihood -9483.7883\n",
      "iteration 42; log likelihood -9481.4022\n",
      "iteration 43; log likelihood -9479.0828\n",
      "iteration 44; log likelihood -9476.8180\n",
      "iteration 45; log likelihood -9474.5918\n",
      "iteration 46; log likelihood -9472.3827\n",
      "iteration 47; log likelihood -9470.1748\n",
      "iteration 48; log likelihood -9467.9862\n",
      "iteration 49; log likelihood -9465.8906\n",
      "iteration 50; log likelihood -9463.9810\n",
      "iteration 51; log likelihood -9462.2959\n",
      "iteration 52; log likelihood -9460.8048\n",
      "iteration 53; log likelihood -9459.4518\n",
      "iteration 54; log likelihood -9458.1902\n",
      "iteration 55; log likelihood -9456.9925\n",
      "iteration 56; log likelihood -9455.8480\n",
      "iteration 57; log likelihood -9454.7559\n",
      "iteration 58; log likelihood -9453.7192\n",
      "iteration 59; log likelihood -9452.7399\n",
      "early stopping previous_llh -9453.719211808508, log_likelihood -9452.739888270906\n"
     ]
    },
    {
     "data": {
      "application/vnd.jupyter.widget-view+json": {
       "model_id": "8eaf477c27214e31b720551ade38ff7d",
       "version_major": 2,
       "version_minor": 0
      },
      "text/plain": [
       "HBox(children=(IntProgress(value=0, max=3355), HTML(value='')))"
      ]
     },
     "metadata": {},
     "output_type": "display_data"
    },
    {
     "data": {
      "application/vnd.jupyter.widget-view+json": {
       "model_id": "d1c254c8447549ae9607d25c8e3bc6e8",
       "version_major": 2,
       "version_minor": 0
      },
      "text/plain": [
       "HBox(children=(IntProgress(value=0, max=112711), HTML(value='')))"
      ]
     },
     "metadata": {},
     "output_type": "display_data"
    },
    {
     "name": "stdout",
     "output_type": "stream",
     "text": [
      "pi is fixed\n",
      "A is fixed\n",
      "iteration 0; log likelihood -12605.7685\n",
      "iteration 1; log likelihood -10832.2862\n",
      "iteration 2; log likelihood -10827.2719\n",
      "iteration 3; log likelihood -10820.8407\n",
      "iteration 4; log likelihood -10811.3984\n",
      "iteration 5; log likelihood -10796.0648\n",
      "iteration 6; log likelihood -10769.7390\n",
      "iteration 7; log likelihood -10724.4194\n",
      "iteration 8; log likelihood -10650.5858\n",
      "iteration 9; log likelihood -10541.6204\n",
      "iteration 10; log likelihood -10394.8646\n",
      "iteration 11; log likelihood -10203.6577\n",
      "iteration 12; log likelihood -9968.3292\n",
      "iteration 13; log likelihood -9734.9043\n",
      "iteration 14; log likelihood -9550.8798\n",
      "iteration 15; log likelihood -9412.1024\n",
      "iteration 16; log likelihood -9302.3113\n",
      "iteration 17; log likelihood -9212.8181\n",
      "iteration 18; log likelihood -9139.2956\n",
      "iteration 19; log likelihood -9079.8190\n",
      "iteration 20; log likelihood -9033.2408\n",
      "iteration 21; log likelihood -8997.7918\n",
      "iteration 22; log likelihood -8971.2376\n",
      "iteration 23; log likelihood -8951.3230\n",
      "iteration 24; log likelihood -8935.9830\n",
      "iteration 25; log likelihood -8923.7934\n",
      "iteration 26; log likelihood -8913.9235\n",
      "iteration 27; log likelihood -8905.8653\n",
      "iteration 28; log likelihood -8899.2523\n",
      "iteration 29; log likelihood -8893.7935\n",
      "iteration 30; log likelihood -8889.2507\n",
      "iteration 31; log likelihood -8885.4361\n",
      "iteration 32; log likelihood -8882.2173\n",
      "iteration 33; log likelihood -8879.5086\n",
      "iteration 34; log likelihood -8877.2452\n",
      "iteration 35; log likelihood -8875.3634\n",
      "iteration 36; log likelihood -8873.7992\n",
      "iteration 37; log likelihood -8872.4943\n",
      "iteration 38; log likelihood -8871.4000\n",
      "iteration 39; log likelihood -8870.4771\n",
      "early stopping previous_llh -8871.399962950562, log_likelihood -8870.477147878843\n"
     ]
    },
    {
     "data": {
      "application/vnd.jupyter.widget-view+json": {
       "model_id": "5b313dc3fa024a41ae618b052e0d50dc",
       "version_major": 2,
       "version_minor": 0
      },
      "text/plain": [
       "HBox(children=(IntProgress(value=0, max=3355), HTML(value='')))"
      ]
     },
     "metadata": {},
     "output_type": "display_data"
    },
    {
     "data": {
      "application/vnd.jupyter.widget-view+json": {
       "model_id": "181ba88eae5840fb99b0296b06f74015",
       "version_major": 2,
       "version_minor": 0
      },
      "text/plain": [
       "HBox(children=(IntProgress(value=0, max=112711), HTML(value='')))"
      ]
     },
     "metadata": {},
     "output_type": "display_data"
    },
    {
     "name": "stdout",
     "output_type": "stream",
     "text": [
      "pi is fixed\n",
      "A is fixed\n",
      "iteration 0; log likelihood -7943.0653\n",
      "iteration 1; log likelihood -6513.2607\n",
      "iteration 2; log likelihood -6503.6829\n",
      "iteration 3; log likelihood -6485.1280\n",
      "iteration 4; log likelihood -6443.2420\n",
      "iteration 5; log likelihood -6356.3432\n",
      "iteration 6; log likelihood -6238.8396\n",
      "iteration 7; log likelihood -6122.2171\n",
      "iteration 8; log likelihood -6015.0129\n",
      "iteration 9; log likelihood -5913.2222\n",
      "iteration 10; log likelihood -5817.5453\n",
      "iteration 11; log likelihood -5734.6003\n",
      "iteration 12; log likelihood -5667.1809\n",
      "iteration 13; log likelihood -5613.4440\n",
      "iteration 14; log likelihood -5571.8596\n",
      "iteration 15; log likelihood -5540.2161\n",
      "iteration 16; log likelihood -5513.6803\n",
      "iteration 17; log likelihood -5490.0763\n",
      "iteration 18; log likelihood -5469.0913\n",
      "iteration 19; log likelihood -5450.9193\n",
      "iteration 20; log likelihood -5435.1319\n",
      "iteration 21; log likelihood -5421.2547\n",
      "iteration 22; log likelihood -5409.2485\n",
      "iteration 23; log likelihood -5399.6891\n",
      "iteration 24; log likelihood -5392.2301\n",
      "iteration 25; log likelihood -5386.1957\n",
      "iteration 26; log likelihood -5381.1705\n",
      "iteration 27; log likelihood -5376.8706\n",
      "iteration 28; log likelihood -5373.2017\n",
      "iteration 29; log likelihood -5370.1178\n",
      "iteration 30; log likelihood -5367.4436\n",
      "iteration 31; log likelihood -5365.0583\n",
      "iteration 32; log likelihood -5362.9032\n",
      "iteration 33; log likelihood -5360.9389\n",
      "iteration 34; log likelihood -5359.1349\n",
      "iteration 35; log likelihood -5357.4681\n",
      "iteration 36; log likelihood -5355.9215\n",
      "iteration 37; log likelihood -5354.4838\n",
      "iteration 38; log likelihood -5353.1475\n",
      "iteration 39; log likelihood -5351.9084\n",
      "iteration 40; log likelihood -5350.7637\n",
      "iteration 41; log likelihood -5349.7117\n",
      "iteration 42; log likelihood -5348.7503\n",
      "early stopping previous_llh -5349.711740890385, log_likelihood -5348.7502744121175\n"
     ]
    },
    {
     "data": {
      "application/vnd.jupyter.widget-view+json": {
       "model_id": "72eb11a19b9243eda7068dd898bc2994",
       "version_major": 2,
       "version_minor": 0
      },
      "text/plain": [
       "HBox(children=(IntProgress(value=0, max=2755), HTML(value='')))"
      ]
     },
     "metadata": {},
     "output_type": "display_data"
    },
    {
     "data": {
      "application/vnd.jupyter.widget-view+json": {
       "model_id": "88622026f42444cab84f3523e19fcdec",
       "version_major": 2,
       "version_minor": 0
      },
      "text/plain": [
       "HBox(children=(IntProgress(value=0, max=8292), HTML(value='')))"
      ]
     },
     "metadata": {},
     "output_type": "display_data"
    },
    {
     "data": {
      "application/vnd.jupyter.widget-view+json": {
       "model_id": "0d1a396eecfa467783340d9d5c7125e9",
       "version_major": 2,
       "version_minor": 0
      },
      "text/plain": [
       "HBox(children=(IntProgress(value=0, max=10337), HTML(value='')))"
      ]
     },
     "metadata": {},
     "output_type": "display_data"
    },
    {
     "data": {
      "application/vnd.jupyter.widget-view+json": {
       "model_id": "3bed0e4e50824fa8bbf301b007f690ff",
       "version_major": 2,
       "version_minor": 0
      },
      "text/plain": [
       "HBox(children=(IntProgress(value=0, max=5584), HTML(value='')))"
      ]
     },
     "metadata": {},
     "output_type": "display_data"
    },
    {
     "data": {
      "application/vnd.jupyter.widget-view+json": {
       "model_id": "08c4c6b0effc4a16906065648300a0d9",
       "version_major": 2,
       "version_minor": 0
      },
      "text/plain": [
       "HBox(children=(IntProgress(value=0, max=3009), HTML(value='')))"
      ]
     },
     "metadata": {},
     "output_type": "display_data"
    },
    {
     "name": "stdout",
     "output_type": "stream",
     "text": [
      "pi is fixed\n",
      "A is fixed\n",
      "iteration 0; log likelihood -12486.4492\n",
      "iteration 1; log likelihood -10787.7489\n",
      "iteration 2; log likelihood -10783.0160\n",
      "iteration 3; log likelihood -10777.2014\n",
      "iteration 4; log likelihood -10769.2566\n",
      "iteration 5; log likelihood -10757.5388\n",
      "iteration 6; log likelihood -10739.5677\n",
      "iteration 7; log likelihood -10711.9918\n",
      "iteration 8; log likelihood -10671.0487\n",
      "iteration 9; log likelihood -10613.0689\n",
      "iteration 10; log likelihood -10532.5409\n",
      "iteration 11; log likelihood -10415.2111\n",
      "iteration 12; log likelihood -10237.8461\n",
      "iteration 13; log likelihood -10007.2279\n",
      "iteration 14; log likelihood -9777.2804\n",
      "iteration 15; log likelihood -9577.8699\n",
      "iteration 16; log likelihood -9410.5425\n",
      "iteration 17; log likelihood -9276.0068\n",
      "iteration 18; log likelihood -9172.4890\n",
      "iteration 19; log likelihood -9096.0612\n",
      "iteration 20; log likelihood -9040.9805\n",
      "iteration 21; log likelihood -9001.3895\n",
      "iteration 22; log likelihood -8972.9346\n",
      "iteration 23; log likelihood -8952.2754\n",
      "iteration 24; log likelihood -8936.9252\n",
      "iteration 25; log likelihood -8925.2600\n",
      "iteration 26; log likelihood -8916.2410\n",
      "iteration 27; log likelihood -8909.1581\n",
      "iteration 28; log likelihood -8903.5471\n",
      "iteration 29; log likelihood -8899.1038\n",
      "iteration 30; log likelihood -8895.5952\n",
      "iteration 31; log likelihood -8892.8194\n",
      "iteration 32; log likelihood -8890.6041\n",
      "iteration 33; log likelihood -8888.8108\n",
      "iteration 34; log likelihood -8887.3341\n",
      "iteration 35; log likelihood -8886.0963\n",
      "iteration 36; log likelihood -8885.0418\n",
      "iteration 37; log likelihood -8884.1313\n",
      "early stopping previous_llh -8885.0418136638, log_likelihood -8884.131308449694\n"
     ]
    },
    {
     "data": {
      "application/vnd.jupyter.widget-view+json": {
       "model_id": "1e67ac74b91a4ac1b464df525bf0d258",
       "version_major": 2,
       "version_minor": 0
      },
      "text/plain": [
       "HBox(children=(IntProgress(value=0, max=3355), HTML(value='')))"
      ]
     },
     "metadata": {},
     "output_type": "display_data"
    },
    {
     "data": {
      "application/vnd.jupyter.widget-view+json": {
       "model_id": "d27fbec8d84b4c6494c2019a6bff888a",
       "version_major": 2,
       "version_minor": 0
      },
      "text/plain": [
       "HBox(children=(IntProgress(value=0, max=112711), HTML(value='')))"
      ]
     },
     "metadata": {},
     "output_type": "display_data"
    },
    {
     "name": "stdout",
     "output_type": "stream",
     "text": [
      "pi is fixed\n",
      "A is fixed\n",
      "iteration 0; log likelihood -13705.2080\n",
      "iteration 1; log likelihood -11848.2725\n",
      "iteration 2; log likelihood -11841.6395\n",
      "iteration 3; log likelihood -11833.2879\n",
      "iteration 4; log likelihood -11821.4455\n",
      "iteration 5; log likelihood -11803.1538\n",
      "iteration 6; log likelihood -11773.7284\n",
      "iteration 7; log likelihood -11726.8847\n",
      "iteration 8; log likelihood -11656.7892\n",
      "iteration 9; log likelihood -11561.2381\n",
      "iteration 10; log likelihood -11439.0678\n",
      "iteration 11; log likelihood -11277.2471\n",
      "iteration 12; log likelihood -11050.7091\n",
      "iteration 13; log likelihood -10776.0968\n",
      "iteration 14; log likelihood -10517.3658\n",
      "iteration 15; log likelihood -10301.6329\n",
      "iteration 16; log likelihood -10133.0922\n",
      "iteration 17; log likelihood -10008.5043\n",
      "iteration 18; log likelihood -9919.7107\n",
      "iteration 19; log likelihood -9857.8953\n",
      "iteration 20; log likelihood -9815.1837\n",
      "iteration 21; log likelihood -9785.3924\n",
      "iteration 22; log likelihood -9764.2549\n",
      "iteration 23; log likelihood -9749.0446\n",
      "iteration 24; log likelihood -9737.9540\n",
      "iteration 25; log likelihood -9729.7402\n",
      "iteration 26; log likelihood -9723.5646\n",
      "iteration 27; log likelihood -9718.8545\n",
      "iteration 28; log likelihood -9715.2093\n",
      "iteration 29; log likelihood -9712.3479\n",
      "iteration 30; log likelihood -9710.0719\n",
      "iteration 31; log likelihood -9708.2392\n",
      "iteration 32; log likelihood -9706.7466\n",
      "iteration 33; log likelihood -9705.5178\n",
      "iteration 34; log likelihood -9704.4957\n",
      "iteration 35; log likelihood -9703.6370\n",
      "early stopping previous_llh -9704.495662008525, log_likelihood -9703.637005677969\n"
     ]
    },
    {
     "data": {
      "application/vnd.jupyter.widget-view+json": {
       "model_id": "dd999dc49ba748de916a463862a3adf3",
       "version_major": 2,
       "version_minor": 0
      },
      "text/plain": [
       "HBox(children=(IntProgress(value=0, max=3355), HTML(value='')))"
      ]
     },
     "metadata": {},
     "output_type": "display_data"
    },
    {
     "data": {
      "application/vnd.jupyter.widget-view+json": {
       "model_id": "6b4e4f136cca475bab26951cc4afe964",
       "version_major": 2,
       "version_minor": 0
      },
      "text/plain": [
       "HBox(children=(IntProgress(value=0, max=112711), HTML(value='')))"
      ]
     },
     "metadata": {},
     "output_type": "display_data"
    },
    {
     "name": "stdout",
     "output_type": "stream",
     "text": [
      "pi is fixed\n",
      "A is fixed\n",
      "iteration 0; log likelihood -12480.5012\n",
      "iteration 1; log likelihood -10593.6386\n",
      "iteration 2; log likelihood -10587.8676\n",
      "iteration 3; log likelihood -10580.9174\n",
      "iteration 4; log likelihood -10571.6887\n",
      "iteration 5; log likelihood -10558.5646\n",
      "iteration 6; log likelihood -10539.2178\n",
      "iteration 7; log likelihood -10510.6604\n",
      "iteration 8; log likelihood -10470.0499\n",
      "iteration 9; log likelihood -10416.3295\n",
      "iteration 10; log likelihood -10350.9411\n",
      "iteration 11; log likelihood -10275.9739\n",
      "iteration 12; log likelihood -10189.8666\n",
      "iteration 13; log likelihood -10080.3668\n",
      "iteration 14; log likelihood -9919.3761\n",
      "iteration 15; log likelihood -9688.2474\n",
      "iteration 16; log likelihood -9439.6574\n",
      "iteration 17; log likelihood -9248.3464\n",
      "iteration 18; log likelihood -9119.6599\n",
      "iteration 19; log likelihood -9031.1691\n",
      "iteration 20; log likelihood -8967.3805\n",
      "iteration 21; log likelihood -8921.5795\n",
      "iteration 22; log likelihood -8888.9886\n",
      "iteration 23; log likelihood -8865.4648\n",
      "iteration 24; log likelihood -8848.0728\n",
      "iteration 25; log likelihood -8834.9126\n",
      "iteration 26; log likelihood -8824.7692\n",
      "iteration 27; log likelihood -8816.8398\n",
      "iteration 28; log likelihood -8810.5679\n",
      "iteration 29; log likelihood -8805.5568\n",
      "iteration 30; log likelihood -8801.5176\n",
      "iteration 31; log likelihood -8798.2354\n",
      "iteration 32; log likelihood -8795.5469\n",
      "iteration 33; log likelihood -8793.3265\n",
      "iteration 34; log likelihood -8791.4772\n",
      "iteration 35; log likelihood -8789.9242\n",
      "iteration 36; log likelihood -8788.6093\n",
      "iteration 37; log likelihood -8787.4874\n",
      "iteration 38; log likelihood -8786.5236\n",
      "early stopping previous_llh -8787.487403623083, log_likelihood -8786.523568726414\n"
     ]
    },
    {
     "data": {
      "application/vnd.jupyter.widget-view+json": {
       "model_id": "5dd7808d6944445a88821eecd436b8da",
       "version_major": 2,
       "version_minor": 0
      },
      "text/plain": [
       "HBox(children=(IntProgress(value=0, max=3355), HTML(value='')))"
      ]
     },
     "metadata": {},
     "output_type": "display_data"
    },
    {
     "data": {
      "application/vnd.jupyter.widget-view+json": {
       "model_id": "b38c4f50c4164d73a8bdd34f76dde44c",
       "version_major": 2,
       "version_minor": 0
      },
      "text/plain": [
       "HBox(children=(IntProgress(value=0, max=112711), HTML(value='')))"
      ]
     },
     "metadata": {},
     "output_type": "display_data"
    },
    {
     "name": "stdout",
     "output_type": "stream",
     "text": [
      "pi is fixed\n",
      "A is fixed\n",
      "iteration 0; log likelihood -14837.8593\n",
      "iteration 1; log likelihood -12783.7428\n",
      "iteration 2; log likelihood -12777.8025\n",
      "iteration 3; log likelihood -12771.1514\n",
      "iteration 4; log likelihood -12763.1822\n",
      "iteration 5; log likelihood -12753.0691\n",
      "iteration 6; log likelihood -12739.7189\n",
      "iteration 7; log likelihood -12721.7760\n",
      "iteration 8; log likelihood -12697.6788\n",
      "iteration 9; log likelihood -12665.7051\n",
      "iteration 10; log likelihood -12623.9320\n",
      "iteration 11; log likelihood -12570.0887\n",
      "iteration 12; log likelihood -12501.5040\n",
      "iteration 13; log likelihood -12415.9553\n",
      "iteration 14; log likelihood -12314.4009\n",
      "iteration 15; log likelihood -12203.7880\n",
      "iteration 16; log likelihood -12095.1530\n",
      "iteration 17; log likelihood -11997.7577\n",
      "iteration 18; log likelihood -11915.8322\n",
      "iteration 19; log likelihood -11849.6711\n",
      "iteration 20; log likelihood -11797.6664\n",
      "iteration 21; log likelihood -11757.3767\n",
      "iteration 22; log likelihood -11726.1299\n",
      "iteration 23; log likelihood -11701.5358\n",
      "iteration 24; log likelihood -11681.7652\n",
      "iteration 25; log likelihood -11665.5499\n",
      "iteration 26; log likelihood -11652.0374\n",
      "iteration 27; log likelihood -11640.6385\n",
      "iteration 28; log likelihood -11630.9265\n",
      "iteration 29; log likelihood -11622.5782\n",
      "iteration 30; log likelihood -11615.3387\n",
      "iteration 31; log likelihood -11608.9999\n",
      "iteration 32; log likelihood -11603.3893\n",
      "iteration 33; log likelihood -11598.3633\n",
      "iteration 34; log likelihood -11593.8038\n",
      "iteration 35; log likelihood -11589.6138\n",
      "iteration 36; log likelihood -11585.7145\n",
      "iteration 37; log likelihood -11582.0415\n",
      "iteration 38; log likelihood -11578.5410\n",
      "iteration 39; log likelihood -11575.1684\n",
      "iteration 40; log likelihood -11571.8861\n",
      "iteration 41; log likelihood -11568.6635\n",
      "iteration 42; log likelihood -11565.4766\n",
      "iteration 43; log likelihood -11562.3090\n",
      "iteration 44; log likelihood -11559.1531\n",
      "iteration 45; log likelihood -11556.0115\n",
      "iteration 46; log likelihood -11552.8980\n",
      "iteration 47; log likelihood -11549.8360\n",
      "iteration 48; log likelihood -11546.8548\n",
      "iteration 49; log likelihood -11543.9829\n",
      "iteration 50; log likelihood -11541.2420\n",
      "iteration 51; log likelihood -11538.6439\n",
      "iteration 52; log likelihood -11536.1903\n",
      "iteration 53; log likelihood -11533.8753\n",
      "iteration 54; log likelihood -11531.6894\n",
      "iteration 55; log likelihood -11529.6221\n",
      "iteration 56; log likelihood -11527.6632\n",
      "iteration 57; log likelihood -11525.8039\n",
      "iteration 58; log likelihood -11524.0368\n",
      "iteration 59; log likelihood -11522.3553\n",
      "iteration 60; log likelihood -11520.7540\n",
      "iteration 61; log likelihood -11519.2280\n",
      "iteration 62; log likelihood -11517.7732\n",
      "iteration 63; log likelihood -11516.3864\n",
      "iteration 64; log likelihood -11515.0653\n",
      "iteration 65; log likelihood -11513.8087\n",
      "iteration 66; log likelihood -11512.6165\n",
      "iteration 67; log likelihood -11511.4896\n",
      "iteration 68; log likelihood -11510.4295\n",
      "iteration 69; log likelihood -11509.4383\n",
      "early stopping previous_llh -11510.429511506301, log_likelihood -11509.43829556025\n"
     ]
    },
    {
     "data": {
      "application/vnd.jupyter.widget-view+json": {
       "model_id": "390940e4fbb8437abd1064fab1dc7770",
       "version_major": 2,
       "version_minor": 0
      },
      "text/plain": [
       "HBox(children=(IntProgress(value=0, max=3355), HTML(value='')))"
      ]
     },
     "metadata": {},
     "output_type": "display_data"
    },
    {
     "data": {
      "application/vnd.jupyter.widget-view+json": {
       "model_id": "8914576442fb4cf389336b581842068a",
       "version_major": 2,
       "version_minor": 0
      },
      "text/plain": [
       "HBox(children=(IntProgress(value=0, max=112711), HTML(value='')))"
      ]
     },
     "metadata": {},
     "output_type": "display_data"
    },
    {
     "name": "stdout",
     "output_type": "stream",
     "text": [
      "pi is fixed\n",
      "A is fixed\n",
      "iteration 0; log likelihood -13729.9256\n",
      "iteration 1; log likelihood -11809.0132\n",
      "iteration 2; log likelihood -11802.6181\n",
      "iteration 3; log likelihood -11794.8732\n",
      "iteration 4; log likelihood -11784.0343\n",
      "iteration 5; log likelihood -11767.1446\n",
      "iteration 6; log likelihood -11739.2848\n",
      "iteration 7; log likelihood -11693.1795\n",
      "iteration 8; log likelihood -11620.6387\n",
      "iteration 9; log likelihood -11516.6874\n",
      "iteration 10; log likelihood -11381.0644\n",
      "iteration 11; log likelihood -11207.9902\n",
      "iteration 12; log likelihood -10978.0377\n",
      "iteration 13; log likelihood -10696.0708\n",
      "iteration 14; log likelihood -10423.1127\n",
      "iteration 15; log likelihood -10207.1227\n",
      "iteration 16; log likelihood -10047.4579\n",
      "iteration 17; log likelihood -9928.9044\n",
      "iteration 18; log likelihood -9841.0103\n",
      "iteration 19; log likelihood -9777.0782\n",
      "iteration 20; log likelihood -9731.4415\n",
      "iteration 21; log likelihood -9698.8338\n",
      "iteration 22; log likelihood -9675.2706\n",
      "iteration 23; log likelihood -9658.0849\n",
      "iteration 24; log likelihood -9645.3496\n",
      "iteration 25; log likelihood -9635.7100\n",
      "iteration 26; log likelihood -9628.2904\n",
      "iteration 27; log likelihood -9622.5240\n",
      "iteration 28; log likelihood -9618.0217\n",
      "iteration 29; log likelihood -9614.4982\n",
      "iteration 30; log likelihood -9611.7346\n",
      "iteration 31; log likelihood -9609.5593\n",
      "iteration 32; log likelihood -9607.8375\n",
      "iteration 33; log likelihood -9606.4644\n",
      "iteration 34; log likelihood -9605.3596\n",
      "iteration 35; log likelihood -9604.4625\n",
      "early stopping previous_llh -9605.359631385947, log_likelihood -9604.46248856423\n"
     ]
    },
    {
     "data": {
      "application/vnd.jupyter.widget-view+json": {
       "model_id": "7952ac84c3354f2f996d9158c5716676",
       "version_major": 2,
       "version_minor": 0
      },
      "text/plain": [
       "HBox(children=(IntProgress(value=0, max=3355), HTML(value='')))"
      ]
     },
     "metadata": {},
     "output_type": "display_data"
    },
    {
     "data": {
      "application/vnd.jupyter.widget-view+json": {
       "model_id": "93ebed95471540c7ae480cb5869626ee",
       "version_major": 2,
       "version_minor": 0
      },
      "text/plain": [
       "HBox(children=(IntProgress(value=0, max=112711), HTML(value='')))"
      ]
     },
     "metadata": {},
     "output_type": "display_data"
    },
    {
     "name": "stdout",
     "output_type": "stream",
     "text": [
      "pi is fixed\n",
      "A is fixed\n",
      "iteration 0; log likelihood -12737.8374\n",
      "iteration 1; log likelihood -11061.1956\n",
      "iteration 2; log likelihood -11057.4229\n",
      "iteration 3; log likelihood -11052.7190\n",
      "iteration 4; log likelihood -11046.3560\n",
      "iteration 5; log likelihood -11037.1967\n",
      "iteration 6; log likelihood -11023.4999\n",
      "iteration 7; log likelihood -11002.7742\n",
      "iteration 8; log likelihood -10971.9213\n",
      "iteration 9; log likelihood -10927.9803\n",
      "iteration 10; log likelihood -10869.4095\n",
      "iteration 11; log likelihood -10797.1114\n",
      "iteration 12; log likelihood -10714.3525\n",
      "iteration 13; log likelihood -10625.2570\n",
      "iteration 14; log likelihood -10531.9210\n",
      "iteration 15; log likelihood -10431.4306\n",
      "iteration 16; log likelihood -10316.2443\n",
      "iteration 17; log likelihood -10182.2840\n",
      "iteration 18; log likelihood -10038.9348\n",
      "iteration 19; log likelihood -9900.7254\n",
      "iteration 20; log likelihood -9771.3805\n",
      "iteration 21; log likelihood -9650.0545\n",
      "iteration 22; log likelihood -9542.1647\n",
      "iteration 23; log likelihood -9453.8826\n",
      "iteration 24; log likelihood -9385.5648\n",
      "iteration 25; log likelihood -9335.7578\n",
      "iteration 26; log likelihood -9300.4134\n",
      "iteration 27; log likelihood -9275.0487\n",
      "iteration 28; log likelihood -9256.5712\n",
      "iteration 29; log likelihood -9243.1196\n",
      "iteration 30; log likelihood -9233.4419\n",
      "iteration 31; log likelihood -9226.4877\n",
      "iteration 32; log likelihood -9221.3908\n",
      "iteration 33; log likelihood -9217.5417\n",
      "iteration 34; log likelihood -9214.5617\n",
      "iteration 35; log likelihood -9212.2203\n",
      "iteration 36; log likelihood -9210.3607\n",
      "iteration 37; log likelihood -9208.8628\n",
      "iteration 38; log likelihood -9207.6343\n",
      "iteration 39; log likelihood -9206.6085\n",
      "iteration 40; log likelihood -9205.7389\n",
      "early stopping previous_llh -9206.608535219291, log_likelihood -9205.738873473776\n"
     ]
    },
    {
     "data": {
      "application/vnd.jupyter.widget-view+json": {
       "model_id": "d6ee0e40083049aca32a68709f082065",
       "version_major": 2,
       "version_minor": 0
      },
      "text/plain": [
       "HBox(children=(IntProgress(value=0, max=3355), HTML(value='')))"
      ]
     },
     "metadata": {},
     "output_type": "display_data"
    },
    {
     "data": {
      "application/vnd.jupyter.widget-view+json": {
       "model_id": "b3c2f5523e3a484a8f5c7968e15c08a7",
       "version_major": 2,
       "version_minor": 0
      },
      "text/plain": [
       "HBox(children=(IntProgress(value=0, max=112711), HTML(value='')))"
      ]
     },
     "metadata": {},
     "output_type": "display_data"
    },
    {
     "name": "stdout",
     "output_type": "stream",
     "text": [
      "pi is fixed\n",
      "A is fixed\n",
      "iteration 0; log likelihood -68493.7250\n",
      "iteration 1; log likelihood -55179.6597\n",
      "iteration 2; log likelihood -55172.7958\n",
      "iteration 3; log likelihood -55157.2769\n",
      "iteration 4; log likelihood -55116.0109\n",
      "iteration 5; log likelihood -55001.7870\n",
      "iteration 6; log likelihood -54707.4575\n",
      "iteration 7; log likelihood -54158.9752\n",
      "iteration 8; log likelihood -53501.4779\n",
      "iteration 9; log likelihood -52975.0175\n",
      "iteration 10; log likelihood -52613.5877\n",
      "iteration 11; log likelihood -52348.0721\n",
      "iteration 12; log likelihood -52126.0088\n",
      "iteration 13; log likelihood -51923.1091\n",
      "iteration 14; log likelihood -51728.8637\n",
      "iteration 15; log likelihood -51541.9603\n",
      "iteration 16; log likelihood -51361.4499\n",
      "iteration 17; log likelihood -51189.1731\n",
      "iteration 18; log likelihood -51028.3098\n",
      "iteration 19; log likelihood -50881.4059\n",
      "iteration 20; log likelihood -50750.0113\n",
      "iteration 21; log likelihood -50634.8104\n",
      "iteration 22; log likelihood -50535.7792\n",
      "iteration 23; log likelihood -50452.1626\n",
      "iteration 24; log likelihood -50382.3901\n",
      "iteration 25; log likelihood -50324.2098\n",
      "iteration 26; log likelihood -50275.0390\n",
      "iteration 27; log likelihood -50232.8756\n",
      "iteration 28; log likelihood -50196.9597\n",
      "iteration 29; log likelihood -50166.0645\n",
      "iteration 30; log likelihood -50138.9265\n",
      "iteration 31; log likelihood -50114.8118\n",
      "iteration 32; log likelihood -50093.1943\n",
      "iteration 33; log likelihood -50073.6438\n",
      "iteration 34; log likelihood -50055.7872\n",
      "iteration 35; log likelihood -50039.3066\n",
      "iteration 36; log likelihood -50023.9966\n",
      "iteration 37; log likelihood -50009.7663\n",
      "iteration 38; log likelihood -49996.4654\n",
      "iteration 39; log likelihood -49983.9256\n",
      "iteration 40; log likelihood -49972.2436\n",
      "iteration 41; log likelihood -49961.6137\n",
      "iteration 42; log likelihood -49951.9626\n",
      "iteration 43; log likelihood -49943.1232\n",
      "iteration 44; log likelihood -49934.9508\n",
      "iteration 45; log likelihood -49927.3359\n",
      "iteration 46; log likelihood -49920.2058\n",
      "iteration 47; log likelihood -49913.5215\n",
      "iteration 48; log likelihood -49907.2670\n",
      "iteration 49; log likelihood -49901.4303\n",
      "iteration 50; log likelihood -49895.9429\n",
      "iteration 51; log likelihood -49890.1242\n",
      "iteration 52; log likelihood -49883.4017\n",
      "iteration 53; log likelihood -49877.9142\n",
      "iteration 54; log likelihood -49872.4780\n",
      "iteration 55; log likelihood -49866.5198\n",
      "iteration 56; log likelihood -49860.4608\n",
      "iteration 57; log likelihood -49855.1457\n",
      "iteration 58; log likelihood -49850.5842\n",
      "iteration 59; log likelihood -49846.3608\n",
      "iteration 60; log likelihood -49842.4922\n",
      "iteration 61; log likelihood -49838.9662\n",
      "iteration 62; log likelihood -49835.6454\n",
      "iteration 63; log likelihood -49832.4862\n",
      "iteration 64; log likelihood -49829.5221\n",
      "iteration 65; log likelihood -49826.7672\n",
      "iteration 66; log likelihood -49824.2088\n",
      "iteration 67; log likelihood -49821.8312\n",
      "iteration 68; log likelihood -49819.6210\n",
      "iteration 69; log likelihood -49817.5651\n",
      "iteration 70; log likelihood -49815.6483\n",
      "iteration 71; log likelihood -49813.8520\n",
      "iteration 72; log likelihood -49812.1514\n",
      "iteration 73; log likelihood -49810.5087\n",
      "iteration 74; log likelihood -49808.8642\n",
      "iteration 75; log likelihood -49807.1720\n",
      "iteration 76; log likelihood -49805.4832\n",
      "iteration 77; log likelihood -49803.8003\n",
      "iteration 78; log likelihood -49801.8513\n",
      "iteration 79; log likelihood -49799.1107\n",
      "iteration 80; log likelihood -49795.2284\n",
      "iteration 81; log likelihood -49791.0924\n",
      "iteration 82; log likelihood -49787.9841\n",
      "iteration 83; log likelihood -49785.8335\n",
      "iteration 84; log likelihood -49784.1394\n",
      "iteration 85; log likelihood -49782.6514\n",
      "iteration 86; log likelihood -49781.2757\n",
      "iteration 87; log likelihood -49779.9732\n",
      "iteration 88; log likelihood -49778.7235\n",
      "iteration 89; log likelihood -49777.5142\n",
      "iteration 90; log likelihood -49776.3361\n",
      "iteration 91; log likelihood -49775.1827\n",
      "iteration 92; log likelihood -49774.0487\n",
      "iteration 93; log likelihood -49772.9302\n",
      "iteration 94; log likelihood -49771.8244\n",
      "iteration 95; log likelihood -49770.7291\n",
      "iteration 96; log likelihood -49769.6432\n",
      "iteration 97; log likelihood -49768.5656\n",
      "iteration 98; log likelihood -49767.4960\n",
      "iteration 99; log likelihood -49766.4342\n"
     ]
    },
    {
     "data": {
      "application/vnd.jupyter.widget-view+json": {
       "model_id": "9ed51c35d5264cc998ffa66a506bbd9e",
       "version_major": 2,
       "version_minor": 0
      },
      "text/plain": [
       "HBox(children=(IntProgress(value=0, max=2755), HTML(value='')))"
      ]
     },
     "metadata": {},
     "output_type": "display_data"
    },
    {
     "data": {
      "application/vnd.jupyter.widget-view+json": {
       "model_id": "51f0d02b281241b2984aecd9011dd750",
       "version_major": 2,
       "version_minor": 0
      },
      "text/plain": [
       "HBox(children=(IntProgress(value=0, max=8292), HTML(value='')))"
      ]
     },
     "metadata": {},
     "output_type": "display_data"
    },
    {
     "data": {
      "application/vnd.jupyter.widget-view+json": {
       "model_id": "ac4d2740c28b4a0dbaaed9a8d26cd9d5",
       "version_major": 2,
       "version_minor": 0
      },
      "text/plain": [
       "HBox(children=(IntProgress(value=0, max=10337), HTML(value='')))"
      ]
     },
     "metadata": {},
     "output_type": "display_data"
    },
    {
     "data": {
      "application/vnd.jupyter.widget-view+json": {
       "model_id": "2b74ac3f1d1b45708f3dba62caae9d62",
       "version_major": 2,
       "version_minor": 0
      },
      "text/plain": [
       "HBox(children=(IntProgress(value=0, max=5584), HTML(value='')))"
      ]
     },
     "metadata": {},
     "output_type": "display_data"
    },
    {
     "data": {
      "application/vnd.jupyter.widget-view+json": {
       "model_id": "86102e70ccc641b18017b105674ea51a",
       "version_major": 2,
       "version_minor": 0
      },
      "text/plain": [
       "HBox(children=(IntProgress(value=0, max=3009), HTML(value='')))"
      ]
     },
     "metadata": {},
     "output_type": "display_data"
    },
    {
     "name": "stdout",
     "output_type": "stream",
     "text": [
      "pi is fixed\n",
      "A is fixed\n",
      "iteration 0; log likelihood -102906.7636\n",
      "iteration 1; log likelihood -88249.5450\n",
      "iteration 2; log likelihood -88247.3621\n",
      "iteration 3; log likelihood -88244.2836\n",
      "iteration 4; log likelihood -88239.3819\n",
      "iteration 5; log likelihood -88230.9761\n",
      "iteration 6; log likelihood -88215.8815\n",
      "iteration 7; log likelihood -88187.9446\n",
      "iteration 8; log likelihood -88135.2188\n",
      "iteration 9; log likelihood -88034.8935\n",
      "iteration 10; log likelihood -87845.8708\n",
      "iteration 11; log likelihood -87504.0751\n",
      "iteration 12; log likelihood -86939.6162\n",
      "iteration 13; log likelihood -86141.5114\n",
      "iteration 14; log likelihood -85226.8463\n",
      "iteration 15; log likelihood -84378.2287\n",
      "iteration 16; log likelihood -83697.9058\n",
      "iteration 17; log likelihood -83184.7163\n",
      "iteration 18; log likelihood -82798.8785\n",
      "iteration 19; log likelihood -82502.3741\n",
      "iteration 20; log likelihood -82267.3872\n",
      "iteration 21; log likelihood -82074.8207\n",
      "iteration 22; log likelihood -81911.8596\n",
      "iteration 23; log likelihood -81770.0721\n",
      "iteration 24; log likelihood -81644.0153\n",
      "iteration 25; log likelihood -81530.2243\n",
      "iteration 26; log likelihood -81426.5092\n",
      "iteration 27; log likelihood -81331.4881\n",
      "iteration 28; log likelihood -81244.2790\n",
      "iteration 29; log likelihood -81164.2844\n",
      "iteration 30; log likelihood -81091.0276\n",
      "iteration 31; log likelihood -81024.0285\n",
      "iteration 32; log likelihood -80962.7277\n",
      "iteration 33; log likelihood -80906.4770\n",
      "iteration 34; log likelihood -80854.5928\n",
      "iteration 35; log likelihood -80806.4338\n",
      "iteration 36; log likelihood -80761.5111\n",
      "iteration 37; log likelihood -80719.6199\n",
      "iteration 38; log likelihood -80680.8651\n",
      "iteration 39; log likelihood -80645.5159\n",
      "iteration 40; log likelihood -80613.7884\n",
      "iteration 41; log likelihood -80585.7031\n",
      "iteration 42; log likelihood -80561.0741\n",
      "iteration 43; log likelihood -80539.5808\n",
      "iteration 44; log likelihood -80520.8512\n",
      "iteration 45; log likelihood -80504.5179\n",
      "iteration 46; log likelihood -80490.2454\n",
      "iteration 47; log likelihood -80477.7371\n",
      "iteration 48; log likelihood -80466.7340\n",
      "iteration 49; log likelihood -80457.0117\n",
      "iteration 50; log likelihood -80448.3766\n",
      "iteration 51; log likelihood -80440.6615\n",
      "iteration 52; log likelihood -80433.7217\n",
      "iteration 53; log likelihood -80427.4297\n",
      "iteration 54; log likelihood -80421.6752\n",
      "iteration 55; log likelihood -80416.3702\n",
      "iteration 56; log likelihood -80411.4622\n",
      "iteration 57; log likelihood -80406.9377\n",
      "iteration 58; log likelihood -80402.7963\n",
      "iteration 59; log likelihood -80399.0182\n",
      "iteration 60; log likelihood -80395.5599\n",
      "iteration 61; log likelihood -80392.3730\n",
      "iteration 62; log likelihood -80389.4170\n",
      "iteration 63; log likelihood -80386.6607\n",
      "iteration 64; log likelihood -80384.0798\n",
      "iteration 65; log likelihood -80381.6541\n",
      "iteration 66; log likelihood -80379.3663\n",
      "iteration 67; log likelihood -80377.2010\n",
      "iteration 68; log likelihood -80375.1443\n",
      "iteration 69; log likelihood -80373.1832\n",
      "iteration 70; log likelihood -80371.3059\n",
      "iteration 71; log likelihood -80369.5009\n",
      "iteration 72; log likelihood -80367.7574\n",
      "iteration 73; log likelihood -80366.0647\n",
      "iteration 74; log likelihood -80364.4122\n",
      "iteration 75; log likelihood -80362.7895\n",
      "iteration 76; log likelihood -80361.1865\n",
      "iteration 77; log likelihood -80359.5936\n",
      "iteration 78; log likelihood -80358.0025\n",
      "iteration 79; log likelihood -80356.4065\n",
      "iteration 80; log likelihood -80354.8006\n",
      "iteration 81; log likelihood -80353.1813\n",
      "iteration 82; log likelihood -80351.5450\n",
      "iteration 83; log likelihood -80349.8868\n",
      "iteration 84; log likelihood -80348.1989\n",
      "iteration 85; log likelihood -80346.4699\n",
      "iteration 86; log likelihood -80344.6845\n",
      "iteration 87; log likelihood -80342.8243\n",
      "iteration 88; log likelihood -80340.8668\n",
      "iteration 89; log likelihood -80338.7860\n",
      "iteration 90; log likelihood -80336.5514\n",
      "iteration 91; log likelihood -80334.1270\n",
      "iteration 92; log likelihood -80331.4704\n",
      "iteration 93; log likelihood -80328.5309\n",
      "iteration 94; log likelihood -80325.2487\n",
      "iteration 95; log likelihood -80321.5535\n",
      "iteration 96; log likelihood -80317.3644\n",
      "iteration 97; log likelihood -80312.5920\n",
      "iteration 98; log likelihood -80307.1435\n",
      "iteration 99; log likelihood -80300.9342\n"
     ]
    },
    {
     "data": {
      "application/vnd.jupyter.widget-view+json": {
       "model_id": "4beb47455cbe45f59b423fe8b8ee80e1",
       "version_major": 2,
       "version_minor": 0
      },
      "text/plain": [
       "HBox(children=(IntProgress(value=0, max=3355), HTML(value='')))"
      ]
     },
     "metadata": {},
     "output_type": "display_data"
    },
    {
     "data": {
      "application/vnd.jupyter.widget-view+json": {
       "model_id": "287ccb77dffe4991a31b2369f59ebcc9",
       "version_major": 2,
       "version_minor": 0
      },
      "text/plain": [
       "HBox(children=(IntProgress(value=0, max=112711), HTML(value='')))"
      ]
     },
     "metadata": {},
     "output_type": "display_data"
    },
    {
     "name": "stdout",
     "output_type": "stream",
     "text": [
      "pi is fixed\n",
      "A is fixed\n",
      "iteration 0; log likelihood -11932.9716\n",
      "iteration 1; log likelihood -10337.4681\n",
      "iteration 2; log likelihood -10332.1983\n",
      "iteration 3; log likelihood -10325.9231\n",
      "iteration 4; log likelihood -10317.4389\n",
      "iteration 5; log likelihood -10304.7444\n",
      "iteration 6; log likelihood -10284.5684\n",
      "iteration 7; log likelihood -10252.1070\n",
      "iteration 8; log likelihood -10201.8049\n",
      "iteration 9; log likelihood -10129.9706\n",
      "iteration 10; log likelihood -10037.5241\n",
      "iteration 11; log likelihood -9927.2488\n",
      "iteration 12; log likelihood -9792.2112\n",
      "iteration 13; log likelihood -9608.2927\n",
      "iteration 14; log likelihood -9374.2581\n",
      "iteration 15; log likelihood -9147.0671\n",
      "iteration 16; log likelihood -8963.7301\n",
      "iteration 17; log likelihood -8826.1227\n",
      "iteration 18; log likelihood -8723.8680\n",
      "iteration 19; log likelihood -8646.3163\n",
      "iteration 20; log likelihood -8587.4953\n",
      "iteration 21; log likelihood -8544.0375\n",
      "iteration 22; log likelihood -8513.6085\n",
      "iteration 23; log likelihood -8492.7755\n",
      "iteration 24; log likelihood -8478.4229\n",
      "iteration 25; log likelihood -8468.4058\n",
      "iteration 26; log likelihood -8461.2859\n",
      "iteration 27; log likelihood -8456.1184\n",
      "iteration 28; log likelihood -8452.2895\n",
      "iteration 29; log likelihood -8449.3983\n",
      "iteration 30; log likelihood -8447.1791\n",
      "iteration 31; log likelihood -8445.4522\n",
      "iteration 32; log likelihood -8444.0921\n",
      "iteration 33; log likelihood -8443.0090\n",
      "iteration 34; log likelihood -8442.1374\n",
      "early stopping previous_llh -8443.009043929456, log_likelihood -8442.137352532327\n"
     ]
    },
    {
     "data": {
      "application/vnd.jupyter.widget-view+json": {
       "model_id": "2b8c35cd845f421e98d2ae6124d92efc",
       "version_major": 2,
       "version_minor": 0
      },
      "text/plain": [
       "HBox(children=(IntProgress(value=0, max=3355), HTML(value='')))"
      ]
     },
     "metadata": {},
     "output_type": "display_data"
    },
    {
     "data": {
      "application/vnd.jupyter.widget-view+json": {
       "model_id": "ebf7bfc897a74428a10a17ce4344f4d9",
       "version_major": 2,
       "version_minor": 0
      },
      "text/plain": [
       "HBox(children=(IntProgress(value=0, max=112711), HTML(value='')))"
      ]
     },
     "metadata": {},
     "output_type": "display_data"
    },
    {
     "name": "stdout",
     "output_type": "stream",
     "text": [
      "pi is fixed\n",
      "A is fixed\n",
      "iteration 0; log likelihood -6877.0256\n",
      "iteration 1; log likelihood -5746.7081\n",
      "iteration 2; log likelihood -5735.5798\n",
      "iteration 3; log likelihood -5718.3344\n",
      "iteration 4; log likelihood -5684.9262\n",
      "iteration 5; log likelihood -5621.3674\n",
      "iteration 6; log likelihood -5517.8739\n",
      "iteration 7; log likelihood -5383.1503\n",
      "iteration 8; log likelihood -5258.7231\n",
      "iteration 9; log likelihood -5169.9028\n",
      "iteration 10; log likelihood -5108.5900\n",
      "iteration 11; log likelihood -5062.4312\n",
      "iteration 12; log likelihood -5024.7205\n",
      "iteration 13; log likelihood -4992.2868\n",
      "iteration 14; log likelihood -4963.7202\n",
      "iteration 15; log likelihood -4938.8378\n",
      "iteration 16; log likelihood -4917.8362\n",
      "iteration 17; log likelihood -4900.1457\n",
      "iteration 18; log likelihood -4885.3217\n",
      "iteration 19; log likelihood -4873.0294\n",
      "iteration 20; log likelihood -4862.8626\n",
      "iteration 21; log likelihood -4854.3970\n",
      "iteration 22; log likelihood -4847.3115\n",
      "iteration 23; log likelihood -4841.3946\n",
      "iteration 24; log likelihood -4836.4845\n",
      "iteration 25; log likelihood -4832.4216\n",
      "iteration 26; log likelihood -4829.0487\n",
      "iteration 27; log likelihood -4826.2284\n",
      "iteration 28; log likelihood -4823.8511\n",
      "iteration 29; log likelihood -4821.8316\n",
      "iteration 30; log likelihood -4820.1035\n",
      "iteration 31; log likelihood -4818.6144\n",
      "iteration 32; log likelihood -4817.3218\n",
      "iteration 33; log likelihood -4816.1915\n",
      "iteration 34; log likelihood -4815.1956\n",
      "early stopping previous_llh -4816.191522005388, log_likelihood -4815.195600670611\n"
     ]
    },
    {
     "data": {
      "application/vnd.jupyter.widget-view+json": {
       "model_id": "28b7463f3a294f5781acc8a682a3431e",
       "version_major": 2,
       "version_minor": 0
      },
      "text/plain": [
       "HBox(children=(IntProgress(value=0, max=2755), HTML(value='')))"
      ]
     },
     "metadata": {},
     "output_type": "display_data"
    },
    {
     "data": {
      "application/vnd.jupyter.widget-view+json": {
       "model_id": "560a416c835e4e5b94f00389a34ad4be",
       "version_major": 2,
       "version_minor": 0
      },
      "text/plain": [
       "HBox(children=(IntProgress(value=0, max=8292), HTML(value='')))"
      ]
     },
     "metadata": {},
     "output_type": "display_data"
    },
    {
     "data": {
      "application/vnd.jupyter.widget-view+json": {
       "model_id": "b7753e89519940a98cea463a9c069a93",
       "version_major": 2,
       "version_minor": 0
      },
      "text/plain": [
       "HBox(children=(IntProgress(value=0, max=10337), HTML(value='')))"
      ]
     },
     "metadata": {},
     "output_type": "display_data"
    },
    {
     "data": {
      "application/vnd.jupyter.widget-view+json": {
       "model_id": "e44eac4d68374db7b433aeec67c9982d",
       "version_major": 2,
       "version_minor": 0
      },
      "text/plain": [
       "HBox(children=(IntProgress(value=0, max=5584), HTML(value='')))"
      ]
     },
     "metadata": {},
     "output_type": "display_data"
    },
    {
     "data": {
      "application/vnd.jupyter.widget-view+json": {
       "model_id": "61ab346cd5004027b1e35a19d0ffe487",
       "version_major": 2,
       "version_minor": 0
      },
      "text/plain": [
       "HBox(children=(IntProgress(value=0, max=3009), HTML(value='')))"
      ]
     },
     "metadata": {},
     "output_type": "display_data"
    },
    {
     "name": "stdout",
     "output_type": "stream",
     "text": [
      "pi is fixed\n",
      "A is fixed\n",
      "iteration 0; log likelihood -8788.4252\n",
      "iteration 1; log likelihood -7340.6976\n",
      "iteration 2; log likelihood -7321.4028\n",
      "iteration 3; log likelihood -7298.4827\n",
      "iteration 4; log likelihood -7265.2406\n",
      "iteration 5; log likelihood -7194.3083\n",
      "iteration 6; log likelihood -7066.5047\n",
      "iteration 7; log likelihood -6897.7571\n",
      "iteration 8; log likelihood -6736.8828\n",
      "iteration 9; log likelihood -6617.7761\n",
      "iteration 10; log likelihood -6534.1462\n",
      "iteration 11; log likelihood -6469.9811\n",
      "iteration 12; log likelihood -6417.7706\n",
      "iteration 13; log likelihood -6374.4633\n",
      "iteration 14; log likelihood -6338.0901\n",
      "iteration 15; log likelihood -6307.0087\n",
      "iteration 16; log likelihood -6279.9991\n",
      "iteration 17; log likelihood -6256.3889\n",
      "iteration 18; log likelihood -6235.7407\n",
      "iteration 19; log likelihood -6217.7181\n",
      "iteration 20; log likelihood -6202.0668\n",
      "iteration 21; log likelihood -6188.6183\n",
      "iteration 22; log likelihood -6177.2454\n",
      "iteration 23; log likelihood -6167.7927\n",
      "iteration 24; log likelihood -6160.0975\n",
      "iteration 25; log likelihood -6153.9401\n",
      "iteration 26; log likelihood -6149.0069\n",
      "iteration 27; log likelihood -6145.0093\n",
      "iteration 28; log likelihood -6141.7292\n",
      "iteration 29; log likelihood -6139.0048\n",
      "iteration 30; log likelihood -6136.7165\n",
      "iteration 31; log likelihood -6134.7766\n",
      "iteration 32; log likelihood -6133.1208\n",
      "iteration 33; log likelihood -6131.7002\n",
      "iteration 34; log likelihood -6130.4763\n",
      "iteration 35; log likelihood -6129.4181\n",
      "iteration 36; log likelihood -6128.5008\n",
      "early stopping previous_llh -6129.418148093984, log_likelihood -6128.500786323592\n"
     ]
    },
    {
     "data": {
      "application/vnd.jupyter.widget-view+json": {
       "model_id": "fac4465d89f14a82b3670054513a7c71",
       "version_major": 2,
       "version_minor": 0
      },
      "text/plain": [
       "HBox(children=(IntProgress(value=0, max=2755), HTML(value='')))"
      ]
     },
     "metadata": {},
     "output_type": "display_data"
    },
    {
     "data": {
      "application/vnd.jupyter.widget-view+json": {
       "model_id": "b781ac8a5b164fc1a93c4b7f763f0cd8",
       "version_major": 2,
       "version_minor": 0
      },
      "text/plain": [
       "HBox(children=(IntProgress(value=0, max=8292), HTML(value='')))"
      ]
     },
     "metadata": {},
     "output_type": "display_data"
    },
    {
     "data": {
      "application/vnd.jupyter.widget-view+json": {
       "model_id": "4d11ff33295447a1ba2e897f7867deaa",
       "version_major": 2,
       "version_minor": 0
      },
      "text/plain": [
       "HBox(children=(IntProgress(value=0, max=10337), HTML(value='')))"
      ]
     },
     "metadata": {},
     "output_type": "display_data"
    },
    {
     "data": {
      "application/vnd.jupyter.widget-view+json": {
       "model_id": "d276e2d598e244d59ca1ee3b3a1c6b2d",
       "version_major": 2,
       "version_minor": 0
      },
      "text/plain": [
       "HBox(children=(IntProgress(value=0, max=5584), HTML(value='')))"
      ]
     },
     "metadata": {},
     "output_type": "display_data"
    },
    {
     "data": {
      "application/vnd.jupyter.widget-view+json": {
       "model_id": "97029ec6589045fea2c50a4a1aa31fb9",
       "version_major": 2,
       "version_minor": 0
      },
      "text/plain": [
       "HBox(children=(IntProgress(value=0, max=3009), HTML(value='')))"
      ]
     },
     "metadata": {},
     "output_type": "display_data"
    },
    {
     "name": "stdout",
     "output_type": "stream",
     "text": [
      "pi is fixed\n",
      "A is fixed\n",
      "iteration 0; log likelihood -11702.8054\n",
      "iteration 1; log likelihood -10142.4481\n",
      "iteration 2; log likelihood -10137.9702\n",
      "iteration 3; log likelihood -10131.9705\n",
      "iteration 4; log likelihood -10122.7814\n",
      "iteration 5; log likelihood -10107.3488\n",
      "iteration 6; log likelihood -10080.4039\n",
      "iteration 7; log likelihood -10034.3464\n",
      "iteration 8; log likelihood -9961.7098\n",
      "iteration 9; log likelihood -9859.0630\n",
      "iteration 10; log likelihood -9724.3240\n",
      "iteration 11; log likelihood -9551.0193\n",
      "iteration 12; log likelihood -9346.1990\n",
      "iteration 13; log likelihood -9148.6033\n",
      "iteration 14; log likelihood -8988.4201\n",
      "iteration 15; log likelihood -8862.5820\n",
      "iteration 16; log likelihood -8760.2554\n",
      "iteration 17; log likelihood -8676.0504\n",
      "iteration 18; log likelihood -8608.3175\n",
      "iteration 19; log likelihood -8556.0111\n",
      "iteration 20; log likelihood -8516.9892\n",
      "iteration 21; log likelihood -8488.3630\n",
      "iteration 22; log likelihood -8467.3379\n",
      "iteration 23; log likelihood -8451.6268\n",
      "iteration 24; log likelihood -8439.5639\n",
      "iteration 25; log likelihood -8429.9851\n",
      "iteration 26; log likelihood -8422.1112\n",
      "iteration 27; log likelihood -8415.4439\n",
      "iteration 28; log likelihood -8409.6519\n",
      "iteration 29; log likelihood -8404.5522\n",
      "iteration 30; log likelihood -8400.1369\n",
      "iteration 31; log likelihood -8396.4547\n",
      "iteration 32; log likelihood -8393.4710\n",
      "iteration 33; log likelihood -8391.0732\n",
      "iteration 34; log likelihood -8389.1363\n",
      "iteration 35; log likelihood -8387.5577\n",
      "iteration 36; log likelihood -8386.2604\n",
      "iteration 37; log likelihood -8385.1873\n",
      "iteration 38; log likelihood -8384.2950\n",
      "early stopping previous_llh -8385.187347324632, log_likelihood -8384.294997013028\n"
     ]
    },
    {
     "data": {
      "application/vnd.jupyter.widget-view+json": {
       "model_id": "cefb33db99a840938c835986e6c99c37",
       "version_major": 2,
       "version_minor": 0
      },
      "text/plain": [
       "HBox(children=(IntProgress(value=0, max=3355), HTML(value='')))"
      ]
     },
     "metadata": {},
     "output_type": "display_data"
    },
    {
     "data": {
      "application/vnd.jupyter.widget-view+json": {
       "model_id": "38724ca519804f158da7ee7b08a5141d",
       "version_major": 2,
       "version_minor": 0
      },
      "text/plain": [
       "HBox(children=(IntProgress(value=0, max=112711), HTML(value='')))"
      ]
     },
     "metadata": {},
     "output_type": "display_data"
    },
    {
     "name": "stdout",
     "output_type": "stream",
     "text": [
      "pi is fixed\n",
      "A is fixed\n",
      "iteration 0; log likelihood -135886.5083\n",
      "iteration 1; log likelihood -110053.4195\n",
      "iteration 2; log likelihood -110049.2076\n",
      "iteration 3; log likelihood -110042.0268\n",
      "iteration 4; log likelihood -110026.3948\n",
      "iteration 5; log likelihood -109985.8129\n",
      "iteration 6; log likelihood -109868.3229\n",
      "iteration 7; log likelihood -109517.5102\n",
      "iteration 8; log likelihood -108600.0966\n",
      "iteration 9; log likelihood -106790.4374\n",
      "iteration 10; log likelihood -104230.2367\n",
      "iteration 11; log likelihood -101662.4960\n",
      "iteration 12; log likelihood -99644.5388\n",
      "iteration 13; log likelihood -98188.4015\n",
      "iteration 14; log likelihood -97037.3349\n",
      "iteration 15; log likelihood -96024.0816\n",
      "iteration 16; log likelihood -95113.7524\n",
      "iteration 17; log likelihood -94302.2248\n",
      "iteration 18; log likelihood -93576.6417\n",
      "iteration 19; log likelihood -92912.6946\n",
      "iteration 20; log likelihood -92296.2748\n",
      "iteration 21; log likelihood -91736.1191\n",
      "iteration 22; log likelihood -91250.7358\n",
      "iteration 23; log likelihood -90851.6498\n",
      "iteration 24; log likelihood -90537.3879\n",
      "iteration 25; log likelihood -90296.3515\n",
      "iteration 26; log likelihood -90113.5294\n",
      "iteration 27; log likelihood -89975.2895\n",
      "iteration 28; log likelihood -89870.5114\n",
      "iteration 29; log likelihood -89790.8129\n",
      "iteration 30; log likelihood -89729.6702\n",
      "iteration 31; log likelihood -89682.1158\n",
      "iteration 32; log likelihood -89644.6018\n",
      "iteration 33; log likelihood -89614.5866\n",
      "iteration 34; log likelihood -89590.2316\n",
      "iteration 35; log likelihood -89570.2004\n",
      "iteration 36; log likelihood -89553.5153\n",
      "iteration 37; log likelihood -89539.4411\n",
      "iteration 38; log likelihood -89527.3640\n",
      "iteration 39; log likelihood -89516.7561\n",
      "iteration 40; log likelihood -89507.4795\n",
      "iteration 41; log likelihood -89499.5549\n",
      "iteration 42; log likelihood -89492.7482\n",
      "iteration 43; log likelihood -89486.8412\n",
      "iteration 44; log likelihood -89481.6893\n",
      "iteration 45; log likelihood -89477.1870\n",
      "iteration 46; log likelihood -89473.2508\n",
      "iteration 47; log likelihood -89469.8115\n",
      "iteration 48; log likelihood -89466.8085\n",
      "iteration 49; log likelihood -89464.1880\n",
      "iteration 50; log likelihood -89461.9004\n",
      "iteration 51; log likelihood -89459.8975\n",
      "iteration 52; log likelihood -89458.1038\n",
      "iteration 53; log likelihood -89456.2285\n",
      "iteration 54; log likelihood -89453.2156\n",
      "iteration 55; log likelihood -89449.5503\n",
      "iteration 56; log likelihood -89447.7100\n",
      "iteration 57; log likelihood -89446.4417\n",
      "iteration 58; log likelihood -89445.3408\n",
      "iteration 59; log likelihood -89444.4361\n",
      "early stopping previous_llh -89445.34084082455, log_likelihood -89444.43613283019\n"
     ]
    },
    {
     "data": {
      "application/vnd.jupyter.widget-view+json": {
       "model_id": "4e8513d2f09e44e492ea6f76926f1f17",
       "version_major": 2,
       "version_minor": 0
      },
      "text/plain": [
       "HBox(children=(IntProgress(value=0, max=2755), HTML(value='')))"
      ]
     },
     "metadata": {},
     "output_type": "display_data"
    },
    {
     "data": {
      "application/vnd.jupyter.widget-view+json": {
       "model_id": "69d9449921d5419188701298b05d22c2",
       "version_major": 2,
       "version_minor": 0
      },
      "text/plain": [
       "HBox(children=(IntProgress(value=0, max=8292), HTML(value='')))"
      ]
     },
     "metadata": {},
     "output_type": "display_data"
    },
    {
     "data": {
      "application/vnd.jupyter.widget-view+json": {
       "model_id": "fb8ea57d5c6447e7b7c7d09ff9568727",
       "version_major": 2,
       "version_minor": 0
      },
      "text/plain": [
       "HBox(children=(IntProgress(value=0, max=10337), HTML(value='')))"
      ]
     },
     "metadata": {},
     "output_type": "display_data"
    },
    {
     "data": {
      "application/vnd.jupyter.widget-view+json": {
       "model_id": "ac59f5a7f00f42f3a5cffae485995095",
       "version_major": 2,
       "version_minor": 0
      },
      "text/plain": [
       "HBox(children=(IntProgress(value=0, max=5584), HTML(value='')))"
      ]
     },
     "metadata": {},
     "output_type": "display_data"
    },
    {
     "data": {
      "application/vnd.jupyter.widget-view+json": {
       "model_id": "9574aacbc05c480ab955acc7a9d844a8",
       "version_major": 2,
       "version_minor": 0
      },
      "text/plain": [
       "HBox(children=(IntProgress(value=0, max=3009), HTML(value='')))"
      ]
     },
     "metadata": {},
     "output_type": "display_data"
    },
    {
     "name": "stdout",
     "output_type": "stream",
     "text": [
      "pi is fixed\n",
      "A is fixed\n",
      "iteration 0; log likelihood -13149.1760\n",
      "iteration 1; log likelihood -11321.8737\n",
      "iteration 2; log likelihood -11317.3106\n",
      "iteration 3; log likelihood -11311.3996\n",
      "iteration 4; log likelihood -11302.8241\n",
      "iteration 5; log likelihood -11289.3074\n",
      "iteration 6; log likelihood -11267.0342\n",
      "iteration 7; log likelihood -11230.2972\n",
      "iteration 8; log likelihood -11172.3079\n",
      "iteration 9; log likelihood -11087.4798\n",
      "iteration 10; log likelihood -10971.7780\n",
      "iteration 11; log likelihood -10816.9160\n",
      "iteration 12; log likelihood -10609.8689\n",
      "iteration 13; log likelihood -10363.7416\n",
      "iteration 14; log likelihood -10128.7075\n",
      "iteration 15; log likelihood -9933.2499\n",
      "iteration 16; log likelihood -9780.8185\n",
      "iteration 17; log likelihood -9668.6153\n",
      "iteration 18; log likelihood -9587.1560\n",
      "iteration 19; log likelihood -9526.6115\n",
      "iteration 20; log likelihood -9480.7711\n",
      "iteration 21; log likelihood -9446.6074\n",
      "iteration 22; log likelihood -9421.6334\n",
      "iteration 23; log likelihood -9402.8560\n",
      "iteration 24; log likelihood -9388.0990\n",
      "iteration 25; log likelihood -9376.3178\n",
      "iteration 26; log likelihood -9367.1766\n",
      "iteration 27; log likelihood -9360.1926\n",
      "iteration 28; log likelihood -9354.8206\n",
      "iteration 29; log likelihood -9350.6422\n",
      "iteration 30; log likelihood -9347.3544\n",
      "iteration 31; log likelihood -9344.7372\n",
      "iteration 32; log likelihood -9342.6301\n",
      "iteration 33; log likelihood -9340.9164\n",
      "iteration 34; log likelihood -9339.5104\n",
      "iteration 35; log likelihood -9338.3480\n",
      "iteration 36; log likelihood -9337.3810\n",
      "early stopping previous_llh -9338.348042391644, log_likelihood -9337.381023638096\n"
     ]
    },
    {
     "data": {
      "application/vnd.jupyter.widget-view+json": {
       "model_id": "effeec0232954969b97f65be32867855",
       "version_major": 2,
       "version_minor": 0
      },
      "text/plain": [
       "HBox(children=(IntProgress(value=0, max=3355), HTML(value='')))"
      ]
     },
     "metadata": {},
     "output_type": "display_data"
    },
    {
     "data": {
      "application/vnd.jupyter.widget-view+json": {
       "model_id": "676278d2b39c4bdba42fc861c39df1b8",
       "version_major": 2,
       "version_minor": 0
      },
      "text/plain": [
       "HBox(children=(IntProgress(value=0, max=112711), HTML(value='')))"
      ]
     },
     "metadata": {},
     "output_type": "display_data"
    },
    {
     "name": "stdout",
     "output_type": "stream",
     "text": [
      "pi is fixed\n",
      "A is fixed\n",
      "iteration 0; log likelihood -13369.7040\n",
      "iteration 1; log likelihood -11469.6012\n",
      "iteration 2; log likelihood -11464.5841\n",
      "iteration 3; log likelihood -11459.1658\n",
      "iteration 4; log likelihood -11452.7686\n",
      "iteration 5; log likelihood -11444.5820\n",
      "iteration 6; log likelihood -11433.4199\n",
      "iteration 7; log likelihood -11417.5642\n",
      "iteration 8; log likelihood -11394.6746\n",
      "iteration 9; log likelihood -11361.9243\n",
      "iteration 10; log likelihood -11316.5335\n",
      "iteration 11; log likelihood -11256.6169\n",
      "iteration 12; log likelihood -11181.6957\n",
      "iteration 13; log likelihood -11091.4112\n",
      "iteration 14; log likelihood -10980.7682\n",
      "iteration 15; log likelihood -10834.8064\n",
      "iteration 16; log likelihood -10638.2712\n",
      "iteration 17; log likelihood -10402.9147\n",
      "iteration 18; log likelihood -10170.8009\n",
      "iteration 19; log likelihood -9981.6759\n",
      "iteration 20; log likelihood -9843.8332\n",
      "iteration 21; log likelihood -9745.7860\n",
      "iteration 22; log likelihood -9675.4372\n",
      "iteration 23; log likelihood -9624.9953\n",
      "iteration 24; log likelihood -9589.0878\n",
      "iteration 25; log likelihood -9563.4780\n",
      "iteration 26; log likelihood -9544.9487\n",
      "iteration 27; log likelihood -9531.2751\n",
      "iteration 28; log likelihood -9521.0062\n",
      "iteration 29; log likelihood -9513.1763\n",
      "iteration 30; log likelihood -9507.1125\n",
      "iteration 31; log likelihood -9502.3425\n",
      "iteration 32; log likelihood -9498.5365\n",
      "iteration 33; log likelihood -9495.4641\n",
      "iteration 34; log likelihood -9492.9607\n",
      "iteration 35; log likelihood -9490.9060\n",
      "iteration 36; log likelihood -9489.2098\n",
      "iteration 37; log likelihood -9487.8031\n",
      "iteration 38; log likelihood -9486.6318\n",
      "iteration 39; log likelihood -9485.6531\n",
      "early stopping previous_llh -9486.631831172288, log_likelihood -9485.653106025515\n"
     ]
    },
    {
     "data": {
      "application/vnd.jupyter.widget-view+json": {
       "model_id": "6868309d9af645688bebcd62d66f723d",
       "version_major": 2,
       "version_minor": 0
      },
      "text/plain": [
       "HBox(children=(IntProgress(value=0, max=3355), HTML(value='')))"
      ]
     },
     "metadata": {},
     "output_type": "display_data"
    },
    {
     "data": {
      "application/vnd.jupyter.widget-view+json": {
       "model_id": "0a867b833d554dd3ba416a7239e8922c",
       "version_major": 2,
       "version_minor": 0
      },
      "text/plain": [
       "HBox(children=(IntProgress(value=0, max=112711), HTML(value='')))"
      ]
     },
     "metadata": {},
     "output_type": "display_data"
    },
    {
     "name": "stdout",
     "output_type": "stream",
     "text": [
      "pi is fixed\n",
      "A is fixed\n",
      "iteration 0; log likelihood -13917.7002\n",
      "iteration 1; log likelihood -12088.7447\n",
      "iteration 2; log likelihood -12082.1012\n",
      "iteration 3; log likelihood -12074.1394\n",
      "iteration 4; log likelihood -12063.5692\n",
      "iteration 5; log likelihood -12048.4486\n",
      "iteration 6; log likelihood -12025.9609\n",
      "iteration 7; log likelihood -11992.4623\n",
      "iteration 8; log likelihood -11944.1507\n",
      "iteration 9; log likelihood -11878.3235\n",
      "iteration 10; log likelihood -11794.3290\n",
      "iteration 11; log likelihood -11693.7319\n",
      "iteration 12; log likelihood -11581.2261\n",
      "iteration 13; log likelihood -11466.4240\n",
      "iteration 14; log likelihood -11361.2352\n",
      "iteration 15; log likelihood -11272.7040\n",
      "iteration 16; log likelihood -11200.9421\n",
      "iteration 17; log likelihood -11142.9499\n",
      "iteration 18; log likelihood -11095.7279\n",
      "iteration 19; log likelihood -11057.0429\n",
      "iteration 20; log likelihood -11025.2489\n",
      "iteration 21; log likelihood -10999.0524\n",
      "iteration 22; log likelihood -10977.3913\n",
      "iteration 23; log likelihood -10959.3876\n",
      "iteration 24; log likelihood -10944.3244\n",
      "iteration 25; log likelihood -10931.6265\n",
      "iteration 26; log likelihood -10920.8373\n",
      "iteration 27; log likelihood -10911.5933\n",
      "iteration 28; log likelihood -10903.6020\n",
      "iteration 29; log likelihood -10896.6240\n",
      "iteration 30; log likelihood -10890.4607\n",
      "iteration 31; log likelihood -10884.9429\n",
      "iteration 32; log likelihood -10879.9208\n",
      "iteration 33; log likelihood -10875.2542\n",
      "iteration 34; log likelihood -10870.8026\n",
      "iteration 35; log likelihood -10866.4132\n",
      "iteration 36; log likelihood -10861.9051\n",
      "iteration 37; log likelihood -10857.0462\n",
      "iteration 38; log likelihood -10851.5144\n",
      "iteration 39; log likelihood -10844.8322\n",
      "iteration 40; log likelihood -10836.2515\n",
      "iteration 41; log likelihood -10824.5549\n",
      "iteration 42; log likelihood -10807.7565\n",
      "iteration 43; log likelihood -10782.8570\n",
      "iteration 44; log likelihood -10746.3300\n",
      "iteration 45; log likelihood -10696.2187\n",
      "iteration 46; log likelihood -10634.0093\n",
      "iteration 47; log likelihood -10561.7468\n",
      "iteration 48; log likelihood -10476.2430\n",
      "iteration 49; log likelihood -10370.1618\n",
      "iteration 50; log likelihood -10243.9607\n",
      "iteration 51; log likelihood -10122.5789\n",
      "iteration 52; log likelihood -10035.6366\n",
      "iteration 53; log likelihood -9977.9315\n",
      "iteration 54; log likelihood -9940.4622\n",
      "iteration 55; log likelihood -9918.0795\n",
      "iteration 56; log likelihood -9904.1269\n",
      "iteration 57; log likelihood -9892.1371\n",
      "iteration 58; log likelihood -9883.6748\n",
      "iteration 59; log likelihood -9877.7843\n",
      "iteration 60; log likelihood -9873.1050\n",
      "iteration 61; log likelihood -9869.0399\n",
      "iteration 62; log likelihood -9863.1941\n",
      "iteration 63; log likelihood -9843.1740\n",
      "iteration 64; log likelihood -9819.8435\n",
      "iteration 65; log likelihood -9812.3176\n",
      "iteration 66; log likelihood -9809.4687\n",
      "iteration 67; log likelihood -9807.8933\n",
      "iteration 68; log likelihood -9806.7735\n",
      "iteration 69; log likelihood -9805.7852\n",
      "early stopping previous_llh -9806.773476890281, log_likelihood -9805.785195455726\n"
     ]
    },
    {
     "data": {
      "application/vnd.jupyter.widget-view+json": {
       "model_id": "5cb270001ef442008f72206fd8823c22",
       "version_major": 2,
       "version_minor": 0
      },
      "text/plain": [
       "HBox(children=(IntProgress(value=0, max=3355), HTML(value='')))"
      ]
     },
     "metadata": {},
     "output_type": "display_data"
    },
    {
     "data": {
      "application/vnd.jupyter.widget-view+json": {
       "model_id": "b9135318cf2446d2ac1d19c967aebda3",
       "version_major": 2,
       "version_minor": 0
      },
      "text/plain": [
       "HBox(children=(IntProgress(value=0, max=112711), HTML(value='')))"
      ]
     },
     "metadata": {},
     "output_type": "display_data"
    },
    {
     "name": "stdout",
     "output_type": "stream",
     "text": [
      "pi is fixed\n",
      "A is fixed\n",
      "iteration 0; log likelihood -11346.6585\n",
      "iteration 1; log likelihood -9871.5596\n",
      "iteration 2; log likelihood -9867.3912\n",
      "iteration 3; log likelihood -9862.5506\n",
      "iteration 4; log likelihood -9856.3517\n",
      "iteration 5; log likelihood -9847.7255\n",
      "iteration 6; log likelihood -9834.9748\n",
      "iteration 7; log likelihood -9815.4912\n",
      "iteration 8; log likelihood -9785.6347\n",
      "iteration 9; log likelihood -9741.2166\n",
      "iteration 10; log likelihood -9678.7432\n",
      "iteration 11; log likelihood -9596.0753\n",
      "iteration 12; log likelihood -9490.2410\n",
      "iteration 13; log likelihood -9353.0530\n",
      "iteration 14; log likelihood -9173.8019\n",
      "iteration 15; log likelihood -8963.2243\n",
      "iteration 16; log likelihood -8761.4561\n",
      "iteration 17; log likelihood -8597.4533\n",
      "iteration 18; log likelihood -8476.0853\n",
      "iteration 19; log likelihood -8388.9304\n",
      "iteration 20; log likelihood -8325.6090\n",
      "iteration 21; log likelihood -8279.9443\n",
      "iteration 22; log likelihood -8248.2526\n",
      "iteration 23; log likelihood -8225.8263\n",
      "iteration 24; log likelihood -8209.7615\n",
      "iteration 25; log likelihood -8198.3289\n",
      "iteration 26; log likelihood -8190.0272\n",
      "iteration 27; log likelihood -8183.7437\n",
      "iteration 28; log likelihood -8178.7545\n",
      "iteration 29; log likelihood -8174.6113\n",
      "iteration 30; log likelihood -8171.1498\n",
      "iteration 31; log likelihood -8168.3806\n",
      "iteration 32; log likelihood -8166.2246\n",
      "iteration 33; log likelihood -8164.5265\n",
      "iteration 34; log likelihood -8163.1627\n",
      "iteration 35; log likelihood -8162.0507\n",
      "iteration 36; log likelihood -8161.1333\n",
      "early stopping previous_llh -8162.0507488505355, log_likelihood -8161.13326809869\n"
     ]
    },
    {
     "data": {
      "application/vnd.jupyter.widget-view+json": {
       "model_id": "d6da7f52609848979496b3a93bd0623b",
       "version_major": 2,
       "version_minor": 0
      },
      "text/plain": [
       "HBox(children=(IntProgress(value=0, max=3355), HTML(value='')))"
      ]
     },
     "metadata": {},
     "output_type": "display_data"
    },
    {
     "data": {
      "application/vnd.jupyter.widget-view+json": {
       "model_id": "cf3f5db6a2d34ad595db87c373bb6133",
       "version_major": 2,
       "version_minor": 0
      },
      "text/plain": [
       "HBox(children=(IntProgress(value=0, max=112711), HTML(value='')))"
      ]
     },
     "metadata": {},
     "output_type": "display_data"
    },
    {
     "name": "stdout",
     "output_type": "stream",
     "text": [
      "pi is fixed\n",
      "A is fixed\n",
      "iteration 0; log likelihood -12036.6349\n",
      "iteration 1; log likelihood -10493.2606\n",
      "iteration 2; log likelihood -10486.7765\n",
      "iteration 3; log likelihood -10478.8422\n",
      "iteration 4; log likelihood -10467.9385\n",
      "iteration 5; log likelihood -10451.6518\n",
      "iteration 6; log likelihood -10426.2962\n",
      "iteration 7; log likelihood -10386.9499\n",
      "iteration 8; log likelihood -10328.6337\n",
      "iteration 9; log likelihood -10248.3478\n",
      "iteration 10; log likelihood -10144.3763\n",
      "iteration 11; log likelihood -10008.5397\n",
      "iteration 12; log likelihood -9818.3874\n",
      "iteration 13; log likelihood -9566.8989\n",
      "iteration 14; log likelihood -9312.0742\n",
      "iteration 15; log likelihood -9110.6939\n",
      "iteration 16; log likelihood -8965.9549\n",
      "iteration 17; log likelihood -8861.7190\n",
      "iteration 18; log likelihood -8784.9206\n",
      "iteration 19; log likelihood -8728.6515\n",
      "iteration 20; log likelihood -8689.4329\n",
      "iteration 21; log likelihood -8663.0631\n",
      "iteration 22; log likelihood -8645.2294\n",
      "iteration 23; log likelihood -8632.8531\n",
      "iteration 24; log likelihood -8624.0239\n",
      "iteration 25; log likelihood -8617.6197\n",
      "iteration 26; log likelihood -8612.9395\n",
      "iteration 27; log likelihood -8609.4778\n",
      "iteration 28; log likelihood -8606.8642\n",
      "iteration 29; log likelihood -8604.8412\n",
      "iteration 30; log likelihood -8603.2331\n",
      "iteration 31; log likelihood -8601.9216\n",
      "iteration 32; log likelihood -8600.8322\n",
      "iteration 33; log likelihood -8599.9232\n",
      "early stopping previous_llh -8600.832239602103, log_likelihood -8599.923248156458\n"
     ]
    },
    {
     "data": {
      "application/vnd.jupyter.widget-view+json": {
       "model_id": "b54470e67d684abb9dc1162d3cb651db",
       "version_major": 2,
       "version_minor": 0
      },
      "text/plain": [
       "HBox(children=(IntProgress(value=0, max=3355), HTML(value='')))"
      ]
     },
     "metadata": {},
     "output_type": "display_data"
    },
    {
     "data": {
      "application/vnd.jupyter.widget-view+json": {
       "model_id": "99bf31db82b54a7ea96e975a3b7042ca",
       "version_major": 2,
       "version_minor": 0
      },
      "text/plain": [
       "HBox(children=(IntProgress(value=0, max=112711), HTML(value='')))"
      ]
     },
     "metadata": {},
     "output_type": "display_data"
    },
    {
     "name": "stdout",
     "output_type": "stream",
     "text": [
      "pi is fixed\n",
      "A is fixed\n",
      "iteration 0; log likelihood -7159.0245\n",
      "iteration 1; log likelihood -5849.9088\n",
      "iteration 2; log likelihood -5830.4901\n",
      "iteration 3; log likelihood -5805.5510\n",
      "iteration 4; log likelihood -5767.4962\n",
      "iteration 5; log likelihood -5685.1633\n",
      "iteration 6; log likelihood -5540.0068\n",
      "iteration 7; log likelihood -5366.8101\n",
      "iteration 8; log likelihood -5243.9298\n",
      "iteration 9; log likelihood -5174.6112\n",
      "iteration 10; log likelihood -5129.4107\n",
      "iteration 11; log likelihood -5093.1417\n",
      "iteration 12; log likelihood -5060.4649\n",
      "iteration 13; log likelihood -5030.3909\n",
      "iteration 14; log likelihood -5002.8814\n",
      "iteration 15; log likelihood -4977.6194\n",
      "iteration 16; log likelihood -4954.4367\n",
      "iteration 17; log likelihood -4933.4860\n",
      "iteration 18; log likelihood -4914.7945\n",
      "iteration 19; log likelihood -4898.3740\n",
      "iteration 20; log likelihood -4884.2224\n",
      "iteration 21; log likelihood -4872.2551\n",
      "iteration 22; log likelihood -4862.2980\n",
      "iteration 23; log likelihood -4854.1186\n",
      "iteration 24; log likelihood -4847.4611\n",
      "iteration 25; log likelihood -4842.0729\n",
      "iteration 26; log likelihood -4837.7223\n",
      "iteration 27; log likelihood -4834.2085\n",
      "iteration 28; log likelihood -4831.3641\n",
      "iteration 29; log likelihood -4829.0532\n",
      "iteration 30; log likelihood -4827.1673\n",
      "iteration 31; log likelihood -4825.6203\n",
      "iteration 32; log likelihood -4824.3445\n",
      "iteration 33; log likelihood -4823.2864\n",
      "iteration 34; log likelihood -4822.4038\n",
      "early stopping previous_llh -4823.286398332138, log_likelihood -4822.403823099104\n"
     ]
    },
    {
     "data": {
      "application/vnd.jupyter.widget-view+json": {
       "model_id": "187ad5ccae2d4a1eb14ca2f4f3152645",
       "version_major": 2,
       "version_minor": 0
      },
      "text/plain": [
       "HBox(children=(IntProgress(value=0, max=2755), HTML(value='')))"
      ]
     },
     "metadata": {},
     "output_type": "display_data"
    },
    {
     "data": {
      "application/vnd.jupyter.widget-view+json": {
       "model_id": "34d84a6eaa144cf587d7b05db671a931",
       "version_major": 2,
       "version_minor": 0
      },
      "text/plain": [
       "HBox(children=(IntProgress(value=0, max=8292), HTML(value='')))"
      ]
     },
     "metadata": {},
     "output_type": "display_data"
    },
    {
     "data": {
      "application/vnd.jupyter.widget-view+json": {
       "model_id": "c833b01a56f147caae73c9cc7c024d3b",
       "version_major": 2,
       "version_minor": 0
      },
      "text/plain": [
       "HBox(children=(IntProgress(value=0, max=10337), HTML(value='')))"
      ]
     },
     "metadata": {},
     "output_type": "display_data"
    },
    {
     "data": {
      "application/vnd.jupyter.widget-view+json": {
       "model_id": "4b6f6631d8bb45349163ca2c50480bfc",
       "version_major": 2,
       "version_minor": 0
      },
      "text/plain": [
       "HBox(children=(IntProgress(value=0, max=5584), HTML(value='')))"
      ]
     },
     "metadata": {},
     "output_type": "display_data"
    },
    {
     "data": {
      "application/vnd.jupyter.widget-view+json": {
       "model_id": "175727d9bf69462e9d99860a844a7e48",
       "version_major": 2,
       "version_minor": 0
      },
      "text/plain": [
       "HBox(children=(IntProgress(value=0, max=3009), HTML(value='')))"
      ]
     },
     "metadata": {},
     "output_type": "display_data"
    },
    {
     "name": "stdout",
     "output_type": "stream",
     "text": [
      "pi is fixed\n",
      "A is fixed\n",
      "iteration 0; log likelihood -13250.9539\n",
      "iteration 1; log likelihood -11473.0626\n",
      "iteration 2; log likelihood -11468.0436\n",
      "iteration 3; log likelihood -11461.8707\n",
      "iteration 4; log likelihood -11453.4405\n",
      "iteration 5; log likelihood -11440.9424\n",
      "iteration 6; log likelihood -11421.4417\n",
      "iteration 7; log likelihood -11390.4857\n",
      "iteration 8; log likelihood -11342.1995\n",
      "iteration 9; log likelihood -11270.5714\n",
      "iteration 10; log likelihood -11171.8781\n",
      "iteration 11; log likelihood -11046.2693\n",
      "iteration 12; log likelihood -10895.2913\n",
      "iteration 13; log likelihood -10715.9751\n",
      "iteration 14; log likelihood -10506.9011\n",
      "iteration 15; log likelihood -10291.8817\n",
      "iteration 16; log likelihood -10104.2801\n",
      "iteration 17; log likelihood -9947.6450\n",
      "iteration 18; log likelihood -9815.0101\n",
      "iteration 19; log likelihood -9709.9496\n",
      "iteration 20; log likelihood -9632.1999\n",
      "iteration 21; log likelihood -9574.5345\n",
      "iteration 22; log likelihood -9530.3644\n",
      "iteration 23; log likelihood -9496.8385\n",
      "iteration 24; log likelihood -9471.7728\n",
      "iteration 25; log likelihood -9453.3173\n",
      "iteration 26; log likelihood -9440.1645\n",
      "iteration 27; log likelihood -9430.6239\n",
      "iteration 28; log likelihood -9423.4263\n",
      "iteration 29; log likelihood -9417.8838\n",
      "iteration 30; log likelihood -9413.6384\n",
      "iteration 31; log likelihood -9410.4325\n",
      "iteration 32; log likelihood -9408.0011\n",
      "iteration 33; log likelihood -9406.1194\n",
      "iteration 34; log likelihood -9404.6271\n",
      "iteration 35; log likelihood -9403.4141\n",
      "iteration 36; log likelihood -9402.4038\n",
      "iteration 37; log likelihood -9401.5414\n",
      "early stopping previous_llh -9402.403792864405, log_likelihood -9401.541434047032\n"
     ]
    },
    {
     "data": {
      "application/vnd.jupyter.widget-view+json": {
       "model_id": "60367b1f5c2d4ed9a24f60a74bf8fb32",
       "version_major": 2,
       "version_minor": 0
      },
      "text/plain": [
       "HBox(children=(IntProgress(value=0, max=3355), HTML(value='')))"
      ]
     },
     "metadata": {},
     "output_type": "display_data"
    },
    {
     "data": {
      "application/vnd.jupyter.widget-view+json": {
       "model_id": "2e65fa75a60a486f8055772e21c4f960",
       "version_major": 2,
       "version_minor": 0
      },
      "text/plain": [
       "HBox(children=(IntProgress(value=0, max=112711), HTML(value='')))"
      ]
     },
     "metadata": {},
     "output_type": "display_data"
    },
    {
     "name": "stdout",
     "output_type": "stream",
     "text": [
      "pi is fixed\n",
      "A is fixed\n",
      "iteration 0; log likelihood -14617.7256\n",
      "iteration 1; log likelihood -12499.5115\n",
      "iteration 2; log likelihood -12493.1558\n",
      "iteration 3; log likelihood -12485.3944\n",
      "iteration 4; log likelihood -12474.4895\n",
      "iteration 5; log likelihood -12457.4134\n",
      "iteration 6; log likelihood -12428.9603\n",
      "iteration 7; log likelihood -12381.1564\n",
      "iteration 8; log likelihood -12304.8278\n",
      "iteration 9; log likelihood -12194.8064\n",
      "iteration 10; log likelihood -12052.7212\n",
      "iteration 11; log likelihood -11877.6453\n",
      "iteration 12; log likelihood -11658.9651\n",
      "iteration 13; log likelihood -11400.0503\n",
      "iteration 14; log likelihood -11140.4575\n",
      "iteration 15; log likelihood -10919.5677\n",
      "iteration 16; log likelihood -10745.6356\n",
      "iteration 17; log likelihood -10612.2724\n",
      "iteration 18; log likelihood -10510.5894\n",
      "iteration 19; log likelihood -10433.7635\n",
      "iteration 20; log likelihood -10376.5418\n",
      "iteration 21; log likelihood -10334.6908\n",
      "iteration 22; log likelihood -10304.6813\n",
      "iteration 23; log likelihood -10283.5100\n",
      "iteration 24; log likelihood -10268.6683\n",
      "iteration 25; log likelihood -10258.1919\n",
      "iteration 26; log likelihood -10250.6636\n",
      "iteration 27; log likelihood -10245.1276\n",
      "iteration 28; log likelihood -10240.9593\n",
      "iteration 29; log likelihood -10237.7501\n",
      "iteration 30; log likelihood -10235.2283\n",
      "iteration 31; log likelihood -10233.2094\n",
      "iteration 32; log likelihood -10231.5634\n",
      "iteration 33; log likelihood -10230.1931\n",
      "iteration 34; log likelihood -10229.0183\n",
      "iteration 35; log likelihood -10227.9710\n",
      "iteration 36; log likelihood -10227.0147\n",
      "early stopping previous_llh -10227.971003965577, log_likelihood -10227.014724965155\n"
     ]
    },
    {
     "data": {
      "application/vnd.jupyter.widget-view+json": {
       "model_id": "c027a438e27c49d9b326e4c7542c885e",
       "version_major": 2,
       "version_minor": 0
      },
      "text/plain": [
       "HBox(children=(IntProgress(value=0, max=3355), HTML(value='')))"
      ]
     },
     "metadata": {},
     "output_type": "display_data"
    },
    {
     "data": {
      "application/vnd.jupyter.widget-view+json": {
       "model_id": "ce156f41527041328c629e8ae6936895",
       "version_major": 2,
       "version_minor": 0
      },
      "text/plain": [
       "HBox(children=(IntProgress(value=0, max=112711), HTML(value='')))"
      ]
     },
     "metadata": {},
     "output_type": "display_data"
    },
    {
     "name": "stdout",
     "output_type": "stream",
     "text": [
      "pi is fixed\n",
      "A is fixed\n",
      "iteration 0; log likelihood -12845.6300\n",
      "iteration 1; log likelihood -11109.3831\n",
      "iteration 2; log likelihood -11105.0517\n",
      "iteration 3; log likelihood -11099.8346\n",
      "iteration 4; log likelihood -11092.8335\n",
      "iteration 5; log likelihood -11082.6191\n",
      "iteration 6; log likelihood -11066.9658\n",
      "iteration 7; log likelihood -11042.6980\n",
      "iteration 8; log likelihood -11006.0743\n",
      "iteration 9; log likelihood -10954.1908\n",
      "iteration 10; log likelihood -10886.9855\n",
      "iteration 11; log likelihood -10808.1102\n",
      "iteration 12; log likelihood -10723.8407\n",
      "iteration 13; log likelihood -10641.1523\n",
      "iteration 14; log likelihood -10565.6428\n",
      "iteration 15; log likelihood -10499.8713\n",
      "iteration 16; log likelihood -10443.5540\n",
      "iteration 17; log likelihood -10395.3215\n",
      "iteration 18; log likelihood -10354.0387\n",
      "iteration 19; log likelihood -10318.9556\n",
      "iteration 20; log likelihood -10289.3822\n",
      "iteration 21; log likelihood -10264.5233\n",
      "iteration 22; log likelihood -10243.5506\n",
      "iteration 23; log likelihood -10225.7268\n",
      "iteration 24; log likelihood -10210.4573\n",
      "iteration 25; log likelihood -10197.2740\n",
      "iteration 26; log likelihood -10185.7957\n",
      "iteration 27; log likelihood -10175.6957\n",
      "iteration 28; log likelihood -10166.6843\n",
      "iteration 29; log likelihood -10158.5037\n",
      "iteration 30; log likelihood -10150.9310\n",
      "iteration 31; log likelihood -10143.7830\n",
      "iteration 32; log likelihood -10136.9218\n",
      "iteration 33; log likelihood -10130.2590\n",
      "iteration 34; log likelihood -10123.7580\n",
      "iteration 35; log likelihood -10117.4317\n",
      "iteration 36; log likelihood -10111.3332\n",
      "iteration 37; log likelihood -10105.5359\n",
      "iteration 38; log likelihood -10100.0850\n",
      "iteration 39; log likelihood -10094.8879\n",
      "iteration 40; log likelihood -10089.7991\n",
      "iteration 41; log likelihood -10085.1495\n",
      "iteration 42; log likelihood -10081.1333\n",
      "iteration 43; log likelihood -10077.6036\n",
      "iteration 44; log likelihood -10074.4381\n",
      "iteration 45; log likelihood -10071.5480\n",
      "iteration 46; log likelihood -10068.8490\n",
      "iteration 47; log likelihood -10066.2655\n",
      "iteration 48; log likelihood -10063.7720\n",
      "iteration 49; log likelihood -10061.4259\n",
      "iteration 50; log likelihood -10059.2990\n",
      "iteration 51; log likelihood -10057.3932\n",
      "iteration 52; log likelihood -10055.6644\n",
      "iteration 53; log likelihood -10054.0723\n",
      "iteration 54; log likelihood -10052.5928\n",
      "iteration 55; log likelihood -10051.2142\n",
      "iteration 56; log likelihood -10049.9308\n",
      "iteration 57; log likelihood -10048.7398\n",
      "iteration 58; log likelihood -10047.6394\n",
      "iteration 59; log likelihood -10046.6276\n",
      "iteration 60; log likelihood -10045.7019\n",
      "early stopping previous_llh -10046.627610099113, log_likelihood -10045.701864310016\n"
     ]
    },
    {
     "data": {
      "application/vnd.jupyter.widget-view+json": {
       "model_id": "deeedc374e6e46ce8a9398a504810b4b",
       "version_major": 2,
       "version_minor": 0
      },
      "text/plain": [
       "HBox(children=(IntProgress(value=0, max=3355), HTML(value='')))"
      ]
     },
     "metadata": {},
     "output_type": "display_data"
    },
    {
     "data": {
      "application/vnd.jupyter.widget-view+json": {
       "model_id": "d59df3009cce4c609fc5d0b3683b628d",
       "version_major": 2,
       "version_minor": 0
      },
      "text/plain": [
       "HBox(children=(IntProgress(value=0, max=112711), HTML(value='')))"
      ]
     },
     "metadata": {},
     "output_type": "display_data"
    },
    {
     "name": "stdout",
     "output_type": "stream",
     "text": [
      "pi is fixed\n",
      "A is fixed\n",
      "iteration 0; log likelihood -13556.9302\n",
      "iteration 1; log likelihood -11551.2792\n",
      "iteration 2; log likelihood -11544.0917\n",
      "iteration 3; log likelihood -11535.7787\n",
      "iteration 4; log likelihood -11524.7452\n",
      "iteration 5; log likelihood -11508.2289\n",
      "iteration 6; log likelihood -11481.5165\n",
      "iteration 7; log likelihood -11437.4714\n",
      "iteration 8; log likelihood -11367.8511\n",
      "iteration 9; log likelihood -11267.0095\n",
      "iteration 10; log likelihood -11132.3732\n",
      "iteration 11; log likelihood -10954.9748\n",
      "iteration 12; log likelihood -10719.2608\n",
      "iteration 13; log likelihood -10448.7917\n",
      "iteration 14; log likelihood -10213.9516\n",
      "iteration 15; log likelihood -10039.4667\n",
      "iteration 16; log likelihood -9904.9019\n",
      "iteration 17; log likelihood -9794.6061\n",
      "iteration 18; log likelihood -9705.0687\n",
      "iteration 19; log likelihood -9635.3285\n",
      "iteration 20; log likelihood -9583.1491\n",
      "iteration 21; log likelihood -9545.0068\n",
      "iteration 22; log likelihood -9516.8816\n",
      "iteration 23; log likelihood -9496.1441\n",
      "iteration 24; log likelihood -9481.1962\n",
      "iteration 25; log likelihood -9470.3951\n",
      "iteration 26; log likelihood -9462.4337\n",
      "iteration 27; log likelihood -9456.4485\n",
      "iteration 28; log likelihood -9451.8653\n",
      "iteration 29; log likelihood -9448.2966\n",
      "iteration 30; log likelihood -9445.4774\n",
      "iteration 31; log likelihood -9443.2217\n",
      "iteration 32; log likelihood -9441.3957\n",
      "iteration 33; log likelihood -9439.9018\n",
      "iteration 34; log likelihood -9438.6676\n",
      "iteration 35; log likelihood -9437.6392\n",
      "iteration 36; log likelihood -9436.7757\n",
      "early stopping previous_llh -9437.639151681866, log_likelihood -9436.775748457867\n"
     ]
    },
    {
     "data": {
      "application/vnd.jupyter.widget-view+json": {
       "model_id": "56ed6b3d95d1432e9bf7f1347ba3040f",
       "version_major": 2,
       "version_minor": 0
      },
      "text/plain": [
       "HBox(children=(IntProgress(value=0, max=3355), HTML(value='')))"
      ]
     },
     "metadata": {},
     "output_type": "display_data"
    },
    {
     "data": {
      "application/vnd.jupyter.widget-view+json": {
       "model_id": "24f23363556c4224a26cc1c663fb66c9",
       "version_major": 2,
       "version_minor": 0
      },
      "text/plain": [
       "HBox(children=(IntProgress(value=0, max=112711), HTML(value='')))"
      ]
     },
     "metadata": {},
     "output_type": "display_data"
    },
    {
     "name": "stdout",
     "output_type": "stream",
     "text": [
      "pi is fixed\n",
      "A is fixed\n",
      "iteration 0; log likelihood -9164.1433\n",
      "iteration 1; log likelihood -7542.0353\n",
      "iteration 2; log likelihood -7534.5948\n",
      "iteration 3; log likelihood -7517.3781\n",
      "iteration 4; log likelihood -7477.4779\n",
      "iteration 5; log likelihood -7427.9863\n",
      "iteration 6; log likelihood -7356.4393\n",
      "iteration 7; log likelihood -7261.4803\n",
      "iteration 8; log likelihood -7152.8401\n",
      "iteration 9; log likelihood -7037.8104\n",
      "iteration 10; log likelihood -6917.0803\n",
      "iteration 11; log likelihood -6791.9350\n",
      "iteration 12; log likelihood -6677.9117\n",
      "iteration 13; log likelihood -6588.3358\n",
      "iteration 14; log likelihood -6520.1612\n",
      "iteration 15; log likelihood -6465.6459\n",
      "iteration 16; log likelihood -6420.2155\n",
      "iteration 17; log likelihood -6381.4132\n",
      "iteration 18; log likelihood -6347.5455\n",
      "iteration 19; log likelihood -6317.3329\n",
      "iteration 20; log likelihood -6290.0166\n",
      "iteration 21; log likelihood -6265.3999\n",
      "iteration 22; log likelihood -6243.6367\n",
      "iteration 23; log likelihood -6224.9303\n",
      "iteration 24; log likelihood -6209.3137\n",
      "iteration 25; log likelihood -6196.5594\n",
      "iteration 26; log likelihood -6186.2742\n",
      "iteration 27; log likelihood -6178.0484\n",
      "iteration 28; log likelihood -6171.4961\n",
      "iteration 29; log likelihood -6166.2902\n",
      "iteration 30; log likelihood -6162.1569\n",
      "iteration 31; log likelihood -6158.8434\n",
      "iteration 32; log likelihood -6156.1180\n",
      "iteration 33; log likelihood -6153.8304\n",
      "iteration 34; log likelihood -6151.9571\n",
      "iteration 35; log likelihood -6150.4659\n",
      "iteration 36; log likelihood -6149.2617\n",
      "iteration 37; log likelihood -6148.2646\n",
      "early stopping previous_llh -6149.261711313796, log_likelihood -6148.26455149495\n"
     ]
    },
    {
     "data": {
      "application/vnd.jupyter.widget-view+json": {
       "model_id": "6b82b52d47514959909491304fdb9458",
       "version_major": 2,
       "version_minor": 0
      },
      "text/plain": [
       "HBox(children=(IntProgress(value=0, max=2755), HTML(value='')))"
      ]
     },
     "metadata": {},
     "output_type": "display_data"
    },
    {
     "data": {
      "application/vnd.jupyter.widget-view+json": {
       "model_id": "7eb09d7f0e2e445c99a7bae989688aec",
       "version_major": 2,
       "version_minor": 0
      },
      "text/plain": [
       "HBox(children=(IntProgress(value=0, max=8292), HTML(value='')))"
      ]
     },
     "metadata": {},
     "output_type": "display_data"
    },
    {
     "data": {
      "application/vnd.jupyter.widget-view+json": {
       "model_id": "fc7ef3331d7345f7ac929961cab4803d",
       "version_major": 2,
       "version_minor": 0
      },
      "text/plain": [
       "HBox(children=(IntProgress(value=0, max=10337), HTML(value='')))"
      ]
     },
     "metadata": {},
     "output_type": "display_data"
    },
    {
     "data": {
      "application/vnd.jupyter.widget-view+json": {
       "model_id": "01a5ef99cf15441685eefdcace3c3ede",
       "version_major": 2,
       "version_minor": 0
      },
      "text/plain": [
       "HBox(children=(IntProgress(value=0, max=5584), HTML(value='')))"
      ]
     },
     "metadata": {},
     "output_type": "display_data"
    },
    {
     "data": {
      "application/vnd.jupyter.widget-view+json": {
       "model_id": "1347abd37b4040c7b1c818a5c344d2d4",
       "version_major": 2,
       "version_minor": 0
      },
      "text/plain": [
       "HBox(children=(IntProgress(value=0, max=3009), HTML(value='')))"
      ]
     },
     "metadata": {},
     "output_type": "display_data"
    },
    {
     "name": "stdout",
     "output_type": "stream",
     "text": [
      "pi is fixed\n",
      "A is fixed\n",
      "iteration 0; log likelihood -13173.6691\n",
      "iteration 1; log likelihood -11381.7111\n",
      "iteration 2; log likelihood -11374.8585\n",
      "iteration 3; log likelihood -11366.1627\n",
      "iteration 4; log likelihood -11353.8127\n",
      "iteration 5; log likelihood -11334.7850\n",
      "iteration 6; log likelihood -11304.4037\n",
      "iteration 7; log likelihood -11256.6861\n",
      "iteration 8; log likelihood -11186.0905\n",
      "iteration 9; log likelihood -11088.1058\n",
      "iteration 10; log likelihood -10953.1786\n",
      "iteration 11; log likelihood -10761.6546\n",
      "iteration 12; log likelihood -10514.6773\n",
      "iteration 13; log likelihood -10267.2466\n",
      "iteration 14; log likelihood -10054.5054\n",
      "iteration 15; log likelihood -9865.3045\n",
      "iteration 16; log likelihood -9698.5850\n",
      "iteration 17; log likelihood -9565.0507\n",
      "iteration 18; log likelihood -9468.6116\n",
      "iteration 19; log likelihood -9403.3719\n",
      "iteration 20; log likelihood -9360.7459\n",
      "iteration 21; log likelihood -9332.3619\n",
      "iteration 22; log likelihood -9312.7516\n",
      "iteration 23; log likelihood -9298.8462\n",
      "iteration 24; log likelihood -9288.7686\n",
      "iteration 25; log likelihood -9281.2954\n",
      "iteration 26; log likelihood -9275.6482\n",
      "iteration 27; log likelihood -9271.3262\n",
      "iteration 28; log likelihood -9267.9831\n",
      "iteration 29; log likelihood -9265.3674\n",
      "iteration 30; log likelihood -9263.2971\n",
      "iteration 31; log likelihood -9261.6427\n",
      "iteration 32; log likelihood -9260.3117\n",
      "iteration 33; log likelihood -9259.2351\n",
      "iteration 34; log likelihood -9258.3590\n",
      "early stopping previous_llh -9259.235116701166, log_likelihood -9258.35901410313\n"
     ]
    },
    {
     "data": {
      "application/vnd.jupyter.widget-view+json": {
       "model_id": "cb2fe45748db49b4b25147f3a2571f8b",
       "version_major": 2,
       "version_minor": 0
      },
      "text/plain": [
       "HBox(children=(IntProgress(value=0, max=3355), HTML(value='')))"
      ]
     },
     "metadata": {},
     "output_type": "display_data"
    },
    {
     "data": {
      "application/vnd.jupyter.widget-view+json": {
       "model_id": "96a3d7a4c2634ed3831a94025280a37d",
       "version_major": 2,
       "version_minor": 0
      },
      "text/plain": [
       "HBox(children=(IntProgress(value=0, max=112711), HTML(value='')))"
      ]
     },
     "metadata": {},
     "output_type": "display_data"
    },
    {
     "name": "stdout",
     "output_type": "stream",
     "text": [
      "pi is fixed\n",
      "A is fixed\n",
      "iteration 0; log likelihood -12335.1976\n",
      "iteration 1; log likelihood -10698.0817\n",
      "iteration 2; log likelihood -10693.4159\n",
      "iteration 3; log likelihood -10687.8221\n",
      "iteration 4; log likelihood -10680.2707\n",
      "iteration 5; log likelihood -10668.9952\n",
      "iteration 6; log likelihood -10650.9767\n",
      "iteration 7; log likelihood -10621.4331\n",
      "iteration 8; log likelihood -10574.0484\n",
      "iteration 9; log likelihood -10502.9491\n",
      "iteration 10; log likelihood -10404.9201\n",
      "iteration 11; log likelihood -10276.3520\n",
      "iteration 12; log likelihood -10107.0591\n",
      "iteration 13; log likelihood -9893.5258\n",
      "iteration 14; log likelihood -9667.6085\n",
      "iteration 15; log likelihood -9470.3332\n",
      "iteration 16; log likelihood -9312.4340\n",
      "iteration 17; log likelihood -9189.4941\n",
      "iteration 18; log likelihood -9095.8954\n",
      "iteration 19; log likelihood -9026.9089\n",
      "iteration 20; log likelihood -8977.0758\n",
      "iteration 21; log likelihood -8941.1995\n",
      "iteration 22; log likelihood -8915.2848\n",
      "iteration 23; log likelihood -8896.3895\n",
      "iteration 24; log likelihood -8882.4394\n",
      "iteration 25; log likelihood -8872.0145\n",
      "iteration 26; log likelihood -8864.1293\n",
      "iteration 27; log likelihood -8858.0904\n",
      "iteration 28; log likelihood -8853.4098\n",
      "iteration 29; log likelihood -8849.7411\n",
      "iteration 30; log likelihood -8846.8357\n",
      "iteration 31; log likelihood -8844.5134\n",
      "iteration 32; log likelihood -8842.6421\n",
      "iteration 33; log likelihood -8841.1239\n",
      "iteration 34; log likelihood -8839.8845\n",
      "iteration 35; log likelihood -8838.8671\n",
      "iteration 36; log likelihood -8838.0273\n",
      "early stopping previous_llh -8838.867128684798, log_likelihood -8838.027314267922\n"
     ]
    },
    {
     "data": {
      "application/vnd.jupyter.widget-view+json": {
       "model_id": "8acb4ccbbf0d40a99da7fd2d7b162337",
       "version_major": 2,
       "version_minor": 0
      },
      "text/plain": [
       "HBox(children=(IntProgress(value=0, max=3355), HTML(value='')))"
      ]
     },
     "metadata": {},
     "output_type": "display_data"
    },
    {
     "data": {
      "application/vnd.jupyter.widget-view+json": {
       "model_id": "ec743f0e3c914368a3d3d7c4d0a66efd",
       "version_major": 2,
       "version_minor": 0
      },
      "text/plain": [
       "HBox(children=(IntProgress(value=0, max=112711), HTML(value='')))"
      ]
     },
     "metadata": {},
     "output_type": "display_data"
    },
    {
     "name": "stdout",
     "output_type": "stream",
     "text": [
      "pi is fixed\n",
      "A is fixed\n",
      "iteration 0; log likelihood -13335.2082\n",
      "iteration 1; log likelihood -11494.2156\n",
      "iteration 2; log likelihood -11489.7840\n",
      "iteration 3; log likelihood -11483.4817\n",
      "iteration 4; log likelihood -11473.2797\n",
      "iteration 5; log likelihood -11455.3913\n",
      "iteration 6; log likelihood -11423.2070\n",
      "iteration 7; log likelihood -11367.2615\n",
      "iteration 8; log likelihood -11278.9001\n",
      "iteration 9; log likelihood -11155.9644\n",
      "iteration 10; log likelihood -10998.3403\n",
      "iteration 11; log likelihood -10793.1696\n",
      "iteration 12; log likelihood -10532.1277\n",
      "iteration 13; log likelihood -10265.7024\n",
      "iteration 14; log likelihood -10049.0351\n",
      "iteration 15; log likelihood -9880.2100\n",
      "iteration 16; log likelihood -9746.1417\n",
      "iteration 17; log likelihood -9639.6569\n",
      "iteration 18; log likelihood -9556.3149\n",
      "iteration 19; log likelihood -9493.0480\n",
      "iteration 20; log likelihood -9446.7334\n",
      "iteration 21; log likelihood -9413.9325\n",
      "iteration 22; log likelihood -9391.1083\n",
      "iteration 23; log likelihood -9375.1713\n",
      "iteration 24; log likelihood -9363.8610\n",
      "iteration 25; log likelihood -9355.6506\n",
      "iteration 26; log likelihood -9349.5380\n",
      "iteration 27; log likelihood -9344.8873\n",
      "iteration 28; log likelihood -9341.3006\n",
      "iteration 29; log likelihood -9338.5097\n",
      "iteration 30; log likelihood -9336.3189\n",
      "iteration 31; log likelihood -9334.5831\n",
      "iteration 32; log likelihood -9333.1941\n",
      "iteration 33; log likelihood -9332.0706\n",
      "iteration 34; log likelihood -9331.1526\n",
      "early stopping previous_llh -9332.070639015266, log_likelihood -9331.152595560305\n"
     ]
    },
    {
     "data": {
      "application/vnd.jupyter.widget-view+json": {
       "model_id": "da75ec4e66b04e149f9635eaadbc4555",
       "version_major": 2,
       "version_minor": 0
      },
      "text/plain": [
       "HBox(children=(IntProgress(value=0, max=3355), HTML(value='')))"
      ]
     },
     "metadata": {},
     "output_type": "display_data"
    },
    {
     "data": {
      "application/vnd.jupyter.widget-view+json": {
       "model_id": "d7a1570207d74ae9b01b972368310a9c",
       "version_major": 2,
       "version_minor": 0
      },
      "text/plain": [
       "HBox(children=(IntProgress(value=0, max=112711), HTML(value='')))"
      ]
     },
     "metadata": {},
     "output_type": "display_data"
    },
    {
     "name": "stdout",
     "output_type": "stream",
     "text": [
      "pi is fixed\n",
      "A is fixed\n",
      "iteration 0; log likelihood -12119.6213\n",
      "iteration 1; log likelihood -10453.7315\n",
      "iteration 2; log likelihood -10446.2771\n",
      "iteration 3; log likelihood -10437.2117\n",
      "iteration 4; log likelihood -10425.3271\n",
      "iteration 5; log likelihood -10408.9078\n",
      "iteration 6; log likelihood -10385.7267\n",
      "iteration 7; log likelihood -10353.4211\n",
      "iteration 8; log likelihood -10310.3596\n",
      "iteration 9; log likelihood -10256.4227\n",
      "iteration 10; log likelihood -10192.6589\n",
      "iteration 11; log likelihood -10120.0179\n",
      "iteration 12; log likelihood -10038.9205\n",
      "iteration 13; log likelihood -9950.8508\n",
      "iteration 14; log likelihood -9860.8211\n",
      "iteration 15; log likelihood -9777.0533\n",
      "iteration 16; log likelihood -9706.4391\n",
      "iteration 17; log likelihood -9650.8654\n",
      "iteration 18; log likelihood -9608.2355\n",
      "iteration 19; log likelihood -9575.2977\n",
      "iteration 20; log likelihood -9549.2451\n",
      "iteration 21; log likelihood -9528.0506\n",
      "iteration 22; log likelihood -9510.3349\n",
      "iteration 23; log likelihood -9495.1854\n",
      "iteration 24; log likelihood -9482.0176\n",
      "iteration 25; log likelihood -9470.4744\n",
      "iteration 26; log likelihood -9460.3486\n",
      "iteration 27; log likelihood -9451.5178\n",
      "iteration 28; log likelihood -9443.8911\n",
      "iteration 29; log likelihood -9437.3744\n",
      "iteration 30; log likelihood -9431.8568\n",
      "iteration 31; log likelihood -9427.2135\n",
      "iteration 32; log likelihood -9423.3153\n",
      "iteration 33; log likelihood -9420.0391\n",
      "iteration 34; log likelihood -9417.2737\n",
      "iteration 35; log likelihood -9414.9239\n",
      "iteration 36; log likelihood -9412.9101\n",
      "iteration 37; log likelihood -9411.1681\n",
      "iteration 38; log likelihood -9409.6469\n",
      "iteration 39; log likelihood -9408.3069\n",
      "iteration 40; log likelihood -9407.1177\n",
      "iteration 41; log likelihood -9406.0559\n",
      "iteration 42; log likelihood -9405.1032\n",
      "early stopping previous_llh -9406.055920235773, log_likelihood -9405.103224736926\n"
     ]
    },
    {
     "data": {
      "application/vnd.jupyter.widget-view+json": {
       "model_id": "81eb7bedc4d748e5b994e3094fe104b8",
       "version_major": 2,
       "version_minor": 0
      },
      "text/plain": [
       "HBox(children=(IntProgress(value=0, max=3355), HTML(value='')))"
      ]
     },
     "metadata": {},
     "output_type": "display_data"
    },
    {
     "data": {
      "application/vnd.jupyter.widget-view+json": {
       "model_id": "a65ff1d0e139467394e4e5a0c9be1e19",
       "version_major": 2,
       "version_minor": 0
      },
      "text/plain": [
       "HBox(children=(IntProgress(value=0, max=112711), HTML(value='')))"
      ]
     },
     "metadata": {},
     "output_type": "display_data"
    },
    {
     "name": "stdout",
     "output_type": "stream",
     "text": [
      "pi is fixed\n",
      "A is fixed\n",
      "iteration 0; log likelihood -13502.9804\n",
      "iteration 1; log likelihood -11625.9429\n",
      "iteration 2; log likelihood -11619.4650\n",
      "iteration 3; log likelihood -11610.6961\n",
      "iteration 4; log likelihood -11597.0625\n",
      "iteration 5; log likelihood -11573.8890\n",
      "iteration 6; log likelihood -11533.3677\n",
      "iteration 7; log likelihood -11465.2386\n",
      "iteration 8; log likelihood -11361.8562\n",
      "iteration 9; log likelihood -11223.5720\n",
      "iteration 10; log likelihood -11052.1803\n",
      "iteration 11; log likelihood -10842.5808\n",
      "iteration 12; log likelihood -10608.1093\n",
      "iteration 13; log likelihood -10395.2701\n",
      "iteration 14; log likelihood -10226.1536\n",
      "iteration 15; log likelihood -10083.7257\n",
      "iteration 16; log likelihood -9952.8839\n",
      "iteration 17; log likelihood -9837.7342\n",
      "iteration 18; log likelihood -9747.5969\n",
      "iteration 19; log likelihood -9683.3630\n",
      "iteration 20; log likelihood -9639.6109\n",
      "iteration 21; log likelihood -9609.9223\n",
      "iteration 22; log likelihood -9588.8675\n",
      "iteration 23; log likelihood -9571.5239\n",
      "iteration 24; log likelihood -9558.0742\n",
      "iteration 25; log likelihood -9548.0766\n",
      "iteration 26; log likelihood -9540.1311\n",
      "iteration 27; log likelihood -9533.8562\n",
      "iteration 28; log likelihood -9528.9151\n",
      "iteration 29; log likelihood -9524.9756\n",
      "iteration 30; log likelihood -9521.7713\n",
      "iteration 31; log likelihood -9519.1011\n",
      "iteration 32; log likelihood -9516.8233\n",
      "iteration 33; log likelihood -9514.8671\n",
      "iteration 34; log likelihood -9513.2147\n",
      "iteration 35; log likelihood -9511.8448\n",
      "iteration 36; log likelihood -9510.7130\n",
      "iteration 37; log likelihood -9509.7720\n",
      "early stopping previous_llh -9510.712977308105, log_likelihood -9509.772048731624\n"
     ]
    },
    {
     "data": {
      "application/vnd.jupyter.widget-view+json": {
       "model_id": "e44293a2aba84856b08a0001ca86908a",
       "version_major": 2,
       "version_minor": 0
      },
      "text/plain": [
       "HBox(children=(IntProgress(value=0, max=3355), HTML(value='')))"
      ]
     },
     "metadata": {},
     "output_type": "display_data"
    },
    {
     "data": {
      "application/vnd.jupyter.widget-view+json": {
       "model_id": "180750d41fac4f95bfda1aa6e31afe5f",
       "version_major": 2,
       "version_minor": 0
      },
      "text/plain": [
       "HBox(children=(IntProgress(value=0, max=112711), HTML(value='')))"
      ]
     },
     "metadata": {},
     "output_type": "display_data"
    },
    {
     "name": "stdout",
     "output_type": "stream",
     "text": [
      "pi is fixed\n",
      "A is fixed\n",
      "iteration 0; log likelihood -13756.3681\n",
      "iteration 1; log likelihood -11779.9266\n",
      "iteration 2; log likelihood -11774.2851\n",
      "iteration 3; log likelihood -11767.3138\n",
      "iteration 4; log likelihood -11757.6890\n",
      "iteration 5; log likelihood -11743.3341\n",
      "iteration 6; log likelihood -11721.1698\n",
      "iteration 7; log likelihood -11687.2725\n",
      "iteration 8; log likelihood -11637.9828\n",
      "iteration 9; log likelihood -11571.7318\n",
      "iteration 10; log likelihood -11489.7092\n",
      "iteration 11; log likelihood -11394.4670\n",
      "iteration 12; log likelihood -11289.5193\n",
      "iteration 13; log likelihood -11181.4147\n",
      "iteration 14; log likelihood -11079.0732\n",
      "iteration 15; log likelihood -10989.3448\n",
      "iteration 16; log likelihood -10914.9105\n",
      "iteration 17; log likelihood -10855.2397\n",
      "iteration 18; log likelihood -10808.1302\n",
      "iteration 19; log likelihood -10770.9077\n",
      "iteration 20; log likelihood -10741.1468\n",
      "iteration 21; log likelihood -10716.9625\n",
      "iteration 22; log likelihood -10697.0159\n",
      "iteration 23; log likelihood -10680.3866\n",
      "iteration 24; log likelihood -10666.4233\n",
      "iteration 25; log likelihood -10654.6292\n",
      "iteration 26; log likelihood -10644.5951\n",
      "iteration 27; log likelihood -10635.9694\n",
      "iteration 28; log likelihood -10628.4476\n",
      "iteration 29; log likelihood -10621.7655\n",
      "iteration 30; log likelihood -10615.6914\n",
      "iteration 31; log likelihood -10610.0157\n",
      "iteration 32; log likelihood -10604.5434\n",
      "iteration 33; log likelihood -10599.0402\n",
      "iteration 34; log likelihood -10593.0002\n",
      "iteration 35; log likelihood -10585.9588\n",
      "iteration 36; log likelihood -10579.4250\n",
      "iteration 37; log likelihood -10574.5516\n",
      "iteration 38; log likelihood -10570.7933\n",
      "iteration 39; log likelihood -10567.6887\n",
      "iteration 40; log likelihood -10565.0182\n",
      "iteration 41; log likelihood -10562.6628\n",
      "iteration 42; log likelihood -10560.5487\n",
      "iteration 43; log likelihood -10558.6272\n",
      "iteration 44; log likelihood -10556.8645\n",
      "iteration 45; log likelihood -10555.2361\n",
      "iteration 46; log likelihood -10553.7234\n",
      "iteration 47; log likelihood -10552.3116\n",
      "iteration 48; log likelihood -10550.9883\n",
      "iteration 49; log likelihood -10549.7431\n",
      "iteration 50; log likelihood -10548.5670\n",
      "iteration 51; log likelihood -10547.4520\n",
      "iteration 52; log likelihood -10546.3911\n",
      "iteration 53; log likelihood -10545.3780\n",
      "iteration 54; log likelihood -10544.4073\n",
      "early stopping previous_llh -10545.37802323431, log_likelihood -10544.407269015126\n"
     ]
    },
    {
     "data": {
      "application/vnd.jupyter.widget-view+json": {
       "model_id": "7e677c0ba79b4ff28ef19791187ebb84",
       "version_major": 2,
       "version_minor": 0
      },
      "text/plain": [
       "HBox(children=(IntProgress(value=0, max=3355), HTML(value='')))"
      ]
     },
     "metadata": {},
     "output_type": "display_data"
    },
    {
     "data": {
      "application/vnd.jupyter.widget-view+json": {
       "model_id": "2c82a7600cb94d01a48b2684d1694748",
       "version_major": 2,
       "version_minor": 0
      },
      "text/plain": [
       "HBox(children=(IntProgress(value=0, max=112711), HTML(value='')))"
      ]
     },
     "metadata": {},
     "output_type": "display_data"
    },
    {
     "name": "stdout",
     "output_type": "stream",
     "text": [
      "pi is fixed\n",
      "A is fixed\n",
      "iteration 0; log likelihood -11850.0439\n",
      "iteration 1; log likelihood -10277.5541\n",
      "iteration 2; log likelihood -10271.0402\n",
      "iteration 3; log likelihood -10262.6000\n",
      "iteration 4; log likelihood -10250.1944\n",
      "iteration 5; log likelihood -10230.4195\n",
      "iteration 6; log likelihood -10198.1098\n",
      "iteration 7; log likelihood -10147.0457\n",
      "iteration 8; log likelihood -10072.1209\n",
      "iteration 9; log likelihood -9969.1139\n",
      "iteration 10; log likelihood -9826.8589\n",
      "iteration 11; log likelihood -9627.2120\n",
      "iteration 12; log likelihood -9387.1919\n",
      "iteration 13; log likelihood -9166.3374\n",
      "iteration 14; log likelihood -8993.0670\n",
      "iteration 15; log likelihood -8861.1108\n",
      "iteration 16; log likelihood -8758.8636\n",
      "iteration 17; log likelihood -8678.4143\n",
      "iteration 18; log likelihood -8617.4155\n",
      "iteration 19; log likelihood -8573.4314\n",
      "iteration 20; log likelihood -8542.5062\n",
      "iteration 21; log likelihood -8520.8221\n",
      "iteration 22; log likelihood -8505.3746\n",
      "iteration 23; log likelihood -8494.0853\n",
      "iteration 24; log likelihood -8485.6203\n",
      "iteration 25; log likelihood -8479.1477\n",
      "iteration 26; log likelihood -8474.1301\n",
      "iteration 27; log likelihood -8470.1918\n",
      "iteration 28; log likelihood -8467.0574\n",
      "iteration 29; log likelihood -8464.5261\n",
      "iteration 30; log likelihood -8462.4552\n",
      "iteration 31; log likelihood -8460.7434\n",
      "iteration 32; log likelihood -8459.3162\n",
      "iteration 33; log likelihood -8458.1169\n",
      "iteration 34; log likelihood -8457.1010\n",
      "iteration 35; log likelihood -8456.2334\n",
      "early stopping previous_llh -8457.100979153527, log_likelihood -8456.23344710071\n"
     ]
    },
    {
     "data": {
      "application/vnd.jupyter.widget-view+json": {
       "model_id": "265c44e30f6846d891ff114245ed1717",
       "version_major": 2,
       "version_minor": 0
      },
      "text/plain": [
       "HBox(children=(IntProgress(value=0, max=3355), HTML(value='')))"
      ]
     },
     "metadata": {},
     "output_type": "display_data"
    },
    {
     "data": {
      "application/vnd.jupyter.widget-view+json": {
       "model_id": "96d143d0fc914f2b8772cead446d2554",
       "version_major": 2,
       "version_minor": 0
      },
      "text/plain": [
       "HBox(children=(IntProgress(value=0, max=112711), HTML(value='')))"
      ]
     },
     "metadata": {},
     "output_type": "display_data"
    },
    {
     "name": "stdout",
     "output_type": "stream",
     "text": [
      "pi is fixed\n",
      "A is fixed\n",
      "iteration 0; log likelihood -76048.0281\n",
      "iteration 1; log likelihood -61367.2396\n",
      "iteration 2; log likelihood -61364.3327\n",
      "iteration 3; log likelihood -61359.4598\n",
      "iteration 4; log likelihood -61348.8286\n",
      "iteration 5; log likelihood -61320.6342\n",
      "iteration 6; log likelihood -61234.0304\n",
      "iteration 7; log likelihood -60918.9165\n",
      "iteration 8; log likelihood -60188.9573\n",
      "iteration 9; log likelihood -59033.5018\n",
      "iteration 10; log likelihood -57607.3419\n",
      "iteration 11; log likelihood -56275.9521\n",
      "iteration 12; log likelihood -55238.3088\n",
      "iteration 13; log likelihood -54475.0755\n",
      "iteration 14; log likelihood -53879.1896\n",
      "iteration 15; log likelihood -53379.7522\n",
      "iteration 16; log likelihood -52948.1545\n",
      "iteration 17; log likelihood -52564.5624\n",
      "iteration 18; log likelihood -52207.7696\n",
      "iteration 19; log likelihood -51862.7917\n",
      "iteration 20; log likelihood -51525.7892\n",
      "iteration 21; log likelihood -51204.2628\n",
      "iteration 22; log likelihood -50914.3108\n",
      "iteration 23; log likelihood -50670.9361\n",
      "iteration 24; log likelihood -50478.6464\n",
      "iteration 25; log likelihood -50332.1220\n",
      "iteration 26; log likelihood -50222.1013\n",
      "iteration 27; log likelihood -50139.4836\n",
      "iteration 28; log likelihood -50076.8036\n",
      "iteration 29; log likelihood -50028.4946\n",
      "iteration 30; log likelihood -49990.9583\n",
      "iteration 31; log likelihood -49962.0636\n",
      "iteration 32; log likelihood -49939.7305\n",
      "iteration 33; log likelihood -49922.1056\n",
      "iteration 34; log likelihood -49908.0267\n",
      "iteration 35; log likelihood -49896.6954\n",
      "iteration 36; log likelihood -49887.5017\n",
      "iteration 37; log likelihood -49879.9715\n",
      "iteration 38; log likelihood -49873.7405\n",
      "iteration 39; log likelihood -49868.5318\n",
      "iteration 40; log likelihood -49864.1353\n",
      "iteration 41; log likelihood -49860.3914\n",
      "iteration 42; log likelihood -49857.1770\n",
      "iteration 43; log likelihood -49854.3960\n",
      "iteration 44; log likelihood -49851.9720\n",
      "iteration 45; log likelihood -49849.8442\n",
      "iteration 46; log likelihood -49847.9678\n",
      "iteration 47; log likelihood -49846.3151\n",
      "iteration 48; log likelihood -49844.8684\n",
      "iteration 49; log likelihood -49843.6069\n",
      "iteration 50; log likelihood -49842.5038\n",
      "iteration 51; log likelihood -49841.5336\n",
      "early stopping previous_llh -49842.503823997235, log_likelihood -49841.53362499691\n"
     ]
    },
    {
     "data": {
      "application/vnd.jupyter.widget-view+json": {
       "model_id": "4da7421567a942f4be206868f41df944",
       "version_major": 2,
       "version_minor": 0
      },
      "text/plain": [
       "HBox(children=(IntProgress(value=0, max=2755), HTML(value='')))"
      ]
     },
     "metadata": {},
     "output_type": "display_data"
    },
    {
     "data": {
      "application/vnd.jupyter.widget-view+json": {
       "model_id": "d09631c6bfa449858854b445209e56a2",
       "version_major": 2,
       "version_minor": 0
      },
      "text/plain": [
       "HBox(children=(IntProgress(value=0, max=8292), HTML(value='')))"
      ]
     },
     "metadata": {},
     "output_type": "display_data"
    },
    {
     "data": {
      "application/vnd.jupyter.widget-view+json": {
       "model_id": "b9f0067798f94320888645d12f25b936",
       "version_major": 2,
       "version_minor": 0
      },
      "text/plain": [
       "HBox(children=(IntProgress(value=0, max=10337), HTML(value='')))"
      ]
     },
     "metadata": {},
     "output_type": "display_data"
    },
    {
     "data": {
      "application/vnd.jupyter.widget-view+json": {
       "model_id": "440bdf28baf04385bb2b715390531dfa",
       "version_major": 2,
       "version_minor": 0
      },
      "text/plain": [
       "HBox(children=(IntProgress(value=0, max=5584), HTML(value='')))"
      ]
     },
     "metadata": {},
     "output_type": "display_data"
    },
    {
     "data": {
      "application/vnd.jupyter.widget-view+json": {
       "model_id": "df708e1bf2c147778adda8673cdaf275",
       "version_major": 2,
       "version_minor": 0
      },
      "text/plain": [
       "HBox(children=(IntProgress(value=0, max=3009), HTML(value='')))"
      ]
     },
     "metadata": {},
     "output_type": "display_data"
    },
    {
     "name": "stdout",
     "output_type": "stream",
     "text": [
      "pi is fixed\n",
      "A is fixed\n",
      "iteration 0; log likelihood -12936.7882\n",
      "iteration 1; log likelihood -11140.7436\n",
      "iteration 2; log likelihood -11134.6618\n",
      "iteration 3; log likelihood -11126.8667\n",
      "iteration 4; log likelihood -11115.7892\n",
      "iteration 5; log likelihood -11098.8562\n",
      "iteration 6; log likelihood -11072.0307\n",
      "iteration 7; log likelihood -11029.7669\n",
      "iteration 8; log likelihood -10966.1434\n",
      "iteration 9; log likelihood -10876.8998\n",
      "iteration 10; log likelihood -10759.5407\n",
      "iteration 11; log likelihood -10608.6729\n",
      "iteration 12; log likelihood -10412.3992\n",
      "iteration 13; log likelihood -10174.2497\n",
      "iteration 14; log likelihood -9934.1924\n",
      "iteration 15; log likelihood -9723.6301\n",
      "iteration 16; log likelihood -9558.1608\n",
      "iteration 17; log likelihood -9440.1338\n",
      "iteration 18; log likelihood -9356.4466\n",
      "iteration 19; log likelihood -9295.0267\n",
      "iteration 20; log likelihood -9250.1150\n",
      "iteration 21; log likelihood -9217.1972\n",
      "iteration 22; log likelihood -9192.6370\n",
      "iteration 23; log likelihood -9173.8659\n",
      "iteration 24; log likelihood -9159.1868\n",
      "iteration 25; log likelihood -9147.5576\n",
      "iteration 26; log likelihood -9138.4103\n",
      "iteration 27; log likelihood -9131.3775\n",
      "iteration 28; log likelihood -9126.0852\n",
      "iteration 29; log likelihood -9122.1244\n",
      "iteration 30; log likelihood -9119.1121\n",
      "iteration 31; log likelihood -9116.7407\n",
      "iteration 32; log likelihood -9114.8042\n",
      "iteration 33; log likelihood -9113.2105\n",
      "iteration 34; log likelihood -9111.9250\n",
      "iteration 35; log likelihood -9110.8959\n",
      "iteration 36; log likelihood -9110.0614\n",
      "early stopping previous_llh -9110.895884258285, log_likelihood -9110.061367679335\n"
     ]
    },
    {
     "data": {
      "application/vnd.jupyter.widget-view+json": {
       "model_id": "b1c11472bcd045b0b85f24a417293b40",
       "version_major": 2,
       "version_minor": 0
      },
      "text/plain": [
       "HBox(children=(IntProgress(value=0, max=3355), HTML(value='')))"
      ]
     },
     "metadata": {},
     "output_type": "display_data"
    },
    {
     "data": {
      "application/vnd.jupyter.widget-view+json": {
       "model_id": "86643cc57b1742799a2423328bd43bb5",
       "version_major": 2,
       "version_minor": 0
      },
      "text/plain": [
       "HBox(children=(IntProgress(value=0, max=112711), HTML(value='')))"
      ]
     },
     "metadata": {},
     "output_type": "display_data"
    },
    {
     "name": "stdout",
     "output_type": "stream",
     "text": [
      "pi is fixed\n",
      "A is fixed\n",
      "iteration 0; log likelihood -11615.9543\n",
      "iteration 1; log likelihood -9854.6869\n",
      "iteration 2; log likelihood -9850.5030\n",
      "iteration 3; log likelihood -9845.6362\n",
      "iteration 4; log likelihood -9839.4475\n",
      "iteration 5; log likelihood -9830.9979\n",
      "iteration 6; log likelihood -9818.8957\n",
      "iteration 7; log likelihood -9801.1706\n",
      "iteration 8; log likelihood -9775.3226\n",
      "iteration 9; log likelihood -9738.7788\n",
      "iteration 10; log likelihood -9689.8254\n",
      "iteration 11; log likelihood -9628.6818\n",
      "iteration 12; log likelihood -9558.2448\n",
      "iteration 13; log likelihood -9483.8944\n",
      "iteration 14; log likelihood -9411.4992\n",
      "iteration 15; log likelihood -9344.1275\n",
      "iteration 16; log likelihood -9279.7620\n",
      "iteration 17; log likelihood -9211.5891\n",
      "iteration 18; log likelihood -9130.7569\n",
      "iteration 19; log likelihood -9030.9889\n",
      "iteration 20; log likelihood -8913.5007\n",
      "iteration 21; log likelihood -8789.4656\n",
      "iteration 22; log likelihood -8671.1782\n",
      "iteration 23; log likelihood -8566.6218\n",
      "iteration 24; log likelihood -8481.8314\n",
      "iteration 25; log likelihood -8418.0123\n",
      "iteration 26; log likelihood -8373.4216\n",
      "iteration 27; log likelihood -8343.8599\n",
      "iteration 28; log likelihood -8324.1417\n",
      "iteration 29; log likelihood -8310.5086\n",
      "iteration 30; log likelihood -8300.6855\n",
      "iteration 31; log likelihood -8293.3008\n",
      "iteration 32; log likelihood -8287.4336\n",
      "iteration 33; log likelihood -8282.2920\n",
      "iteration 34; log likelihood -8277.9868\n",
      "iteration 35; log likelihood -8274.9278\n",
      "iteration 36; log likelihood -8272.6448\n",
      "iteration 37; log likelihood -8270.8177\n",
      "iteration 38; log likelihood -8269.2629\n",
      "iteration 39; log likelihood -8267.8637\n",
      "iteration 40; log likelihood -8266.5794\n",
      "iteration 41; log likelihood -8265.4433\n",
      "iteration 42; log likelihood -8264.4916\n",
      "early stopping previous_llh -8265.443286545466, log_likelihood -8264.491630056744\n"
     ]
    },
    {
     "data": {
      "application/vnd.jupyter.widget-view+json": {
       "model_id": "8c97d6ab9e7c48ae92c423b431ea29a8",
       "version_major": 2,
       "version_minor": 0
      },
      "text/plain": [
       "HBox(children=(IntProgress(value=0, max=3355), HTML(value='')))"
      ]
     },
     "metadata": {},
     "output_type": "display_data"
    },
    {
     "data": {
      "application/vnd.jupyter.widget-view+json": {
       "model_id": "abdba3c9b0784a6da870c3e39487ffc8",
       "version_major": 2,
       "version_minor": 0
      },
      "text/plain": [
       "HBox(children=(IntProgress(value=0, max=112711), HTML(value='')))"
      ]
     },
     "metadata": {},
     "output_type": "display_data"
    },
    {
     "name": "stdout",
     "output_type": "stream",
     "text": [
      "pi is fixed\n",
      "A is fixed\n",
      "iteration 0; log likelihood -15342.9202\n",
      "iteration 1; log likelihood -13311.1494\n",
      "iteration 2; log likelihood -13306.0855\n",
      "iteration 3; log likelihood -13299.8439\n",
      "iteration 4; log likelihood -13291.2090\n",
      "iteration 5; log likelihood -13278.1089\n",
      "iteration 6; log likelihood -13257.0809\n",
      "iteration 7; log likelihood -13222.8174\n",
      "iteration 8; log likelihood -13168.5040\n",
      "iteration 9; log likelihood -13087.6162\n",
      "iteration 10; log likelihood -12975.5827\n",
      "iteration 11; log likelihood -12827.3554\n",
      "iteration 12; log likelihood -12631.4281\n",
      "iteration 13; log likelihood -12375.2145\n",
      "iteration 14; log likelihood -12080.6961\n",
      "iteration 15; log likelihood -11805.5154\n",
      "iteration 16; log likelihood -11581.9142\n",
      "iteration 17; log likelihood -11411.6264\n",
      "iteration 18; log likelihood -11284.5558\n",
      "iteration 19; log likelihood -11191.1438\n",
      "iteration 20; log likelihood -11124.6632\n",
      "iteration 21; log likelihood -11079.0209\n",
      "iteration 22; log likelihood -11047.9391\n",
      "iteration 23; log likelihood -11026.7009\n",
      "iteration 24; log likelihood -11011.7031\n",
      "iteration 25; log likelihood -11000.6771\n",
      "iteration 26; log likelihood -10992.3369\n",
      "iteration 27; log likelihood -10985.9070\n",
      "iteration 28; log likelihood -10980.8792\n",
      "iteration 29; log likelihood -10976.8992\n",
      "iteration 30; log likelihood -10973.7114\n",
      "iteration 31; log likelihood -10971.1288\n",
      "iteration 32; log likelihood -10969.0146\n",
      "iteration 33; log likelihood -10967.2686\n",
      "iteration 34; log likelihood -10965.8160\n",
      "iteration 35; log likelihood -10964.5993\n",
      "iteration 36; log likelihood -10963.5717\n",
      "iteration 37; log likelihood -10962.6952\n",
      "early stopping previous_llh -10963.57166012963, log_likelihood -10962.695192973692\n"
     ]
    },
    {
     "data": {
      "application/vnd.jupyter.widget-view+json": {
       "model_id": "83ea4672eb4f4f51abb8242fe04905a3",
       "version_major": 2,
       "version_minor": 0
      },
      "text/plain": [
       "HBox(children=(IntProgress(value=0, max=3355), HTML(value='')))"
      ]
     },
     "metadata": {},
     "output_type": "display_data"
    },
    {
     "data": {
      "application/vnd.jupyter.widget-view+json": {
       "model_id": "817732fd6cd2470aa1592694347e7b8b",
       "version_major": 2,
       "version_minor": 0
      },
      "text/plain": [
       "HBox(children=(IntProgress(value=0, max=112711), HTML(value='')))"
      ]
     },
     "metadata": {},
     "output_type": "display_data"
    },
    {
     "name": "stdout",
     "output_type": "stream",
     "text": [
      "pi is fixed\n",
      "A is fixed\n",
      "iteration 0; log likelihood -12843.8555\n",
      "iteration 1; log likelihood -11118.9093\n",
      "iteration 2; log likelihood -11112.8219\n",
      "iteration 3; log likelihood -11105.4741\n",
      "iteration 4; log likelihood -11095.6832\n",
      "iteration 5; log likelihood -11081.5506\n",
      "iteration 6; log likelihood -11060.1130\n",
      "iteration 7; log likelihood -11027.1587\n",
      "iteration 8; log likelihood -10977.6754\n",
      "iteration 9; log likelihood -10907.0419\n",
      "iteration 10; log likelihood -10811.3110\n",
      "iteration 11; log likelihood -10683.5823\n",
      "iteration 12; log likelihood -10509.0385\n",
      "iteration 13; log likelihood -10283.5440\n",
      "iteration 14; log likelihood -10051.9490\n",
      "iteration 15; log likelihood -9857.2221\n",
      "iteration 16; log likelihood -9691.4400\n",
      "iteration 17; log likelihood -9535.3711\n",
      "iteration 18; log likelihood -9392.7381\n",
      "iteration 19; log likelihood -9277.9754\n",
      "iteration 20; log likelihood -9194.9011\n",
      "iteration 21; log likelihood -9139.1779\n",
      "iteration 22; log likelihood -9102.7833\n",
      "iteration 23; log likelihood -9078.8919\n",
      "iteration 24; log likelihood -9062.8933\n",
      "iteration 25; log likelihood -9051.8604\n",
      "iteration 26; log likelihood -9044.0081\n",
      "iteration 27; log likelihood -9038.2859\n",
      "iteration 28; log likelihood -9034.0564\n",
      "iteration 29; log likelihood -9030.8857\n",
      "iteration 30; log likelihood -9028.4630\n",
      "iteration 31; log likelihood -9026.5671\n",
      "iteration 32; log likelihood -9025.0382\n",
      "iteration 33; log likelihood -9023.7660\n",
      "iteration 34; log likelihood -9022.7032\n",
      "iteration 35; log likelihood -9021.8487\n",
      "early stopping previous_llh -9022.703166973783, log_likelihood -9021.848728970905\n"
     ]
    },
    {
     "data": {
      "application/vnd.jupyter.widget-view+json": {
       "model_id": "df58ba21a94b47249fb226ebb8b3fc4b",
       "version_major": 2,
       "version_minor": 0
      },
      "text/plain": [
       "HBox(children=(IntProgress(value=0, max=3355), HTML(value='')))"
      ]
     },
     "metadata": {},
     "output_type": "display_data"
    },
    {
     "data": {
      "application/vnd.jupyter.widget-view+json": {
       "model_id": "c4075dda18e047919ac2f89b9b21b206",
       "version_major": 2,
       "version_minor": 0
      },
      "text/plain": [
       "HBox(children=(IntProgress(value=0, max=112711), HTML(value='')))"
      ]
     },
     "metadata": {},
     "output_type": "display_data"
    },
    {
     "name": "stdout",
     "output_type": "stream",
     "text": [
      "pi is fixed\n",
      "A is fixed\n",
      "iteration 0; log likelihood -12273.1686\n",
      "iteration 1; log likelihood -10650.2031\n",
      "iteration 2; log likelihood -10644.4235\n",
      "iteration 3; log likelihood -10637.4096\n",
      "iteration 4; log likelihood -10627.8983\n",
      "iteration 5; log likelihood -10614.1428\n",
      "iteration 6; log likelihood -10593.8138\n",
      "iteration 7; log likelihood -10564.2250\n",
      "iteration 8; log likelihood -10522.9940\n",
      "iteration 9; log likelihood -10468.7941\n",
      "iteration 10; log likelihood -10401.4526\n",
      "iteration 11; log likelihood -10321.4244\n",
      "iteration 12; log likelihood -10230.2783\n",
      "iteration 13; log likelihood -10133.2963\n",
      "iteration 14; log likelihood -10040.5825\n",
      "iteration 15; log likelihood -9961.7308\n",
      "iteration 16; log likelihood -9899.8484\n",
      "iteration 17; log likelihood -9852.5562\n",
      "iteration 18; log likelihood -9815.8651\n",
      "iteration 19; log likelihood -9786.3342\n",
      "iteration 20; log likelihood -9761.6119\n",
      "iteration 21; log likelihood -9740.3312\n",
      "iteration 22; log likelihood -9721.8052\n",
      "iteration 23; log likelihood -9705.7088\n",
      "iteration 24; log likelihood -9691.8327\n",
      "iteration 25; log likelihood -9679.9519\n",
      "iteration 26; log likelihood -9669.8099\n",
      "iteration 27; log likelihood -9661.1526\n",
      "iteration 28; log likelihood -9653.7514\n",
      "iteration 29; log likelihood -9647.4065\n",
      "iteration 30; log likelihood -9641.9439\n",
      "iteration 31; log likelihood -9637.2113\n",
      "iteration 32; log likelihood -9633.0762\n",
      "iteration 33; log likelihood -9629.4258\n",
      "iteration 34; log likelihood -9626.1673\n",
      "iteration 35; log likelihood -9623.2308\n",
      "iteration 36; log likelihood -9620.5702\n",
      "iteration 37; log likelihood -9618.1582\n",
      "iteration 38; log likelihood -9615.9765\n",
      "iteration 39; log likelihood -9614.0064\n",
      "iteration 40; log likelihood -9612.2250\n",
      "iteration 41; log likelihood -9610.6069\n",
      "iteration 42; log likelihood -9609.1271\n",
      "iteration 43; log likelihood -9607.7626\n",
      "iteration 44; log likelihood -9606.4937\n",
      "iteration 45; log likelihood -9605.3036\n",
      "iteration 46; log likelihood -9604.1780\n",
      "iteration 47; log likelihood -9603.1051\n",
      "iteration 48; log likelihood -9602.0750\n",
      "iteration 49; log likelihood -9601.0798\n",
      "early stopping previous_llh -9602.075015012088, log_likelihood -9601.079754662713\n"
     ]
    },
    {
     "data": {
      "application/vnd.jupyter.widget-view+json": {
       "model_id": "c9282d6fbd6442658ff063dccdfe32ea",
       "version_major": 2,
       "version_minor": 0
      },
      "text/plain": [
       "HBox(children=(IntProgress(value=0, max=3355), HTML(value='')))"
      ]
     },
     "metadata": {},
     "output_type": "display_data"
    },
    {
     "data": {
      "application/vnd.jupyter.widget-view+json": {
       "model_id": "6752717a30e24dbda807c9be51052195",
       "version_major": 2,
       "version_minor": 0
      },
      "text/plain": [
       "HBox(children=(IntProgress(value=0, max=112711), HTML(value='')))"
      ]
     },
     "metadata": {},
     "output_type": "display_data"
    },
    {
     "name": "stdout",
     "output_type": "stream",
     "text": [
      "pi is fixed\n",
      "A is fixed\n",
      "iteration 0; log likelihood -14174.8375\n",
      "iteration 1; log likelihood -12273.4177\n",
      "iteration 2; log likelihood -12266.5926\n",
      "iteration 3; log likelihood -12258.8438\n",
      "iteration 4; log likelihood -12248.8653\n",
      "iteration 5; log likelihood -12234.3849\n",
      "iteration 6; log likelihood -12211.4540\n",
      "iteration 7; log likelihood -12173.5987\n",
      "iteration 8; log likelihood -12111.2441\n",
      "iteration 9; log likelihood -12011.0723\n",
      "iteration 10; log likelihood -11852.7025\n",
      "iteration 11; log likelihood -11614.0010\n",
      "iteration 12; log likelihood -11321.7767\n",
      "iteration 13; log likelihood -11055.8813\n",
      "iteration 14; log likelihood -10849.8949\n",
      "iteration 15; log likelihood -10690.6548\n",
      "iteration 16; log likelihood -10562.9264\n",
      "iteration 17; log likelihood -10457.3364\n",
      "iteration 18; log likelihood -10369.6252\n",
      "iteration 19; log likelihood -10299.4207\n",
      "iteration 20; log likelihood -10246.5607\n",
      "iteration 21; log likelihood -10208.5391\n",
      "iteration 22; log likelihood -10181.4826\n",
      "iteration 23; log likelihood -10161.9778\n",
      "iteration 24; log likelihood -10147.7186\n",
      "iteration 25; log likelihood -10137.2167\n",
      "iteration 26; log likelihood -10129.4364\n",
      "iteration 27; log likelihood -10123.6331\n",
      "iteration 28; log likelihood -10119.2534\n",
      "iteration 29; log likelihood -10115.8662\n",
      "iteration 30; log likelihood -10113.1469\n",
      "iteration 31; log likelihood -10110.9228\n",
      "iteration 32; log likelihood -10109.1470\n",
      "iteration 33; log likelihood -10107.7613\n",
      "iteration 34; log likelihood -10106.6698\n",
      "iteration 35; log likelihood -10105.7896\n",
      "early stopping previous_llh -10106.66982427019, log_likelihood -10105.789552337734\n"
     ]
    },
    {
     "data": {
      "application/vnd.jupyter.widget-view+json": {
       "model_id": "7809aaa31afa48c399c07f77f2d66864",
       "version_major": 2,
       "version_minor": 0
      },
      "text/plain": [
       "HBox(children=(IntProgress(value=0, max=3355), HTML(value='')))"
      ]
     },
     "metadata": {},
     "output_type": "display_data"
    },
    {
     "data": {
      "application/vnd.jupyter.widget-view+json": {
       "model_id": "8c0e93f98a4e48269959fba9bd85af60",
       "version_major": 2,
       "version_minor": 0
      },
      "text/plain": [
       "HBox(children=(IntProgress(value=0, max=112711), HTML(value='')))"
      ]
     },
     "metadata": {},
     "output_type": "display_data"
    },
    {
     "name": "stdout",
     "output_type": "stream",
     "text": [
      "pi is fixed\n",
      "A is fixed\n",
      "iteration 0; log likelihood -14964.8141\n",
      "iteration 1; log likelihood -12784.8679\n",
      "iteration 2; log likelihood -12782.0368\n",
      "iteration 3; log likelihood -12778.6192\n",
      "iteration 4; log likelihood -12774.0746\n",
      "iteration 5; log likelihood -12767.5154\n",
      "iteration 6; log likelihood -12757.4481\n",
      "iteration 7; log likelihood -12741.4009\n",
      "iteration 8; log likelihood -12715.5380\n",
      "iteration 9; log likelihood -12674.6519\n",
      "iteration 10; log likelihood -12613.0344\n",
      "iteration 11; log likelihood -12525.3313\n",
      "iteration 12; log likelihood -12403.7556\n",
      "iteration 13; log likelihood -12232.8801\n",
      "iteration 14; log likelihood -12002.7766\n",
      "iteration 15; log likelihood -11742.9372\n",
      "iteration 16; log likelihood -11505.2078\n",
      "iteration 17; log likelihood -11308.1481\n",
      "iteration 18; log likelihood -11149.2076\n",
      "iteration 19; log likelihood -11023.2433\n",
      "iteration 20; log likelihood -10925.2926\n",
      "iteration 21; log likelihood -10851.9629\n",
      "iteration 22; log likelihood -10799.8376\n",
      "iteration 23; log likelihood -10763.7540\n",
      "iteration 24; log likelihood -10738.4997\n",
      "iteration 25; log likelihood -10720.3118\n",
      "iteration 26; log likelihood -10706.7986\n",
      "iteration 27; log likelihood -10696.4886\n",
      "iteration 28; log likelihood -10688.4563\n",
      "iteration 29; log likelihood -10682.0761\n",
      "iteration 30; log likelihood -10676.9107\n",
      "iteration 31; log likelihood -10672.6605\n",
      "iteration 32; log likelihood -10669.1204\n",
      "iteration 33; log likelihood -10666.1457\n",
      "iteration 34; log likelihood -10663.6294\n",
      "iteration 35; log likelihood -10661.4898\n",
      "iteration 36; log likelihood -10659.6624\n",
      "iteration 37; log likelihood -10658.0961\n",
      "iteration 38; log likelihood -10656.7499\n",
      "iteration 39; log likelihood -10655.5899\n",
      "iteration 40; log likelihood -10654.5873\n",
      "iteration 41; log likelihood -10653.7172\n",
      "early stopping previous_llh -10654.587317663305, log_likelihood -10653.717228138325\n"
     ]
    },
    {
     "data": {
      "application/vnd.jupyter.widget-view+json": {
       "model_id": "fd5a81a8ac2841eab14e13cd52f84b4b",
       "version_major": 2,
       "version_minor": 0
      },
      "text/plain": [
       "HBox(children=(IntProgress(value=0, max=3355), HTML(value='')))"
      ]
     },
     "metadata": {},
     "output_type": "display_data"
    },
    {
     "data": {
      "application/vnd.jupyter.widget-view+json": {
       "model_id": "4475715b88d94cbd805c57d84108d9c1",
       "version_major": 2,
       "version_minor": 0
      },
      "text/plain": [
       "HBox(children=(IntProgress(value=0, max=112711), HTML(value='')))"
      ]
     },
     "metadata": {},
     "output_type": "display_data"
    },
    {
     "name": "stdout",
     "output_type": "stream",
     "text": [
      "pi is fixed\n",
      "A is fixed\n",
      "iteration 0; log likelihood -12906.3669\n",
      "iteration 1; log likelihood -11051.9950\n",
      "iteration 2; log likelihood -11045.7592\n",
      "iteration 3; log likelihood -11037.4772\n",
      "iteration 4; log likelihood -11025.0509\n",
      "iteration 5; log likelihood -11004.9001\n",
      "iteration 6; log likelihood -10971.4257\n",
      "iteration 7; log likelihood -10917.7134\n",
      "iteration 8; log likelihood -10838.9464\n",
      "iteration 9; log likelihood -10735.8235\n",
      "iteration 10; log likelihood -10609.1510\n",
      "iteration 11; log likelihood -10445.7362\n",
      "iteration 12; log likelihood -10221.1219\n",
      "iteration 13; log likelihood -9953.5937\n",
      "iteration 14; log likelihood -9715.6983\n",
      "iteration 15; log likelihood -9535.4899\n",
      "iteration 16; log likelihood -9397.7242\n",
      "iteration 17; log likelihood -9286.7526\n",
      "iteration 18; log likelihood -9196.0639\n",
      "iteration 19; log likelihood -9125.7327\n",
      "iteration 20; log likelihood -9074.5597\n",
      "iteration 21; log likelihood -9038.6828\n",
      "iteration 22; log likelihood -9013.8922\n",
      "iteration 23; log likelihood -8996.7552\n",
      "iteration 24; log likelihood -8984.7775\n",
      "iteration 25; log likelihood -8976.2755\n",
      "iteration 26; log likelihood -8970.1380\n",
      "iteration 27; log likelihood -8965.6277\n",
      "iteration 28; log likelihood -8962.2516\n",
      "iteration 29; log likelihood -8959.6769\n",
      "iteration 30; log likelihood -8957.6767\n",
      "iteration 31; log likelihood -8956.0944\n",
      "iteration 32; log likelihood -8954.8212\n",
      "iteration 33; log likelihood -8953.7816\n",
      "iteration 34; log likelihood -8952.9229\n",
      "early stopping previous_llh -8953.78162034757, log_likelihood -8952.922851778265\n"
     ]
    },
    {
     "data": {
      "application/vnd.jupyter.widget-view+json": {
       "model_id": "9ca3c02f664d472eb7ca3c25d3383436",
       "version_major": 2,
       "version_minor": 0
      },
      "text/plain": [
       "HBox(children=(IntProgress(value=0, max=3355), HTML(value='')))"
      ]
     },
     "metadata": {},
     "output_type": "display_data"
    },
    {
     "data": {
      "application/vnd.jupyter.widget-view+json": {
       "model_id": "84afaf015d84473ebaacf6efda735865",
       "version_major": 2,
       "version_minor": 0
      },
      "text/plain": [
       "HBox(children=(IntProgress(value=0, max=112711), HTML(value='')))"
      ]
     },
     "metadata": {},
     "output_type": "display_data"
    },
    {
     "name": "stdout",
     "output_type": "stream",
     "text": [
      "pi is fixed\n",
      "A is fixed\n",
      "iteration 0; log likelihood -12137.4756\n",
      "iteration 1; log likelihood -10508.8856\n",
      "iteration 2; log likelihood -10505.0191\n",
      "iteration 3; log likelihood -10500.4255\n",
      "iteration 4; log likelihood -10494.5140\n",
      "iteration 5; log likelihood -10486.4383\n",
      "iteration 6; log likelihood -10474.9885\n",
      "iteration 7; log likelihood -10458.4984\n",
      "iteration 8; log likelihood -10434.8261\n",
      "iteration 9; log likelihood -10401.4797\n",
      "iteration 10; log likelihood -10355.9373\n",
      "iteration 11; log likelihood -10296.2011\n",
      "iteration 12; log likelihood -10221.8390\n",
      "iteration 13; log likelihood -10135.7726\n",
      "iteration 14; log likelihood -10045.5461\n",
      "iteration 15; log likelihood -9961.2599\n",
      "iteration 16; log likelihood -9890.3290\n",
      "iteration 17; log likelihood -9834.3469\n",
      "iteration 18; log likelihood -9790.9144\n",
      "iteration 19; log likelihood -9756.8215\n",
      "iteration 20; log likelihood -9729.5423\n",
      "iteration 21; log likelihood -9707.3610\n",
      "iteration 22; log likelihood -9689.1294\n",
      "iteration 23; log likelihood -9674.0361\n",
      "iteration 24; log likelihood -9661.4555\n",
      "iteration 25; log likelihood -9650.8776\n",
      "iteration 26; log likelihood -9641.8864\n",
      "iteration 27; log likelihood -9634.1501\n",
      "iteration 28; log likelihood -9627.4098\n",
      "iteration 29; log likelihood -9621.4655\n",
      "iteration 30; log likelihood -9616.1629\n",
      "iteration 31; log likelihood -9611.3822\n",
      "iteration 32; log likelihood -9607.0286\n",
      "iteration 33; log likelihood -9603.0257\n",
      "iteration 34; log likelihood -9599.3138\n",
      "iteration 35; log likelihood -9595.8523\n",
      "iteration 36; log likelihood -9592.6230\n",
      "iteration 37; log likelihood -9589.6224\n",
      "iteration 38; log likelihood -9586.8475\n",
      "iteration 39; log likelihood -9584.2888\n",
      "iteration 40; log likelihood -9581.9329\n",
      "iteration 41; log likelihood -9579.7666\n",
      "iteration 42; log likelihood -9577.7775\n",
      "iteration 43; log likelihood -9575.9532\n",
      "iteration 44; log likelihood -9574.2811\n",
      "iteration 45; log likelihood -9572.7475\n",
      "iteration 46; log likelihood -9571.3389\n",
      "iteration 47; log likelihood -9570.0419\n",
      "iteration 48; log likelihood -9568.8441\n",
      "iteration 49; log likelihood -9567.7340\n",
      "iteration 50; log likelihood -9566.7013\n",
      "iteration 51; log likelihood -9565.7366\n",
      "early stopping previous_llh -9566.701271685102, log_likelihood -9565.736572295731\n"
     ]
    },
    {
     "data": {
      "application/vnd.jupyter.widget-view+json": {
       "model_id": "3ae8c62125934133a8aaaf9512f52dde",
       "version_major": 2,
       "version_minor": 0
      },
      "text/plain": [
       "HBox(children=(IntProgress(value=0, max=3355), HTML(value='')))"
      ]
     },
     "metadata": {},
     "output_type": "display_data"
    },
    {
     "data": {
      "application/vnd.jupyter.widget-view+json": {
       "model_id": "2f91d6898160480094f624edf5fdee57",
       "version_major": 2,
       "version_minor": 0
      },
      "text/plain": [
       "HBox(children=(IntProgress(value=0, max=112711), HTML(value='')))"
      ]
     },
     "metadata": {},
     "output_type": "display_data"
    },
    {
     "name": "stdout",
     "output_type": "stream",
     "text": [
      "pi is fixed\n",
      "A is fixed\n",
      "iteration 0; log likelihood -9132.5400\n",
      "iteration 1; log likelihood -7461.5524\n",
      "iteration 2; log likelihood -7454.5983\n",
      "iteration 3; log likelihood -7445.5185\n",
      "iteration 4; log likelihood -7430.9782\n",
      "iteration 5; log likelihood -7402.4645\n",
      "iteration 6; log likelihood -7341.5628\n",
      "iteration 7; log likelihood -7225.1957\n",
      "iteration 8; log likelihood -7040.8248\n",
      "iteration 9; log likelihood -6836.7680\n",
      "iteration 10; log likelihood -6680.9454\n",
      "iteration 11; log likelihood -6575.7912\n",
      "iteration 12; log likelihood -6500.7501\n",
      "iteration 13; log likelihood -6443.0831\n",
      "iteration 14; log likelihood -6396.6596\n",
      "iteration 15; log likelihood -6358.3621\n",
      "iteration 16; log likelihood -6326.5090\n",
      "iteration 17; log likelihood -6299.9550\n",
      "iteration 18; log likelihood -6277.6057\n",
      "iteration 19; log likelihood -6258.5004\n",
      "iteration 20; log likelihood -6241.9630\n",
      "iteration 21; log likelihood -6227.6009\n",
      "iteration 22; log likelihood -6215.1649\n",
      "iteration 23; log likelihood -6204.4339\n",
      "iteration 24; log likelihood -6195.2061\n",
      "iteration 25; log likelihood -6187.3138\n",
      "iteration 26; log likelihood -6180.6225\n",
      "iteration 27; log likelihood -6175.0049\n",
      "iteration 28; log likelihood -6170.3119\n",
      "iteration 29; log likelihood -6166.3735\n",
      "iteration 30; log likelihood -6163.0196\n",
      "iteration 31; log likelihood -6160.1299\n",
      "iteration 32; log likelihood -6157.6875\n",
      "iteration 33; log likelihood -6155.7147\n",
      "iteration 34; log likelihood -6154.1520\n",
      "iteration 35; log likelihood -6152.8921\n",
      "iteration 36; log likelihood -6151.8515\n",
      "iteration 37; log likelihood -6150.9760\n",
      "early stopping previous_llh -6151.85154740776, log_likelihood -6150.976000203408\n"
     ]
    },
    {
     "data": {
      "application/vnd.jupyter.widget-view+json": {
       "model_id": "01a1d0732ee342c6a311b718af581d6c",
       "version_major": 2,
       "version_minor": 0
      },
      "text/plain": [
       "HBox(children=(IntProgress(value=0, max=2755), HTML(value='')))"
      ]
     },
     "metadata": {},
     "output_type": "display_data"
    },
    {
     "data": {
      "application/vnd.jupyter.widget-view+json": {
       "model_id": "7b1601c51c79433fbcd1a9a89f041900",
       "version_major": 2,
       "version_minor": 0
      },
      "text/plain": [
       "HBox(children=(IntProgress(value=0, max=8292), HTML(value='')))"
      ]
     },
     "metadata": {},
     "output_type": "display_data"
    },
    {
     "data": {
      "application/vnd.jupyter.widget-view+json": {
       "model_id": "1c51fc2d3b8a48eb87ffacce5344cd6c",
       "version_major": 2,
       "version_minor": 0
      },
      "text/plain": [
       "HBox(children=(IntProgress(value=0, max=10337), HTML(value='')))"
      ]
     },
     "metadata": {},
     "output_type": "display_data"
    },
    {
     "data": {
      "application/vnd.jupyter.widget-view+json": {
       "model_id": "8c557f20bcf24879aaec7e4afc3312d7",
       "version_major": 2,
       "version_minor": 0
      },
      "text/plain": [
       "HBox(children=(IntProgress(value=0, max=5584), HTML(value='')))"
      ]
     },
     "metadata": {},
     "output_type": "display_data"
    },
    {
     "data": {
      "application/vnd.jupyter.widget-view+json": {
       "model_id": "0c6afceeafeb4d9781651a3677de58a3",
       "version_major": 2,
       "version_minor": 0
      },
      "text/plain": [
       "HBox(children=(IntProgress(value=0, max=3009), HTML(value='')))"
      ]
     },
     "metadata": {},
     "output_type": "display_data"
    },
    {
     "name": "stdout",
     "output_type": "stream",
     "text": [
      "pi is fixed\n",
      "A is fixed\n",
      "iteration 0; log likelihood -9093.8352\n",
      "iteration 1; log likelihood -7495.1458\n",
      "iteration 2; log likelihood -7488.1793\n",
      "iteration 3; log likelihood -7476.2646\n",
      "iteration 4; log likelihood -7450.3743\n",
      "iteration 5; log likelihood -7403.0415\n",
      "iteration 6; log likelihood -7317.1158\n",
      "iteration 7; log likelihood -7171.2815\n",
      "iteration 8; log likelihood -6986.0600\n",
      "iteration 9; log likelihood -6820.7945\n",
      "iteration 10; log likelihood -6701.1605\n",
      "iteration 11; log likelihood -6616.5375\n",
      "iteration 12; log likelihood -6554.4214\n",
      "iteration 13; log likelihood -6506.7362\n",
      "iteration 14; log likelihood -6468.2883\n",
      "iteration 15; log likelihood -6435.8581\n",
      "iteration 16; log likelihood -6407.5910\n",
      "iteration 17; log likelihood -6382.5297\n",
      "iteration 18; log likelihood -6360.3072\n",
      "iteration 19; log likelihood -6340.8416\n",
      "iteration 20; log likelihood -6324.0707\n",
      "iteration 21; log likelihood -6309.8383\n",
      "iteration 22; log likelihood -6297.8998\n",
      "iteration 23; log likelihood -6287.9770\n",
      "iteration 24; log likelihood -6279.7953\n",
      "iteration 25; log likelihood -6273.0594\n",
      "iteration 26; log likelihood -6267.4909\n",
      "iteration 27; log likelihood -6262.9024\n",
      "iteration 28; log likelihood -6259.1665\n",
      "iteration 29; log likelihood -6256.1545\n",
      "iteration 30; log likelihood -6253.7140\n",
      "iteration 31; log likelihood -6251.7054\n",
      "iteration 32; log likelihood -6250.0303\n",
      "iteration 33; log likelihood -6248.6194\n",
      "iteration 34; log likelihood -6247.4206\n",
      "iteration 35; log likelihood -6246.3934\n",
      "iteration 36; log likelihood -6245.5058\n",
      "early stopping previous_llh -6246.393374410955, log_likelihood -6245.505762756365\n"
     ]
    },
    {
     "data": {
      "application/vnd.jupyter.widget-view+json": {
       "model_id": "fa7a4df5a20f4482bdeaf277f905c6d6",
       "version_major": 2,
       "version_minor": 0
      },
      "text/plain": [
       "HBox(children=(IntProgress(value=0, max=2755), HTML(value='')))"
      ]
     },
     "metadata": {},
     "output_type": "display_data"
    },
    {
     "data": {
      "application/vnd.jupyter.widget-view+json": {
       "model_id": "cce55e9caefb496882a9f529755dc633",
       "version_major": 2,
       "version_minor": 0
      },
      "text/plain": [
       "HBox(children=(IntProgress(value=0, max=8292), HTML(value='')))"
      ]
     },
     "metadata": {},
     "output_type": "display_data"
    },
    {
     "data": {
      "application/vnd.jupyter.widget-view+json": {
       "model_id": "8f578f14d510473e9ecd69b1415abe09",
       "version_major": 2,
       "version_minor": 0
      },
      "text/plain": [
       "HBox(children=(IntProgress(value=0, max=10337), HTML(value='')))"
      ]
     },
     "metadata": {},
     "output_type": "display_data"
    },
    {
     "data": {
      "application/vnd.jupyter.widget-view+json": {
       "model_id": "fe51889a534f44f1b8e565664cf06892",
       "version_major": 2,
       "version_minor": 0
      },
      "text/plain": [
       "HBox(children=(IntProgress(value=0, max=5584), HTML(value='')))"
      ]
     },
     "metadata": {},
     "output_type": "display_data"
    },
    {
     "data": {
      "application/vnd.jupyter.widget-view+json": {
       "model_id": "4284ded1c25540a4a92e96c038cebcc5",
       "version_major": 2,
       "version_minor": 0
      },
      "text/plain": [
       "HBox(children=(IntProgress(value=0, max=3009), HTML(value='')))"
      ]
     },
     "metadata": {},
     "output_type": "display_data"
    },
    {
     "name": "stdout",
     "output_type": "stream",
     "text": [
      "pi is fixed\n",
      "A is fixed\n",
      "iteration 0; log likelihood -13445.0887\n",
      "iteration 1; log likelihood -11730.3352\n",
      "iteration 2; log likelihood -11724.8476\n",
      "iteration 3; log likelihood -11718.1579\n",
      "iteration 4; log likelihood -11709.0025\n",
      "iteration 5; log likelihood -11695.2173\n",
      "iteration 6; log likelihood -11673.1467\n",
      "iteration 7; log likelihood -11637.0461\n",
      "iteration 8; log likelihood -11579.1009\n",
      "iteration 9; log likelihood -11490.5981\n",
      "iteration 10; log likelihood -11362.2426\n",
      "iteration 11; log likelihood -11180.8501\n",
      "iteration 12; log likelihood -10938.3877\n",
      "iteration 13; log likelihood -10663.5148\n",
      "iteration 14; log likelihood -10405.3350\n",
      "iteration 15; log likelihood -10192.3159\n",
      "iteration 16; log likelihood -10028.5653\n",
      "iteration 17; log likelihood -9904.2039\n",
      "iteration 18; log likelihood -9811.4535\n",
      "iteration 19; log likelihood -9745.4031\n",
      "iteration 20; log likelihood -9699.5953\n",
      "iteration 21; log likelihood -9667.7939\n",
      "iteration 22; log likelihood -9645.4959\n",
      "iteration 23; log likelihood -9629.7036\n",
      "iteration 24; log likelihood -9618.3820\n",
      "iteration 25; log likelihood -9610.1208\n",
      "iteration 26; log likelihood -9603.9566\n",
      "iteration 27; log likelihood -9599.2437\n",
      "iteration 28; log likelihood -9595.5490\n",
      "iteration 29; log likelihood -9592.5840\n",
      "iteration 30; log likelihood -9590.1630\n",
      "iteration 31; log likelihood -9588.1688\n",
      "iteration 32; log likelihood -9586.5218\n",
      "iteration 33; log likelihood -9585.1629\n",
      "iteration 34; log likelihood -9584.0464\n",
      "iteration 35; log likelihood -9583.1345\n",
      "early stopping previous_llh -9584.046432602643, log_likelihood -9583.134453994937\n"
     ]
    },
    {
     "data": {
      "application/vnd.jupyter.widget-view+json": {
       "model_id": "0494329a88ad4620874e9397de998a19",
       "version_major": 2,
       "version_minor": 0
      },
      "text/plain": [
       "HBox(children=(IntProgress(value=0, max=3355), HTML(value='')))"
      ]
     },
     "metadata": {},
     "output_type": "display_data"
    },
    {
     "data": {
      "application/vnd.jupyter.widget-view+json": {
       "model_id": "c79109174ac8452a9d54ffe77a62019f",
       "version_major": 2,
       "version_minor": 0
      },
      "text/plain": [
       "HBox(children=(IntProgress(value=0, max=112711), HTML(value='')))"
      ]
     },
     "metadata": {},
     "output_type": "display_data"
    },
    {
     "name": "stdout",
     "output_type": "stream",
     "text": [
      "pi is fixed\n",
      "A is fixed\n",
      "iteration 0; log likelihood -12972.8480\n",
      "iteration 1; log likelihood -11253.3441\n",
      "iteration 2; log likelihood -11246.0939\n",
      "iteration 3; log likelihood -11236.6015\n",
      "iteration 4; log likelihood -11223.0100\n",
      "iteration 5; log likelihood -11202.4557\n",
      "iteration 6; log likelihood -11171.0872\n",
      "iteration 7; log likelihood -11125.1797\n",
      "iteration 8; log likelihood -11063.3223\n",
      "iteration 9; log likelihood -10987.0936\n",
      "iteration 10; log likelihood -10897.7214\n",
      "iteration 11; log likelihood -10789.8429\n",
      "iteration 12; log likelihood -10645.3495\n",
      "iteration 13; log likelihood -10444.1409\n",
      "iteration 14; log likelihood -10214.4556\n",
      "iteration 15; log likelihood -10022.0130\n",
      "iteration 16; log likelihood -9881.0020\n",
      "iteration 17; log likelihood -9772.0711\n",
      "iteration 18; log likelihood -9680.2737\n",
      "iteration 19; log likelihood -9600.3075\n",
      "iteration 20; log likelihood -9532.4513\n",
      "iteration 21; log likelihood -9477.4059\n",
      "iteration 22; log likelihood -9434.5750\n",
      "iteration 23; log likelihood -9402.9999\n",
      "iteration 24; log likelihood -9380.4409\n",
      "iteration 25; log likelihood -9364.1882\n",
      "iteration 26; log likelihood -9352.1630\n",
      "iteration 27; log likelihood -9343.0632\n",
      "iteration 28; log likelihood -9336.1527\n",
      "iteration 29; log likelihood -9330.9442\n",
      "iteration 30; log likelihood -9326.9847\n",
      "iteration 31; log likelihood -9323.9015\n",
      "iteration 32; log likelihood -9321.4371\n",
      "iteration 33; log likelihood -9319.4213\n",
      "iteration 34; log likelihood -9317.7431\n",
      "iteration 35; log likelihood -9316.3320\n",
      "iteration 36; log likelihood -9315.1420\n",
      "iteration 37; log likelihood -9314.1395\n",
      "iteration 38; log likelihood -9313.2957\n",
      "early stopping previous_llh -9314.139451691271, log_likelihood -9313.295693966405\n"
     ]
    },
    {
     "data": {
      "application/vnd.jupyter.widget-view+json": {
       "model_id": "1269da80f46941c68e9a7c49351693e6",
       "version_major": 2,
       "version_minor": 0
      },
      "text/plain": [
       "HBox(children=(IntProgress(value=0, max=3355), HTML(value='')))"
      ]
     },
     "metadata": {},
     "output_type": "display_data"
    },
    {
     "data": {
      "application/vnd.jupyter.widget-view+json": {
       "model_id": "ab77febb908140899842b5d3b96b5e72",
       "version_major": 2,
       "version_minor": 0
      },
      "text/plain": [
       "HBox(children=(IntProgress(value=0, max=112711), HTML(value='')))"
      ]
     },
     "metadata": {},
     "output_type": "display_data"
    },
    {
     "name": "stdout",
     "output_type": "stream",
     "text": [
      "pi is fixed\n",
      "A is fixed\n",
      "iteration 0; log likelihood -13217.1447\n",
      "iteration 1; log likelihood -11414.0356\n",
      "iteration 2; log likelihood -11408.9533\n",
      "iteration 3; log likelihood -11402.6685\n",
      "iteration 4; log likelihood -11394.1283\n",
      "iteration 5; log likelihood -11381.6495\n",
      "iteration 6; log likelihood -11362.6148\n",
      "iteration 7; log likelihood -11333.3577\n",
      "iteration 8; log likelihood -11289.7751\n",
      "iteration 9; log likelihood -11229.0401\n",
      "iteration 10; log likelihood -11151.3157\n",
      "iteration 11; log likelihood -11059.0075\n",
      "iteration 12; log likelihood -10952.1994\n",
      "iteration 13; log likelihood -10820.5759\n",
      "iteration 14; log likelihood -10640.1484\n",
      "iteration 15; log likelihood -10409.3942\n",
      "iteration 16; log likelihood -10177.0855\n",
      "iteration 17; log likelihood -9973.2007\n",
      "iteration 18; log likelihood -9801.6249\n",
      "iteration 19; log likelihood -9664.1294\n",
      "iteration 20; log likelihood -9558.6970\n",
      "iteration 21; log likelihood -9482.5763\n",
      "iteration 22; log likelihood -9430.3382\n",
      "iteration 23; log likelihood -9395.3158\n",
      "iteration 24; log likelihood -9371.8233\n",
      "iteration 25; log likelihood -9355.7960\n",
      "iteration 26; log likelihood -9344.6097\n",
      "iteration 27; log likelihood -9336.6140\n",
      "iteration 28; log likelihood -9330.7585\n",
      "iteration 29; log likelihood -9326.3679\n",
      "iteration 30; log likelihood -9323.0030\n",
      "iteration 31; log likelihood -9320.3740\n",
      "iteration 32; log likelihood -9318.2873\n",
      "iteration 33; log likelihood -9316.6109\n",
      "iteration 34; log likelihood -9315.2515\n",
      "iteration 35; log likelihood -9314.1398\n",
      "iteration 36; log likelihood -9313.2223\n",
      "early stopping previous_llh -9314.139773444556, log_likelihood -9313.22231073839\n"
     ]
    },
    {
     "data": {
      "application/vnd.jupyter.widget-view+json": {
       "model_id": "a8c55581cd924cb086fa5181d3dc4cf7",
       "version_major": 2,
       "version_minor": 0
      },
      "text/plain": [
       "HBox(children=(IntProgress(value=0, max=3355), HTML(value='')))"
      ]
     },
     "metadata": {},
     "output_type": "display_data"
    },
    {
     "data": {
      "application/vnd.jupyter.widget-view+json": {
       "model_id": "f99a495701b84cd482fe967c610b0618",
       "version_major": 2,
       "version_minor": 0
      },
      "text/plain": [
       "HBox(children=(IntProgress(value=0, max=112711), HTML(value='')))"
      ]
     },
     "metadata": {},
     "output_type": "display_data"
    },
    {
     "name": "stdout",
     "output_type": "stream",
     "text": [
      "pi is fixed\n",
      "A is fixed\n",
      "iteration 0; log likelihood -13700.0037\n",
      "iteration 1; log likelihood -11859.4444\n",
      "iteration 2; log likelihood -11852.2627\n",
      "iteration 3; log likelihood -11843.7704\n",
      "iteration 4; log likelihood -11832.5694\n",
      "iteration 5; log likelihood -11816.4235\n",
      "iteration 6; log likelihood -11791.8629\n",
      "iteration 7; log likelihood -11754.0299\n",
      "iteration 8; log likelihood -11697.2844\n",
      "iteration 9; log likelihood -11616.1956\n",
      "iteration 10; log likelihood -11503.6683\n",
      "iteration 11; log likelihood -11344.2116\n",
      "iteration 12; log likelihood -11118.9567\n",
      "iteration 13; log likelihood -10843.6805\n",
      "iteration 14; log likelihood -10575.7781\n",
      "iteration 15; log likelihood -10348.4541\n",
      "iteration 16; log likelihood -10160.5619\n",
      "iteration 17; log likelihood -10014.3081\n",
      "iteration 18; log likelihood -9909.5593\n",
      "iteration 19; log likelihood -9838.5340\n",
      "iteration 20; log likelihood -9791.5231\n",
      "iteration 21; log likelihood -9759.8873\n",
      "iteration 22; log likelihood -9737.8130\n",
      "iteration 23; log likelihood -9722.0006\n",
      "iteration 24; log likelihood -9710.2961\n",
      "iteration 25; log likelihood -9701.5098\n",
      "iteration 26; log likelihood -9695.0413\n",
      "iteration 27; log likelihood -9690.2606\n",
      "iteration 28; log likelihood -9686.6728\n",
      "iteration 29; log likelihood -9683.9429\n",
      "iteration 30; log likelihood -9681.8415\n",
      "iteration 31; log likelihood -9680.2112\n",
      "iteration 32; log likelihood -9678.9383\n",
      "iteration 33; log likelihood -9677.9340\n",
      "iteration 34; log likelihood -9677.1293\n",
      "early stopping previous_llh -9677.934019220516, log_likelihood -9677.129276938871\n"
     ]
    },
    {
     "data": {
      "application/vnd.jupyter.widget-view+json": {
       "model_id": "d74b7be7e924477ba39cfc98abc0fdcb",
       "version_major": 2,
       "version_minor": 0
      },
      "text/plain": [
       "HBox(children=(IntProgress(value=0, max=3355), HTML(value='')))"
      ]
     },
     "metadata": {},
     "output_type": "display_data"
    },
    {
     "data": {
      "application/vnd.jupyter.widget-view+json": {
       "model_id": "c8d3e649e52f4d1d94e89fbea32ee556",
       "version_major": 2,
       "version_minor": 0
      },
      "text/plain": [
       "HBox(children=(IntProgress(value=0, max=112711), HTML(value='')))"
      ]
     },
     "metadata": {},
     "output_type": "display_data"
    },
    {
     "name": "stdout",
     "output_type": "stream",
     "text": [
      "pi is fixed\n",
      "A is fixed\n",
      "iteration 0; log likelihood -12785.7004\n",
      "iteration 1; log likelihood -10952.3929\n",
      "iteration 2; log likelihood -10945.8959\n",
      "iteration 3; log likelihood -10938.8769\n",
      "iteration 4; log likelihood -10930.3490\n",
      "iteration 5; log likelihood -10918.9525\n",
      "iteration 6; log likelihood -10902.7392\n",
      "iteration 7; log likelihood -10879.0177\n",
      "iteration 8; log likelihood -10844.3774\n",
      "iteration 9; log likelihood -10794.9592\n",
      "iteration 10; log likelihood -10727.3921\n",
      "iteration 11; log likelihood -10641.6550\n",
      "iteration 12; log likelihood -10544.9898\n",
      "iteration 13; log likelihood -10450.2921\n",
      "iteration 14; log likelihood -10367.7277\n",
      "iteration 15; log likelihood -10300.3464\n",
      "iteration 16; log likelihood -10246.5444\n",
      "iteration 17; log likelihood -10203.3746\n",
      "iteration 18; log likelihood -10168.1065\n",
      "iteration 19; log likelihood -10138.6591\n",
      "iteration 20; log likelihood -10113.5852\n",
      "iteration 21; log likelihood -10091.9158\n",
      "iteration 22; log likelihood -10073.0033\n",
      "iteration 23; log likelihood -10056.3947\n",
      "iteration 24; log likelihood -10041.7386\n",
      "iteration 25; log likelihood -10028.7300\n",
      "iteration 26; log likelihood -10017.0939\n",
      "iteration 27; log likelihood -10006.5903\n",
      "iteration 28; log likelihood -9997.0233\n",
      "iteration 29; log likelihood -9988.2378\n",
      "iteration 30; log likelihood -9980.1041\n",
      "iteration 31; log likelihood -9972.4971\n",
      "iteration 32; log likelihood -9965.2852\n",
      "iteration 33; log likelihood -9958.3369\n",
      "iteration 34; log likelihood -9951.5424\n",
      "iteration 35; log likelihood -9944.8382\n",
      "iteration 36; log likelihood -9938.2164\n",
      "iteration 37; log likelihood -9931.7114\n",
      "iteration 38; log likelihood -9925.3731\n",
      "iteration 39; log likelihood -9919.2461\n",
      "iteration 40; log likelihood -9913.3645\n",
      "iteration 41; log likelihood -9907.7596\n",
      "iteration 42; log likelihood -9902.4739\n",
      "iteration 43; log likelihood -9897.5653\n",
      "iteration 44; log likelihood -9893.0892\n",
      "iteration 45; log likelihood -9889.0716\n",
      "iteration 46; log likelihood -9885.4960\n",
      "iteration 47; log likelihood -9882.3135\n",
      "iteration 48; log likelihood -9879.4578\n",
      "iteration 49; log likelihood -9876.8583\n",
      "iteration 50; log likelihood -9874.4492\n",
      "iteration 51; log likelihood -9872.1760\n",
      "iteration 52; log likelihood -9869.9999\n",
      "iteration 53; log likelihood -9867.8984\n",
      "iteration 54; log likelihood -9865.8634\n",
      "iteration 55; log likelihood -9863.8915\n",
      "iteration 56; log likelihood -9861.9635\n",
      "iteration 57; log likelihood -9860.0270\n",
      "iteration 58; log likelihood -9858.0956\n",
      "iteration 59; log likelihood -9856.3337\n",
      "iteration 60; log likelihood -9854.7741\n",
      "iteration 61; log likelihood -9853.3536\n",
      "iteration 62; log likelihood -9852.0380\n",
      "iteration 63; log likelihood -9850.8080\n",
      "iteration 64; log likelihood -9849.6505\n",
      "iteration 65; log likelihood -9848.5584\n",
      "iteration 66; log likelihood -9847.5293\n",
      "iteration 67; log likelihood -9846.5612\n",
      "early stopping previous_llh -9847.529268861328, log_likelihood -9846.561227531212\n"
     ]
    },
    {
     "data": {
      "application/vnd.jupyter.widget-view+json": {
       "model_id": "0ccbad8ff45641c5bfa59d88eaeeaad5",
       "version_major": 2,
       "version_minor": 0
      },
      "text/plain": [
       "HBox(children=(IntProgress(value=0, max=3355), HTML(value='')))"
      ]
     },
     "metadata": {},
     "output_type": "display_data"
    },
    {
     "data": {
      "application/vnd.jupyter.widget-view+json": {
       "model_id": "fedf7b1d5f644aa69620f79880930f53",
       "version_major": 2,
       "version_minor": 0
      },
      "text/plain": [
       "HBox(children=(IntProgress(value=0, max=112711), HTML(value='')))"
      ]
     },
     "metadata": {},
     "output_type": "display_data"
    },
    {
     "name": "stdout",
     "output_type": "stream",
     "text": [
      "pi is fixed\n",
      "A is fixed\n",
      "iteration 0; log likelihood -13037.2911\n",
      "iteration 1; log likelihood -11235.2412\n",
      "iteration 2; log likelihood -11227.2403\n",
      "iteration 3; log likelihood -11216.6783\n",
      "iteration 4; log likelihood -11201.2543\n",
      "iteration 5; log likelihood -11177.4135\n",
      "iteration 6; log likelihood -11140.3961\n",
      "iteration 7; log likelihood -11085.6272\n",
      "iteration 8; log likelihood -11011.2716\n",
      "iteration 9; log likelihood -10918.7617\n",
      "iteration 10; log likelihood -10807.8681\n",
      "iteration 11; log likelihood -10666.8560\n",
      "iteration 12; log likelihood -10469.1171\n",
      "iteration 13; log likelihood -10215.0816\n",
      "iteration 14; log likelihood -9963.0583\n",
      "iteration 15; log likelihood -9752.0226\n",
      "iteration 16; log likelihood -9588.5246\n",
      "iteration 17; log likelihood -9467.5652\n",
      "iteration 18; log likelihood -9379.4201\n",
      "iteration 19; log likelihood -9316.5496\n",
      "iteration 20; log likelihood -9272.9319\n",
      "iteration 21; log likelihood -9243.0545\n",
      "iteration 22; log likelihood -9222.6831\n",
      "iteration 23; log likelihood -9208.6613\n",
      "iteration 24; log likelihood -9198.7544\n",
      "iteration 25; log likelihood -9191.5747\n",
      "iteration 26; log likelihood -9186.2774\n",
      "iteration 27; log likelihood -9182.2856\n",
      "iteration 28; log likelihood -9179.1952\n",
      "iteration 29; log likelihood -9176.7361\n",
      "iteration 30; log likelihood -9174.7332\n",
      "iteration 31; log likelihood -9173.0768\n",
      "iteration 32; log likelihood -9171.6984\n",
      "iteration 33; log likelihood -9170.5514\n",
      "iteration 34; log likelihood -9169.5983\n",
      "early stopping previous_llh -9170.551432301918, log_likelihood -9169.598264828448\n"
     ]
    },
    {
     "data": {
      "application/vnd.jupyter.widget-view+json": {
       "model_id": "5adae90f7d3e49ed8a302ebb1f33f3ce",
       "version_major": 2,
       "version_minor": 0
      },
      "text/plain": [
       "HBox(children=(IntProgress(value=0, max=3355), HTML(value='')))"
      ]
     },
     "metadata": {},
     "output_type": "display_data"
    },
    {
     "data": {
      "application/vnd.jupyter.widget-view+json": {
       "model_id": "48816d1035ea429abc55e0ffa09153b8",
       "version_major": 2,
       "version_minor": 0
      },
      "text/plain": [
       "HBox(children=(IntProgress(value=0, max=112711), HTML(value='')))"
      ]
     },
     "metadata": {},
     "output_type": "display_data"
    },
    {
     "name": "stdout",
     "output_type": "stream",
     "text": [
      "pi is fixed\n",
      "A is fixed\n",
      "iteration 0; log likelihood -13239.6548\n",
      "iteration 1; log likelihood -11497.6734\n",
      "iteration 2; log likelihood -11492.3616\n",
      "iteration 3; log likelihood -11485.5600\n",
      "iteration 4; log likelihood -11475.7112\n",
      "iteration 5; log likelihood -11460.0872\n",
      "iteration 6; log likelihood -11434.1977\n",
      "iteration 7; log likelihood -11391.7851\n",
      "iteration 8; log likelihood -11326.5771\n",
      "iteration 9; log likelihood -11234.8776\n",
      "iteration 10; log likelihood -11112.5832\n",
      "iteration 11; log likelihood -10943.5720\n",
      "iteration 12; log likelihood -10705.5589\n",
      "iteration 13; log likelihood -10428.6780\n",
      "iteration 14; log likelihood -10183.3285\n",
      "iteration 15; log likelihood -9985.6635\n",
      "iteration 16; log likelihood -9827.6678\n",
      "iteration 17; log likelihood -9704.9922\n",
      "iteration 18; log likelihood -9610.1191\n",
      "iteration 19; log likelihood -9538.6446\n",
      "iteration 20; log likelihood -9488.2653\n",
      "iteration 21; log likelihood -9453.6314\n",
      "iteration 22; log likelihood -9430.0476\n",
      "iteration 23; log likelihood -9413.9550\n",
      "iteration 24; log likelihood -9402.8773\n",
      "iteration 25; log likelihood -9395.1489\n",
      "iteration 26; log likelihood -9389.6668\n",
      "iteration 27; log likelihood -9385.7035\n",
      "iteration 28; log likelihood -9382.7792\n",
      "iteration 29; log likelihood -9380.5766\n",
      "iteration 30; log likelihood -9378.8837\n",
      "iteration 31; log likelihood -9377.5576\n",
      "iteration 32; log likelihood -9376.5006\n",
      "iteration 33; log likelihood -9375.6446\n",
      "early stopping previous_llh -9376.50057393292, log_likelihood -9375.644595314254\n"
     ]
    },
    {
     "data": {
      "application/vnd.jupyter.widget-view+json": {
       "model_id": "068f662d1cf8459781bbde577f255de5",
       "version_major": 2,
       "version_minor": 0
      },
      "text/plain": [
       "HBox(children=(IntProgress(value=0, max=3355), HTML(value='')))"
      ]
     },
     "metadata": {},
     "output_type": "display_data"
    },
    {
     "data": {
      "application/vnd.jupyter.widget-view+json": {
       "model_id": "fe4f08e8253047c7a058fda76da44637",
       "version_major": 2,
       "version_minor": 0
      },
      "text/plain": [
       "HBox(children=(IntProgress(value=0, max=112711), HTML(value='')))"
      ]
     },
     "metadata": {},
     "output_type": "display_data"
    },
    {
     "name": "stdout",
     "output_type": "stream",
     "text": [
      "pi is fixed\n",
      "A is fixed\n",
      "iteration 0; log likelihood -12493.6204\n",
      "iteration 1; log likelihood -10780.4520\n",
      "iteration 2; log likelihood -10774.3239\n",
      "iteration 3; log likelihood -10766.5542\n",
      "iteration 4; log likelihood -10755.6490\n",
      "iteration 5; log likelihood -10739.2321\n",
      "iteration 6; log likelihood -10713.7841\n",
      "iteration 7; log likelihood -10674.9467\n",
      "iteration 8; log likelihood -10618.9961\n",
      "iteration 9; log likelihood -10544.8284\n",
      "iteration 10; log likelihood -10453.7302\n",
      "iteration 11; log likelihood -10344.7981\n",
      "iteration 12; log likelihood -10206.0580\n",
      "iteration 13; log likelihood -10010.9094\n",
      "iteration 14; log likelihood -9760.8669\n",
      "iteration 15; log likelihood -9525.5345\n",
      "iteration 16; log likelihood -9343.3700\n",
      "iteration 17; log likelihood -9202.2513\n",
      "iteration 18; log likelihood -9092.7790\n",
      "iteration 19; log likelihood -9009.8219\n",
      "iteration 20; log likelihood -8947.0730\n",
      "iteration 21; log likelihood -8899.9284\n",
      "iteration 22; log likelihood -8865.1901\n",
      "iteration 23; log likelihood -8840.1078\n",
      "iteration 24; log likelihood -8822.1770\n",
      "iteration 25; log likelihood -8809.2682\n",
      "iteration 26; log likelihood -8799.7310\n",
      "iteration 27; log likelihood -8792.3656\n",
      "iteration 28; log likelihood -8786.6047\n",
      "iteration 29; log likelihood -8782.3576\n",
      "iteration 30; log likelihood -8779.2580\n",
      "iteration 31; log likelihood -8776.9091\n",
      "iteration 32; log likelihood -8775.0860\n",
      "iteration 33; log likelihood -8773.6502\n",
      "iteration 34; log likelihood -8772.5053\n",
      "iteration 35; log likelihood -8771.5810\n",
      "early stopping previous_llh -8772.505302536472, log_likelihood -8771.581042853742\n"
     ]
    },
    {
     "data": {
      "application/vnd.jupyter.widget-view+json": {
       "model_id": "65d4b4525b7a41aab44a4fa1abb42c41",
       "version_major": 2,
       "version_minor": 0
      },
      "text/plain": [
       "HBox(children=(IntProgress(value=0, max=3355), HTML(value='')))"
      ]
     },
     "metadata": {},
     "output_type": "display_data"
    },
    {
     "data": {
      "application/vnd.jupyter.widget-view+json": {
       "model_id": "cd40bdce7d1241f0a13244a131dcbb34",
       "version_major": 2,
       "version_minor": 0
      },
      "text/plain": [
       "HBox(children=(IntProgress(value=0, max=112711), HTML(value='')))"
      ]
     },
     "metadata": {},
     "output_type": "display_data"
    },
    {
     "name": "stdout",
     "output_type": "stream",
     "text": [
      "pi is fixed\n",
      "A is fixed\n",
      "iteration 0; log likelihood -8697.4544\n",
      "iteration 1; log likelihood -7158.1190\n",
      "iteration 2; log likelihood -7149.1013\n",
      "iteration 3; log likelihood -7131.8297\n",
      "iteration 4; log likelihood -7081.6123\n",
      "iteration 5; log likelihood -7005.0716\n",
      "iteration 6; log likelihood -6910.9871\n",
      "iteration 7; log likelihood -6799.1527\n",
      "iteration 8; log likelihood -6669.6209\n",
      "iteration 9; log likelihood -6519.1719\n",
      "iteration 10; log likelihood -6363.4592\n",
      "iteration 11; log likelihood -6234.5297\n",
      "iteration 12; log likelihood -6141.6406\n",
      "iteration 13; log likelihood -6075.0712\n",
      "iteration 14; log likelihood -6025.2529\n",
      "iteration 15; log likelihood -5985.5336\n",
      "iteration 16; log likelihood -5951.9009\n",
      "iteration 17; log likelihood -5922.7042\n",
      "iteration 18; log likelihood -5896.2975\n",
      "iteration 19; log likelihood -5872.0786\n",
      "iteration 20; log likelihood -5850.3639\n",
      "iteration 21; log likelihood -5831.7768\n",
      "iteration 22; log likelihood -5816.4825\n",
      "iteration 23; log likelihood -5804.1222\n",
      "iteration 24; log likelihood -5794.2113\n",
      "iteration 25; log likelihood -5786.3026\n",
      "iteration 26; log likelihood -5780.0045\n",
      "iteration 27; log likelihood -5774.9824\n",
      "iteration 28; log likelihood -5770.9555\n",
      "iteration 29; log likelihood -5767.6856\n",
      "iteration 30; log likelihood -5764.9642\n",
      "iteration 31; log likelihood -5762.6371\n",
      "iteration 32; log likelihood -5760.6662\n",
      "iteration 33; log likelihood -5759.0495\n",
      "iteration 34; log likelihood -5757.7198\n",
      "iteration 35; log likelihood -5756.6048\n",
      "iteration 36; log likelihood -5755.6587\n",
      "early stopping previous_llh -5756.604780713595, log_likelihood -5755.658693694504\n"
     ]
    },
    {
     "data": {
      "application/vnd.jupyter.widget-view+json": {
       "model_id": "cbb9363cc1c54d11914677c9691d7746",
       "version_major": 2,
       "version_minor": 0
      },
      "text/plain": [
       "HBox(children=(IntProgress(value=0, max=2755), HTML(value='')))"
      ]
     },
     "metadata": {},
     "output_type": "display_data"
    },
    {
     "data": {
      "application/vnd.jupyter.widget-view+json": {
       "model_id": "7e424a09215a4679a1ebad69471a96d3",
       "version_major": 2,
       "version_minor": 0
      },
      "text/plain": [
       "HBox(children=(IntProgress(value=0, max=8292), HTML(value='')))"
      ]
     },
     "metadata": {},
     "output_type": "display_data"
    },
    {
     "data": {
      "application/vnd.jupyter.widget-view+json": {
       "model_id": "3abdf02e8db649ff8481c113424370b0",
       "version_major": 2,
       "version_minor": 0
      },
      "text/plain": [
       "HBox(children=(IntProgress(value=0, max=10337), HTML(value='')))"
      ]
     },
     "metadata": {},
     "output_type": "display_data"
    },
    {
     "data": {
      "application/vnd.jupyter.widget-view+json": {
       "model_id": "ca85c2e98557490f9919c86101675036",
       "version_major": 2,
       "version_minor": 0
      },
      "text/plain": [
       "HBox(children=(IntProgress(value=0, max=5584), HTML(value='')))"
      ]
     },
     "metadata": {},
     "output_type": "display_data"
    },
    {
     "data": {
      "application/vnd.jupyter.widget-view+json": {
       "model_id": "3013806c4d614cb3b5b3bf7a9975de30",
       "version_major": 2,
       "version_minor": 0
      },
      "text/plain": [
       "HBox(children=(IntProgress(value=0, max=3009), HTML(value='')))"
      ]
     },
     "metadata": {},
     "output_type": "display_data"
    },
    {
     "name": "stdout",
     "output_type": "stream",
     "text": [
      "pi is fixed\n",
      "A is fixed\n",
      "iteration 0; log likelihood -14040.0714\n",
      "iteration 1; log likelihood -12283.1284\n",
      "iteration 2; log likelihood -12278.5364\n",
      "iteration 3; log likelihood -12272.5975\n",
      "iteration 4; log likelihood -12263.8473\n",
      "iteration 5; log likelihood -12249.5959\n",
      "iteration 6; log likelihood -12224.9416\n",
      "iteration 7; log likelihood -12181.5607\n",
      "iteration 8; log likelihood -12107.2284\n",
      "iteration 9; log likelihood -11986.6260\n",
      "iteration 10; log likelihood -11800.6743\n",
      "iteration 11; log likelihood -11538.9565\n",
      "iteration 12; log likelihood -11248.8375\n",
      "iteration 13; log likelihood -10999.6526\n",
      "iteration 14; log likelihood -10798.0130\n",
      "iteration 15; log likelihood -10628.0857\n",
      "iteration 16; log likelihood -10483.4663\n",
      "iteration 17; log likelihood -10359.6786\n",
      "iteration 18; log likelihood -10261.0776\n",
      "iteration 19; log likelihood -10189.1798\n",
      "iteration 20; log likelihood -10139.4582\n",
      "iteration 21; log likelihood -10105.7640\n",
      "iteration 22; log likelihood -10082.7596\n",
      "iteration 23; log likelihood -10066.8706\n",
      "iteration 24; log likelihood -10055.6998\n",
      "iteration 25; log likelihood -10047.6057\n",
      "iteration 26; log likelihood -10041.5740\n",
      "iteration 27; log likelihood -10036.9812\n",
      "iteration 28; log likelihood -10033.4118\n",
      "iteration 29; log likelihood -10030.5784\n",
      "iteration 30; log likelihood -10028.2896\n",
      "iteration 31; log likelihood -10026.4222\n",
      "iteration 32; log likelihood -10024.8931\n",
      "iteration 33; log likelihood -10023.6408\n",
      "iteration 34; log likelihood -10022.6145\n",
      "iteration 35; log likelihood -10021.7678\n",
      "early stopping previous_llh -10022.614454113245, log_likelihood -10021.76779360094\n"
     ]
    },
    {
     "data": {
      "application/vnd.jupyter.widget-view+json": {
       "model_id": "29a43632caf14dd49877eeacecf43384",
       "version_major": 2,
       "version_minor": 0
      },
      "text/plain": [
       "HBox(children=(IntProgress(value=0, max=3355), HTML(value='')))"
      ]
     },
     "metadata": {},
     "output_type": "display_data"
    },
    {
     "data": {
      "application/vnd.jupyter.widget-view+json": {
       "model_id": "3c3f88ed057949388361677e21d520f8",
       "version_major": 2,
       "version_minor": 0
      },
      "text/plain": [
       "HBox(children=(IntProgress(value=0, max=112711), HTML(value='')))"
      ]
     },
     "metadata": {},
     "output_type": "display_data"
    },
    {
     "name": "stdout",
     "output_type": "stream",
     "text": [
      "pi is fixed\n",
      "A is fixed\n",
      "iteration 0; log likelihood -14458.4301\n",
      "iteration 1; log likelihood -12167.7817\n",
      "iteration 2; log likelihood -12159.1403\n",
      "iteration 3; log likelihood -11948.7590\n",
      "iteration 4; log likelihood -11800.3112\n",
      "iteration 5; log likelihood -11760.1865\n",
      "iteration 6; log likelihood -11702.3092\n",
      "iteration 7; log likelihood -11583.5054\n",
      "iteration 8; log likelihood -11351.9873\n",
      "iteration 9; log likelihood -11038.9218\n",
      "iteration 10; log likelihood -10776.1057\n",
      "iteration 11; log likelihood -10605.2185\n",
      "iteration 12; log likelihood -10483.8813\n",
      "iteration 13; log likelihood -10382.4712\n",
      "iteration 14; log likelihood -10293.1509\n",
      "iteration 15; log likelihood -10214.4029\n",
      "iteration 16; log likelihood -10145.2137\n",
      "iteration 17; log likelihood -10083.8906\n",
      "iteration 18; log likelihood -10029.3521\n",
      "iteration 19; log likelihood -9981.0572\n",
      "iteration 20; log likelihood -9940.9407\n",
      "iteration 21; log likelihood -9909.0148\n",
      "iteration 22; log likelihood -9883.9448\n",
      "iteration 23; log likelihood -9864.4887\n",
      "iteration 24; log likelihood -9849.4790\n",
      "iteration 25; log likelihood -9837.8895\n",
      "iteration 26; log likelihood -9828.8707\n",
      "iteration 27; log likelihood -9821.7459\n",
      "iteration 28; log likelihood -9815.9984\n",
      "iteration 29; log likelihood -9811.2766\n",
      "iteration 30; log likelihood -9807.3751\n",
      "iteration 31; log likelihood -9804.1440\n",
      "iteration 32; log likelihood -9801.4448\n",
      "iteration 33; log likelihood -9799.1682\n",
      "iteration 34; log likelihood -9797.2351\n",
      "iteration 35; log likelihood -9795.5869\n",
      "iteration 36; log likelihood -9794.1775\n",
      "iteration 37; log likelihood -9792.9690\n",
      "iteration 38; log likelihood -9791.9286\n",
      "iteration 39; log likelihood -9791.0286\n",
      "early stopping previous_llh -9791.928630124228, log_likelihood -9791.028572439405\n"
     ]
    },
    {
     "data": {
      "application/vnd.jupyter.widget-view+json": {
       "model_id": "a7b38b1de500402da04b2433dbd2ff21",
       "version_major": 2,
       "version_minor": 0
      },
      "text/plain": [
       "HBox(children=(IntProgress(value=0, max=2755), HTML(value='')))"
      ]
     },
     "metadata": {},
     "output_type": "display_data"
    },
    {
     "data": {
      "application/vnd.jupyter.widget-view+json": {
       "model_id": "6ac2c70ec2b942a5a9c0488145ffb666",
       "version_major": 2,
       "version_minor": 0
      },
      "text/plain": [
       "HBox(children=(IntProgress(value=0, max=8292), HTML(value='')))"
      ]
     },
     "metadata": {},
     "output_type": "display_data"
    },
    {
     "data": {
      "application/vnd.jupyter.widget-view+json": {
       "model_id": "c455b0f4324b4004a2d424c9e10f4f8b",
       "version_major": 2,
       "version_minor": 0
      },
      "text/plain": [
       "HBox(children=(IntProgress(value=0, max=10337), HTML(value='')))"
      ]
     },
     "metadata": {},
     "output_type": "display_data"
    },
    {
     "data": {
      "application/vnd.jupyter.widget-view+json": {
       "model_id": "d7d690d22e9f4c0eae03fcdeae1bde2c",
       "version_major": 2,
       "version_minor": 0
      },
      "text/plain": [
       "HBox(children=(IntProgress(value=0, max=5584), HTML(value='')))"
      ]
     },
     "metadata": {},
     "output_type": "display_data"
    },
    {
     "data": {
      "application/vnd.jupyter.widget-view+json": {
       "model_id": "7a67a27c0e1b411ca204ed12ee213897",
       "version_major": 2,
       "version_minor": 0
      },
      "text/plain": [
       "HBox(children=(IntProgress(value=0, max=3009), HTML(value='')))"
      ]
     },
     "metadata": {},
     "output_type": "display_data"
    },
    {
     "name": "stdout",
     "output_type": "stream",
     "text": [
      "pi is fixed\n",
      "A is fixed\n",
      "iteration 0; log likelihood -16378.5040\n",
      "iteration 1; log likelihood -14220.0528\n",
      "iteration 2; log likelihood -14214.4914\n",
      "iteration 3; log likelihood -14207.6498\n",
      "iteration 4; log likelihood -14198.1137\n",
      "iteration 5; log likelihood -14183.3495\n",
      "iteration 6; log likelihood -14158.8709\n",
      "iteration 7; log likelihood -14117.3867\n",
      "iteration 8; log likelihood -14049.1812\n",
      "iteration 9; log likelihood -13945.4384\n",
      "iteration 10; log likelihood -13801.6193\n",
      "iteration 11; log likelihood -13611.8942\n",
      "iteration 12; log likelihood -13362.5101\n",
      "iteration 13; log likelihood -13059.0697\n",
      "iteration 14; log likelihood -12750.6392\n",
      "iteration 15; log likelihood -12478.6776\n",
      "iteration 16; log likelihood -12246.2950\n",
      "iteration 17; log likelihood -12047.5494\n",
      "iteration 18; log likelihood -11888.5706\n",
      "iteration 19; log likelihood -11773.1483\n",
      "iteration 20; log likelihood -11693.5437\n",
      "iteration 21; log likelihood -11639.7638\n",
      "iteration 22; log likelihood -11603.6727\n",
      "iteration 23; log likelihood -11579.2662\n",
      "iteration 24; log likelihood -11562.4564\n",
      "iteration 25; log likelihood -11550.6034\n",
      "iteration 26; log likelihood -11542.0372\n",
      "iteration 27; log likelihood -11535.7026\n",
      "iteration 28; log likelihood -11530.9137\n",
      "iteration 29; log likelihood -11527.2103\n",
      "iteration 30; log likelihood -11524.2865\n",
      "iteration 31; log likelihood -11521.9340\n",
      "iteration 32; log likelihood -11519.9980\n",
      "iteration 33; log likelihood -11518.3648\n",
      "iteration 34; log likelihood -11516.9579\n",
      "iteration 35; log likelihood -11515.7305\n",
      "iteration 36; log likelihood -11514.6550\n",
      "iteration 37; log likelihood -11513.7115\n",
      "early stopping previous_llh -11514.65500523188, log_likelihood -11513.711487692804\n"
     ]
    },
    {
     "data": {
      "application/vnd.jupyter.widget-view+json": {
       "model_id": "f483aaa7097f46bea7170502e131ad34",
       "version_major": 2,
       "version_minor": 0
      },
      "text/plain": [
       "HBox(children=(IntProgress(value=0, max=3355), HTML(value='')))"
      ]
     },
     "metadata": {},
     "output_type": "display_data"
    },
    {
     "data": {
      "application/vnd.jupyter.widget-view+json": {
       "model_id": "2af86b712d1f42d5a58586284dab6d9b",
       "version_major": 2,
       "version_minor": 0
      },
      "text/plain": [
       "HBox(children=(IntProgress(value=0, max=112711), HTML(value='')))"
      ]
     },
     "metadata": {},
     "output_type": "display_data"
    },
    {
     "name": "stdout",
     "output_type": "stream",
     "text": [
      "pi is fixed\n",
      "A is fixed\n",
      "iteration 0; log likelihood -13058.5174\n",
      "iteration 1; log likelihood -11337.4042\n",
      "iteration 2; log likelihood -11332.2163\n",
      "iteration 3; log likelihood -11325.5640\n",
      "iteration 4; log likelihood -11316.2479\n",
      "iteration 5; log likelihood -11302.3980\n",
      "iteration 6; log likelihood -11281.1975\n",
      "iteration 7; log likelihood -11248.8158\n",
      "iteration 8; log likelihood -11201.0259\n",
      "iteration 9; log likelihood -11134.8940\n",
      "iteration 10; log likelihood -11051.0509\n",
      "iteration 11; log likelihood -10954.7642\n",
      "iteration 12; log likelihood -10853.4847\n",
      "iteration 13; log likelihood -10750.5019\n",
      "iteration 14; log likelihood -10638.1211\n",
      "iteration 15; log likelihood -10496.6500\n",
      "iteration 16; log likelihood -10309.7200\n",
      "iteration 17; log likelihood -10091.7865\n",
      "iteration 18; log likelihood -9879.2847\n",
      "iteration 19; log likelihood -9701.0303\n",
      "iteration 20; log likelihood -9573.4363\n",
      "iteration 21; log likelihood -9489.4883\n",
      "iteration 22; log likelihood -9435.9597\n",
      "iteration 23; log likelihood -9402.0012\n",
      "iteration 24; log likelihood -9380.1665\n",
      "iteration 25; log likelihood -9365.6860\n",
      "iteration 26; log likelihood -9355.7520\n",
      "iteration 27; log likelihood -9348.6899\n",
      "iteration 28; log likelihood -9343.4637\n",
      "iteration 29; log likelihood -9339.4282\n",
      "iteration 30; log likelihood -9336.1973\n",
      "iteration 31; log likelihood -9333.5635\n",
      "iteration 32; log likelihood -9331.4177\n",
      "iteration 33; log likelihood -9329.6781\n",
      "iteration 34; log likelihood -9328.2648\n",
      "iteration 35; log likelihood -9327.1052\n",
      "iteration 36; log likelihood -9326.1394\n",
      "early stopping previous_llh -9327.10521436987, log_likelihood -9326.139359728406\n"
     ]
    },
    {
     "data": {
      "application/vnd.jupyter.widget-view+json": {
       "model_id": "4a5de9fd63e7477c840e8d76da95541d",
       "version_major": 2,
       "version_minor": 0
      },
      "text/plain": [
       "HBox(children=(IntProgress(value=0, max=3355), HTML(value='')))"
      ]
     },
     "metadata": {},
     "output_type": "display_data"
    },
    {
     "data": {
      "application/vnd.jupyter.widget-view+json": {
       "model_id": "d60c0cae6bb5460abc785869a612842b",
       "version_major": 2,
       "version_minor": 0
      },
      "text/plain": [
       "HBox(children=(IntProgress(value=0, max=112711), HTML(value='')))"
      ]
     },
     "metadata": {},
     "output_type": "display_data"
    },
    {
     "name": "stdout",
     "output_type": "stream",
     "text": [
      "pi is fixed\n",
      "A is fixed\n",
      "iteration 0; log likelihood -7094.4759\n",
      "iteration 1; log likelihood -5899.2609\n",
      "iteration 2; log likelihood -5872.8380\n",
      "iteration 3; log likelihood -5844.1595\n",
      "iteration 4; log likelihood -5818.8475\n",
      "iteration 5; log likelihood -5772.9210\n",
      "iteration 6; log likelihood -5687.7417\n",
      "iteration 7; log likelihood -5557.3654\n",
      "iteration 8; log likelihood -5415.5072\n",
      "iteration 9; log likelihood -5305.6315\n",
      "iteration 10; log likelihood -5228.0842\n",
      "iteration 11; log likelihood -5170.9209\n",
      "iteration 12; log likelihood -5127.0449\n",
      "iteration 13; log likelihood -5092.2582\n",
      "iteration 14; log likelihood -5063.8780\n",
      "iteration 15; log likelihood -5039.8677\n",
      "iteration 16; log likelihood -5018.8471\n",
      "iteration 17; log likelihood -5000.0514\n",
      "iteration 18; log likelihood -4983.1516\n",
      "iteration 19; log likelihood -4968.0525\n",
      "iteration 20; log likelihood -4954.7356\n",
      "iteration 21; log likelihood -4943.1725\n",
      "iteration 22; log likelihood -4933.3130\n",
      "iteration 23; log likelihood -4925.0771\n",
      "iteration 24; log likelihood -4918.3221\n",
      "iteration 25; log likelihood -4912.8456\n",
      "iteration 26; log likelihood -4908.4227\n",
      "iteration 27; log likelihood -4904.8392\n",
      "iteration 28; log likelihood -4901.9089\n",
      "iteration 29; log likelihood -4899.4774\n",
      "iteration 30; log likelihood -4897.4186\n",
      "iteration 31; log likelihood -4895.6344\n",
      "iteration 32; log likelihood -4894.0648\n",
      "iteration 33; log likelihood -4892.6878\n",
      "iteration 34; log likelihood -4891.4894\n",
      "iteration 35; log likelihood -4890.4422\n",
      "iteration 36; log likelihood -4889.5166\n",
      "early stopping previous_llh -4890.442225109511, log_likelihood -4889.516550485622\n"
     ]
    },
    {
     "data": {
      "application/vnd.jupyter.widget-view+json": {
       "model_id": "c4ab991c40a046f9b31ce5c977a822f8",
       "version_major": 2,
       "version_minor": 0
      },
      "text/plain": [
       "HBox(children=(IntProgress(value=0, max=2755), HTML(value='')))"
      ]
     },
     "metadata": {},
     "output_type": "display_data"
    },
    {
     "data": {
      "application/vnd.jupyter.widget-view+json": {
       "model_id": "00d7904efcdf4592862f516830385d37",
       "version_major": 2,
       "version_minor": 0
      },
      "text/plain": [
       "HBox(children=(IntProgress(value=0, max=8292), HTML(value='')))"
      ]
     },
     "metadata": {},
     "output_type": "display_data"
    },
    {
     "data": {
      "application/vnd.jupyter.widget-view+json": {
       "model_id": "97c23a8dd4444b35a829c7e4dac406c1",
       "version_major": 2,
       "version_minor": 0
      },
      "text/plain": [
       "HBox(children=(IntProgress(value=0, max=10337), HTML(value='')))"
      ]
     },
     "metadata": {},
     "output_type": "display_data"
    },
    {
     "data": {
      "application/vnd.jupyter.widget-view+json": {
       "model_id": "796f6d5eb9bd4ec2bf292f204c0e9744",
       "version_major": 2,
       "version_minor": 0
      },
      "text/plain": [
       "HBox(children=(IntProgress(value=0, max=5584), HTML(value='')))"
      ]
     },
     "metadata": {},
     "output_type": "display_data"
    },
    {
     "data": {
      "application/vnd.jupyter.widget-view+json": {
       "model_id": "d06cab726eaf464593a1c3c8c9f8f82e",
       "version_major": 2,
       "version_minor": 0
      },
      "text/plain": [
       "HBox(children=(IntProgress(value=0, max=3009), HTML(value='')))"
      ]
     },
     "metadata": {},
     "output_type": "display_data"
    },
    {
     "name": "stdout",
     "output_type": "stream",
     "text": [
      "pi is fixed\n",
      "A is fixed\n",
      "iteration 0; log likelihood -11436.1310\n",
      "iteration 1; log likelihood -9880.2816\n",
      "iteration 2; log likelihood -9875.3944\n",
      "iteration 3; log likelihood -9869.7271\n",
      "iteration 4; log likelihood -9862.0945\n",
      "iteration 5; log likelihood -9850.4971\n",
      "iteration 6; log likelihood -9831.4099\n",
      "iteration 7; log likelihood -9799.0561\n",
      "iteration 8; log likelihood -9745.6093\n",
      "iteration 9; log likelihood -9663.0902\n",
      "iteration 10; log likelihood -9544.8243\n",
      "iteration 11; log likelihood -9380.5693\n",
      "iteration 12; log likelihood -9155.2512\n",
      "iteration 13; log likelihood -8890.2405\n",
      "iteration 14; log likelihood -8658.0656\n",
      "iteration 15; log likelihood -8492.5823\n",
      "iteration 16; log likelihood -8380.1292\n",
      "iteration 17; log likelihood -8301.6740\n",
      "iteration 18; log likelihood -8245.3788\n",
      "iteration 19; log likelihood -8204.5189\n",
      "iteration 20; log likelihood -8174.7493\n",
      "iteration 21; log likelihood -8152.9185\n",
      "iteration 22; log likelihood -8136.8747\n",
      "iteration 23; log likelihood -8125.1672\n",
      "iteration 24; log likelihood -8116.6221\n",
      "iteration 25; log likelihood -8110.3080\n",
      "iteration 26; log likelihood -8105.5623\n",
      "iteration 27; log likelihood -8101.9359\n",
      "iteration 28; log likelihood -8099.1227\n",
      "iteration 29; log likelihood -8096.9081\n",
      "iteration 30; log likelihood -8095.1377\n",
      "iteration 31; log likelihood -8093.6992\n",
      "iteration 32; log likelihood -8092.5106\n",
      "iteration 33; log likelihood -8091.5122\n",
      "early stopping previous_llh -8092.510614296698, log_likelihood -8091.512178940903\n"
     ]
    },
    {
     "data": {
      "application/vnd.jupyter.widget-view+json": {
       "model_id": "ff03e944473d432fbc8250e68aa11d19",
       "version_major": 2,
       "version_minor": 0
      },
      "text/plain": [
       "HBox(children=(IntProgress(value=0, max=3355), HTML(value='')))"
      ]
     },
     "metadata": {},
     "output_type": "display_data"
    },
    {
     "data": {
      "application/vnd.jupyter.widget-view+json": {
       "model_id": "425456918405478eab5d1534817907e6",
       "version_major": 2,
       "version_minor": 0
      },
      "text/plain": [
       "HBox(children=(IntProgress(value=0, max=112711), HTML(value='')))"
      ]
     },
     "metadata": {},
     "output_type": "display_data"
    },
    {
     "name": "stdout",
     "output_type": "stream",
     "text": [
      "pi is fixed\n",
      "A is fixed\n",
      "iteration 0; log likelihood -11639.4583\n",
      "iteration 1; log likelihood -10050.2352\n",
      "iteration 2; log likelihood -10043.8524\n",
      "iteration 3; log likelihood -10036.6134\n",
      "iteration 4; log likelihood -10027.3799\n",
      "iteration 5; log likelihood -10014.5186\n",
      "iteration 6; log likelihood -9995.7209\n",
      "iteration 7; log likelihood -9968.0236\n",
      "iteration 8; log likelihood -9928.3231\n",
      "iteration 9; log likelihood -9874.4066\n",
      "iteration 10; log likelihood -9805.4639\n",
      "iteration 11; log likelihood -9720.3805\n",
      "iteration 12; log likelihood -9614.0482\n",
      "iteration 13; log likelihood -9475.4052\n",
      "iteration 14; log likelihood -9296.0721\n",
      "iteration 15; log likelihood -9090.3021\n",
      "iteration 16; log likelihood -8896.8853\n",
      "iteration 17; log likelihood -8744.0198\n",
      "iteration 18; log likelihood -8630.4443\n",
      "iteration 19; log likelihood -8547.8341\n",
      "iteration 20; log likelihood -8487.6128\n",
      "iteration 21; log likelihood -8441.4409\n",
      "iteration 22; log likelihood -8405.5425\n",
      "iteration 23; log likelihood -8377.9575\n",
      "iteration 24; log likelihood -8357.0774\n",
      "iteration 25; log likelihood -8341.5256\n",
      "iteration 26; log likelihood -8329.7443\n",
      "iteration 27; log likelihood -8320.6988\n",
      "iteration 28; log likelihood -8313.9779\n",
      "iteration 29; log likelihood -8309.1107\n",
      "iteration 30; log likelihood -8305.5250\n",
      "iteration 31; log likelihood -8302.8077\n",
      "iteration 32; log likelihood -8300.7053\n",
      "iteration 33; log likelihood -8299.0725\n",
      "iteration 34; log likelihood -8297.8104\n",
      "iteration 35; log likelihood -8296.8300\n",
      "early stopping previous_llh -8297.810448939936, log_likelihood -8296.829962291595\n"
     ]
    },
    {
     "data": {
      "application/vnd.jupyter.widget-view+json": {
       "model_id": "5fd5601310a640558f696c5340ed1de5",
       "version_major": 2,
       "version_minor": 0
      },
      "text/plain": [
       "HBox(children=(IntProgress(value=0, max=3355), HTML(value='')))"
      ]
     },
     "metadata": {},
     "output_type": "display_data"
    },
    {
     "data": {
      "application/vnd.jupyter.widget-view+json": {
       "model_id": "7c7485b14f394ecbbfc278a34f07bcca",
       "version_major": 2,
       "version_minor": 0
      },
      "text/plain": [
       "HBox(children=(IntProgress(value=0, max=112711), HTML(value='')))"
      ]
     },
     "metadata": {},
     "output_type": "display_data"
    },
    {
     "name": "stdout",
     "output_type": "stream",
     "text": [
      "pi is fixed\n",
      "A is fixed\n",
      "iteration 0; log likelihood -13493.4594\n",
      "iteration 1; log likelihood -11597.5712\n",
      "iteration 2; log likelihood -11588.8973\n",
      "iteration 3; log likelihood -11580.1600\n",
      "iteration 4; log likelihood -11570.2323\n",
      "iteration 5; log likelihood -11557.4111\n",
      "iteration 6; log likelihood -11538.8486\n",
      "iteration 7; log likelihood -11509.6942\n",
      "iteration 8; log likelihood -11462.1659\n",
      "iteration 9; log likelihood -11385.3293\n",
      "iteration 10; log likelihood -11265.5422\n",
      "iteration 11; log likelihood -11086.3068\n",
      "iteration 12; log likelihood -10842.9696\n",
      "iteration 13; log likelihood -10574.6074\n",
      "iteration 14; log likelihood -10328.7561\n",
      "iteration 15; log likelihood -10117.8695\n",
      "iteration 16; log likelihood -9944.2699\n",
      "iteration 17; log likelihood -9809.8900\n",
      "iteration 18; log likelihood -9711.5177\n",
      "iteration 19; log likelihood -9641.7190\n",
      "iteration 20; log likelihood -9592.1409\n",
      "iteration 21; log likelihood -9556.5240\n",
      "iteration 22; log likelihood -9531.0105\n",
      "iteration 23; log likelihood -9512.8188\n",
      "iteration 24; log likelihood -9499.7713\n",
      "iteration 25; log likelihood -9490.3087\n",
      "iteration 26; log likelihood -9483.3056\n",
      "iteration 27; log likelihood -9477.9608\n",
      "iteration 28; log likelihood -9473.8408\n",
      "iteration 29; log likelihood -9470.7635\n",
      "iteration 30; log likelihood -9468.4592\n",
      "iteration 31; log likelihood -9466.6767\n",
      "iteration 32; log likelihood -9465.2710\n",
      "iteration 33; log likelihood -9464.1544\n",
      "iteration 34; log likelihood -9463.2587\n",
      "early stopping previous_llh -9464.154422997719, log_likelihood -9463.258665365938\n"
     ]
    },
    {
     "data": {
      "application/vnd.jupyter.widget-view+json": {
       "model_id": "4e2cf717e3ab4e628c05511247088f88",
       "version_major": 2,
       "version_minor": 0
      },
      "text/plain": [
       "HBox(children=(IntProgress(value=0, max=3355), HTML(value='')))"
      ]
     },
     "metadata": {},
     "output_type": "display_data"
    },
    {
     "data": {
      "application/vnd.jupyter.widget-view+json": {
       "model_id": "aedf226965584540b493a4583b8dba62",
       "version_major": 2,
       "version_minor": 0
      },
      "text/plain": [
       "HBox(children=(IntProgress(value=0, max=112711), HTML(value='')))"
      ]
     },
     "metadata": {},
     "output_type": "display_data"
    },
    {
     "name": "stdout",
     "output_type": "stream",
     "text": [
      "pi is fixed\n",
      "A is fixed\n",
      "iteration 0; log likelihood -11809.9345\n",
      "iteration 1; log likelihood -10202.2693\n",
      "iteration 2; log likelihood -10196.7430\n",
      "iteration 3; log likelihood -10190.0950\n",
      "iteration 4; log likelihood -10181.3866\n",
      "iteration 5; log likelihood -10169.2871\n",
      "iteration 6; log likelihood -10152.0271\n",
      "iteration 7; log likelihood -10127.5356\n",
      "iteration 8; log likelihood -10093.7890\n",
      "iteration 9; log likelihood -10049.0528\n",
      "iteration 10; log likelihood -9991.5258\n",
      "iteration 11; log likelihood -9918.9438\n",
      "iteration 12; log likelihood -9830.6208\n",
      "iteration 13; log likelihood -9732.4777\n",
      "iteration 14; log likelihood -9637.5672\n",
      "iteration 15; log likelihood -9557.1489\n",
      "iteration 16; log likelihood -9493.9818\n",
      "iteration 17; log likelihood -9445.0443\n",
      "iteration 18; log likelihood -9406.3092\n",
      "iteration 19; log likelihood -9374.7831\n",
      "iteration 20; log likelihood -9348.6301\n",
      "iteration 21; log likelihood -9326.7738\n",
      "iteration 22; log likelihood -9308.5273\n",
      "iteration 23; log likelihood -9293.3629\n",
      "iteration 24; log likelihood -9280.8122\n",
      "iteration 25; log likelihood -9270.4487\n",
      "iteration 26; log likelihood -9261.8934\n",
      "iteration 27; log likelihood -9254.8155\n",
      "iteration 28; log likelihood -9248.9319\n",
      "iteration 29; log likelihood -9244.0059\n",
      "iteration 30; log likelihood -9239.8461\n",
      "iteration 31; log likelihood -9236.3012\n",
      "iteration 32; log likelihood -9233.2528\n",
      "iteration 33; log likelihood -9230.6080\n",
      "iteration 34; log likelihood -9228.2928\n",
      "iteration 35; log likelihood -9226.2478\n",
      "iteration 36; log likelihood -9224.4247\n",
      "iteration 37; log likelihood -9222.7854\n",
      "iteration 38; log likelihood -9221.3004\n",
      "iteration 39; log likelihood -9219.9478\n",
      "iteration 40; log likelihood -9218.7118\n",
      "iteration 41; log likelihood -9217.5802\n",
      "iteration 42; log likelihood -9216.5428\n",
      "iteration 43; log likelihood -9215.5903\n",
      "early stopping previous_llh -9216.542815279827, log_likelihood -9215.590320691601\n"
     ]
    },
    {
     "data": {
      "application/vnd.jupyter.widget-view+json": {
       "model_id": "ff32f8621a264b288fb4ff9997da8147",
       "version_major": 2,
       "version_minor": 0
      },
      "text/plain": [
       "HBox(children=(IntProgress(value=0, max=3355), HTML(value='')))"
      ]
     },
     "metadata": {},
     "output_type": "display_data"
    },
    {
     "data": {
      "application/vnd.jupyter.widget-view+json": {
       "model_id": "628c8c32dcfb4c3a9bb3daecf39d048f",
       "version_major": 2,
       "version_minor": 0
      },
      "text/plain": [
       "HBox(children=(IntProgress(value=0, max=112711), HTML(value='')))"
      ]
     },
     "metadata": {},
     "output_type": "display_data"
    },
    {
     "name": "stdout",
     "output_type": "stream",
     "text": [
      "pi is fixed\n",
      "A is fixed\n",
      "iteration 0; log likelihood -13765.0529\n",
      "iteration 1; log likelihood -11965.8618\n",
      "iteration 2; log likelihood -11960.8433\n",
      "iteration 3; log likelihood -11954.2797\n",
      "iteration 4; log likelihood -11944.7637\n",
      "iteration 5; log likelihood -11929.9261\n",
      "iteration 6; log likelihood -11905.9575\n",
      "iteration 7; log likelihood -11867.5506\n",
      "iteration 8; log likelihood -11809.2083\n",
      "iteration 9; log likelihood -11727.4928\n",
      "iteration 10; log likelihood -11619.4046\n",
      "iteration 11; log likelihood -11471.9415\n",
      "iteration 12; log likelihood -11256.1058\n",
      "iteration 13; log likelihood -10969.2154\n",
      "iteration 14; log likelihood -10675.1707\n",
      "iteration 15; log likelihood -10428.0184\n",
      "iteration 16; log likelihood -10235.7827\n",
      "iteration 17; log likelihood -10091.0426\n",
      "iteration 18; log likelihood -9985.0633\n",
      "iteration 19; log likelihood -9911.1506\n",
      "iteration 20; log likelihood -9861.5163\n",
      "iteration 21; log likelihood -9828.4658\n",
      "iteration 22; log likelihood -9806.3147\n",
      "iteration 23; log likelihood -9791.2103\n",
      "iteration 24; log likelihood -9780.6482\n",
      "iteration 25; log likelihood -9773.0660\n",
      "iteration 26; log likelihood -9767.4909\n",
      "iteration 27; log likelihood -9763.2992\n",
      "iteration 28; log likelihood -9760.0772\n",
      "iteration 29; log likelihood -9757.5490\n",
      "iteration 30; log likelihood -9755.5375\n",
      "iteration 31; log likelihood -9753.9330\n",
      "iteration 32; log likelihood -9752.6574\n",
      "iteration 33; log likelihood -9751.6424\n",
      "iteration 34; log likelihood -9750.8280\n",
      "early stopping previous_llh -9751.642374487797, log_likelihood -9750.827968009333\n"
     ]
    },
    {
     "data": {
      "application/vnd.jupyter.widget-view+json": {
       "model_id": "ad2f98eafe28448c8e14f05be4bc857f",
       "version_major": 2,
       "version_minor": 0
      },
      "text/plain": [
       "HBox(children=(IntProgress(value=0, max=3355), HTML(value='')))"
      ]
     },
     "metadata": {},
     "output_type": "display_data"
    },
    {
     "data": {
      "application/vnd.jupyter.widget-view+json": {
       "model_id": "1747e70c9b7a4cb4900bd3ac25fb0ff9",
       "version_major": 2,
       "version_minor": 0
      },
      "text/plain": [
       "HBox(children=(IntProgress(value=0, max=112711), HTML(value='')))"
      ]
     },
     "metadata": {},
     "output_type": "display_data"
    },
    {
     "name": "stdout",
     "output_type": "stream",
     "text": [
      "pi is fixed\n",
      "A is fixed\n",
      "iteration 0; log likelihood -10556.3248\n",
      "iteration 1; log likelihood -9152.6623\n",
      "iteration 2; log likelihood -9146.3255\n",
      "iteration 3; log likelihood -9138.6298\n",
      "iteration 4; log likelihood -9128.0284\n",
      "iteration 5; log likelihood -9111.9562\n",
      "iteration 6; log likelihood -9086.3902\n",
      "iteration 7; log likelihood -9046.0375\n",
      "iteration 8; log likelihood -8986.1686\n",
      "iteration 9; log likelihood -8905.3442\n",
      "iteration 10; log likelihood -8804.0609\n",
      "iteration 11; log likelihood -8676.8722\n",
      "iteration 12; log likelihood -8512.7914\n",
      "iteration 13; log likelihood -8322.8351\n",
      "iteration 14; log likelihood -8144.2820\n",
      "iteration 15; log likelihood -7999.3053\n",
      "iteration 16; log likelihood -7888.6199\n",
      "iteration 17; log likelihood -7804.2538\n",
      "iteration 18; log likelihood -7739.5549\n",
      "iteration 19; log likelihood -7690.9228\n",
      "iteration 20; log likelihood -7655.4236\n",
      "iteration 21; log likelihood -7629.8495\n",
      "iteration 22; log likelihood -7611.3407\n",
      "iteration 23; log likelihood -7597.8981\n",
      "iteration 24; log likelihood -7588.0840\n",
      "iteration 25; log likelihood -7580.8353\n",
      "iteration 26; log likelihood -7575.3989\n",
      "iteration 27; log likelihood -7571.2570\n",
      "iteration 28; log likelihood -7568.0526\n",
      "iteration 29; log likelihood -7565.5338\n",
      "iteration 30; log likelihood -7563.5200\n",
      "iteration 31; log likelihood -7561.8832\n",
      "iteration 32; log likelihood -7560.5370\n",
      "iteration 33; log likelihood -7559.4242\n",
      "iteration 34; log likelihood -7558.5021\n",
      "early stopping previous_llh -7559.4242180611645, log_likelihood -7558.502133092949\n"
     ]
    },
    {
     "data": {
      "application/vnd.jupyter.widget-view+json": {
       "model_id": "bea83eb4b7fb4f60b2de6f31d30a67f8",
       "version_major": 2,
       "version_minor": 0
      },
      "text/plain": [
       "HBox(children=(IntProgress(value=0, max=3355), HTML(value='')))"
      ]
     },
     "metadata": {},
     "output_type": "display_data"
    },
    {
     "data": {
      "application/vnd.jupyter.widget-view+json": {
       "model_id": "4921c7e1bf6844098e615d18d072897a",
       "version_major": 2,
       "version_minor": 0
      },
      "text/plain": [
       "HBox(children=(IntProgress(value=0, max=112711), HTML(value='')))"
      ]
     },
     "metadata": {},
     "output_type": "display_data"
    },
    {
     "name": "stdout",
     "output_type": "stream",
     "text": [
      "pi is fixed\n",
      "A is fixed\n",
      "iteration 0; log likelihood -15483.3234\n",
      "iteration 1; log likelihood -13346.0252\n",
      "iteration 2; log likelihood -13336.3365\n",
      "iteration 3; log likelihood -13325.5808\n",
      "iteration 4; log likelihood -13310.8772\n",
      "iteration 5; log likelihood -13288.2042\n",
      "iteration 6; log likelihood -13252.5815\n",
      "iteration 7; log likelihood -13198.7349\n",
      "iteration 8; log likelihood -13121.1788\n",
      "iteration 9; log likelihood -13016.8106\n",
      "iteration 10; log likelihood -12888.9417\n",
      "iteration 11; log likelihood -12746.9694\n",
      "iteration 12; log likelihood -12600.2326\n",
      "iteration 13; log likelihood -12447.7918\n",
      "iteration 14; log likelihood -12268.5033\n",
      "iteration 15; log likelihood -12031.1375\n",
      "iteration 16; log likelihood -11759.1002\n",
      "iteration 17; log likelihood -11524.5485\n",
      "iteration 18; log likelihood -11343.3254\n",
      "iteration 19; log likelihood -11206.9129\n",
      "iteration 20; log likelihood -11107.8444\n",
      "iteration 21; log likelihood -11043.1915\n",
      "iteration 22; log likelihood -11002.0137\n",
      "iteration 23; log likelihood -10974.6245\n",
      "iteration 24; log likelihood -10955.7973\n",
      "iteration 25; log likelihood -10942.5038\n",
      "iteration 26; log likelihood -10932.8133\n",
      "iteration 27; log likelihood -10925.4623\n",
      "iteration 28; log likelihood -10919.7826\n",
      "iteration 29; log likelihood -10915.4571\n",
      "iteration 30; log likelihood -10912.2415\n",
      "iteration 31; log likelihood -10909.8292\n",
      "iteration 32; log likelihood -10907.9599\n",
      "iteration 33; log likelihood -10906.4794\n",
      "iteration 34; log likelihood -10905.2895\n",
      "iteration 35; log likelihood -10904.3204\n",
      "early stopping previous_llh -10905.289468718458, log_likelihood -10904.320416938634\n"
     ]
    },
    {
     "data": {
      "application/vnd.jupyter.widget-view+json": {
       "model_id": "a2a7bf561fc5491a8ad8f92c93fc34bf",
       "version_major": 2,
       "version_minor": 0
      },
      "text/plain": [
       "HBox(children=(IntProgress(value=0, max=3355), HTML(value='')))"
      ]
     },
     "metadata": {},
     "output_type": "display_data"
    },
    {
     "data": {
      "application/vnd.jupyter.widget-view+json": {
       "model_id": "4999b601978746a9b87edaba5f22fa36",
       "version_major": 2,
       "version_minor": 0
      },
      "text/plain": [
       "HBox(children=(IntProgress(value=0, max=112711), HTML(value='')))"
      ]
     },
     "metadata": {},
     "output_type": "display_data"
    },
    {
     "name": "stdout",
     "output_type": "stream",
     "text": [
      "pi is fixed\n",
      "A is fixed\n",
      "iteration 0; log likelihood -12121.7605\n",
      "iteration 1; log likelihood -10484.6520\n",
      "iteration 2; log likelihood -10478.4275\n",
      "iteration 3; log likelihood -10471.1046\n",
      "iteration 4; log likelihood -10461.1524\n",
      "iteration 5; log likelihood -10446.0364\n",
      "iteration 6; log likelihood -10421.5296\n",
      "iteration 7; log likelihood -10381.3691\n",
      "iteration 8; log likelihood -10318.5654\n",
      "iteration 9; log likelihood -10228.3882\n",
      "iteration 10; log likelihood -10109.1880\n",
      "iteration 11; log likelihood -9957.3844\n",
      "iteration 12; log likelihood -9762.0529\n",
      "iteration 13; log likelihood -9518.8184\n",
      "iteration 14; log likelihood -9262.2042\n",
      "iteration 15; log likelihood -9042.6716\n",
      "iteration 16; log likelihood -8875.3912\n",
      "iteration 17; log likelihood -8755.0499\n",
      "iteration 18; log likelihood -8672.8034\n",
      "iteration 19; log likelihood -8618.1869\n",
      "iteration 20; log likelihood -8580.7775\n",
      "iteration 21; log likelihood -8554.7091\n",
      "iteration 22; log likelihood -8537.4836\n",
      "iteration 23; log likelihood -8525.9030\n",
      "iteration 24; log likelihood -8517.8078\n",
      "iteration 25; log likelihood -8511.9702\n",
      "iteration 26; log likelihood -8507.6519\n",
      "iteration 27; log likelihood -8504.3865\n",
      "iteration 28; log likelihood -8501.8671\n",
      "iteration 29; log likelihood -8499.8852\n",
      "iteration 30; log likelihood -8498.2960\n",
      "iteration 31; log likelihood -8496.9975\n",
      "iteration 32; log likelihood -8495.9198\n",
      "iteration 33; log likelihood -8495.0171\n",
      "early stopping previous_llh -8495.919820991345, log_likelihood -8495.017074555766\n"
     ]
    },
    {
     "data": {
      "application/vnd.jupyter.widget-view+json": {
       "model_id": "762465144e204ea4885b875758172783",
       "version_major": 2,
       "version_minor": 0
      },
      "text/plain": [
       "HBox(children=(IntProgress(value=0, max=3355), HTML(value='')))"
      ]
     },
     "metadata": {},
     "output_type": "display_data"
    },
    {
     "data": {
      "application/vnd.jupyter.widget-view+json": {
       "model_id": "1f8d6ab7d8eb45af880a4c0a93bead2d",
       "version_major": 2,
       "version_minor": 0
      },
      "text/plain": [
       "HBox(children=(IntProgress(value=0, max=112711), HTML(value='')))"
      ]
     },
     "metadata": {},
     "output_type": "display_data"
    },
    {
     "name": "stdout",
     "output_type": "stream",
     "text": [
      "pi is fixed\n",
      "A is fixed\n",
      "iteration 0; log likelihood -9016.3626\n",
      "iteration 1; log likelihood -7400.0900\n",
      "iteration 2; log likelihood -7394.4878\n",
      "iteration 3; log likelihood -7387.0775\n",
      "iteration 4; log likelihood -7373.2302\n",
      "iteration 5; log likelihood -7342.6110\n",
      "iteration 6; log likelihood -7311.4210\n",
      "iteration 7; log likelihood -7279.0946\n",
      "iteration 8; log likelihood -7241.2018\n",
      "iteration 9; log likelihood -7197.9863\n",
      "iteration 10; log likelihood -7152.1883\n",
      "iteration 11; log likelihood -7106.0512\n",
      "iteration 12; log likelihood -7058.9715\n",
      "iteration 13; log likelihood -7006.0515\n",
      "iteration 14; log likelihood -6937.1727\n",
      "iteration 15; log likelihood -6839.5291\n",
      "iteration 16; log likelihood -6712.3345\n",
      "iteration 17; log likelihood -6579.7683\n",
      "iteration 18; log likelihood -6470.3998\n",
      "iteration 19; log likelihood -6389.0914\n",
      "iteration 20; log likelihood -6326.7684\n",
      "iteration 21; log likelihood -6279.4044\n",
      "iteration 22; log likelihood -6240.8659\n",
      "iteration 23; log likelihood -6208.1401\n",
      "iteration 24; log likelihood -6180.8807\n",
      "iteration 25; log likelihood -6158.3825\n",
      "iteration 26; log likelihood -6139.7423\n",
      "iteration 27; log likelihood -6124.2577\n",
      "iteration 28; log likelihood -6111.6792\n",
      "iteration 29; log likelihood -6101.9102\n",
      "iteration 30; log likelihood -6094.4048\n",
      "iteration 31; log likelihood -6088.5316\n",
      "iteration 32; log likelihood -6083.8540\n",
      "iteration 33; log likelihood -6080.0804\n",
      "iteration 34; log likelihood -6076.9969\n",
      "iteration 35; log likelihood -6074.4487\n",
      "iteration 36; log likelihood -6072.3260\n",
      "iteration 37; log likelihood -6070.5478\n",
      "iteration 38; log likelihood -6069.0505\n",
      "iteration 39; log likelihood -6067.7807\n",
      "iteration 40; log likelihood -6066.6947\n",
      "iteration 41; log likelihood -6065.7580\n",
      "early stopping previous_llh -6066.694663713026, log_likelihood -6065.758016242744\n"
     ]
    },
    {
     "data": {
      "application/vnd.jupyter.widget-view+json": {
       "model_id": "3df7efc23dd1452296c11caa0a9859d4",
       "version_major": 2,
       "version_minor": 0
      },
      "text/plain": [
       "HBox(children=(IntProgress(value=0, max=2755), HTML(value='')))"
      ]
     },
     "metadata": {},
     "output_type": "display_data"
    },
    {
     "data": {
      "application/vnd.jupyter.widget-view+json": {
       "model_id": "c2259671b10247a3b6ea5c57dfc49233",
       "version_major": 2,
       "version_minor": 0
      },
      "text/plain": [
       "HBox(children=(IntProgress(value=0, max=8292), HTML(value='')))"
      ]
     },
     "metadata": {},
     "output_type": "display_data"
    },
    {
     "data": {
      "application/vnd.jupyter.widget-view+json": {
       "model_id": "7189efb0266748c9aae4ef55a1922cb5",
       "version_major": 2,
       "version_minor": 0
      },
      "text/plain": [
       "HBox(children=(IntProgress(value=0, max=10337), HTML(value='')))"
      ]
     },
     "metadata": {},
     "output_type": "display_data"
    },
    {
     "data": {
      "application/vnd.jupyter.widget-view+json": {
       "model_id": "7094d2eb727a49d596371a32a3d87857",
       "version_major": 2,
       "version_minor": 0
      },
      "text/plain": [
       "HBox(children=(IntProgress(value=0, max=5584), HTML(value='')))"
      ]
     },
     "metadata": {},
     "output_type": "display_data"
    },
    {
     "data": {
      "application/vnd.jupyter.widget-view+json": {
       "model_id": "2e67e08bc22b44c698f3f670c774fc73",
       "version_major": 2,
       "version_minor": 0
      },
      "text/plain": [
       "HBox(children=(IntProgress(value=0, max=3009), HTML(value='')))"
      ]
     },
     "metadata": {},
     "output_type": "display_data"
    },
    {
     "name": "stdout",
     "output_type": "stream",
     "text": [
      "pi is fixed\n",
      "A is fixed\n",
      "iteration 0; log likelihood -81947.5276\n",
      "iteration 1; log likelihood -66367.1370\n",
      "iteration 2; log likelihood -66359.1042\n",
      "iteration 3; log likelihood -66303.8866\n",
      "iteration 4; log likelihood -66246.4856\n",
      "iteration 5; log likelihood -66145.0584\n",
      "iteration 6; log likelihood -65899.5666\n",
      "iteration 7; log likelihood -65375.7363\n",
      "iteration 8; log likelihood -64600.6027\n",
      "iteration 9; log likelihood -63863.3851\n",
      "iteration 10; log likelihood -63324.8911\n",
      "iteration 11; log likelihood -62934.1364\n",
      "iteration 12; log likelihood -62617.7119\n",
      "iteration 13; log likelihood -62339.7412\n",
      "iteration 14; log likelihood -62083.8759\n",
      "iteration 15; log likelihood -61846.2039\n",
      "iteration 16; log likelihood -61630.3543\n",
      "iteration 17; log likelihood -61439.3269\n",
      "iteration 18; log likelihood -61273.9969\n",
      "iteration 19; log likelihood -61133.4036\n",
      "iteration 20; log likelihood -61015.1519\n",
      "iteration 21; log likelihood -60916.1470\n",
      "iteration 22; log likelihood -60833.2159\n",
      "iteration 23; log likelihood -60763.3928\n",
      "iteration 24; log likelihood -60704.1162\n",
      "iteration 25; log likelihood -60653.3364\n",
      "iteration 26; log likelihood -60609.4508\n",
      "iteration 27; log likelihood -60571.1964\n",
      "iteration 28; log likelihood -60537.5607\n",
      "iteration 29; log likelihood -60507.7196\n",
      "iteration 30; log likelihood -60480.9977\n",
      "iteration 31; log likelihood -60456.8419\n",
      "iteration 32; log likelihood -60434.8023\n",
      "iteration 33; log likelihood -60414.5142\n",
      "iteration 34; log likelihood -60395.6831\n",
      "iteration 35; log likelihood -60378.0716\n",
      "iteration 36; log likelihood -60361.4868\n",
      "iteration 37; log likelihood -60345.7646\n",
      "iteration 38; log likelihood -60330.7511\n",
      "iteration 39; log likelihood -60316.2815\n",
      "iteration 40; log likelihood -60302.1564\n",
      "iteration 41; log likelihood -60288.1287\n",
      "iteration 42; log likelihood -60273.9350\n",
      "iteration 43; log likelihood -60259.4313\n",
      "iteration 44; log likelihood -60244.7768\n",
      "iteration 45; log likelihood -60230.4006\n",
      "iteration 46; log likelihood -60216.6831\n",
      "iteration 47; log likelihood -60203.7411\n",
      "iteration 48; log likelihood -60191.4902\n",
      "iteration 49; log likelihood -60179.7793\n",
      "iteration 50; log likelihood -60168.4628\n",
      "iteration 51; log likelihood -60157.4212\n",
      "iteration 52; log likelihood -60146.5595\n",
      "iteration 53; log likelihood -60135.7983\n",
      "iteration 54; log likelihood -60125.0558\n",
      "iteration 55; log likelihood -60114.2336\n",
      "iteration 56; log likelihood -60103.2615\n",
      "iteration 57; log likelihood -60092.2572\n",
      "iteration 58; log likelihood -60081.5278\n",
      "iteration 59; log likelihood -60071.2984\n",
      "iteration 60; log likelihood -60061.6502\n",
      "iteration 61; log likelihood -60052.6194\n",
      "iteration 62; log likelihood -60044.2336\n",
      "iteration 63; log likelihood -60036.5074\n",
      "iteration 64; log likelihood -60029.4380\n",
      "iteration 65; log likelihood -60023.0045\n",
      "iteration 66; log likelihood -60017.1714\n",
      "iteration 67; log likelihood -60011.8940\n",
      "iteration 68; log likelihood -60007.1233\n",
      "iteration 69; log likelihood -60002.8099\n",
      "iteration 70; log likelihood -59998.9065\n",
      "iteration 71; log likelihood -59995.3692\n",
      "iteration 72; log likelihood -59992.1580\n",
      "iteration 73; log likelihood -59989.2372\n",
      "iteration 74; log likelihood -59986.5748\n",
      "iteration 75; log likelihood -59984.1425\n",
      "iteration 76; log likelihood -59981.9151\n",
      "iteration 77; log likelihood -59979.8704\n",
      "iteration 78; log likelihood -59977.9886\n",
      "iteration 79; log likelihood -59976.2523\n",
      "iteration 80; log likelihood -59974.6459\n",
      "iteration 81; log likelihood -59973.1555\n",
      "iteration 82; log likelihood -59971.7690\n",
      "iteration 83; log likelihood -59970.4755\n",
      "iteration 84; log likelihood -59969.2652\n",
      "iteration 85; log likelihood -59968.1295\n",
      "iteration 86; log likelihood -59967.0607\n",
      "iteration 87; log likelihood -59966.0518\n",
      "iteration 88; log likelihood -59965.0964\n",
      "early stopping previous_llh -59966.051821920046, log_likelihood -59965.096389381906\n"
     ]
    },
    {
     "data": {
      "application/vnd.jupyter.widget-view+json": {
       "model_id": "e53770544c694ec7a17e1c172f33a5cc",
       "version_major": 2,
       "version_minor": 0
      },
      "text/plain": [
       "HBox(children=(IntProgress(value=0, max=2755), HTML(value='')))"
      ]
     },
     "metadata": {},
     "output_type": "display_data"
    },
    {
     "data": {
      "application/vnd.jupyter.widget-view+json": {
       "model_id": "2a3237c7350c4bf9adec04c50e1a662f",
       "version_major": 2,
       "version_minor": 0
      },
      "text/plain": [
       "HBox(children=(IntProgress(value=0, max=8292), HTML(value='')))"
      ]
     },
     "metadata": {},
     "output_type": "display_data"
    },
    {
     "data": {
      "application/vnd.jupyter.widget-view+json": {
       "model_id": "a22b269321584a16b430c420b45ecac0",
       "version_major": 2,
       "version_minor": 0
      },
      "text/plain": [
       "HBox(children=(IntProgress(value=0, max=10337), HTML(value='')))"
      ]
     },
     "metadata": {},
     "output_type": "display_data"
    },
    {
     "data": {
      "application/vnd.jupyter.widget-view+json": {
       "model_id": "b4fc5672a3ce4e548946199ecf897aaf",
       "version_major": 2,
       "version_minor": 0
      },
      "text/plain": [
       "HBox(children=(IntProgress(value=0, max=5584), HTML(value='')))"
      ]
     },
     "metadata": {},
     "output_type": "display_data"
    },
    {
     "data": {
      "application/vnd.jupyter.widget-view+json": {
       "model_id": "219c0a353b0547f5a0e6006874550ae5",
       "version_major": 2,
       "version_minor": 0
      },
      "text/plain": [
       "HBox(children=(IntProgress(value=0, max=3009), HTML(value='')))"
      ]
     },
     "metadata": {},
     "output_type": "display_data"
    },
    {
     "name": "stdout",
     "output_type": "stream",
     "text": [
      "pi is fixed\n",
      "A is fixed\n",
      "iteration 0; log likelihood -94892.2647\n",
      "iteration 1; log likelihood -76644.4604\n",
      "iteration 2; log likelihood -76641.0122\n",
      "iteration 3; log likelihood -76634.8429\n",
      "iteration 4; log likelihood -76617.2132\n",
      "iteration 5; log likelihood -76543.5299\n",
      "iteration 6; log likelihood -76429.8305\n",
      "iteration 7; log likelihood -76134.1697\n",
      "iteration 8; log likelihood -75412.2031\n",
      "iteration 9; log likelihood -74102.8337\n",
      "iteration 10; log likelihood -72442.1721\n",
      "iteration 11; log likelihood -70843.6934\n",
      "iteration 12; log likelihood -69558.8700\n",
      "iteration 13; log likelihood -68602.8337\n",
      "iteration 14; log likelihood -67850.5991\n",
      "iteration 15; log likelihood -67198.2439\n",
      "iteration 16; log likelihood -66607.3765\n",
      "iteration 17; log likelihood -66066.1470\n",
      "iteration 18; log likelihood -65557.8976\n",
      "iteration 19; log likelihood -65066.3303\n",
      "iteration 20; log likelihood -64591.1603\n",
      "iteration 21; log likelihood -64152.8361\n",
      "iteration 22; log likelihood -63776.9169\n",
      "iteration 23; log likelihood -63475.2293\n",
      "iteration 24; log likelihood -63243.3385\n",
      "iteration 25; log likelihood -63068.7503\n",
      "iteration 26; log likelihood -62937.8188\n",
      "iteration 27; log likelihood -62838.9779\n",
      "iteration 28; log likelihood -62763.6668\n",
      "iteration 29; log likelihood -62705.7565\n",
      "iteration 30; log likelihood -62660.7737\n",
      "iteration 31; log likelihood -62625.5592\n",
      "iteration 32; log likelihood -62597.8879\n",
      "iteration 33; log likelihood -62576.0737\n",
      "iteration 34; log likelihood -62558.7782\n",
      "iteration 35; log likelihood -62544.9561\n",
      "iteration 36; log likelihood -62533.8152\n",
      "iteration 37; log likelihood -62524.7600\n",
      "iteration 38; log likelihood -62517.3400\n",
      "iteration 39; log likelihood -62511.2101\n",
      "iteration 40; log likelihood -62506.1035\n",
      "iteration 41; log likelihood -62501.8124\n",
      "iteration 42; log likelihood -62498.1745\n",
      "iteration 43; log likelihood -62495.0620\n",
      "iteration 44; log likelihood -62492.3739\n",
      "iteration 45; log likelihood -62490.0304\n",
      "iteration 46; log likelihood -62487.9685\n",
      "iteration 47; log likelihood -62486.1390\n",
      "iteration 48; log likelihood -62484.5037\n",
      "iteration 49; log likelihood -62483.0331\n",
      "iteration 50; log likelihood -62481.7045\n",
      "iteration 51; log likelihood -62480.5004\n",
      "iteration 52; log likelihood -62479.4074\n",
      "iteration 53; log likelihood -62478.4145\n",
      "early stopping previous_llh -62479.40736077928, log_likelihood -62478.41449016915\n"
     ]
    },
    {
     "data": {
      "application/vnd.jupyter.widget-view+json": {
       "model_id": "ae923916fd44467c80e1ba319d420128",
       "version_major": 2,
       "version_minor": 0
      },
      "text/plain": [
       "HBox(children=(IntProgress(value=0, max=2755), HTML(value='')))"
      ]
     },
     "metadata": {},
     "output_type": "display_data"
    },
    {
     "data": {
      "application/vnd.jupyter.widget-view+json": {
       "model_id": "a0952cd02bb64658869c4c66c7376844",
       "version_major": 2,
       "version_minor": 0
      },
      "text/plain": [
       "HBox(children=(IntProgress(value=0, max=8292), HTML(value='')))"
      ]
     },
     "metadata": {},
     "output_type": "display_data"
    },
    {
     "data": {
      "application/vnd.jupyter.widget-view+json": {
       "model_id": "a8651181c1f34bb991f9491bb6482c5e",
       "version_major": 2,
       "version_minor": 0
      },
      "text/plain": [
       "HBox(children=(IntProgress(value=0, max=10337), HTML(value='')))"
      ]
     },
     "metadata": {},
     "output_type": "display_data"
    },
    {
     "data": {
      "application/vnd.jupyter.widget-view+json": {
       "model_id": "b9da5f4a3e0a4cea91fb56ab300c9c64",
       "version_major": 2,
       "version_minor": 0
      },
      "text/plain": [
       "HBox(children=(IntProgress(value=0, max=5584), HTML(value='')))"
      ]
     },
     "metadata": {},
     "output_type": "display_data"
    },
    {
     "data": {
      "application/vnd.jupyter.widget-view+json": {
       "model_id": "093b1b1fbc384dcca753e19250e80a79",
       "version_major": 2,
       "version_minor": 0
      },
      "text/plain": [
       "HBox(children=(IntProgress(value=0, max=3009), HTML(value='')))"
      ]
     },
     "metadata": {},
     "output_type": "display_data"
    },
    {
     "name": "stdout",
     "output_type": "stream",
     "text": [
      "pi is fixed\n",
      "A is fixed\n",
      "iteration 0; log likelihood -12542.0768\n",
      "iteration 1; log likelihood -10846.8829\n",
      "iteration 2; log likelihood -10840.0415\n",
      "iteration 3; log likelihood -10830.4890\n",
      "iteration 4; log likelihood -10815.7500\n",
      "iteration 5; log likelihood -10791.7099\n",
      "iteration 6; log likelihood -10752.4084\n",
      "iteration 7; log likelihood -10691.7804\n",
      "iteration 8; log likelihood -10607.9273\n",
      "iteration 9; log likelihood -10504.7787\n",
      "iteration 10; log likelihood -10385.1523\n",
      "iteration 11; log likelihood -10241.3725\n",
      "iteration 12; log likelihood -10058.3892\n",
      "iteration 13; log likelihood -9841.2339\n",
      "iteration 14; log likelihood -9627.0390\n",
      "iteration 15; log likelihood -9442.4832\n",
      "iteration 16; log likelihood -9291.4725\n",
      "iteration 17; log likelihood -9173.5238\n",
      "iteration 18; log likelihood -9085.2358\n",
      "iteration 19; log likelihood -9019.8282\n",
      "iteration 20; log likelihood -8972.8071\n",
      "iteration 21; log likelihood -8940.5416\n",
      "iteration 22; log likelihood -8918.2729\n",
      "iteration 23; log likelihood -8902.4647\n",
      "iteration 24; log likelihood -8891.0324\n",
      "iteration 25; log likelihood -8882.6486\n",
      "iteration 26; log likelihood -8876.4163\n",
      "iteration 27; log likelihood -8871.7215\n",
      "iteration 28; log likelihood -8868.1360\n",
      "iteration 29; log likelihood -8865.3554\n",
      "iteration 30; log likelihood -8863.1629\n",
      "iteration 31; log likelihood -8861.4053\n",
      "iteration 32; log likelihood -8859.9751\n",
      "iteration 33; log likelihood -8858.7958\n",
      "iteration 34; log likelihood -8857.8127\n",
      "early stopping previous_llh -8858.795828279546, log_likelihood -8857.812732746266\n"
     ]
    },
    {
     "data": {
      "application/vnd.jupyter.widget-view+json": {
       "model_id": "a7910bd205784843ab817582094238fb",
       "version_major": 2,
       "version_minor": 0
      },
      "text/plain": [
       "HBox(children=(IntProgress(value=0, max=3355), HTML(value='')))"
      ]
     },
     "metadata": {},
     "output_type": "display_data"
    },
    {
     "data": {
      "application/vnd.jupyter.widget-view+json": {
       "model_id": "e80f1c0df18b43878b4c77a74b570f52",
       "version_major": 2,
       "version_minor": 0
      },
      "text/plain": [
       "HBox(children=(IntProgress(value=0, max=112711), HTML(value='')))"
      ]
     },
     "metadata": {},
     "output_type": "display_data"
    },
    {
     "name": "stdout",
     "output_type": "stream",
     "text": [
      "pi is fixed\n",
      "A is fixed\n",
      "iteration 0; log likelihood -12944.8951\n",
      "iteration 1; log likelihood -11129.1342\n",
      "iteration 2; log likelihood -11123.7702\n",
      "iteration 3; log likelihood -11116.6361\n",
      "iteration 4; log likelihood -11105.8910\n",
      "iteration 5; log likelihood -11088.2833\n",
      "iteration 6; log likelihood -11058.4184\n",
      "iteration 7; log likelihood -11008.6629\n",
      "iteration 8; log likelihood -10930.6900\n",
      "iteration 9; log likelihood -10816.3115\n",
      "iteration 10; log likelihood -10651.2383\n",
      "iteration 11; log likelihood -10418.0645\n",
      "iteration 12; log likelihood -10142.6973\n",
      "iteration 13; log likelihood -9891.4508\n",
      "iteration 14; log likelihood -9695.4723\n",
      "iteration 15; log likelihood -9549.9316\n",
      "iteration 16; log likelihood -9440.9516\n",
      "iteration 17; log likelihood -9357.3149\n",
      "iteration 18; log likelihood -9293.2370\n",
      "iteration 19; log likelihood -9245.7248\n",
      "iteration 20; log likelihood -9211.7859\n",
      "iteration 21; log likelihood -9187.8714\n",
      "iteration 22; log likelihood -9170.7839\n",
      "iteration 23; log likelihood -9158.2574\n",
      "iteration 24; log likelihood -9149.0056\n",
      "iteration 25; log likelihood -9142.0737\n",
      "iteration 26; log likelihood -9136.7798\n",
      "iteration 27; log likelihood -9132.6978\n",
      "iteration 28; log likelihood -9129.5277\n",
      "iteration 29; log likelihood -9127.0416\n",
      "iteration 30; log likelihood -9125.0675\n",
      "iteration 31; log likelihood -9123.4804\n",
      "iteration 32; log likelihood -9122.1894\n",
      "iteration 33; log likelihood -9121.1281\n",
      "iteration 34; log likelihood -9120.2461\n",
      "early stopping previous_llh -9121.128104591002, log_likelihood -9120.246092749512\n"
     ]
    },
    {
     "data": {
      "application/vnd.jupyter.widget-view+json": {
       "model_id": "9de84a1659024764b21f0d703418acac",
       "version_major": 2,
       "version_minor": 0
      },
      "text/plain": [
       "HBox(children=(IntProgress(value=0, max=3355), HTML(value='')))"
      ]
     },
     "metadata": {},
     "output_type": "display_data"
    },
    {
     "data": {
      "application/vnd.jupyter.widget-view+json": {
       "model_id": "900cb55b07664fa381da4bbba75ea0c9",
       "version_major": 2,
       "version_minor": 0
      },
      "text/plain": [
       "HBox(children=(IntProgress(value=0, max=112711), HTML(value='')))"
      ]
     },
     "metadata": {},
     "output_type": "display_data"
    },
    {
     "name": "stdout",
     "output_type": "stream",
     "text": [
      "pi is fixed\n",
      "A is fixed\n",
      "iteration 0; log likelihood -13089.5984\n",
      "iteration 1; log likelihood -11255.0133\n",
      "iteration 2; log likelihood -11247.2865\n",
      "iteration 3; log likelihood -11238.9247\n",
      "iteration 4; log likelihood -11228.5487\n",
      "iteration 5; log likelihood -11213.9169\n",
      "iteration 6; log likelihood -11191.1847\n",
      "iteration 7; log likelihood -11153.8639\n",
      "iteration 8; log likelihood -11092.0520\n",
      "iteration 9; log likelihood -10993.5191\n",
      "iteration 10; log likelihood -10847.3842\n",
      "iteration 11; log likelihood -10646.7468\n",
      "iteration 12; log likelihood -10391.9958\n",
      "iteration 13; log likelihood -10114.7148\n",
      "iteration 14; log likelihood -9874.2357\n",
      "iteration 15; log likelihood -9685.2571\n",
      "iteration 16; log likelihood -9536.3198\n",
      "iteration 17; log likelihood -9418.7235\n",
      "iteration 18; log likelihood -9325.2138\n",
      "iteration 19; log likelihood -9251.8647\n",
      "iteration 20; log likelihood -9195.1573\n",
      "iteration 21; log likelihood -9150.3235\n",
      "iteration 22; log likelihood -9119.0145\n",
      "iteration 23; log likelihood -9098.1278\n",
      "iteration 24; log likelihood -9083.6418\n",
      "iteration 25; log likelihood -9073.3201\n",
      "iteration 26; log likelihood -9065.8485\n",
      "iteration 27; log likelihood -9060.3603\n",
      "iteration 28; log likelihood -9056.2718\n",
      "iteration 29; log likelihood -9053.1844\n",
      "iteration 30; log likelihood -9050.8239\n",
      "iteration 31; log likelihood -9049.0014\n",
      "iteration 32; log likelihood -9047.5819\n",
      "iteration 33; log likelihood -9046.4663\n",
      "iteration 34; log likelihood -9045.5813\n",
      "early stopping previous_llh -9046.466330769468, log_likelihood -9045.581347272815\n"
     ]
    },
    {
     "data": {
      "application/vnd.jupyter.widget-view+json": {
       "model_id": "5b8dec9900494a6283515b6e15dc8629",
       "version_major": 2,
       "version_minor": 0
      },
      "text/plain": [
       "HBox(children=(IntProgress(value=0, max=3355), HTML(value='')))"
      ]
     },
     "metadata": {},
     "output_type": "display_data"
    },
    {
     "data": {
      "application/vnd.jupyter.widget-view+json": {
       "model_id": "ecddf9492af54d50aac109cda35bb09b",
       "version_major": 2,
       "version_minor": 0
      },
      "text/plain": [
       "HBox(children=(IntProgress(value=0, max=112711), HTML(value='')))"
      ]
     },
     "metadata": {},
     "output_type": "display_data"
    },
    {
     "name": "stdout",
     "output_type": "stream",
     "text": [
      "pi is fixed\n",
      "A is fixed\n",
      "iteration 0; log likelihood -14051.0154\n",
      "iteration 1; log likelihood -12164.2407\n",
      "iteration 2; log likelihood -12161.2600\n",
      "iteration 3; log likelihood -12157.6598\n",
      "iteration 4; log likelihood -12152.8359\n",
      "iteration 5; log likelihood -12145.8076\n",
      "iteration 6; log likelihood -12134.9419\n",
      "iteration 7; log likelihood -12117.5662\n",
      "iteration 8; log likelihood -12089.5991\n",
      "iteration 9; log likelihood -12045.6923\n",
      "iteration 10; log likelihood -11980.7346\n",
      "iteration 11; log likelihood -11892.9898\n",
      "iteration 12; log likelihood -11787.2884\n",
      "iteration 13; log likelihood -11675.3681\n",
      "iteration 14; log likelihood -11571.0986\n",
      "iteration 15; log likelihood -11483.1713\n",
      "iteration 16; log likelihood -11412.4340\n",
      "iteration 17; log likelihood -11355.3079\n",
      "iteration 18; log likelihood -11307.8858\n",
      "iteration 19; log likelihood -11267.5039\n",
      "iteration 20; log likelihood -11232.5718\n",
      "iteration 21; log likelihood -11202.1016\n",
      "iteration 22; log likelihood -11175.4635\n",
      "iteration 23; log likelihood -11152.2496\n",
      "iteration 24; log likelihood -11132.1464\n",
      "iteration 25; log likelihood -11114.8460\n",
      "iteration 26; log likelihood -11100.0199\n",
      "iteration 27; log likelihood -11087.3304\n",
      "iteration 28; log likelihood -11076.4539\n",
      "iteration 29; log likelihood -11067.0976\n",
      "iteration 30; log likelihood -11059.0070\n",
      "iteration 31; log likelihood -11051.9678\n",
      "iteration 32; log likelihood -11045.8033\n",
      "iteration 33; log likelihood -11040.3705\n",
      "iteration 34; log likelihood -11035.5556\n",
      "iteration 35; log likelihood -11031.2705\n",
      "iteration 36; log likelihood -11027.4478\n",
      "iteration 37; log likelihood -11024.0362\n",
      "iteration 38; log likelihood -11020.9948\n",
      "iteration 39; log likelihood -11018.2881\n",
      "iteration 40; log likelihood -11015.8835\n",
      "iteration 41; log likelihood -11013.7502\n",
      "iteration 42; log likelihood -11011.8594\n",
      "iteration 43; log likelihood -11010.1839\n",
      "iteration 44; log likelihood -11008.6989\n",
      "iteration 45; log likelihood -11007.3815\n",
      "iteration 46; log likelihood -11006.2113\n",
      "iteration 47; log likelihood -11005.1698\n",
      "iteration 48; log likelihood -11004.2405\n",
      "early stopping previous_llh -11005.169770605518, log_likelihood -11004.24045204347\n"
     ]
    },
    {
     "data": {
      "application/vnd.jupyter.widget-view+json": {
       "model_id": "52c08b697893456e9116e3967d16c41a",
       "version_major": 2,
       "version_minor": 0
      },
      "text/plain": [
       "HBox(children=(IntProgress(value=0, max=3355), HTML(value='')))"
      ]
     },
     "metadata": {},
     "output_type": "display_data"
    },
    {
     "data": {
      "application/vnd.jupyter.widget-view+json": {
       "model_id": "9a2bc32c5e4343d9b991d23439fbfbdc",
       "version_major": 2,
       "version_minor": 0
      },
      "text/plain": [
       "HBox(children=(IntProgress(value=0, max=112711), HTML(value='')))"
      ]
     },
     "metadata": {},
     "output_type": "display_data"
    },
    {
     "name": "stdout",
     "output_type": "stream",
     "text": [
      "pi is fixed\n",
      "A is fixed\n",
      "iteration 0; log likelihood -13506.5492\n",
      "iteration 1; log likelihood -11191.9855\n",
      "iteration 2; log likelihood -11188.6171\n",
      "iteration 3; log likelihood -11184.5358\n",
      "iteration 4; log likelihood -11179.1688\n",
      "iteration 5; log likelihood -11171.6248\n",
      "iteration 6; log likelihood -11160.5586\n",
      "iteration 7; log likelihood -11144.1211\n",
      "iteration 8; log likelihood -11120.2024\n",
      "iteration 9; log likelihood -11087.1189\n",
      "iteration 10; log likelihood -11044.4228\n",
      "iteration 11; log likelihood -10993.0682\n",
      "iteration 12; log likelihood -10934.7965\n",
      "iteration 13; log likelihood -10871.5859\n",
      "iteration 14; log likelihood -10805.8550\n",
      "iteration 15; log likelihood -10741.1882\n",
      "iteration 16; log likelihood -10681.9257\n",
      "iteration 17; log likelihood -10630.8188\n",
      "iteration 18; log likelihood -10587.8880\n",
      "iteration 19; log likelihood -10551.9628\n",
      "iteration 20; log likelihood -10522.2098\n",
      "iteration 21; log likelihood -10498.0329\n",
      "iteration 22; log likelihood -10478.4983\n",
      "iteration 23; log likelihood -10462.4164\n",
      "iteration 24; log likelihood -10448.7269\n",
      "iteration 25; log likelihood -10436.7025\n",
      "iteration 26; log likelihood -10425.9551\n",
      "iteration 27; log likelihood -10416.3391\n",
      "iteration 28; log likelihood -10407.8116\n",
      "iteration 29; log likelihood -10400.3170\n",
      "iteration 30; log likelihood -10393.7400\n",
      "iteration 31; log likelihood -10387.9214\n",
      "iteration 32; log likelihood -10382.6957\n",
      "iteration 33; log likelihood -10377.9205\n",
      "iteration 34; log likelihood -10373.4882\n",
      "iteration 35; log likelihood -10369.3261\n",
      "iteration 36; log likelihood -10365.3903\n",
      "iteration 37; log likelihood -10361.6590\n",
      "iteration 38; log likelihood -10358.1253\n",
      "iteration 39; log likelihood -10354.7923\n",
      "iteration 40; log likelihood -10351.6671\n",
      "iteration 41; log likelihood -10348.7575\n",
      "iteration 42; log likelihood -10346.0679\n",
      "iteration 43; log likelihood -10343.5974\n",
      "iteration 44; log likelihood -10341.3391\n",
      "iteration 45; log likelihood -10339.2809\n",
      "iteration 46; log likelihood -10337.4065\n",
      "iteration 47; log likelihood -10335.6978\n",
      "iteration 48; log likelihood -10334.1362\n",
      "iteration 49; log likelihood -10332.7036\n",
      "iteration 50; log likelihood -10331.3837\n",
      "iteration 51; log likelihood -10330.1618\n",
      "iteration 52; log likelihood -10329.0253\n",
      "iteration 53; log likelihood -10327.9631\n",
      "iteration 54; log likelihood -10326.9659\n",
      "early stopping previous_llh -10327.963051168344, log_likelihood -10326.96586321996\n"
     ]
    },
    {
     "data": {
      "application/vnd.jupyter.widget-view+json": {
       "model_id": "e2139de6a5c8496a9378a892dd620ff4",
       "version_major": 2,
       "version_minor": 0
      },
      "text/plain": [
       "HBox(children=(IntProgress(value=0, max=3355), HTML(value='')))"
      ]
     },
     "metadata": {},
     "output_type": "display_data"
    },
    {
     "data": {
      "application/vnd.jupyter.widget-view+json": {
       "model_id": "8757a229429644f3bf218b57d69c2073",
       "version_major": 2,
       "version_minor": 0
      },
      "text/plain": [
       "HBox(children=(IntProgress(value=0, max=112711), HTML(value='')))"
      ]
     },
     "metadata": {},
     "output_type": "display_data"
    },
    {
     "name": "stdout",
     "output_type": "stream",
     "text": [
      "pi is fixed\n",
      "A is fixed\n",
      "iteration 0; log likelihood -12579.1133\n",
      "iteration 1; log likelihood -10875.3483\n",
      "iteration 2; log likelihood -10869.2913\n",
      "iteration 3; log likelihood -10861.1425\n",
      "iteration 4; log likelihood -10848.7153\n",
      "iteration 5; log likelihood -10828.2287\n",
      "iteration 6; log likelihood -10793.8340\n",
      "iteration 7; log likelihood -10738.7994\n",
      "iteration 8; log likelihood -10659.4453\n",
      "iteration 9; log likelihood -10557.6422\n",
      "iteration 10; log likelihood -10435.2812\n",
      "iteration 11; log likelihood -10285.2922\n",
      "iteration 12; log likelihood -10095.9828\n",
      "iteration 13; log likelihood -9875.9811\n",
      "iteration 14; log likelihood -9660.8494\n",
      "iteration 15; log likelihood -9478.4675\n",
      "iteration 16; log likelihood -9338.3952\n",
      "iteration 17; log likelihood -9234.7390\n",
      "iteration 18; log likelihood -9155.7897\n",
      "iteration 19; log likelihood -9094.0734\n",
      "iteration 20; log likelihood -9046.9212\n",
      "iteration 21; log likelihood -9012.8370\n",
      "iteration 22; log likelihood -8988.8382\n",
      "iteration 23; log likelihood -8971.9191\n",
      "iteration 24; log likelihood -8959.8091\n",
      "iteration 25; log likelihood -8950.9701\n",
      "iteration 26; log likelihood -8944.3809\n",
      "iteration 27; log likelihood -8939.3596\n",
      "iteration 28; log likelihood -8935.4477\n",
      "iteration 29; log likelihood -8932.3362\n",
      "iteration 30; log likelihood -8929.8149\n",
      "iteration 31; log likelihood -8927.7390\n",
      "iteration 32; log likelihood -8926.0061\n",
      "iteration 33; log likelihood -8924.5441\n",
      "iteration 34; log likelihood -8923.3040\n",
      "iteration 35; log likelihood -8922.2522\n",
      "iteration 36; log likelihood -8921.3602\n",
      "early stopping previous_llh -8922.252154927128, log_likelihood -8921.360186402831\n"
     ]
    },
    {
     "data": {
      "application/vnd.jupyter.widget-view+json": {
       "model_id": "e414bf043cf94356927a9fc41132154d",
       "version_major": 2,
       "version_minor": 0
      },
      "text/plain": [
       "HBox(children=(IntProgress(value=0, max=3355), HTML(value='')))"
      ]
     },
     "metadata": {},
     "output_type": "display_data"
    },
    {
     "data": {
      "application/vnd.jupyter.widget-view+json": {
       "model_id": "e6984504f4a44cfe8e87da9715e5c24e",
       "version_major": 2,
       "version_minor": 0
      },
      "text/plain": [
       "HBox(children=(IntProgress(value=0, max=112711), HTML(value='')))"
      ]
     },
     "metadata": {},
     "output_type": "display_data"
    },
    {
     "name": "stdout",
     "output_type": "stream",
     "text": [
      "pi is fixed\n",
      "A is fixed\n",
      "iteration 0; log likelihood -13434.2988\n",
      "iteration 1; log likelihood -11622.5318\n",
      "iteration 2; log likelihood -11617.6835\n",
      "iteration 3; log likelihood -11611.6653\n",
      "iteration 4; log likelihood -11603.5572\n",
      "iteration 5; log likelihood -11591.9700\n",
      "iteration 6; log likelihood -11574.8597\n",
      "iteration 7; log likelihood -11549.4709\n",
      "iteration 8; log likelihood -11512.6715\n",
      "iteration 9; log likelihood -11461.8956\n",
      "iteration 10; log likelihood -11396.4323\n",
      "iteration 11; log likelihood -11318.2775\n",
      "iteration 12; log likelihood -11231.6327\n",
      "iteration 13; log likelihood -11139.9815\n",
      "iteration 14; log likelihood -11040.1399\n",
      "iteration 15; log likelihood -10916.2412\n",
      "iteration 16; log likelihood -10747.8795\n",
      "iteration 17; log likelihood -10541.7051\n",
      "iteration 18; log likelihood -10325.7418\n",
      "iteration 19; log likelihood -10113.1524\n",
      "iteration 20; log likelihood -9923.8116\n",
      "iteration 21; log likelihood -9783.5647\n",
      "iteration 22; log likelihood -9692.3592\n",
      "iteration 23; log likelihood -9634.6719\n",
      "iteration 24; log likelihood -9597.2972\n",
      "iteration 25; log likelihood -9572.5136\n",
      "iteration 26; log likelihood -9555.8039\n",
      "iteration 27; log likelihood -9544.3257\n",
      "iteration 28; log likelihood -9536.2338\n",
      "iteration 29; log likelihood -9530.3464\n",
      "iteration 30; log likelihood -9525.9141\n",
      "iteration 31; log likelihood -9522.4556\n",
      "iteration 32; log likelihood -9519.6665\n",
      "iteration 33; log likelihood -9517.3732\n",
      "iteration 34; log likelihood -9515.4908\n",
      "iteration 35; log likelihood -9513.9655\n",
      "iteration 36; log likelihood -9512.7382\n",
      "iteration 37; log likelihood -9511.7475\n",
      "early stopping previous_llh -9512.738180908967, log_likelihood -9511.74752934161\n"
     ]
    },
    {
     "data": {
      "application/vnd.jupyter.widget-view+json": {
       "model_id": "893c6af90fef4f9e974ec8036e1769af",
       "version_major": 2,
       "version_minor": 0
      },
      "text/plain": [
       "HBox(children=(IntProgress(value=0, max=3355), HTML(value='')))"
      ]
     },
     "metadata": {},
     "output_type": "display_data"
    },
    {
     "data": {
      "application/vnd.jupyter.widget-view+json": {
       "model_id": "87efdddd731b47629ab04efd36dc4cb0",
       "version_major": 2,
       "version_minor": 0
      },
      "text/plain": [
       "HBox(children=(IntProgress(value=0, max=112711), HTML(value='')))"
      ]
     },
     "metadata": {},
     "output_type": "display_data"
    },
    {
     "name": "stdout",
     "output_type": "stream",
     "text": [
      "pi is fixed\n",
      "A is fixed\n",
      "iteration 0; log likelihood -14743.2101\n",
      "iteration 1; log likelihood -12654.4328\n",
      "iteration 2; log likelihood -12649.7800\n",
      "iteration 3; log likelihood -12643.7589\n",
      "iteration 4; log likelihood -12635.0972\n",
      "iteration 5; log likelihood -12621.6697\n",
      "iteration 6; log likelihood -12599.9958\n",
      "iteration 7; log likelihood -12564.9280\n",
      "iteration 8; log likelihood -12510.4934\n",
      "iteration 9; log likelihood -12432.7804\n",
      "iteration 10; log likelihood -12332.3110\n",
      "iteration 11; log likelihood -12209.3725\n",
      "iteration 12; log likelihood -12051.6786\n",
      "iteration 13; log likelihood -11833.3288\n",
      "iteration 14; log likelihood -11564.6709\n",
      "iteration 15; log likelihood -11311.8296\n",
      "iteration 16; log likelihood -11102.0584\n",
      "iteration 17; log likelihood -10932.5179\n",
      "iteration 18; log likelihood -10801.1280\n",
      "iteration 19; log likelihood -10704.0463\n",
      "iteration 20; log likelihood -10635.3583\n",
      "iteration 21; log likelihood -10587.8463\n",
      "iteration 22; log likelihood -10555.0596\n",
      "iteration 23; log likelihood -10532.0982\n",
      "iteration 24; log likelihood -10515.6150\n",
      "iteration 25; log likelihood -10503.5069\n",
      "iteration 26; log likelihood -10494.4604\n",
      "iteration 27; log likelihood -10487.5765\n",
      "iteration 28; log likelihood -10482.2237\n",
      "iteration 29; log likelihood -10477.9803\n",
      "iteration 30; log likelihood -10474.5771\n",
      "iteration 31; log likelihood -10471.8332\n",
      "iteration 32; log likelihood -10469.6078\n",
      "iteration 33; log likelihood -10467.7867\n",
      "iteration 34; log likelihood -10466.2801\n",
      "iteration 35; log likelihood -10465.0194\n",
      "iteration 36; log likelihood -10463.9534\n",
      "iteration 37; log likelihood -10463.0439\n",
      "early stopping previous_llh -10463.953432833528, log_likelihood -10463.043864123585\n"
     ]
    },
    {
     "data": {
      "application/vnd.jupyter.widget-view+json": {
       "model_id": "121960bfcdeb4e1cb3b2307591f720de",
       "version_major": 2,
       "version_minor": 0
      },
      "text/plain": [
       "HBox(children=(IntProgress(value=0, max=3355), HTML(value='')))"
      ]
     },
     "metadata": {},
     "output_type": "display_data"
    },
    {
     "data": {
      "application/vnd.jupyter.widget-view+json": {
       "model_id": "c0f6662cd2644a91921321124b7515e1",
       "version_major": 2,
       "version_minor": 0
      },
      "text/plain": [
       "HBox(children=(IntProgress(value=0, max=112711), HTML(value='')))"
      ]
     },
     "metadata": {},
     "output_type": "display_data"
    },
    {
     "name": "stdout",
     "output_type": "stream",
     "text": [
      "pi is fixed\n",
      "A is fixed\n",
      "iteration 0; log likelihood -9220.0197\n",
      "iteration 1; log likelihood -7536.2260\n",
      "iteration 2; log likelihood -7529.4095\n",
      "iteration 3; log likelihood -7517.9704\n",
      "iteration 4; log likelihood -7494.4534\n",
      "iteration 5; log likelihood -7451.1915\n",
      "iteration 6; log likelihood -7387.7221\n",
      "iteration 7; log likelihood -7305.8104\n",
      "iteration 8; log likelihood -7218.4789\n",
      "iteration 9; log likelihood -7135.0895\n",
      "iteration 10; log likelihood -7052.0002\n",
      "iteration 11; log likelihood -6961.7090\n",
      "iteration 12; log likelihood -6860.3822\n",
      "iteration 13; log likelihood -6749.2291\n",
      "iteration 14; log likelihood -6641.8155\n",
      "iteration 15; log likelihood -6556.7156\n",
      "iteration 16; log likelihood -6496.0676\n",
      "iteration 17; log likelihood -6452.4122\n",
      "iteration 18; log likelihood -6418.8969\n",
      "iteration 19; log likelihood -6391.4366\n",
      "iteration 20; log likelihood -6367.8486\n",
      "iteration 21; log likelihood -6347.0270\n",
      "iteration 22; log likelihood -6328.4327\n",
      "iteration 23; log likelihood -6311.7374\n",
      "iteration 24; log likelihood -6296.7288\n",
      "iteration 25; log likelihood -6283.2915\n",
      "iteration 26; log likelihood -6271.3476\n",
      "iteration 27; log likelihood -6260.7870\n",
      "iteration 28; log likelihood -6251.4937\n",
      "iteration 29; log likelihood -6243.5605\n",
      "iteration 30; log likelihood -6237.1711\n",
      "iteration 31; log likelihood -6232.0225\n",
      "iteration 32; log likelihood -6227.7709\n",
      "iteration 33; log likelihood -6224.2402\n",
      "iteration 34; log likelihood -6221.2956\n",
      "iteration 35; log likelihood -6218.8226\n",
      "iteration 36; log likelihood -6216.7265\n",
      "iteration 37; log likelihood -6214.9306\n",
      "iteration 38; log likelihood -6213.3743\n",
      "iteration 39; log likelihood -6212.0111\n",
      "iteration 40; log likelihood -6210.8062\n",
      "iteration 41; log likelihood -6209.7338\n",
      "iteration 42; log likelihood -6208.7750\n",
      "early stopping previous_llh -6209.733780509782, log_likelihood -6208.7750384916735\n"
     ]
    },
    {
     "data": {
      "application/vnd.jupyter.widget-view+json": {
       "model_id": "e745d88abf7a40ad86b32f664712e0ef",
       "version_major": 2,
       "version_minor": 0
      },
      "text/plain": [
       "HBox(children=(IntProgress(value=0, max=2755), HTML(value='')))"
      ]
     },
     "metadata": {},
     "output_type": "display_data"
    },
    {
     "data": {
      "application/vnd.jupyter.widget-view+json": {
       "model_id": "d86305686ac64cd5b5cbab514cfd05a9",
       "version_major": 2,
       "version_minor": 0
      },
      "text/plain": [
       "HBox(children=(IntProgress(value=0, max=8292), HTML(value='')))"
      ]
     },
     "metadata": {},
     "output_type": "display_data"
    },
    {
     "data": {
      "application/vnd.jupyter.widget-view+json": {
       "model_id": "96d7b0a7a08948659eb1e484b71cabfc",
       "version_major": 2,
       "version_minor": 0
      },
      "text/plain": [
       "HBox(children=(IntProgress(value=0, max=10337), HTML(value='')))"
      ]
     },
     "metadata": {},
     "output_type": "display_data"
    },
    {
     "data": {
      "application/vnd.jupyter.widget-view+json": {
       "model_id": "2ecd828098774193a97500318b521932",
       "version_major": 2,
       "version_minor": 0
      },
      "text/plain": [
       "HBox(children=(IntProgress(value=0, max=5584), HTML(value='')))"
      ]
     },
     "metadata": {},
     "output_type": "display_data"
    },
    {
     "data": {
      "application/vnd.jupyter.widget-view+json": {
       "model_id": "5881dd838dc741d9bedca66173947621",
       "version_major": 2,
       "version_minor": 0
      },
      "text/plain": [
       "HBox(children=(IntProgress(value=0, max=3009), HTML(value='')))"
      ]
     },
     "metadata": {},
     "output_type": "display_data"
    },
    {
     "name": "stdout",
     "output_type": "stream",
     "text": [
      "pi is fixed\n",
      "A is fixed\n",
      "iteration 0; log likelihood -12738.9158\n",
      "iteration 1; log likelihood -11131.5067\n",
      "iteration 2; log likelihood -11125.7382\n",
      "iteration 3; log likelihood -11119.1458\n",
      "iteration 4; log likelihood -11110.6334\n",
      "iteration 5; log likelihood -11098.4794\n",
      "iteration 6; log likelihood -11079.8916\n",
      "iteration 7; log likelihood -11050.5249\n",
      "iteration 8; log likelihood -11004.4495\n",
      "iteration 9; log likelihood -10935.4325\n",
      "iteration 10; log likelihood -10839.0361\n",
      "iteration 11; log likelihood -10710.4850\n",
      "iteration 12; log likelihood -10534.0807\n",
      "iteration 13; log likelihood -10288.6952\n",
      "iteration 14; log likelihood -10006.3312\n",
      "iteration 15; log likelihood -9763.3833\n",
      "iteration 16; log likelihood -9583.1075\n",
      "iteration 17; log likelihood -9455.0341\n",
      "iteration 18; log likelihood -9366.7391\n",
      "iteration 19; log likelihood -9306.7520\n",
      "iteration 20; log likelihood -9266.6997\n",
      "iteration 21; log likelihood -9239.8378\n",
      "iteration 22; log likelihood -9221.3353\n",
      "iteration 23; log likelihood -9208.1596\n",
      "iteration 24; log likelihood -9198.5153\n",
      "iteration 25; log likelihood -9191.3466\n",
      "iteration 26; log likelihood -9185.9636\n",
      "iteration 27; log likelihood -9181.8696\n",
      "iteration 28; log likelihood -9178.7095\n",
      "iteration 29; log likelihood -9176.2349\n",
      "iteration 30; log likelihood -9174.2719\n",
      "iteration 31; log likelihood -9172.6968\n",
      "iteration 32; log likelihood -9171.4198\n",
      "iteration 33; log likelihood -9170.3747\n",
      "iteration 34; log likelihood -9169.5117\n",
      "early stopping previous_llh -9170.37466909135, log_likelihood -9169.511740209375\n"
     ]
    },
    {
     "data": {
      "application/vnd.jupyter.widget-view+json": {
       "model_id": "461ac0e78a4c4698859c2b8741b866e8",
       "version_major": 2,
       "version_minor": 0
      },
      "text/plain": [
       "HBox(children=(IntProgress(value=0, max=3355), HTML(value='')))"
      ]
     },
     "metadata": {},
     "output_type": "display_data"
    },
    {
     "data": {
      "application/vnd.jupyter.widget-view+json": {
       "model_id": "8a77e673a70f43a48ceb58f5152c7302",
       "version_major": 2,
       "version_minor": 0
      },
      "text/plain": [
       "HBox(children=(IntProgress(value=0, max=112711), HTML(value='')))"
      ]
     },
     "metadata": {},
     "output_type": "display_data"
    },
    {
     "name": "stdout",
     "output_type": "stream",
     "text": [
      "pi is fixed\n",
      "A is fixed\n",
      "iteration 0; log likelihood -13302.4331\n",
      "iteration 1; log likelihood -11595.0377\n",
      "iteration 2; log likelihood -11589.6657\n",
      "iteration 3; log likelihood -11583.0920\n",
      "iteration 4; log likelihood -11574.0184\n",
      "iteration 5; log likelihood -11560.5209\n",
      "iteration 6; log likelihood -11539.7530\n",
      "iteration 7; log likelihood -11507.9932\n",
      "iteration 8; log likelihood -11461.3931\n",
      "iteration 9; log likelihood -11397.1950\n",
      "iteration 10; log likelihood -11314.5678\n",
      "iteration 11; log likelihood -11214.9718\n",
      "iteration 12; log likelihood -11102.8878\n",
      "iteration 13; log likelihood -10986.1053\n",
      "iteration 14; log likelihood -10871.8215\n",
      "iteration 15; log likelihood -10758.5838\n",
      "iteration 16; log likelihood -10628.7583\n",
      "iteration 17; log likelihood -10447.9660\n",
      "iteration 18; log likelihood -10202.9177\n",
      "iteration 19; log likelihood -9958.8773\n",
      "iteration 20; log likelihood -9779.7255\n",
      "iteration 21; log likelihood -9666.1099\n",
      "iteration 22; log likelihood -9594.9655\n",
      "iteration 23; log likelihood -9551.3859\n",
      "iteration 24; log likelihood -9523.8251\n",
      "iteration 25; log likelihood -9505.7078\n",
      "iteration 26; log likelihood -9493.3286\n",
      "iteration 27; log likelihood -9484.4783\n",
      "iteration 28; log likelihood -9477.9102\n",
      "iteration 29; log likelihood -9472.8921\n",
      "iteration 30; log likelihood -9468.9729\n",
      "iteration 31; log likelihood -9465.8620\n",
      "iteration 32; log likelihood -9463.3638\n",
      "iteration 33; log likelihood -9461.3395\n",
      "iteration 34; log likelihood -9459.6867\n",
      "iteration 35; log likelihood -9458.3268\n",
      "iteration 36; log likelihood -9457.1988\n",
      "iteration 37; log likelihood -9456.2550\n",
      "early stopping previous_llh -9457.198818675646, log_likelihood -9456.254958197662\n"
     ]
    },
    {
     "data": {
      "application/vnd.jupyter.widget-view+json": {
       "model_id": "c18c96c97d064266b4734b9c9b9325f5",
       "version_major": 2,
       "version_minor": 0
      },
      "text/plain": [
       "HBox(children=(IntProgress(value=0, max=3355), HTML(value='')))"
      ]
     },
     "metadata": {},
     "output_type": "display_data"
    },
    {
     "data": {
      "application/vnd.jupyter.widget-view+json": {
       "model_id": "0130ddf41ea54cd19b49d418ce73c58a",
       "version_major": 2,
       "version_minor": 0
      },
      "text/plain": [
       "HBox(children=(IntProgress(value=0, max=112711), HTML(value='')))"
      ]
     },
     "metadata": {},
     "output_type": "display_data"
    },
    {
     "name": "stdout",
     "output_type": "stream",
     "text": [
      "pi is fixed\n",
      "A is fixed\n",
      "iteration 0; log likelihood -6869.6361\n",
      "iteration 1; log likelihood -5654.5575\n",
      "iteration 2; log likelihood -5645.9228\n",
      "iteration 3; log likelihood -5630.5902\n",
      "iteration 4; log likelihood -5598.1957\n",
      "iteration 5; log likelihood -5529.8887\n",
      "iteration 6; log likelihood -5400.3663\n",
      "iteration 7; log likelihood -5223.4470\n",
      "iteration 8; log likelihood -5073.7315\n",
      "iteration 9; log likelihood -4981.9199\n",
      "iteration 10; log likelihood -4923.2895\n",
      "iteration 11; log likelihood -4878.1290\n",
      "iteration 12; log likelihood -4839.0108\n",
      "iteration 13; log likelihood -4802.7141\n",
      "iteration 14; log likelihood -4767.9643\n",
      "iteration 15; log likelihood -4736.6572\n",
      "iteration 16; log likelihood -4709.3748\n",
      "iteration 17; log likelihood -4686.3721\n",
      "iteration 18; log likelihood -4667.6171\n",
      "iteration 19; log likelihood -4652.6876\n",
      "iteration 20; log likelihood -4640.9836\n",
      "iteration 21; log likelihood -4631.8885\n",
      "iteration 22; log likelihood -4624.8399\n",
      "iteration 23; log likelihood -4619.3530\n",
      "iteration 24; log likelihood -4615.0382\n",
      "iteration 25; log likelihood -4611.6030\n",
      "iteration 26; log likelihood -4608.8346\n",
      "iteration 27; log likelihood -4606.5787\n",
      "iteration 28; log likelihood -4604.7224\n",
      "iteration 29; log likelihood -4603.1827\n",
      "iteration 30; log likelihood -4601.8965\n",
      "iteration 31; log likelihood -4600.8157\n",
      "iteration 32; log likelihood -4599.9021\n",
      "early stopping previous_llh -4600.815710946734, log_likelihood -4599.902140878655\n"
     ]
    },
    {
     "data": {
      "application/vnd.jupyter.widget-view+json": {
       "model_id": "9cc6712e5b2543e799be97d058a60c1c",
       "version_major": 2,
       "version_minor": 0
      },
      "text/plain": [
       "HBox(children=(IntProgress(value=0, max=2755), HTML(value='')))"
      ]
     },
     "metadata": {},
     "output_type": "display_data"
    },
    {
     "data": {
      "application/vnd.jupyter.widget-view+json": {
       "model_id": "7bac33d6caab46cfa21ae52a08d42613",
       "version_major": 2,
       "version_minor": 0
      },
      "text/plain": [
       "HBox(children=(IntProgress(value=0, max=8292), HTML(value='')))"
      ]
     },
     "metadata": {},
     "output_type": "display_data"
    },
    {
     "data": {
      "application/vnd.jupyter.widget-view+json": {
       "model_id": "1a5485c79b4047c4be66071b96485743",
       "version_major": 2,
       "version_minor": 0
      },
      "text/plain": [
       "HBox(children=(IntProgress(value=0, max=10337), HTML(value='')))"
      ]
     },
     "metadata": {},
     "output_type": "display_data"
    },
    {
     "data": {
      "application/vnd.jupyter.widget-view+json": {
       "model_id": "856ee660e9ec40b689df6b058e612012",
       "version_major": 2,
       "version_minor": 0
      },
      "text/plain": [
       "HBox(children=(IntProgress(value=0, max=5584), HTML(value='')))"
      ]
     },
     "metadata": {},
     "output_type": "display_data"
    },
    {
     "data": {
      "application/vnd.jupyter.widget-view+json": {
       "model_id": "f4317ec309f4487d999d0d618cbb31fc",
       "version_major": 2,
       "version_minor": 0
      },
      "text/plain": [
       "HBox(children=(IntProgress(value=0, max=3009), HTML(value='')))"
      ]
     },
     "metadata": {},
     "output_type": "display_data"
    },
    {
     "name": "stdout",
     "output_type": "stream",
     "text": [
      "pi is fixed\n",
      "A is fixed\n",
      "iteration 0; log likelihood -8885.4706\n",
      "iteration 1; log likelihood -7348.1095\n",
      "iteration 2; log likelihood -7343.1931\n",
      "iteration 3; log likelihood -7336.4170\n",
      "iteration 4; log likelihood -7323.7858\n",
      "iteration 5; log likelihood -7297.3620\n",
      "iteration 6; log likelihood -7262.3388\n",
      "iteration 7; log likelihood -7205.2961\n",
      "iteration 8; log likelihood -7094.8320\n",
      "iteration 9; log likelihood -6906.9308\n",
      "iteration 10; log likelihood -6695.6362\n",
      "iteration 11; log likelihood -6540.0804\n",
      "iteration 12; log likelihood -6441.3951\n",
      "iteration 13; log likelihood -6372.9646\n",
      "iteration 14; log likelihood -6318.8114\n",
      "iteration 15; log likelihood -6271.9928\n",
      "iteration 16; log likelihood -6230.0305\n",
      "iteration 17; log likelihood -6191.1242\n",
      "iteration 18; log likelihood -6154.7178\n",
      "iteration 19; log likelihood -6121.3828\n",
      "iteration 20; log likelihood -6092.2522\n",
      "iteration 21; log likelihood -6068.0687\n",
      "iteration 22; log likelihood -6048.8085\n",
      "iteration 23; log likelihood -6033.8610\n",
      "iteration 24; log likelihood -6022.3876\n",
      "iteration 25; log likelihood -6013.5570\n",
      "iteration 26; log likelihood -6006.6272\n",
      "iteration 27; log likelihood -6000.9199\n",
      "iteration 28; log likelihood -5995.7800\n",
      "iteration 29; log likelihood -5990.8851\n",
      "iteration 30; log likelihood -5986.7428\n",
      "iteration 31; log likelihood -5983.8058\n",
      "iteration 32; log likelihood -5981.3573\n",
      "iteration 33; log likelihood -5979.5056\n",
      "iteration 34; log likelihood -5978.2194\n",
      "iteration 35; log likelihood -5977.1707\n",
      "iteration 36; log likelihood -5976.2895\n",
      "early stopping previous_llh -5977.170712964919, log_likelihood -5976.289520133316\n"
     ]
    },
    {
     "data": {
      "application/vnd.jupyter.widget-view+json": {
       "model_id": "5e3be265828940d98dd22799246e7eb2",
       "version_major": 2,
       "version_minor": 0
      },
      "text/plain": [
       "HBox(children=(IntProgress(value=0, max=2755), HTML(value='')))"
      ]
     },
     "metadata": {},
     "output_type": "display_data"
    },
    {
     "data": {
      "application/vnd.jupyter.widget-view+json": {
       "model_id": "454068aa6884495c83a318288d2aba7b",
       "version_major": 2,
       "version_minor": 0
      },
      "text/plain": [
       "HBox(children=(IntProgress(value=0, max=8292), HTML(value='')))"
      ]
     },
     "metadata": {},
     "output_type": "display_data"
    },
    {
     "data": {
      "application/vnd.jupyter.widget-view+json": {
       "model_id": "bc4c72784968499e94ae3a6fa59d6ce1",
       "version_major": 2,
       "version_minor": 0
      },
      "text/plain": [
       "HBox(children=(IntProgress(value=0, max=10337), HTML(value='')))"
      ]
     },
     "metadata": {},
     "output_type": "display_data"
    },
    {
     "data": {
      "application/vnd.jupyter.widget-view+json": {
       "model_id": "5f2f41ba031649dd90c6ebc853cc9b78",
       "version_major": 2,
       "version_minor": 0
      },
      "text/plain": [
       "HBox(children=(IntProgress(value=0, max=5584), HTML(value='')))"
      ]
     },
     "metadata": {},
     "output_type": "display_data"
    },
    {
     "data": {
      "application/vnd.jupyter.widget-view+json": {
       "model_id": "5ea342ff34ab42e182135a92215140ac",
       "version_major": 2,
       "version_minor": 0
      },
      "text/plain": [
       "HBox(children=(IntProgress(value=0, max=3009), HTML(value='')))"
      ]
     },
     "metadata": {},
     "output_type": "display_data"
    },
    {
     "name": "stdout",
     "output_type": "stream",
     "text": [
      "pi is fixed\n",
      "A is fixed\n",
      "iteration 0; log likelihood -12201.4037\n",
      "iteration 1; log likelihood -10475.5818\n",
      "iteration 2; log likelihood -10468.6095\n",
      "iteration 3; log likelihood -10460.1655\n",
      "iteration 4; log likelihood -10448.3441\n",
      "iteration 5; log likelihood -10430.0416\n",
      "iteration 6; log likelihood -10400.3572\n",
      "iteration 7; log likelihood -10352.6076\n",
      "iteration 8; log likelihood -10280.0590\n",
      "iteration 9; log likelihood -10178.3480\n",
      "iteration 10; log likelihood -10041.9742\n",
      "iteration 11; log likelihood -9853.3116\n",
      "iteration 12; log likelihood -9597.5858\n",
      "iteration 13; log likelihood -9323.9202\n",
      "iteration 14; log likelihood -9102.4775\n",
      "iteration 15; log likelihood -8941.9451\n",
      "iteration 16; log likelihood -8826.1256\n",
      "iteration 17; log likelihood -8742.1410\n",
      "iteration 18; log likelihood -8682.6982\n",
      "iteration 19; log likelihood -8641.5875\n",
      "iteration 20; log likelihood -8613.1719\n",
      "iteration 21; log likelihood -8593.3177\n",
      "iteration 22; log likelihood -8579.1975\n",
      "iteration 23; log likelihood -8568.9187\n",
      "iteration 24; log likelihood -8561.2096\n",
      "iteration 25; log likelihood -8555.2647\n",
      "iteration 26; log likelihood -8550.6464\n",
      "iteration 27; log likelihood -8547.0688\n",
      "iteration 28; log likelihood -8544.2877\n",
      "iteration 29; log likelihood -8542.1045\n",
      "iteration 30; log likelihood -8540.3682\n",
      "iteration 31; log likelihood -8538.9688\n",
      "iteration 32; log likelihood -8537.8276\n",
      "iteration 33; log likelihood -8536.8877\n",
      "early stopping previous_llh -8537.827573710178, log_likelihood -8536.88766552499\n"
     ]
    },
    {
     "data": {
      "application/vnd.jupyter.widget-view+json": {
       "model_id": "2d6cc87f36ef4f49927bdb7d690e5449",
       "version_major": 2,
       "version_minor": 0
      },
      "text/plain": [
       "HBox(children=(IntProgress(value=0, max=3355), HTML(value='')))"
      ]
     },
     "metadata": {},
     "output_type": "display_data"
    },
    {
     "data": {
      "application/vnd.jupyter.widget-view+json": {
       "model_id": "06bb92c332004d9c8f78e63642d1f4e2",
       "version_major": 2,
       "version_minor": 0
      },
      "text/plain": [
       "HBox(children=(IntProgress(value=0, max=112711), HTML(value='')))"
      ]
     },
     "metadata": {},
     "output_type": "display_data"
    },
    {
     "name": "stdout",
     "output_type": "stream",
     "text": [
      "pi is fixed\n",
      "A is fixed\n",
      "iteration 0; log likelihood -6480.8181\n",
      "iteration 1; log likelihood -5436.8546\n",
      "iteration 2; log likelihood -5406.4014\n",
      "iteration 3; log likelihood -5372.4103\n",
      "iteration 4; log likelihood -5332.0417\n",
      "iteration 5; log likelihood -5258.6413\n",
      "iteration 6; log likelihood -5146.5279\n",
      "iteration 7; log likelihood -5014.2841\n",
      "iteration 8; log likelihood -4898.1622\n",
      "iteration 9; log likelihood -4817.3674\n",
      "iteration 10; log likelihood -4762.2994\n",
      "iteration 11; log likelihood -4722.5085\n",
      "iteration 12; log likelihood -4691.7606\n",
      "iteration 13; log likelihood -4666.4622\n",
      "iteration 14; log likelihood -4644.7057\n",
      "iteration 15; log likelihood -4625.5479\n",
      "iteration 16; log likelihood -4608.5959\n",
      "iteration 17; log likelihood -4593.7230\n",
      "iteration 18; log likelihood -4580.9063\n",
      "iteration 19; log likelihood -4570.1049\n",
      "iteration 20; log likelihood -4561.1522\n",
      "iteration 21; log likelihood -4553.7926\n",
      "iteration 22; log likelihood -4547.7593\n",
      "iteration 23; log likelihood -4542.8109\n",
      "iteration 24; log likelihood -4538.7426\n",
      "iteration 25; log likelihood -4535.3856\n",
      "iteration 26; log likelihood -4532.6021\n",
      "iteration 27; log likelihood -4530.2812\n",
      "iteration 28; log likelihood -4528.3338\n",
      "iteration 29; log likelihood -4526.6887\n",
      "iteration 30; log likelihood -4525.2891\n",
      "iteration 31; log likelihood -4524.0895\n",
      "iteration 32; log likelihood -4523.0534\n",
      "iteration 33; log likelihood -4522.1515\n",
      "early stopping previous_llh -4523.053373838516, log_likelihood -4522.151458132977\n"
     ]
    },
    {
     "data": {
      "application/vnd.jupyter.widget-view+json": {
       "model_id": "a20ada9b8f3c4a57a6fcf38b01485d31",
       "version_major": 2,
       "version_minor": 0
      },
      "text/plain": [
       "HBox(children=(IntProgress(value=0, max=2755), HTML(value='')))"
      ]
     },
     "metadata": {},
     "output_type": "display_data"
    },
    {
     "data": {
      "application/vnd.jupyter.widget-view+json": {
       "model_id": "094e7776234c4f65b29dd75f504d4420",
       "version_major": 2,
       "version_minor": 0
      },
      "text/plain": [
       "HBox(children=(IntProgress(value=0, max=8292), HTML(value='')))"
      ]
     },
     "metadata": {},
     "output_type": "display_data"
    },
    {
     "data": {
      "application/vnd.jupyter.widget-view+json": {
       "model_id": "9fc43ec5761c4136b0ef08f582642826",
       "version_major": 2,
       "version_minor": 0
      },
      "text/plain": [
       "HBox(children=(IntProgress(value=0, max=10337), HTML(value='')))"
      ]
     },
     "metadata": {},
     "output_type": "display_data"
    },
    {
     "data": {
      "application/vnd.jupyter.widget-view+json": {
       "model_id": "da2cd45e1c1c455595d6efd5cc275bc8",
       "version_major": 2,
       "version_minor": 0
      },
      "text/plain": [
       "HBox(children=(IntProgress(value=0, max=5584), HTML(value='')))"
      ]
     },
     "metadata": {},
     "output_type": "display_data"
    },
    {
     "data": {
      "application/vnd.jupyter.widget-view+json": {
       "model_id": "1589a501d86744248864e236d2743468",
       "version_major": 2,
       "version_minor": 0
      },
      "text/plain": [
       "HBox(children=(IntProgress(value=0, max=3009), HTML(value='')))"
      ]
     },
     "metadata": {},
     "output_type": "display_data"
    },
    {
     "name": "stdout",
     "output_type": "stream",
     "text": [
      "pi is fixed\n",
      "A is fixed\n",
      "iteration 0; log likelihood -11641.2415\n",
      "iteration 1; log likelihood -9957.3511\n",
      "iteration 2; log likelihood -9952.2427\n",
      "iteration 3; log likelihood -9946.2636\n",
      "iteration 4; log likelihood -9938.6292\n",
      "iteration 5; log likelihood -9928.1432\n",
      "iteration 6; log likelihood -9913.0700\n",
      "iteration 7; log likelihood -9891.1770\n",
      "iteration 8; log likelihood -9860.1661\n",
      "iteration 9; log likelihood -9818.4198\n",
      "iteration 10; log likelihood -9765.3049\n",
      "iteration 11; log likelihood -9700.3662\n",
      "iteration 12; log likelihood -9621.8712\n",
      "iteration 13; log likelihood -9525.0584\n",
      "iteration 14; log likelihood -9401.0626\n",
      "iteration 15; log likelihood -9244.2830\n",
      "iteration 16; log likelihood -9070.8736\n",
      "iteration 17; log likelihood -8910.0835\n",
      "iteration 18; log likelihood -8772.0261\n",
      "iteration 19; log likelihood -8651.6307\n",
      "iteration 20; log likelihood -8548.2521\n",
      "iteration 21; log likelihood -8462.6262\n",
      "iteration 22; log likelihood -8387.1414\n",
      "iteration 23; log likelihood -8330.4390\n",
      "iteration 24; log likelihood -8294.7276\n",
      "iteration 25; log likelihood -8271.2828\n",
      "iteration 26; log likelihood -8254.9616\n",
      "iteration 27; log likelihood -8243.1983\n",
      "iteration 28; log likelihood -8234.5064\n",
      "iteration 29; log likelihood -8227.9527\n",
      "iteration 30; log likelihood -8222.9543\n",
      "iteration 31; log likelihood -8219.1318\n",
      "iteration 32; log likelihood -8216.2032\n",
      "iteration 33; log likelihood -8213.9413\n",
      "iteration 34; log likelihood -8212.1664\n",
      "iteration 35; log likelihood -8210.7449\n",
      "iteration 36; log likelihood -8209.5858\n",
      "iteration 37; log likelihood -8208.6340\n",
      "early stopping previous_llh -8209.585835787306, log_likelihood -8208.634001700211\n"
     ]
    },
    {
     "data": {
      "application/vnd.jupyter.widget-view+json": {
       "model_id": "d53da38d2be249ab8e8dfed7bb4f2320",
       "version_major": 2,
       "version_minor": 0
      },
      "text/plain": [
       "HBox(children=(IntProgress(value=0, max=3355), HTML(value='')))"
      ]
     },
     "metadata": {},
     "output_type": "display_data"
    },
    {
     "data": {
      "application/vnd.jupyter.widget-view+json": {
       "model_id": "a0cdd8d26ff84a1ab0ba7b2736005d45",
       "version_major": 2,
       "version_minor": 0
      },
      "text/plain": [
       "HBox(children=(IntProgress(value=0, max=112711), HTML(value='')))"
      ]
     },
     "metadata": {},
     "output_type": "display_data"
    },
    {
     "name": "stdout",
     "output_type": "stream",
     "text": [
      "pi is fixed\n",
      "A is fixed\n",
      "iteration 0; log likelihood -8310.6972\n",
      "iteration 1; log likelihood -6908.7722\n",
      "iteration 2; log likelihood -6897.0065\n",
      "iteration 3; log likelihood -6876.2835\n",
      "iteration 4; log likelihood -6834.2535\n",
      "iteration 5; log likelihood -6756.1103\n",
      "iteration 6; log likelihood -6626.8119\n",
      "iteration 7; log likelihood -6460.4682\n",
      "iteration 8; log likelihood -6306.9461\n",
      "iteration 9; log likelihood -6197.4118\n",
      "iteration 10; log likelihood -6124.1788\n",
      "iteration 11; log likelihood -6068.2171\n",
      "iteration 12; log likelihood -6019.3865\n",
      "iteration 13; log likelihood -5974.8401\n",
      "iteration 14; log likelihood -5934.1644\n",
      "iteration 15; log likelihood -5897.3348\n",
      "iteration 16; log likelihood -5864.6741\n",
      "iteration 17; log likelihood -5836.5154\n",
      "iteration 18; log likelihood -5812.9564\n",
      "iteration 19; log likelihood -5793.7349\n",
      "iteration 20; log likelihood -5778.2940\n",
      "iteration 21; log likelihood -5765.9603\n",
      "iteration 22; log likelihood -5756.1225\n",
      "iteration 23; log likelihood -5748.3198\n",
      "iteration 24; log likelihood -5742.1883\n",
      "iteration 25; log likelihood -5737.3698\n",
      "iteration 26; log likelihood -5733.5377\n",
      "iteration 27; log likelihood -5730.4319\n",
      "iteration 28; log likelihood -5727.8511\n",
      "iteration 29; log likelihood -5725.6294\n",
      "iteration 30; log likelihood -5723.6267\n",
      "iteration 31; log likelihood -5721.7602\n",
      "iteration 32; log likelihood -5720.0699\n",
      "iteration 33; log likelihood -5718.6569\n",
      "iteration 34; log likelihood -5717.5180\n",
      "iteration 35; log likelihood -5716.5835\n",
      "early stopping previous_llh -5717.518032999607, log_likelihood -5716.583487036646\n"
     ]
    },
    {
     "data": {
      "application/vnd.jupyter.widget-view+json": {
       "model_id": "285434a96fb547568c7e47188ebccf99",
       "version_major": 2,
       "version_minor": 0
      },
      "text/plain": [
       "HBox(children=(IntProgress(value=0, max=2755), HTML(value='')))"
      ]
     },
     "metadata": {},
     "output_type": "display_data"
    },
    {
     "data": {
      "application/vnd.jupyter.widget-view+json": {
       "model_id": "bb70412f455c4d07a71ba619a992697b",
       "version_major": 2,
       "version_minor": 0
      },
      "text/plain": [
       "HBox(children=(IntProgress(value=0, max=8292), HTML(value='')))"
      ]
     },
     "metadata": {},
     "output_type": "display_data"
    },
    {
     "data": {
      "application/vnd.jupyter.widget-view+json": {
       "model_id": "528f582d4cbd49acbc363dfe0765277a",
       "version_major": 2,
       "version_minor": 0
      },
      "text/plain": [
       "HBox(children=(IntProgress(value=0, max=10337), HTML(value='')))"
      ]
     },
     "metadata": {},
     "output_type": "display_data"
    },
    {
     "data": {
      "application/vnd.jupyter.widget-view+json": {
       "model_id": "e8be421bd6ce463780c1abb025a66efa",
       "version_major": 2,
       "version_minor": 0
      },
      "text/plain": [
       "HBox(children=(IntProgress(value=0, max=5584), HTML(value='')))"
      ]
     },
     "metadata": {},
     "output_type": "display_data"
    },
    {
     "data": {
      "application/vnd.jupyter.widget-view+json": {
       "model_id": "dce784d81e33416885b6d4beaac2dcae",
       "version_major": 2,
       "version_minor": 0
      },
      "text/plain": [
       "HBox(children=(IntProgress(value=0, max=3009), HTML(value='')))"
      ]
     },
     "metadata": {},
     "output_type": "display_data"
    },
    {
     "name": "stdout",
     "output_type": "stream",
     "text": [
      "pi is fixed\n",
      "A is fixed\n",
      "iteration 0; log likelihood -12576.3115\n",
      "iteration 1; log likelihood -10914.3906\n",
      "iteration 2; log likelihood -10908.2152\n",
      "iteration 3; log likelihood -10900.1104\n",
      "iteration 4; log likelihood -10887.8928\n",
      "iteration 5; log likelihood -10867.6366\n",
      "iteration 6; log likelihood -10832.8275\n",
      "iteration 7; log likelihood -10774.8652\n",
      "iteration 8; log likelihood -10686.7664\n",
      "iteration 9; log likelihood -10565.5159\n",
      "iteration 10; log likelihood -10403.2894\n",
      "iteration 11; log likelihood -10189.3725\n",
      "iteration 12; log likelihood -9953.8045\n",
      "iteration 13; log likelihood -9748.7487\n",
      "iteration 14; log likelihood -9582.3739\n",
      "iteration 15; log likelihood -9443.7745\n",
      "iteration 16; log likelihood -9328.0810\n",
      "iteration 17; log likelihood -9233.0429\n",
      "iteration 18; log likelihood -9159.7775\n",
      "iteration 19; log likelihood -9106.2129\n",
      "iteration 20; log likelihood -9067.6116\n",
      "iteration 21; log likelihood -9039.8979\n",
      "iteration 22; log likelihood -9019.9140\n",
      "iteration 23; log likelihood -9005.3348\n",
      "iteration 24; log likelihood -8994.5188\n",
      "iteration 25; log likelihood -8986.3481\n",
      "iteration 26; log likelihood -8980.0801\n",
      "iteration 27; log likelihood -8975.2165\n",
      "iteration 28; log likelihood -8971.4078\n",
      "iteration 29; log likelihood -8968.3964\n",
      "iteration 30; log likelihood -8965.9878\n",
      "iteration 31; log likelihood -8964.0385\n",
      "iteration 32; log likelihood -8962.4477\n",
      "iteration 33; log likelihood -8961.1454\n",
      "iteration 34; log likelihood -8960.0785\n",
      "iteration 35; log likelihood -8959.2029\n",
      "early stopping previous_llh -8960.078474334516, log_likelihood -8959.202908065561\n"
     ]
    },
    {
     "data": {
      "application/vnd.jupyter.widget-view+json": {
       "model_id": "44a8e9e75c574033b0ac2503480bb4e1",
       "version_major": 2,
       "version_minor": 0
      },
      "text/plain": [
       "HBox(children=(IntProgress(value=0, max=3355), HTML(value='')))"
      ]
     },
     "metadata": {},
     "output_type": "display_data"
    },
    {
     "data": {
      "application/vnd.jupyter.widget-view+json": {
       "model_id": "32597f05dcb34968a0af3495f543cc10",
       "version_major": 2,
       "version_minor": 0
      },
      "text/plain": [
       "HBox(children=(IntProgress(value=0, max=112711), HTML(value='')))"
      ]
     },
     "metadata": {},
     "output_type": "display_data"
    },
    {
     "name": "stdout",
     "output_type": "stream",
     "text": [
      "pi is fixed\n",
      "A is fixed\n",
      "iteration 0; log likelihood -12055.3449\n",
      "iteration 1; log likelihood -10522.2923\n",
      "iteration 2; log likelihood -10516.4467\n",
      "iteration 3; log likelihood -10509.4814\n",
      "iteration 4; log likelihood -10500.0362\n",
      "iteration 5; log likelihood -10485.8351\n",
      "iteration 6; log likelihood -10463.0813\n",
      "iteration 7; log likelihood -10425.8055\n",
      "iteration 8; log likelihood -10365.5964\n",
      "iteration 9; log likelihood -10272.2014\n",
      "iteration 10; log likelihood -10135.5049\n",
      "iteration 11; log likelihood -9953.5796\n",
      "iteration 12; log likelihood -9747.9759\n",
      "iteration 13; log likelihood -9556.0136\n",
      "iteration 14; log likelihood -9396.1552\n",
      "iteration 15; log likelihood -9264.5299\n",
      "iteration 16; log likelihood -9155.5847\n",
      "iteration 17; log likelihood -9066.9631\n",
      "iteration 18; log likelihood -8995.9406\n",
      "iteration 19; log likelihood -8939.6106\n",
      "iteration 20; log likelihood -8895.7024\n",
      "iteration 21; log likelihood -8862.0958\n",
      "iteration 22; log likelihood -8836.5098\n",
      "iteration 23; log likelihood -8816.8321\n",
      "iteration 24; log likelihood -8801.3804\n",
      "iteration 25; log likelihood -8788.9460\n",
      "iteration 26; log likelihood -8778.7201\n",
      "iteration 27; log likelihood -8770.2226\n",
      "iteration 28; log likelihood -8763.2483\n",
      "iteration 29; log likelihood -8757.6238\n",
      "iteration 30; log likelihood -8753.0899\n",
      "iteration 31; log likelihood -8749.4060\n",
      "iteration 32; log likelihood -8746.3901\n",
      "iteration 33; log likelihood -8743.9059\n",
      "iteration 34; log likelihood -8741.8495\n",
      "iteration 35; log likelihood -8740.1393\n",
      "iteration 36; log likelihood -8738.7080\n",
      "iteration 37; log likelihood -8737.4959\n",
      "iteration 38; log likelihood -8736.4452\n",
      "iteration 39; log likelihood -8735.4981\n",
      "early stopping previous_llh -8736.445244469747, log_likelihood -8735.498101275496\n"
     ]
    },
    {
     "data": {
      "application/vnd.jupyter.widget-view+json": {
       "model_id": "ef454747bd1d447895f25aef50b9ce6d",
       "version_major": 2,
       "version_minor": 0
      },
      "text/plain": [
       "HBox(children=(IntProgress(value=0, max=3355), HTML(value='')))"
      ]
     },
     "metadata": {},
     "output_type": "display_data"
    },
    {
     "data": {
      "application/vnd.jupyter.widget-view+json": {
       "model_id": "e3cc444f648848d39e0d9186db07ce81",
       "version_major": 2,
       "version_minor": 0
      },
      "text/plain": [
       "HBox(children=(IntProgress(value=0, max=112711), HTML(value='')))"
      ]
     },
     "metadata": {},
     "output_type": "display_data"
    },
    {
     "name": "stdout",
     "output_type": "stream",
     "text": [
      "pi is fixed\n",
      "A is fixed\n",
      "iteration 0; log likelihood -16342.7724\n",
      "iteration 1; log likelihood -14037.8314\n",
      "iteration 2; log likelihood -14028.0812\n",
      "iteration 3; log likelihood -14016.9415\n",
      "iteration 4; log likelihood -14002.3332\n",
      "iteration 5; log likelihood -13981.0092\n",
      "iteration 6; log likelihood -13947.8277\n",
      "iteration 7; log likelihood -13895.2275\n",
      "iteration 8; log likelihood -13814.3137\n",
      "iteration 9; log likelihood -13699.1326\n",
      "iteration 10; log likelihood -13549.5345\n",
      "iteration 11; log likelihood -13361.4103\n",
      "iteration 12; log likelihood -13113.6959\n",
      "iteration 13; log likelihood -12793.5201\n",
      "iteration 14; log likelihood -12447.6960\n",
      "iteration 15; log likelihood -12153.8622\n",
      "iteration 16; log likelihood -11938.4850\n",
      "iteration 17; log likelihood -11786.2127\n",
      "iteration 18; log likelihood -11682.0043\n",
      "iteration 19; log likelihood -11613.2469\n",
      "iteration 20; log likelihood -11568.0109\n",
      "iteration 21; log likelihood -11537.6585\n",
      "iteration 22; log likelihood -11516.7372\n",
      "iteration 23; log likelihood -11501.9325\n",
      "iteration 24; log likelihood -11491.2371\n",
      "iteration 25; log likelihood -11483.3822\n",
      "iteration 26; log likelihood -11477.5094\n",
      "iteration 27; log likelihood -11473.0323\n",
      "iteration 28; log likelihood -11469.5595\n",
      "iteration 29; log likelihood -11466.8247\n",
      "iteration 30; log likelihood -11464.6371\n",
      "iteration 31; log likelihood -11462.8626\n",
      "iteration 32; log likelihood -11461.4098\n",
      "iteration 33; log likelihood -11460.2110\n",
      "iteration 34; log likelihood -11459.2106\n",
      "iteration 35; log likelihood -11458.3656\n",
      "early stopping previous_llh -11459.21058900914, log_likelihood -11458.365636109325\n"
     ]
    },
    {
     "data": {
      "application/vnd.jupyter.widget-view+json": {
       "model_id": "62de16734969468fa85d244052bbe5b3",
       "version_major": 2,
       "version_minor": 0
      },
      "text/plain": [
       "HBox(children=(IntProgress(value=0, max=3355), HTML(value='')))"
      ]
     },
     "metadata": {},
     "output_type": "display_data"
    },
    {
     "data": {
      "application/vnd.jupyter.widget-view+json": {
       "model_id": "de9d7c0b1b6248b1b76f7adb78cecbf6",
       "version_major": 2,
       "version_minor": 0
      },
      "text/plain": [
       "HBox(children=(IntProgress(value=0, max=112711), HTML(value='')))"
      ]
     },
     "metadata": {},
     "output_type": "display_data"
    },
    {
     "name": "stdout",
     "output_type": "stream",
     "text": [
      "pi is fixed\n",
      "A is fixed\n",
      "iteration 0; log likelihood -14187.0725\n",
      "iteration 1; log likelihood -12307.1310\n",
      "iteration 2; log likelihood -12297.2551\n",
      "iteration 3; log likelihood -12285.6998\n",
      "iteration 4; log likelihood -12270.1372\n",
      "iteration 5; log likelihood -12247.0677\n",
      "iteration 6; log likelihood -12211.1615\n",
      "iteration 7; log likelihood -12154.3380\n",
      "iteration 8; log likelihood -12064.9933\n",
      "iteration 9; log likelihood -11928.0304\n",
      "iteration 10; log likelihood -11727.7265\n",
      "iteration 11; log likelihood -11468.3283\n",
      "iteration 12; log likelihood -11202.6320\n",
      "iteration 13; log likelihood -10986.0246\n",
      "iteration 14; log likelihood -10820.1968\n",
      "iteration 15; log likelihood -10678.5427\n",
      "iteration 16; log likelihood -10542.4997\n",
      "iteration 17; log likelihood -10414.4625\n",
      "iteration 18; log likelihood -10305.3249\n",
      "iteration 19; log likelihood -10220.1104\n",
      "iteration 20; log likelihood -10156.4040\n",
      "iteration 21; log likelihood -10109.7854\n",
      "iteration 22; log likelihood -10076.1936\n",
      "iteration 23; log likelihood -10051.8910\n",
      "iteration 24; log likelihood -10031.8241\n",
      "iteration 25; log likelihood -10015.8837\n",
      "iteration 26; log likelihood -10006.1753\n",
      "iteration 27; log likelihood -10000.0896\n",
      "iteration 28; log likelihood -9995.8580\n",
      "iteration 29; log likelihood -9992.7246\n",
      "iteration 30; log likelihood -9990.3162\n",
      "iteration 31; log likelihood -9988.4133\n",
      "iteration 32; log likelihood -9986.8761\n",
      "iteration 33; log likelihood -9985.6112\n",
      "iteration 34; log likelihood -9984.5543\n",
      "iteration 35; log likelihood -9983.6600\n",
      "early stopping previous_llh -9984.554348899, log_likelihood -9983.659956390633\n"
     ]
    },
    {
     "data": {
      "application/vnd.jupyter.widget-view+json": {
       "model_id": "88800aa723fe41a587fbfcf9498a3364",
       "version_major": 2,
       "version_minor": 0
      },
      "text/plain": [
       "HBox(children=(IntProgress(value=0, max=3355), HTML(value='')))"
      ]
     },
     "metadata": {},
     "output_type": "display_data"
    },
    {
     "data": {
      "application/vnd.jupyter.widget-view+json": {
       "model_id": "a4c2016da8dc4987847ec3c3db1ef42a",
       "version_major": 2,
       "version_minor": 0
      },
      "text/plain": [
       "HBox(children=(IntProgress(value=0, max=112711), HTML(value='')))"
      ]
     },
     "metadata": {},
     "output_type": "display_data"
    },
    {
     "name": "stdout",
     "output_type": "stream",
     "text": [
      "pi is fixed\n",
      "A is fixed\n",
      "iteration 0; log likelihood -14084.6161\n",
      "iteration 1; log likelihood -12238.3671\n",
      "iteration 2; log likelihood -12232.3944\n",
      "iteration 3; log likelihood -12225.4914\n",
      "iteration 4; log likelihood -12216.2802\n",
      "iteration 5; log likelihood -12202.4461\n",
      "iteration 6; log likelihood -12180.0555\n",
      "iteration 7; log likelihood -12142.8475\n",
      "iteration 8; log likelihood -12082.2506\n",
      "iteration 9; log likelihood -11988.8560\n",
      "iteration 10; log likelihood -11853.3957\n",
      "iteration 11; log likelihood -11665.1260\n",
      "iteration 12; log likelihood -11420.5164\n",
      "iteration 13; log likelihood -11149.0523\n",
      "iteration 14; log likelihood -10901.2304\n",
      "iteration 15; log likelihood -10696.7283\n",
      "iteration 16; log likelihood -10530.0171\n",
      "iteration 17; log likelihood -10396.7842\n",
      "iteration 18; log likelihood -10293.2025\n",
      "iteration 19; log likelihood -10214.8571\n",
      "iteration 20; log likelihood -10158.1130\n",
      "iteration 21; log likelihood -10118.8253\n",
      "iteration 22; log likelihood -10092.0597\n",
      "iteration 23; log likelihood -10073.8128\n",
      "iteration 24; log likelihood -10061.1463\n",
      "iteration 25; log likelihood -10052.0888\n",
      "iteration 26; log likelihood -10045.4288\n",
      "iteration 27; log likelihood -10040.4176\n",
      "iteration 28; log likelihood -10036.5752\n",
      "iteration 29; log likelihood -10033.5830\n",
      "iteration 30; log likelihood -10031.2224\n",
      "iteration 31; log likelihood -10029.3390\n",
      "iteration 32; log likelihood -10027.8211\n",
      "iteration 33; log likelihood -10026.5859\n",
      "iteration 34; log likelihood -10025.5715\n",
      "iteration 35; log likelihood -10024.7305\n",
      "early stopping previous_llh -10025.57147806607, log_likelihood -10024.730509645662\n"
     ]
    },
    {
     "data": {
      "application/vnd.jupyter.widget-view+json": {
       "model_id": "ac55ea01a1834f1498e227b10fd1b29e",
       "version_major": 2,
       "version_minor": 0
      },
      "text/plain": [
       "HBox(children=(IntProgress(value=0, max=3355), HTML(value='')))"
      ]
     },
     "metadata": {},
     "output_type": "display_data"
    },
    {
     "data": {
      "application/vnd.jupyter.widget-view+json": {
       "model_id": "7ba1aa71135b47c0a4f7a1340e880e7b",
       "version_major": 2,
       "version_minor": 0
      },
      "text/plain": [
       "HBox(children=(IntProgress(value=0, max=112711), HTML(value='')))"
      ]
     },
     "metadata": {},
     "output_type": "display_data"
    },
    {
     "name": "stdout",
     "output_type": "stream",
     "text": [
      "pi is fixed\n",
      "A is fixed\n",
      "iteration 0; log likelihood -13519.2156\n",
      "iteration 1; log likelihood -11844.7719\n",
      "iteration 2; log likelihood -11835.5102\n",
      "iteration 3; log likelihood -11824.6962\n",
      "iteration 4; log likelihood -11810.6739\n",
      "iteration 5; log likelihood -11790.9760\n",
      "iteration 6; log likelihood -11761.9615\n",
      "iteration 7; log likelihood -11718.8503\n",
      "iteration 8; log likelihood -11656.8838\n",
      "iteration 9; log likelihood -11573.4422\n",
      "iteration 10; log likelihood -11467.7877\n",
      "iteration 11; log likelihood -11335.0249\n",
      "iteration 12; log likelihood -11161.4412\n",
      "iteration 13; log likelihood -10942.5702\n",
      "iteration 14; log likelihood -10713.4593\n",
      "iteration 15; log likelihood -10517.3005\n",
      "iteration 16; log likelihood -10358.8137\n",
      "iteration 17; log likelihood -10224.7961\n",
      "iteration 18; log likelihood -10106.5334\n",
      "iteration 19; log likelihood -10004.3603\n",
      "iteration 20; log likelihood -9920.5474\n",
      "iteration 21; log likelihood -9853.4822\n",
      "iteration 22; log likelihood -9801.4195\n",
      "iteration 23; log likelihood -9762.7652\n",
      "iteration 24; log likelihood -9734.8446\n",
      "iteration 25; log likelihood -9714.7916\n",
      "iteration 26; log likelihood -9700.3710\n",
      "iteration 27; log likelihood -9689.9867\n",
      "iteration 28; log likelihood -9682.4816\n",
      "iteration 29; log likelihood -9677.0067\n",
      "iteration 30; log likelihood -9672.9534\n",
      "iteration 31; log likelihood -9669.8975\n",
      "iteration 32; log likelihood -9667.5485\n",
      "iteration 33; log likelihood -9665.7088\n",
      "iteration 34; log likelihood -9664.2434\n",
      "iteration 35; log likelihood -9663.0596\n",
      "iteration 36; log likelihood -9662.0924\n",
      "early stopping previous_llh -9663.059631519214, log_likelihood -9662.092363057225\n"
     ]
    },
    {
     "data": {
      "application/vnd.jupyter.widget-view+json": {
       "model_id": "2bbd2b1268b94d7e82190fe3a17f93dc",
       "version_major": 2,
       "version_minor": 0
      },
      "text/plain": [
       "HBox(children=(IntProgress(value=0, max=3355), HTML(value='')))"
      ]
     },
     "metadata": {},
     "output_type": "display_data"
    },
    {
     "data": {
      "application/vnd.jupyter.widget-view+json": {
       "model_id": "cf21c75c8f7e42c7877b223c499fc27d",
       "version_major": 2,
       "version_minor": 0
      },
      "text/plain": [
       "HBox(children=(IntProgress(value=0, max=112711), HTML(value='')))"
      ]
     },
     "metadata": {},
     "output_type": "display_data"
    },
    {
     "name": "stdout",
     "output_type": "stream",
     "text": [
      "pi is fixed\n",
      "A is fixed\n",
      "iteration 0; log likelihood -13282.2907\n",
      "iteration 1; log likelihood -11498.1114\n",
      "iteration 2; log likelihood -11493.0089\n",
      "iteration 3; log likelihood -11486.1799\n",
      "iteration 4; log likelihood -11476.1286\n",
      "iteration 5; log likelihood -11460.4228\n",
      "iteration 6; log likelihood -11435.4231\n",
      "iteration 7; log likelihood -11396.7453\n",
      "iteration 8; log likelihood -11341.2673\n",
      "iteration 9; log likelihood -11269.8495\n",
      "iteration 10; log likelihood -11187.6090\n",
      "iteration 11; log likelihood -11100.5451\n",
      "iteration 12; log likelihood -11011.2733\n",
      "iteration 13; log likelihood -10916.6284\n",
      "iteration 14; log likelihood -10809.0141\n",
      "iteration 15; log likelihood -10683.6925\n",
      "iteration 16; log likelihood -10543.8371\n",
      "iteration 17; log likelihood -10394.8372\n",
      "iteration 18; log likelihood -10242.9503\n",
      "iteration 19; log likelihood -10092.0201\n",
      "iteration 20; log likelihood -9944.8170\n",
      "iteration 21; log likelihood -9813.3319\n",
      "iteration 22; log likelihood -9708.3300\n",
      "iteration 23; log likelihood -9630.3436\n",
      "iteration 24; log likelihood -9575.3592\n",
      "iteration 25; log likelihood -9537.4559\n",
      "iteration 26; log likelihood -9511.4038\n",
      "iteration 27; log likelihood -9493.3419\n",
      "iteration 28; log likelihood -9480.5144\n",
      "iteration 29; log likelihood -9471.1035\n",
      "iteration 30; log likelihood -9463.9792\n",
      "iteration 31; log likelihood -9458.4489\n",
      "iteration 32; log likelihood -9454.0790\n",
      "iteration 33; log likelihood -9450.5824\n",
      "iteration 34; log likelihood -9447.7570\n",
      "iteration 35; log likelihood -9445.4573\n",
      "iteration 36; log likelihood -9443.5776\n",
      "iteration 37; log likelihood -9442.0369\n",
      "iteration 38; log likelihood -9440.7672\n",
      "iteration 39; log likelihood -9439.7049\n",
      "iteration 40; log likelihood -9438.7844\n",
      "early stopping previous_llh -9439.704914829603, log_likelihood -9438.784376948312\n"
     ]
    },
    {
     "data": {
      "application/vnd.jupyter.widget-view+json": {
       "model_id": "7c2676cb479c49708251c46b9eaa1c83",
       "version_major": 2,
       "version_minor": 0
      },
      "text/plain": [
       "HBox(children=(IntProgress(value=0, max=3355), HTML(value='')))"
      ]
     },
     "metadata": {},
     "output_type": "display_data"
    },
    {
     "data": {
      "application/vnd.jupyter.widget-view+json": {
       "model_id": "f9da6e04f0a7418abab9dcfce09e33d1",
       "version_major": 2,
       "version_minor": 0
      },
      "text/plain": [
       "HBox(children=(IntProgress(value=0, max=112711), HTML(value='')))"
      ]
     },
     "metadata": {},
     "output_type": "display_data"
    },
    {
     "name": "stdout",
     "output_type": "stream",
     "text": [
      "pi is fixed\n",
      "A is fixed\n",
      "iteration 0; log likelihood -12066.1598\n",
      "iteration 1; log likelihood -10100.9524\n",
      "iteration 2; log likelihood -10095.7473\n",
      "iteration 3; log likelihood -10089.6418\n",
      "iteration 4; log likelihood -10081.9181\n",
      "iteration 5; log likelihood -10071.5426\n",
      "iteration 6; log likelihood -10057.0542\n",
      "iteration 7; log likelihood -10036.5191\n",
      "iteration 8; log likelihood -10007.6277\n",
      "iteration 9; log likelihood -9967.9293\n",
      "iteration 10; log likelihood -9915.0011\n",
      "iteration 11; log likelihood -9846.0953\n",
      "iteration 12; log likelihood -9757.1131\n",
      "iteration 13; log likelihood -9642.6240\n",
      "iteration 14; log likelihood -9500.4184\n",
      "iteration 15; log likelihood -9342.7763\n",
      "iteration 16; log likelihood -9196.8039\n",
      "iteration 17; log likelihood -9077.9293\n",
      "iteration 18; log likelihood -8981.7369\n",
      "iteration 19; log likelihood -8898.2754\n",
      "iteration 20; log likelihood -8824.1986\n",
      "iteration 21; log likelihood -8762.3960\n",
      "iteration 22; log likelihood -8713.3769\n",
      "iteration 23; log likelihood -8674.5021\n",
      "iteration 24; log likelihood -8643.0268\n",
      "iteration 25; log likelihood -8617.1867\n",
      "iteration 26; log likelihood -8595.9488\n",
      "iteration 27; log likelihood -8578.4359\n",
      "iteration 28; log likelihood -8563.9523\n",
      "iteration 29; log likelihood -8552.1096\n",
      "iteration 30; log likelihood -8542.5847\n",
      "iteration 31; log likelihood -8534.9721\n",
      "iteration 32; log likelihood -8528.8935\n",
      "iteration 33; log likelihood -8524.0323\n",
      "iteration 34; log likelihood -8520.1190\n",
      "iteration 35; log likelihood -8516.9266\n",
      "iteration 36; log likelihood -8514.2635\n",
      "iteration 37; log likelihood -8511.9584\n",
      "iteration 38; log likelihood -8509.8611\n",
      "iteration 39; log likelihood -8507.8850\n",
      "iteration 40; log likelihood -8506.0406\n",
      "iteration 41; log likelihood -8504.3846\n",
      "iteration 42; log likelihood -8502.9255\n",
      "iteration 43; log likelihood -8501.6022\n",
      "iteration 44; log likelihood -8500.3400\n",
      "iteration 45; log likelihood -8499.1127\n",
      "iteration 46; log likelihood -8497.9663\n",
      "iteration 47; log likelihood -8496.9746\n",
      "early stopping previous_llh -8497.96628616292, log_likelihood -8496.974566967328\n"
     ]
    },
    {
     "data": {
      "application/vnd.jupyter.widget-view+json": {
       "model_id": "1305ffd121534081a67cd22daf3a4a23",
       "version_major": 2,
       "version_minor": 0
      },
      "text/plain": [
       "HBox(children=(IntProgress(value=0, max=3355), HTML(value='')))"
      ]
     },
     "metadata": {},
     "output_type": "display_data"
    },
    {
     "data": {
      "application/vnd.jupyter.widget-view+json": {
       "model_id": "8ac4ad5309214b9bbf7d6ff665671a71",
       "version_major": 2,
       "version_minor": 0
      },
      "text/plain": [
       "HBox(children=(IntProgress(value=0, max=112711), HTML(value='')))"
      ]
     },
     "metadata": {},
     "output_type": "display_data"
    },
    {
     "name": "stdout",
     "output_type": "stream",
     "text": [
      "pi is fixed\n",
      "A is fixed\n",
      "iteration 0; log likelihood -8829.4583\n",
      "iteration 1; log likelihood -7241.7892\n",
      "iteration 2; log likelihood -7235.6458\n",
      "iteration 3; log likelihood -7223.9361\n",
      "iteration 4; log likelihood -7208.3989\n",
      "iteration 5; log likelihood -7177.1054\n",
      "iteration 6; log likelihood -7106.9892\n",
      "iteration 7; log likelihood -6981.1878\n",
      "iteration 8; log likelihood -6810.8440\n",
      "iteration 9; log likelihood -6640.8998\n",
      "iteration 10; log likelihood -6506.9065\n",
      "iteration 11; log likelihood -6407.8516\n",
      "iteration 12; log likelihood -6333.0949\n",
      "iteration 13; log likelihood -6275.1796\n",
      "iteration 14; log likelihood -6229.2242\n",
      "iteration 15; log likelihood -6191.6022\n",
      "iteration 16; log likelihood -6159.2838\n",
      "iteration 17; log likelihood -6129.5181\n",
      "iteration 18; log likelihood -6104.7331\n",
      "iteration 19; log likelihood -6084.2627\n",
      "iteration 20; log likelihood -6066.8622\n",
      "iteration 21; log likelihood -6052.2050\n",
      "iteration 22; log likelihood -6040.0576\n",
      "iteration 23; log likelihood -6030.0848\n",
      "iteration 24; log likelihood -6021.9031\n",
      "iteration 25; log likelihood -6015.1829\n",
      "iteration 26; log likelihood -6009.6824\n",
      "iteration 27; log likelihood -6005.2111\n",
      "iteration 28; log likelihood -6001.5874\n",
      "iteration 29; log likelihood -5998.6424\n",
      "iteration 30; log likelihood -5996.2336\n",
      "iteration 31; log likelihood -5994.2470\n",
      "iteration 32; log likelihood -5992.5927\n",
      "iteration 33; log likelihood -5991.2005\n",
      "iteration 34; log likelihood -5990.0149\n",
      "iteration 35; log likelihood -5988.9923\n",
      "iteration 36; log likelihood -5988.0985\n",
      "early stopping previous_llh -5988.9922968831925, log_likelihood -5988.0984514123975\n"
     ]
    },
    {
     "data": {
      "application/vnd.jupyter.widget-view+json": {
       "model_id": "7cd7b29d899d4558a45f0dbbb499633b",
       "version_major": 2,
       "version_minor": 0
      },
      "text/plain": [
       "HBox(children=(IntProgress(value=0, max=2755), HTML(value='')))"
      ]
     },
     "metadata": {},
     "output_type": "display_data"
    },
    {
     "data": {
      "application/vnd.jupyter.widget-view+json": {
       "model_id": "fe3b60da46c54cf584ff686976c83336",
       "version_major": 2,
       "version_minor": 0
      },
      "text/plain": [
       "HBox(children=(IntProgress(value=0, max=8292), HTML(value='')))"
      ]
     },
     "metadata": {},
     "output_type": "display_data"
    },
    {
     "data": {
      "application/vnd.jupyter.widget-view+json": {
       "model_id": "fc6d51a29b904a3691c16d126a683cdd",
       "version_major": 2,
       "version_minor": 0
      },
      "text/plain": [
       "HBox(children=(IntProgress(value=0, max=10337), HTML(value='')))"
      ]
     },
     "metadata": {},
     "output_type": "display_data"
    },
    {
     "data": {
      "application/vnd.jupyter.widget-view+json": {
       "model_id": "6714cd4a5830435a94fd0e1dc8232640",
       "version_major": 2,
       "version_minor": 0
      },
      "text/plain": [
       "HBox(children=(IntProgress(value=0, max=5584), HTML(value='')))"
      ]
     },
     "metadata": {},
     "output_type": "display_data"
    },
    {
     "data": {
      "application/vnd.jupyter.widget-view+json": {
       "model_id": "65cf652d8db548db98904c05489756d3",
       "version_major": 2,
       "version_minor": 0
      },
      "text/plain": [
       "HBox(children=(IntProgress(value=0, max=3009), HTML(value='')))"
      ]
     },
     "metadata": {},
     "output_type": "display_data"
    },
    {
     "name": "stdout",
     "output_type": "stream",
     "text": [
      "pi is fixed\n",
      "A is fixed\n",
      "iteration 0; log likelihood -13334.0518\n",
      "iteration 1; log likelihood -11615.5493\n",
      "iteration 2; log likelihood -11609.1976\n",
      "iteration 3; log likelihood -11601.3005\n",
      "iteration 4; log likelihood -11589.9911\n",
      "iteration 5; log likelihood -11571.9012\n",
      "iteration 6; log likelihood -11541.1946\n",
      "iteration 7; log likelihood -11489.1514\n",
      "iteration 8; log likelihood -11406.2016\n",
      "iteration 9; log likelihood -11285.3395\n",
      "iteration 10; log likelihood -11117.6124\n",
      "iteration 11; log likelihood -10887.3350\n",
      "iteration 12; log likelihood -10611.7318\n",
      "iteration 13; log likelihood -10356.3255\n",
      "iteration 14; log likelihood -10146.1214\n",
      "iteration 15; log likelihood -9970.4011\n",
      "iteration 16; log likelihood -9823.6273\n",
      "iteration 17; log likelihood -9705.8836\n",
      "iteration 18; log likelihood -9619.5697\n",
      "iteration 19; log likelihood -9559.6095\n",
      "iteration 20; log likelihood -9518.7494\n",
      "iteration 21; log likelihood -9490.8957\n",
      "iteration 22; log likelihood -9471.6578\n",
      "iteration 23; log likelihood -9458.1132\n",
      "iteration 24; log likelihood -9448.3707\n",
      "iteration 25; log likelihood -9441.2076\n",
      "iteration 26; log likelihood -9435.8372\n",
      "iteration 27; log likelihood -9431.7620\n",
      "iteration 28; log likelihood -9428.6547\n",
      "iteration 29; log likelihood -9426.2727\n",
      "iteration 30; log likelihood -9424.4301\n",
      "iteration 31; log likelihood -9422.9910\n",
      "iteration 32; log likelihood -9421.8573\n",
      "iteration 33; log likelihood -9420.9568\n",
      "early stopping previous_llh -9421.857336863022, log_likelihood -9420.956766852227\n"
     ]
    },
    {
     "data": {
      "application/vnd.jupyter.widget-view+json": {
       "model_id": "e149eccca8674051a0bbad25e5bb582b",
       "version_major": 2,
       "version_minor": 0
      },
      "text/plain": [
       "HBox(children=(IntProgress(value=0, max=3355), HTML(value='')))"
      ]
     },
     "metadata": {},
     "output_type": "display_data"
    },
    {
     "data": {
      "application/vnd.jupyter.widget-view+json": {
       "model_id": "b87062d8d19943a79f322e266368c2b7",
       "version_major": 2,
       "version_minor": 0
      },
      "text/plain": [
       "HBox(children=(IntProgress(value=0, max=112711), HTML(value='')))"
      ]
     },
     "metadata": {},
     "output_type": "display_data"
    },
    {
     "name": "stdout",
     "output_type": "stream",
     "text": [
      "pi is fixed\n",
      "A is fixed\n",
      "iteration 0; log likelihood -11431.2145\n",
      "iteration 1; log likelihood -9841.0623\n",
      "iteration 2; log likelihood -9835.9836\n",
      "iteration 3; log likelihood -9829.6448\n",
      "iteration 4; log likelihood -9820.7519\n",
      "iteration 5; log likelihood -9807.0756\n",
      "iteration 6; log likelihood -9784.8102\n",
      "iteration 7; log likelihood -9748.0006\n",
      "iteration 8; log likelihood -9688.9092\n",
      "iteration 9; log likelihood -9599.7126\n",
      "iteration 10; log likelihood -9472.0896\n",
      "iteration 11; log likelihood -9294.0894\n",
      "iteration 12; log likelihood -9067.9674\n",
      "iteration 13; log likelihood -8840.9415\n",
      "iteration 14; log likelihood -8657.8558\n",
      "iteration 15; log likelihood -8517.9330\n",
      "iteration 16; log likelihood -8407.5726\n",
      "iteration 17; log likelihood -8319.5564\n",
      "iteration 18; log likelihood -8251.1405\n",
      "iteration 19; log likelihood -8200.1474\n",
      "iteration 20; log likelihood -8163.5277\n",
      "iteration 21; log likelihood -8137.7007\n",
      "iteration 22; log likelihood -8119.4010\n",
      "iteration 23; log likelihood -8106.1976\n",
      "iteration 24; log likelihood -8096.4722\n",
      "iteration 25; log likelihood -8089.1835\n",
      "iteration 26; log likelihood -8083.6439\n",
      "iteration 27; log likelihood -8079.3777\n",
      "iteration 28; log likelihood -8076.0472\n",
      "iteration 29; log likelihood -8073.4105\n",
      "iteration 30; log likelihood -8071.2930\n",
      "iteration 31; log likelihood -8069.5676\n",
      "iteration 32; log likelihood -8068.1421\n",
      "iteration 33; log likelihood -8066.9499\n",
      "iteration 34; log likelihood -8065.9438\n",
      "iteration 35; log likelihood -8065.0910\n",
      "early stopping previous_llh -8065.943805933404, log_likelihood -8065.091039030502\n"
     ]
    },
    {
     "data": {
      "application/vnd.jupyter.widget-view+json": {
       "model_id": "13fc187b83a5481983818f8855a3ae39",
       "version_major": 2,
       "version_minor": 0
      },
      "text/plain": [
       "HBox(children=(IntProgress(value=0, max=3355), HTML(value='')))"
      ]
     },
     "metadata": {},
     "output_type": "display_data"
    },
    {
     "data": {
      "application/vnd.jupyter.widget-view+json": {
       "model_id": "5c2f8f532989420282fe78ade7de62aa",
       "version_major": 2,
       "version_minor": 0
      },
      "text/plain": [
       "HBox(children=(IntProgress(value=0, max=112711), HTML(value='')))"
      ]
     },
     "metadata": {},
     "output_type": "display_data"
    },
    {
     "name": "stdout",
     "output_type": "stream",
     "text": [
      "pi is fixed\n",
      "A is fixed\n",
      "iteration 0; log likelihood -12174.8588\n",
      "iteration 1; log likelihood -10491.4460\n",
      "iteration 2; log likelihood -10486.5284\n",
      "iteration 3; log likelihood -10480.6011\n",
      "iteration 4; log likelihood -10472.4164\n",
      "iteration 5; log likelihood -10459.8927\n",
      "iteration 6; log likelihood -10439.5161\n",
      "iteration 7; log likelihood -10405.8640\n",
      "iteration 8; log likelihood -10352.2654\n",
      "iteration 9; log likelihood -10273.6829\n",
      "iteration 10; log likelihood -10170.5243\n",
      "iteration 11; log likelihood -10048.6964\n",
      "iteration 12; log likelihood -9911.1045\n",
      "iteration 13; log likelihood -9744.4849\n",
      "iteration 14; log likelihood -9525.0621\n",
      "iteration 15; log likelihood -9268.5333\n",
      "iteration 16; log likelihood -9046.7276\n",
      "iteration 17; log likelihood -8890.7247\n",
      "iteration 18; log likelihood -8784.1288\n",
      "iteration 19; log likelihood -8712.0619\n",
      "iteration 20; log likelihood -8664.0613\n",
      "iteration 21; log likelihood -8631.4250\n",
      "iteration 22; log likelihood -8608.1961\n",
      "iteration 23; log likelihood -8591.4255\n",
      "iteration 24; log likelihood -8579.4168\n",
      "iteration 25; log likelihood -8570.7088\n",
      "iteration 26; log likelihood -8564.2401\n",
      "iteration 27; log likelihood -8559.3047\n",
      "iteration 28; log likelihood -8555.4434\n",
      "iteration 29; log likelihood -8552.3599\n",
      "iteration 30; log likelihood -8549.8628\n",
      "iteration 31; log likelihood -8547.8249\n",
      "iteration 32; log likelihood -8546.1560\n",
      "iteration 33; log likelihood -8544.7858\n",
      "iteration 34; log likelihood -8543.6566\n",
      "iteration 35; log likelihood -8542.7202\n",
      "early stopping previous_llh -8543.656610815287, log_likelihood -8542.720157879923\n"
     ]
    },
    {
     "data": {
      "application/vnd.jupyter.widget-view+json": {
       "model_id": "46089dd2a7df4d099a997dacfdccdd1a",
       "version_major": 2,
       "version_minor": 0
      },
      "text/plain": [
       "HBox(children=(IntProgress(value=0, max=3355), HTML(value='')))"
      ]
     },
     "metadata": {},
     "output_type": "display_data"
    },
    {
     "data": {
      "application/vnd.jupyter.widget-view+json": {
       "model_id": "1aed93bfdbef4770a010c31395eca2ac",
       "version_major": 2,
       "version_minor": 0
      },
      "text/plain": [
       "HBox(children=(IntProgress(value=0, max=112711), HTML(value='')))"
      ]
     },
     "metadata": {},
     "output_type": "display_data"
    },
    {
     "name": "stdout",
     "output_type": "stream",
     "text": [
      "pi is fixed\n",
      "A is fixed\n",
      "iteration 0; log likelihood -12877.9911\n",
      "iteration 1; log likelihood -11033.2679\n",
      "iteration 2; log likelihood -11025.7481\n",
      "iteration 3; log likelihood -11017.2178\n",
      "iteration 4; log likelihood -11006.1196\n",
      "iteration 5; log likelihood -10989.9048\n",
      "iteration 6; log likelihood -10964.4631\n",
      "iteration 7; log likelihood -10923.8767\n",
      "iteration 8; log likelihood -10861.6051\n",
      "iteration 9; log likelihood -10773.6592\n",
      "iteration 10; log likelihood -10660.1545\n",
      "iteration 11; log likelihood -10519.3933\n",
      "iteration 12; log likelihood -10342.9700\n",
      "iteration 13; log likelihood -10135.0213\n",
      "iteration 14; log likelihood -9930.1567\n",
      "iteration 15; log likelihood -9761.0147\n",
      "iteration 16; log likelihood -9627.9188\n",
      "iteration 17; log likelihood -9516.9360\n",
      "iteration 18; log likelihood -9419.8305\n",
      "iteration 19; log likelihood -9337.0616\n",
      "iteration 20; log likelihood -9271.7090\n",
      "iteration 21; log likelihood -9223.2529\n",
      "iteration 22; log likelihood -9188.1304\n",
      "iteration 23; log likelihood -9162.5588\n",
      "iteration 24; log likelihood -9143.5841\n",
      "iteration 25; log likelihood -9129.3836\n",
      "iteration 26; log likelihood -9118.9159\n",
      "iteration 27; log likelihood -9111.2151\n",
      "iteration 28; log likelihood -9105.4830\n",
      "iteration 29; log likelihood -9101.1659\n",
      "iteration 30; log likelihood -9097.8778\n",
      "iteration 31; log likelihood -9095.3400\n",
      "iteration 32; log likelihood -9093.3495\n",
      "iteration 33; log likelihood -9091.7596\n",
      "iteration 34; log likelihood -9090.4655\n",
      "iteration 35; log likelihood -9089.3933\n",
      "iteration 36; log likelihood -9088.4908\n",
      "early stopping previous_llh -9089.393314652963, log_likelihood -9088.490764501144\n"
     ]
    },
    {
     "data": {
      "application/vnd.jupyter.widget-view+json": {
       "model_id": "2ffa60c9ca004039a176f61097b4df08",
       "version_major": 2,
       "version_minor": 0
      },
      "text/plain": [
       "HBox(children=(IntProgress(value=0, max=3355), HTML(value='')))"
      ]
     },
     "metadata": {},
     "output_type": "display_data"
    },
    {
     "data": {
      "application/vnd.jupyter.widget-view+json": {
       "model_id": "a464411a586c4ca0bee31d2624db816a",
       "version_major": 2,
       "version_minor": 0
      },
      "text/plain": [
       "HBox(children=(IntProgress(value=0, max=112711), HTML(value='')))"
      ]
     },
     "metadata": {},
     "output_type": "display_data"
    },
    {
     "name": "stdout",
     "output_type": "stream",
     "text": [
      "pi is fixed\n",
      "A is fixed\n",
      "iteration 0; log likelihood -6376.8077\n",
      "iteration 1; log likelihood -5350.6046\n",
      "iteration 2; log likelihood -5329.9495\n",
      "iteration 3; log likelihood -5297.5748\n",
      "iteration 4; log likelihood -5250.9600\n",
      "iteration 5; log likelihood -5170.7615\n",
      "iteration 6; log likelihood -5060.7370\n",
      "iteration 7; log likelihood -4950.0932\n",
      "iteration 8; log likelihood -4862.2087\n",
      "iteration 9; log likelihood -4799.5536\n",
      "iteration 10; log likelihood -4753.9894\n",
      "iteration 11; log likelihood -4718.0837\n",
      "iteration 12; log likelihood -4687.4978\n",
      "iteration 13; log likelihood -4660.7844\n",
      "iteration 14; log likelihood -4637.7751\n",
      "iteration 15; log likelihood -4618.1774\n",
      "iteration 16; log likelihood -4601.6270\n",
      "iteration 17; log likelihood -4587.5901\n",
      "iteration 18; log likelihood -4575.4766\n",
      "iteration 19; log likelihood -4564.9030\n",
      "iteration 20; log likelihood -4555.7180\n",
      "iteration 21; log likelihood -4547.7876\n",
      "iteration 22; log likelihood -4540.9329\n",
      "iteration 23; log likelihood -4534.9903\n",
      "iteration 24; log likelihood -4529.8267\n",
      "iteration 25; log likelihood -4525.3292\n",
      "iteration 26; log likelihood -4521.3960\n",
      "iteration 27; log likelihood -4517.9329\n",
      "iteration 28; log likelihood -4514.8535\n",
      "iteration 29; log likelihood -4512.0795\n",
      "iteration 30; log likelihood -4509.5409\n",
      "iteration 31; log likelihood -4507.1759\n",
      "iteration 32; log likelihood -4504.9317\n",
      "iteration 33; log likelihood -4502.7669\n",
      "iteration 34; log likelihood -4500.6556\n",
      "iteration 35; log likelihood -4498.5909\n",
      "iteration 36; log likelihood -4496.5860\n",
      "iteration 37; log likelihood -4494.6693\n",
      "iteration 38; log likelihood -4492.8751\n",
      "iteration 39; log likelihood -4491.2310\n",
      "iteration 40; log likelihood -4489.7481\n",
      "iteration 41; log likelihood -4488.4184\n",
      "iteration 42; log likelihood -4487.2192\n",
      "iteration 43; log likelihood -4486.1274\n",
      "iteration 44; log likelihood -4485.1359\n",
      "early stopping previous_llh -4486.1274285831005, log_likelihood -4485.1358530154175\n"
     ]
    },
    {
     "data": {
      "application/vnd.jupyter.widget-view+json": {
       "model_id": "679fe290bdb34be982012b4384fdd2b8",
       "version_major": 2,
       "version_minor": 0
      },
      "text/plain": [
       "HBox(children=(IntProgress(value=0, max=2755), HTML(value='')))"
      ]
     },
     "metadata": {},
     "output_type": "display_data"
    },
    {
     "data": {
      "application/vnd.jupyter.widget-view+json": {
       "model_id": "6f596a6ab548445bb615e526f2755922",
       "version_major": 2,
       "version_minor": 0
      },
      "text/plain": [
       "HBox(children=(IntProgress(value=0, max=8292), HTML(value='')))"
      ]
     },
     "metadata": {},
     "output_type": "display_data"
    },
    {
     "data": {
      "application/vnd.jupyter.widget-view+json": {
       "model_id": "cdf44a8b3e0c48a69ea20e70d9552741",
       "version_major": 2,
       "version_minor": 0
      },
      "text/plain": [
       "HBox(children=(IntProgress(value=0, max=10337), HTML(value='')))"
      ]
     },
     "metadata": {},
     "output_type": "display_data"
    },
    {
     "data": {
      "application/vnd.jupyter.widget-view+json": {
       "model_id": "aa5bfdf234c040988db53c49de245c55",
       "version_major": 2,
       "version_minor": 0
      },
      "text/plain": [
       "HBox(children=(IntProgress(value=0, max=5584), HTML(value='')))"
      ]
     },
     "metadata": {},
     "output_type": "display_data"
    },
    {
     "data": {
      "application/vnd.jupyter.widget-view+json": {
       "model_id": "11ffbcbc6c834f3399f3bf095adbbdd1",
       "version_major": 2,
       "version_minor": 0
      },
      "text/plain": [
       "HBox(children=(IntProgress(value=0, max=3009), HTML(value='')))"
      ]
     },
     "metadata": {},
     "output_type": "display_data"
    },
    {
     "name": "stdout",
     "output_type": "stream",
     "text": [
      "pi is fixed\n",
      "A is fixed\n",
      "iteration 0; log likelihood -107059.4104\n",
      "iteration 1; log likelihood -89048.6773\n",
      "iteration 2; log likelihood -89039.0778\n",
      "iteration 3; log likelihood -89017.7519\n",
      "iteration 4; log likelihood -88965.0075\n",
      "iteration 5; log likelihood -88832.7698\n",
      "iteration 6; log likelihood -88523.5916\n",
      "iteration 7; log likelihood -87931.9717\n",
      "iteration 8; log likelihood -87118.1718\n",
      "iteration 9; log likelihood -86321.1349\n",
      "iteration 10; log likelihood -85673.1419\n",
      "iteration 11; log likelihood -85132.8449\n",
      "iteration 12; log likelihood -84652.9493\n",
      "iteration 13; log likelihood -84221.2020\n",
      "iteration 14; log likelihood -83813.5216\n",
      "iteration 15; log likelihood -83434.8003\n",
      "iteration 16; log likelihood -83110.6810\n",
      "iteration 17; log likelihood -82852.3795\n",
      "iteration 18; log likelihood -82646.8125\n",
      "iteration 19; log likelihood -82483.0600\n",
      "iteration 20; log likelihood -82350.2345\n",
      "iteration 21; log likelihood -82239.4950\n",
      "iteration 22; log likelihood -82144.8030\n",
      "iteration 23; log likelihood -82061.8066\n",
      "iteration 24; log likelihood -81986.9444\n",
      "iteration 25; log likelihood -81918.4835\n",
      "iteration 26; log likelihood -81856.7101\n",
      "iteration 27; log likelihood -81799.7603\n",
      "iteration 28; log likelihood -81747.0216\n",
      "iteration 29; log likelihood -81698.0926\n",
      "iteration 30; log likelihood -81652.5124\n",
      "iteration 31; log likelihood -81609.8582\n",
      "iteration 32; log likelihood -81569.7738\n",
      "iteration 33; log likelihood -81531.9913\n",
      "iteration 34; log likelihood -81496.2111\n",
      "iteration 35; log likelihood -81461.0159\n",
      "iteration 36; log likelihood -81426.9592\n",
      "iteration 37; log likelihood -81396.3411\n",
      "iteration 38; log likelihood -81367.5767\n",
      "iteration 39; log likelihood -81340.4114\n",
      "iteration 40; log likelihood -81314.7563\n",
      "iteration 41; log likelihood -81290.5662\n",
      "iteration 42; log likelihood -81267.7466\n",
      "iteration 43; log likelihood -81246.1061\n",
      "iteration 44; log likelihood -81225.5282\n",
      "iteration 45; log likelihood -81206.1203\n",
      "iteration 46; log likelihood -81187.8816\n",
      "iteration 47; log likelihood -81170.6460\n",
      "iteration 48; log likelihood -81154.2840\n",
      "iteration 49; log likelihood -81138.7295\n",
      "iteration 50; log likelihood -81123.9488\n",
      "iteration 51; log likelihood -81109.9224\n",
      "iteration 52; log likelihood -81096.6398\n",
      "iteration 53; log likelihood -81084.0892\n",
      "iteration 54; log likelihood -81072.2413\n",
      "iteration 55; log likelihood -81061.0474\n",
      "iteration 56; log likelihood -81050.4519\n",
      "iteration 57; log likelihood -81040.4038\n",
      "iteration 58; log likelihood -81030.8598\n",
      "iteration 59; log likelihood -81021.7835\n",
      "iteration 60; log likelihood -81013.1435\n",
      "iteration 61; log likelihood -81004.9119\n",
      "iteration 62; log likelihood -80997.0631\n",
      "iteration 63; log likelihood -80989.5729\n",
      "iteration 64; log likelihood -80982.4181\n",
      "iteration 65; log likelihood -80975.5753\n",
      "iteration 66; log likelihood -80969.0210\n",
      "iteration 67; log likelihood -80962.7301\n",
      "iteration 68; log likelihood -80956.6759\n",
      "iteration 69; log likelihood -80950.8285\n",
      "iteration 70; log likelihood -80945.1550\n",
      "iteration 71; log likelihood -80939.6177\n",
      "iteration 72; log likelihood -80934.1735\n",
      "iteration 73; log likelihood -80928.7728\n",
      "iteration 74; log likelihood -80923.3580\n",
      "iteration 75; log likelihood -80917.8636\n",
      "iteration 76; log likelihood -80912.2171\n",
      "iteration 77; log likelihood -80906.3437\n",
      "iteration 78; log likelihood -80900.1738\n",
      "iteration 79; log likelihood -80893.6546\n",
      "iteration 80; log likelihood -80886.7612\n",
      "iteration 81; log likelihood -80879.5048\n",
      "iteration 82; log likelihood -80871.9320\n",
      "iteration 83; log likelihood -80864.1162\n",
      "iteration 84; log likelihood -80856.1438\n",
      "iteration 85; log likelihood -80848.1009\n",
      "iteration 86; log likelihood -80840.0641\n",
      "iteration 87; log likelihood -80832.0959\n",
      "iteration 88; log likelihood -80824.2439\n",
      "iteration 89; log likelihood -80816.5415\n",
      "iteration 90; log likelihood -80809.0086\n",
      "iteration 91; log likelihood -80801.6514\n",
      "iteration 92; log likelihood -80794.4600\n",
      "iteration 93; log likelihood -80787.4039\n",
      "iteration 94; log likelihood -80780.4258\n",
      "iteration 95; log likelihood -80773.4342\n",
      "iteration 96; log likelihood -80766.3033\n",
      "iteration 97; log likelihood -80758.8897\n",
      "iteration 98; log likelihood -80751.0827\n",
      "iteration 99; log likelihood -80742.8766\n"
     ]
    },
    {
     "data": {
      "application/vnd.jupyter.widget-view+json": {
       "model_id": "c418becc584f4c40a58c2a8fcc323fed",
       "version_major": 2,
       "version_minor": 0
      },
      "text/plain": [
       "HBox(children=(IntProgress(value=0, max=2755), HTML(value='')))"
      ]
     },
     "metadata": {},
     "output_type": "display_data"
    },
    {
     "data": {
      "application/vnd.jupyter.widget-view+json": {
       "model_id": "c65f011629694919b8746354a074cd04",
       "version_major": 2,
       "version_minor": 0
      },
      "text/plain": [
       "HBox(children=(IntProgress(value=0, max=8292), HTML(value='')))"
      ]
     },
     "metadata": {},
     "output_type": "display_data"
    },
    {
     "data": {
      "application/vnd.jupyter.widget-view+json": {
       "model_id": "fe393f40343148c480c360f6ba8bbbce",
       "version_major": 2,
       "version_minor": 0
      },
      "text/plain": [
       "HBox(children=(IntProgress(value=0, max=10337), HTML(value='')))"
      ]
     },
     "metadata": {},
     "output_type": "display_data"
    },
    {
     "data": {
      "application/vnd.jupyter.widget-view+json": {
       "model_id": "1474a0f438c943958cd7845b9b73114c",
       "version_major": 2,
       "version_minor": 0
      },
      "text/plain": [
       "HBox(children=(IntProgress(value=0, max=5584), HTML(value='')))"
      ]
     },
     "metadata": {},
     "output_type": "display_data"
    },
    {
     "data": {
      "application/vnd.jupyter.widget-view+json": {
       "model_id": "3f7255bc2a39467bb07460ef4aaa26eb",
       "version_major": 2,
       "version_minor": 0
      },
      "text/plain": [
       "HBox(children=(IntProgress(value=0, max=3009), HTML(value='')))"
      ]
     },
     "metadata": {},
     "output_type": "display_data"
    },
    {
     "name": "stdout",
     "output_type": "stream",
     "text": [
      "pi is fixed\n",
      "A is fixed\n",
      "iteration 0; log likelihood -13895.1884\n",
      "iteration 1; log likelihood -12113.0719\n",
      "iteration 2; log likelihood -12106.7596\n",
      "iteration 3; log likelihood -12099.2065\n",
      "iteration 4; log likelihood -12088.9432\n",
      "iteration 5; log likelihood -12073.5799\n",
      "iteration 6; log likelihood -12049.2423\n",
      "iteration 7; log likelihood -12010.2911\n",
      "iteration 8; log likelihood -11950.2770\n",
      "iteration 9; log likelihood -11864.7349\n",
      "iteration 10; log likelihood -11753.5587\n",
      "iteration 11; log likelihood -11617.9555\n",
      "iteration 12; log likelihood -11450.1639\n",
      "iteration 13; log likelihood -11230.1835\n",
      "iteration 14; log likelihood -10962.6161\n",
      "iteration 15; log likelihood -10706.2547\n",
      "iteration 16; log likelihood -10507.6128\n",
      "iteration 17; log likelihood -10363.4046\n",
      "iteration 18; log likelihood -10257.2652\n",
      "iteration 19; log likelihood -10178.9761\n",
      "iteration 20; log likelihood -10121.9268\n",
      "iteration 21; log likelihood -10080.6844\n",
      "iteration 22; log likelihood -10051.1287\n",
      "iteration 23; log likelihood -10029.9622\n",
      "iteration 24; log likelihood -10014.6451\n",
      "iteration 25; log likelihood -10003.4199\n",
      "iteration 26; log likelihood -9995.0983\n",
      "iteration 27; log likelihood -9988.8644\n",
      "iteration 28; log likelihood -9984.1451\n",
      "iteration 29; log likelihood -9980.5322\n",
      "iteration 30; log likelihood -9977.7352\n",
      "iteration 31; log likelihood -9975.5473\n",
      "iteration 32; log likelihood -9973.8205\n",
      "iteration 33; log likelihood -9972.4467\n",
      "iteration 34; log likelihood -9971.3448\n",
      "iteration 35; log likelihood -9970.4526\n",
      "early stopping previous_llh -9971.344833651297, log_likelihood -9970.452566086686\n"
     ]
    },
    {
     "data": {
      "application/vnd.jupyter.widget-view+json": {
       "model_id": "fe9fc9aa68854ee8881c834342265954",
       "version_major": 2,
       "version_minor": 0
      },
      "text/plain": [
       "HBox(children=(IntProgress(value=0, max=3355), HTML(value='')))"
      ]
     },
     "metadata": {},
     "output_type": "display_data"
    },
    {
     "data": {
      "application/vnd.jupyter.widget-view+json": {
       "model_id": "cc0611d66b364a99874d2320a8e9bf5c",
       "version_major": 2,
       "version_minor": 0
      },
      "text/plain": [
       "HBox(children=(IntProgress(value=0, max=112711), HTML(value='')))"
      ]
     },
     "metadata": {},
     "output_type": "display_data"
    },
    {
     "name": "stdout",
     "output_type": "stream",
     "text": [
      "pi is fixed\n",
      "A is fixed\n",
      "iteration 0; log likelihood -12923.8699\n",
      "iteration 1; log likelihood -11206.5180\n",
      "iteration 2; log likelihood -11202.6973\n",
      "iteration 3; log likelihood -11197.9011\n",
      "iteration 4; log likelihood -11191.3926\n",
      "iteration 5; log likelihood -11182.0735\n",
      "iteration 6; log likelihood -11168.3449\n",
      "iteration 7; log likelihood -11148.0396\n",
      "iteration 8; log likelihood -11118.5868\n",
      "iteration 9; log likelihood -11077.5651\n",
      "iteration 10; log likelihood -11023.5363\n",
      "iteration 11; log likelihood -10956.7543\n",
      "iteration 12; log likelihood -10879.6585\n",
      "iteration 13; log likelihood -10797.3261\n",
      "iteration 14; log likelihood -10716.8944\n",
      "iteration 15; log likelihood -10644.7605\n",
      "iteration 16; log likelihood -10583.6418\n",
      "iteration 17; log likelihood -10532.6645\n",
      "iteration 18; log likelihood -10489.5459\n",
      "iteration 19; log likelihood -10452.2322\n",
      "iteration 20; log likelihood -10419.3323\n",
      "iteration 21; log likelihood -10389.9884\n",
      "iteration 22; log likelihood -10363.7213\n",
      "iteration 23; log likelihood -10340.2880\n",
      "iteration 24; log likelihood -10319.4576\n",
      "iteration 25; log likelihood -10300.8254\n",
      "iteration 26; log likelihood -10283.7944\n",
      "iteration 27; log likelihood -10267.6530\n",
      "iteration 28; log likelihood -10251.6233\n",
      "iteration 29; log likelihood -10234.8527\n",
      "iteration 30; log likelihood -10216.3880\n",
      "iteration 31; log likelihood -10195.1722\n",
      "iteration 32; log likelihood -10169.9120\n",
      "iteration 33; log likelihood -10138.2264\n",
      "iteration 34; log likelihood -10094.5647\n",
      "iteration 35; log likelihood -10029.5825\n",
      "iteration 36; log likelihood -9941.8795\n",
      "iteration 37; log likelihood -9850.2692\n",
      "iteration 38; log likelihood -9767.3205\n",
      "iteration 39; log likelihood -9686.8268\n",
      "iteration 40; log likelihood -9603.0852\n",
      "iteration 41; log likelihood -9524.9996\n",
      "iteration 42; log likelihood -9463.2507\n",
      "iteration 43; log likelihood -9416.6567\n",
      "iteration 44; log likelihood -9355.3290\n",
      "iteration 45; log likelihood -9285.2808\n",
      "iteration 46; log likelihood -9255.9369\n",
      "iteration 47; log likelihood -9230.4102\n",
      "iteration 48; log likelihood -9218.1967\n",
      "iteration 49; log likelihood -9211.6161\n",
      "iteration 50; log likelihood -9206.5994\n",
      "iteration 51; log likelihood -9202.4512\n",
      "iteration 52; log likelihood -9198.7746\n",
      "iteration 53; log likelihood -9195.4234\n",
      "iteration 54; log likelihood -9192.4120\n",
      "iteration 55; log likelihood -9189.4995\n",
      "iteration 56; log likelihood -9185.7498\n",
      "iteration 57; log likelihood -9181.7965\n",
      "iteration 58; log likelihood -9179.3262\n",
      "iteration 59; log likelihood -9178.0244\n",
      "iteration 60; log likelihood -9177.2331\n",
      "early stopping previous_llh -9178.02444180337, log_likelihood -9177.233105719535\n"
     ]
    },
    {
     "data": {
      "application/vnd.jupyter.widget-view+json": {
       "model_id": "b3d65ff1b0344854b538365299ebd42d",
       "version_major": 2,
       "version_minor": 0
      },
      "text/plain": [
       "HBox(children=(IntProgress(value=0, max=3355), HTML(value='')))"
      ]
     },
     "metadata": {},
     "output_type": "display_data"
    },
    {
     "data": {
      "application/vnd.jupyter.widget-view+json": {
       "model_id": "8072f15e600847cfaa2f2ee414586604",
       "version_major": 2,
       "version_minor": 0
      },
      "text/plain": [
       "HBox(children=(IntProgress(value=0, max=112711), HTML(value='')))"
      ]
     },
     "metadata": {},
     "output_type": "display_data"
    },
    {
     "name": "stdout",
     "output_type": "stream",
     "text": [
      "pi is fixed\n",
      "A is fixed\n",
      "iteration 0; log likelihood -16291.9294\n",
      "iteration 1; log likelihood -14115.2915\n",
      "iteration 2; log likelihood -14106.1137\n",
      "iteration 3; log likelihood -14095.6151\n",
      "iteration 4; log likelihood -14081.5869\n",
      "iteration 5; log likelihood -14060.1573\n",
      "iteration 6; log likelihood -14024.3754\n",
      "iteration 7; log likelihood -13962.3391\n",
      "iteration 8; log likelihood -13856.0573\n",
      "iteration 9; log likelihood -13683.2734\n",
      "iteration 10; log likelihood -13423.8110\n",
      "iteration 11; log likelihood -13077.8265\n",
      "iteration 12; log likelihood -12699.5683\n",
      "iteration 13; log likelihood -12368.5084\n",
      "iteration 14; log likelihood -12104.0073\n",
      "iteration 15; log likelihood -11894.4362\n",
      "iteration 16; log likelihood -11729.7732\n",
      "iteration 17; log likelihood -11605.1356\n",
      "iteration 18; log likelihood -11517.5902\n",
      "iteration 19; log likelihood -11458.5561\n",
      "iteration 20; log likelihood -11418.8050\n",
      "iteration 21; log likelihood -11391.7631\n",
      "iteration 22; log likelihood -11373.1831\n",
      "iteration 23; log likelihood -11360.2976\n",
      "iteration 24; log likelihood -11351.2117\n",
      "iteration 25; log likelihood -11344.6504\n",
      "iteration 26; log likelihood -11339.8048\n",
      "iteration 27; log likelihood -11336.1600\n",
      "iteration 28; log likelihood -11333.3767\n",
      "iteration 29; log likelihood -11331.2227\n",
      "iteration 30; log likelihood -11329.5337\n",
      "iteration 31; log likelihood -11328.1919\n",
      "iteration 32; log likelihood -11327.1123\n",
      "iteration 33; log likelihood -11326.2332\n",
      "early stopping previous_llh -11327.112315457252, log_likelihood -11326.23323198067\n"
     ]
    },
    {
     "data": {
      "application/vnd.jupyter.widget-view+json": {
       "model_id": "1e1560555914431e83dbeffe5f2ab081",
       "version_major": 2,
       "version_minor": 0
      },
      "text/plain": [
       "HBox(children=(IntProgress(value=0, max=3355), HTML(value='')))"
      ]
     },
     "metadata": {},
     "output_type": "display_data"
    },
    {
     "data": {
      "application/vnd.jupyter.widget-view+json": {
       "model_id": "fab5b89a9ca54aa282639396183baa3c",
       "version_major": 2,
       "version_minor": 0
      },
      "text/plain": [
       "HBox(children=(IntProgress(value=0, max=112711), HTML(value='')))"
      ]
     },
     "metadata": {},
     "output_type": "display_data"
    },
    {
     "name": "stdout",
     "output_type": "stream",
     "text": [
      "pi is fixed\n",
      "A is fixed\n",
      "iteration 0; log likelihood -12938.7774\n",
      "iteration 1; log likelihood -11115.0436\n",
      "iteration 2; log likelihood -11108.3702\n",
      "iteration 3; log likelihood -11100.5004\n",
      "iteration 4; log likelihood -11090.4149\n",
      "iteration 5; log likelihood -11076.6890\n",
      "iteration 6; log likelihood -11057.4594\n",
      "iteration 7; log likelihood -11030.5538\n",
      "iteration 8; log likelihood -10993.7980\n",
      "iteration 9; log likelihood -10945.2922\n",
      "iteration 10; log likelihood -10883.3256\n",
      "iteration 11; log likelihood -10806.0653\n",
      "iteration 12; log likelihood -10712.3985\n",
      "iteration 13; log likelihood -10605.5166\n",
      "iteration 14; log likelihood -10496.2632\n",
      "iteration 15; log likelihood -10398.9042\n",
      "iteration 16; log likelihood -10321.2481\n",
      "iteration 17; log likelihood -10262.1630\n",
      "iteration 18; log likelihood -10217.0300\n",
      "iteration 19; log likelihood -10181.7464\n",
      "iteration 20; log likelihood -10153.4925\n",
      "iteration 21; log likelihood -10130.3918\n",
      "iteration 22; log likelihood -10111.1495\n",
      "iteration 23; log likelihood -10094.8364\n",
      "iteration 24; log likelihood -10080.7791\n",
      "iteration 25; log likelihood -10068.5062\n",
      "iteration 26; log likelihood -10057.6995\n",
      "iteration 27; log likelihood -10048.1384\n",
      "iteration 28; log likelihood -10039.6613\n",
      "iteration 29; log likelihood -10032.1487\n",
      "iteration 30; log likelihood -10025.5114\n",
      "iteration 31; log likelihood -10019.6765\n",
      "iteration 32; log likelihood -10014.5754\n",
      "iteration 33; log likelihood -10010.1375\n",
      "iteration 34; log likelihood -10006.2891\n",
      "iteration 35; log likelihood -10002.9561\n",
      "iteration 36; log likelihood -10000.0664\n",
      "iteration 37; log likelihood -9997.5525\n",
      "iteration 38; log likelihood -9995.3537\n",
      "iteration 39; log likelihood -9993.4161\n",
      "iteration 40; log likelihood -9991.6934\n",
      "iteration 41; log likelihood -9990.1463\n",
      "iteration 42; log likelihood -9988.7415\n",
      "iteration 43; log likelihood -9987.4513\n",
      "iteration 44; log likelihood -9986.2527\n",
      "iteration 45; log likelihood -9985.1267\n",
      "iteration 46; log likelihood -9984.0580\n",
      "iteration 47; log likelihood -9983.0346\n",
      "iteration 48; log likelihood -9982.0476\n",
      "early stopping previous_llh -9983.034583354985, log_likelihood -9982.047625837233\n"
     ]
    },
    {
     "data": {
      "application/vnd.jupyter.widget-view+json": {
       "model_id": "c49a914adef6405b8db230e0ba7e1444",
       "version_major": 2,
       "version_minor": 0
      },
      "text/plain": [
       "HBox(children=(IntProgress(value=0, max=3355), HTML(value='')))"
      ]
     },
     "metadata": {},
     "output_type": "display_data"
    },
    {
     "data": {
      "application/vnd.jupyter.widget-view+json": {
       "model_id": "5adac28b0518468fa2e3b31f11f99f48",
       "version_major": 2,
       "version_minor": 0
      },
      "text/plain": [
       "HBox(children=(IntProgress(value=0, max=112711), HTML(value='')))"
      ]
     },
     "metadata": {},
     "output_type": "display_data"
    },
    {
     "name": "stdout",
     "output_type": "stream",
     "text": [
      "pi is fixed\n",
      "A is fixed\n",
      "iteration 0; log likelihood -13234.8060\n",
      "iteration 1; log likelihood -11512.1976\n",
      "iteration 2; log likelihood -11501.2724\n",
      "iteration 3; log likelihood -11490.7232\n",
      "iteration 4; log likelihood -11478.4660\n",
      "iteration 5; log likelihood -11461.8126\n",
      "iteration 6; log likelihood -11436.6344\n",
      "iteration 7; log likelihood -11396.2209\n",
      "iteration 8; log likelihood -11330.2104\n",
      "iteration 9; log likelihood -11225.3974\n",
      "iteration 10; log likelihood -11069.9618\n",
      "iteration 11; log likelihood -10858.1589\n",
      "iteration 12; log likelihood -10597.2551\n",
      "iteration 13; log likelihood -10329.6109\n",
      "iteration 14; log likelihood -10110.1149\n",
      "iteration 15; log likelihood -9945.7622\n",
      "iteration 16; log likelihood -9819.2325\n",
      "iteration 17; log likelihood -9717.4766\n",
      "iteration 18; log likelihood -9636.5121\n",
      "iteration 19; log likelihood -9574.5093\n",
      "iteration 20; log likelihood -9528.3556\n",
      "iteration 21; log likelihood -9494.4357\n",
      "iteration 22; log likelihood -9469.9724\n",
      "iteration 23; log likelihood -9452.5091\n",
      "iteration 24; log likelihood -9439.9580\n",
      "iteration 25; log likelihood -9430.8442\n",
      "iteration 26; log likelihood -9424.1355\n",
      "iteration 27; log likelihood -9419.1077\n",
      "iteration 28; log likelihood -9415.2623\n",
      "iteration 29; log likelihood -9412.2654\n",
      "iteration 30; log likelihood -9409.9021\n",
      "iteration 31; log likelihood -9408.0333\n",
      "iteration 32; log likelihood -9406.5567\n",
      "iteration 33; log likelihood -9405.3857\n",
      "iteration 34; log likelihood -9404.4467\n",
      "early stopping previous_llh -9405.385724070222, log_likelihood -9404.446681531712\n"
     ]
    },
    {
     "data": {
      "application/vnd.jupyter.widget-view+json": {
       "model_id": "9f77df6164cb4bc5b83b649f0bc1f264",
       "version_major": 2,
       "version_minor": 0
      },
      "text/plain": [
       "HBox(children=(IntProgress(value=0, max=3355), HTML(value='')))"
      ]
     },
     "metadata": {},
     "output_type": "display_data"
    },
    {
     "data": {
      "application/vnd.jupyter.widget-view+json": {
       "model_id": "d7e9b99f657e4993950f5c0efb372b68",
       "version_major": 2,
       "version_minor": 0
      },
      "text/plain": [
       "HBox(children=(IntProgress(value=0, max=112711), HTML(value='')))"
      ]
     },
     "metadata": {},
     "output_type": "display_data"
    },
    {
     "name": "stdout",
     "output_type": "stream",
     "text": [
      "pi is fixed\n",
      "A is fixed\n",
      "iteration 0; log likelihood -13815.6576\n",
      "iteration 1; log likelihood -11986.0450\n",
      "iteration 2; log likelihood -11978.9740\n",
      "iteration 3; log likelihood -11970.6963\n",
      "iteration 4; log likelihood -11959.4096\n",
      "iteration 5; log likelihood -11942.3341\n",
      "iteration 6; log likelihood -11915.2572\n",
      "iteration 7; log likelihood -11872.4808\n",
      "iteration 8; log likelihood -11807.1454\n",
      "iteration 9; log likelihood -11712.3363\n",
      "iteration 10; log likelihood -11579.4505\n",
      "iteration 11; log likelihood -11385.9464\n",
      "iteration 12; log likelihood -11094.0978\n",
      "iteration 13; log likelihood -10730.1742\n",
      "iteration 14; log likelihood -10408.5844\n",
      "iteration 15; log likelihood -10178.4938\n",
      "iteration 16; log likelihood -10017.4196\n",
      "iteration 17; log likelihood -9902.3997\n",
      "iteration 18; log likelihood -9821.4935\n",
      "iteration 19; log likelihood -9766.4818\n",
      "iteration 20; log likelihood -9729.9091\n",
      "iteration 21; log likelihood -9705.5462\n",
      "iteration 22; log likelihood -9689.0108\n",
      "iteration 23; log likelihood -9677.5325\n",
      "iteration 24; log likelihood -9669.3712\n",
      "iteration 25; log likelihood -9663.4242\n",
      "iteration 26; log likelihood -9658.9912\n",
      "iteration 27; log likelihood -9655.6172\n",
      "iteration 28; log likelihood -9652.9970\n",
      "iteration 29; log likelihood -9650.9219\n",
      "iteration 30; log likelihood -9649.2491\n",
      "iteration 31; log likelihood -9647.8801\n",
      "iteration 32; log likelihood -9646.7467\n",
      "iteration 33; log likelihood -9645.8008\n",
      "early stopping previous_llh -9646.746719529483, log_likelihood -9645.80077319885\n"
     ]
    },
    {
     "data": {
      "application/vnd.jupyter.widget-view+json": {
       "model_id": "2f2072835bbe440d951afca6e03c7ce9",
       "version_major": 2,
       "version_minor": 0
      },
      "text/plain": [
       "HBox(children=(IntProgress(value=0, max=3355), HTML(value='')))"
      ]
     },
     "metadata": {},
     "output_type": "display_data"
    },
    {
     "data": {
      "application/vnd.jupyter.widget-view+json": {
       "model_id": "2fdaa7bea94a4263838b3ee3f8132b53",
       "version_major": 2,
       "version_minor": 0
      },
      "text/plain": [
       "HBox(children=(IntProgress(value=0, max=112711), HTML(value='')))"
      ]
     },
     "metadata": {},
     "output_type": "display_data"
    },
    {
     "name": "stdout",
     "output_type": "stream",
     "text": [
      "pi is fixed\n",
      "A is fixed\n",
      "iteration 0; log likelihood -16405.6770\n",
      "iteration 1; log likelihood -14010.5033\n",
      "iteration 2; log likelihood -14005.5979\n",
      "iteration 3; log likelihood -13999.5813\n",
      "iteration 4; log likelihood -13991.4604\n",
      "iteration 5; log likelihood -13979.6614\n",
      "iteration 6; log likelihood -13961.7108\n",
      "iteration 7; log likelihood -13934.0262\n",
      "iteration 8; log likelihood -13892.3226\n",
      "iteration 9; log likelihood -13833.2588\n",
      "iteration 10; log likelihood -13756.7590\n",
      "iteration 11; log likelihood -13666.6212\n",
      "iteration 12; log likelihood -13568.4888\n",
      "iteration 13; log likelihood -13467.9122\n",
      "iteration 14; log likelihood -13369.9356\n",
      "iteration 15; log likelihood -13278.3268\n",
      "iteration 16; log likelihood -13194.9545\n",
      "iteration 17; log likelihood -13120.5660\n",
      "iteration 18; log likelihood -13055.4779\n",
      "iteration 19; log likelihood -12999.6519\n",
      "iteration 20; log likelihood -12952.7004\n",
      "iteration 21; log likelihood -12913.8607\n",
      "iteration 22; log likelihood -12882.0179\n",
      "iteration 23; log likelihood -12855.9278\n",
      "iteration 24; log likelihood -12834.4143\n",
      "iteration 25; log likelihood -12816.3911\n",
      "iteration 26; log likelihood -12800.8908\n",
      "iteration 27; log likelihood -12787.1555\n",
      "iteration 28; log likelihood -12774.6862\n",
      "iteration 29; log likelihood -12763.2274\n",
      "iteration 30; log likelihood -12752.6904\n",
      "iteration 31; log likelihood -12743.0421\n",
      "iteration 32; log likelihood -12734.2213\n",
      "iteration 33; log likelihood -12726.1204\n",
      "iteration 34; log likelihood -12718.6053\n",
      "iteration 35; log likelihood -12711.5439\n",
      "iteration 36; log likelihood -12704.8238\n",
      "iteration 37; log likelihood -12698.3494\n",
      "iteration 38; log likelihood -12692.0297\n",
      "iteration 39; log likelihood -12685.7800\n",
      "iteration 40; log likelihood -12679.5320\n",
      "iteration 41; log likelihood -12673.2410\n",
      "iteration 42; log likelihood -12666.8894\n",
      "iteration 43; log likelihood -12660.4905\n",
      "iteration 44; log likelihood -12654.0877\n",
      "iteration 45; log likelihood -12647.7472\n",
      "iteration 46; log likelihood -12641.5435\n",
      "iteration 47; log likelihood -12635.5439\n",
      "iteration 48; log likelihood -12629.7966\n",
      "iteration 49; log likelihood -12624.3289\n",
      "iteration 50; log likelihood -12619.1485\n",
      "iteration 51; log likelihood -12614.2458\n",
      "iteration 52; log likelihood -12609.5960\n",
      "iteration 53; log likelihood -12605.1607\n",
      "iteration 54; log likelihood -12600.8947\n",
      "iteration 55; log likelihood -12596.7557\n",
      "iteration 56; log likelihood -12592.7141\n",
      "iteration 57; log likelihood -12588.7582\n",
      "iteration 58; log likelihood -12584.8903\n",
      "iteration 59; log likelihood -12581.1182\n",
      "iteration 60; log likelihood -12577.4501\n",
      "iteration 61; log likelihood -12573.8941\n",
      "iteration 62; log likelihood -12570.4585\n",
      "iteration 63; log likelihood -12567.1524\n",
      "iteration 64; log likelihood -12563.9859\n",
      "iteration 65; log likelihood -12560.9704\n",
      "iteration 66; log likelihood -12558.1192\n",
      "iteration 67; log likelihood -12555.4454\n",
      "iteration 68; log likelihood -12552.9576\n",
      "iteration 69; log likelihood -12550.6568\n",
      "iteration 70; log likelihood -12548.5355\n",
      "iteration 71; log likelihood -12546.5799\n",
      "iteration 72; log likelihood -12544.7731\n",
      "iteration 73; log likelihood -12543.0974\n",
      "iteration 74; log likelihood -12541.5364\n",
      "iteration 75; log likelihood -12540.0760\n",
      "iteration 76; log likelihood -12538.7051\n",
      "iteration 77; log likelihood -12537.4156\n",
      "iteration 78; log likelihood -12536.2028\n",
      "iteration 79; log likelihood -12535.0637\n",
      "iteration 80; log likelihood -12533.9964\n",
      "iteration 81; log likelihood -12532.9983\n",
      "early stopping previous_llh -12533.996384328602, log_likelihood -12532.998280851421\n"
     ]
    },
    {
     "data": {
      "application/vnd.jupyter.widget-view+json": {
       "model_id": "e58fb899b8ac409189466f581e4dffb3",
       "version_major": 2,
       "version_minor": 0
      },
      "text/plain": [
       "HBox(children=(IntProgress(value=0, max=3355), HTML(value='')))"
      ]
     },
     "metadata": {},
     "output_type": "display_data"
    },
    {
     "data": {
      "application/vnd.jupyter.widget-view+json": {
       "model_id": "a92eb04d45da4047960f80b3f030f614",
       "version_major": 2,
       "version_minor": 0
      },
      "text/plain": [
       "HBox(children=(IntProgress(value=0, max=112711), HTML(value='')))"
      ]
     },
     "metadata": {},
     "output_type": "display_data"
    },
    {
     "name": "stdout",
     "output_type": "stream",
     "text": [
      "pi is fixed\n",
      "A is fixed\n",
      "iteration 0; log likelihood -12684.6893\n",
      "iteration 1; log likelihood -10979.9515\n",
      "iteration 2; log likelihood -10971.3684\n",
      "iteration 3; log likelihood -10961.0786\n",
      "iteration 4; log likelihood -10947.1028\n",
      "iteration 5; log likelihood -10926.2066\n",
      "iteration 6; log likelihood -10893.4548\n",
      "iteration 7; log likelihood -10842.5351\n",
      "iteration 8; log likelihood -10767.2828\n",
      "iteration 9; log likelihood -10661.4393\n",
      "iteration 10; log likelihood -10511.3701\n",
      "iteration 11; log likelihood -10295.2731\n",
      "iteration 12; log likelihood -10030.2777\n",
      "iteration 13; log likelihood -9787.3519\n",
      "iteration 14; log likelihood -9592.0307\n",
      "iteration 15; log likelihood -9425.4754\n",
      "iteration 16; log likelihood -9281.0647\n",
      "iteration 17; log likelihood -9165.7343\n",
      "iteration 18; log likelihood -9081.5651\n",
      "iteration 19; log likelihood -9023.6581\n",
      "iteration 20; log likelihood -8984.5573\n",
      "iteration 21; log likelihood -8957.0115\n",
      "iteration 22; log likelihood -8935.6799\n",
      "iteration 23; log likelihood -8920.6576\n",
      "iteration 24; log likelihood -8910.3663\n",
      "iteration 25; log likelihood -8902.5878\n",
      "iteration 26; log likelihood -8896.1200\n",
      "iteration 27; log likelihood -8891.4656\n",
      "iteration 28; log likelihood -8888.0881\n",
      "iteration 29; log likelihood -8885.4486\n",
      "iteration 30; log likelihood -8883.3579\n",
      "iteration 31; log likelihood -8881.7084\n",
      "iteration 32; log likelihood -8880.4033\n",
      "iteration 33; log likelihood -8879.3668\n",
      "iteration 34; log likelihood -8878.5396\n",
      "early stopping previous_llh -8879.366765784127, log_likelihood -8878.53956460074\n"
     ]
    },
    {
     "data": {
      "application/vnd.jupyter.widget-view+json": {
       "model_id": "3b7eaf8d37b6423c9e5a4ae5e3474d1b",
       "version_major": 2,
       "version_minor": 0
      },
      "text/plain": [
       "HBox(children=(IntProgress(value=0, max=3355), HTML(value='')))"
      ]
     },
     "metadata": {},
     "output_type": "display_data"
    },
    {
     "data": {
      "application/vnd.jupyter.widget-view+json": {
       "model_id": "772975a4d7da43a5a6ed09da8f079d4c",
       "version_major": 2,
       "version_minor": 0
      },
      "text/plain": [
       "HBox(children=(IntProgress(value=0, max=112711), HTML(value='')))"
      ]
     },
     "metadata": {},
     "output_type": "display_data"
    },
    {
     "name": "stdout",
     "output_type": "stream",
     "text": [
      "pi is fixed\n",
      "A is fixed\n",
      "iteration 0; log likelihood -11251.6219\n",
      "iteration 1; log likelihood -9749.3102\n",
      "iteration 2; log likelihood -9743.3845\n",
      "iteration 3; log likelihood -9735.9753\n",
      "iteration 4; log likelihood -9725.5429\n",
      "iteration 5; log likelihood -9709.5342\n",
      "iteration 6; log likelihood -9683.9100\n",
      "iteration 7; log likelihood -9643.0531\n",
      "iteration 8; log likelihood -9580.5053\n",
      "iteration 9; log likelihood -9488.9966\n",
      "iteration 10; log likelihood -9356.9304\n",
      "iteration 11; log likelihood -9174.4322\n",
      "iteration 12; log likelihood -8966.6146\n",
      "iteration 13; log likelihood -8783.1999\n",
      "iteration 14; log likelihood -8639.9447\n",
      "iteration 15; log likelihood -8524.0807\n",
      "iteration 16; log likelihood -8423.2710\n",
      "iteration 17; log likelihood -8333.5509\n",
      "iteration 18; log likelihood -8257.9438\n",
      "iteration 19; log likelihood -8198.8671\n",
      "iteration 20; log likelihood -8155.4039\n",
      "iteration 21; log likelihood -8124.9028\n",
      "iteration 22; log likelihood -8103.9261\n",
      "iteration 23; log likelihood -8089.2234\n",
      "iteration 24; log likelihood -8078.7417\n",
      "iteration 25; log likelihood -8071.2452\n",
      "iteration 26; log likelihood -8065.7558\n",
      "iteration 27; log likelihood -8061.5907\n",
      "iteration 28; log likelihood -8058.3379\n",
      "iteration 29; log likelihood -8055.7551\n",
      "iteration 30; log likelihood -8053.6915\n",
      "iteration 31; log likelihood -8052.0403\n",
      "iteration 32; log likelihood -8050.7157\n",
      "iteration 33; log likelihood -8049.6465\n",
      "iteration 34; log likelihood -8048.7752\n",
      "early stopping previous_llh -8049.646529785893, log_likelihood -8048.775188622553\n"
     ]
    },
    {
     "data": {
      "application/vnd.jupyter.widget-view+json": {
       "model_id": "bad6d71d9039478db24d421830926e54",
       "version_major": 2,
       "version_minor": 0
      },
      "text/plain": [
       "HBox(children=(IntProgress(value=0, max=3355), HTML(value='')))"
      ]
     },
     "metadata": {},
     "output_type": "display_data"
    },
    {
     "data": {
      "application/vnd.jupyter.widget-view+json": {
       "model_id": "7796a34a4511478ebba6f1d4cf74c654",
       "version_major": 2,
       "version_minor": 0
      },
      "text/plain": [
       "HBox(children=(IntProgress(value=0, max=112711), HTML(value='')))"
      ]
     },
     "metadata": {},
     "output_type": "display_data"
    },
    {
     "name": "stdout",
     "output_type": "stream",
     "text": [
      "pi is fixed\n",
      "A is fixed\n",
      "iteration 0; log likelihood -11814.6224\n",
      "iteration 1; log likelihood -10073.1705\n",
      "iteration 2; log likelihood -10068.2774\n",
      "iteration 3; log likelihood -10062.2359\n",
      "iteration 4; log likelihood -10053.7305\n",
      "iteration 5; log likelihood -10040.6173\n",
      "iteration 6; log likelihood -10019.4180\n",
      "iteration 7; log likelihood -9985.1861\n",
      "iteration 8; log likelihood -9932.6302\n",
      "iteration 9; log likelihood -9858.8774\n",
      "iteration 10; log likelihood -9765.2825\n",
      "iteration 11; log likelihood -9653.5931\n",
      "iteration 12; log likelihood -9517.5231\n",
      "iteration 13; log likelihood -9342.3532\n",
      "iteration 14; log likelihood -9127.4031\n",
      "iteration 15; log likelihood -8907.5595\n",
      "iteration 16; log likelihood -8719.3470\n",
      "iteration 17; log likelihood -8570.0721\n",
      "iteration 18; log likelihood -8458.5312\n",
      "iteration 19; log likelihood -8378.4607\n",
      "iteration 20; log likelihood -8322.5682\n",
      "iteration 21; log likelihood -8283.9783\n",
      "iteration 22; log likelihood -8257.0924\n",
      "iteration 23; log likelihood -8238.1125\n",
      "iteration 24; log likelihood -8224.5218\n",
      "iteration 25; log likelihood -8214.6698\n",
      "iteration 26; log likelihood -8207.4563\n",
      "iteration 27; log likelihood -8202.1151\n",
      "iteration 28; log likelihood -8198.1030\n",
      "iteration 29; log likelihood -8195.0364\n",
      "iteration 30; log likelihood -8192.6487\n",
      "iteration 31; log likelihood -8190.7599\n",
      "iteration 32; log likelihood -8189.2495\n",
      "iteration 33; log likelihood -8188.0317\n",
      "iteration 34; log likelihood -8187.0408\n",
      "early stopping previous_llh -8188.031720539751, log_likelihood -8187.040796035624\n"
     ]
    },
    {
     "data": {
      "application/vnd.jupyter.widget-view+json": {
       "model_id": "092eef927b2a442bbc1176a767f37d80",
       "version_major": 2,
       "version_minor": 0
      },
      "text/plain": [
       "HBox(children=(IntProgress(value=0, max=3355), HTML(value='')))"
      ]
     },
     "metadata": {},
     "output_type": "display_data"
    },
    {
     "data": {
      "application/vnd.jupyter.widget-view+json": {
       "model_id": "2a43fc488ceb4e32be8f91ea7d93ff56",
       "version_major": 2,
       "version_minor": 0
      },
      "text/plain": [
       "HBox(children=(IntProgress(value=0, max=112711), HTML(value='')))"
      ]
     },
     "metadata": {},
     "output_type": "display_data"
    },
    {
     "name": "stdout",
     "output_type": "stream",
     "text": [
      "pi is fixed\n",
      "A is fixed\n",
      "iteration 0; log likelihood -12492.5426\n",
      "iteration 1; log likelihood -10718.2847\n",
      "iteration 2; log likelihood -10712.6927\n",
      "iteration 3; log likelihood -10705.3307\n",
      "iteration 4; log likelihood -10694.4691\n",
      "iteration 5; log likelihood -10677.1498\n",
      "iteration 6; log likelihood -10648.6424\n",
      "iteration 7; log likelihood -10602.6339\n",
      "iteration 8; log likelihood -10533.2284\n",
      "iteration 9; log likelihood -10437.2401\n",
      "iteration 10; log likelihood -10310.8678\n",
      "iteration 11; log likelihood -10142.6555\n",
      "iteration 12; log likelihood -9929.4720\n",
      "iteration 13; log likelihood -9711.7632\n",
      "iteration 14; log likelihood -9532.1719\n",
      "iteration 15; log likelihood -9388.8695\n",
      "iteration 16; log likelihood -9267.7738\n",
      "iteration 17; log likelihood -9164.9224\n",
      "iteration 18; log likelihood -9082.5396\n",
      "iteration 19; log likelihood -9021.1239\n",
      "iteration 20; log likelihood -8977.6075\n",
      "iteration 21; log likelihood -8947.5039\n",
      "iteration 22; log likelihood -8926.7327\n",
      "iteration 23; log likelihood -8912.2415\n",
      "iteration 24; log likelihood -8901.9440\n",
      "iteration 25; log likelihood -8894.4626\n",
      "iteration 26; log likelihood -8888.8933\n",
      "iteration 27; log likelihood -8884.6385\n",
      "iteration 28; log likelihood -8881.2981\n",
      "iteration 29; log likelihood -8878.5977\n",
      "iteration 30; log likelihood -8876.3386\n",
      "iteration 31; log likelihood -8874.3550\n",
      "iteration 32; log likelihood -8872.5032\n",
      "iteration 33; log likelihood -8870.7760\n",
      "iteration 34; log likelihood -8869.3219\n",
      "iteration 35; log likelihood -8868.1313\n",
      "iteration 36; log likelihood -8867.1006\n",
      "iteration 37; log likelihood -8866.1748\n",
      "early stopping previous_llh -8867.10061031227, log_likelihood -8866.174752783649\n"
     ]
    },
    {
     "data": {
      "application/vnd.jupyter.widget-view+json": {
       "model_id": "5d6360194d644f619be745f20e4ceda3",
       "version_major": 2,
       "version_minor": 0
      },
      "text/plain": [
       "HBox(children=(IntProgress(value=0, max=3355), HTML(value='')))"
      ]
     },
     "metadata": {},
     "output_type": "display_data"
    },
    {
     "data": {
      "application/vnd.jupyter.widget-view+json": {
       "model_id": "209ec49827264bdaba916d264276b66c",
       "version_major": 2,
       "version_minor": 0
      },
      "text/plain": [
       "HBox(children=(IntProgress(value=0, max=112711), HTML(value='')))"
      ]
     },
     "metadata": {},
     "output_type": "display_data"
    },
    {
     "name": "stdout",
     "output_type": "stream",
     "text": [
      "pi is fixed\n",
      "A is fixed\n",
      "iteration 0; log likelihood -14180.8222\n",
      "iteration 1; log likelihood -12207.2666\n",
      "iteration 2; log likelihood -12196.9064\n",
      "iteration 3; log likelihood -12186.7687\n",
      "iteration 4; log likelihood -12174.9589\n",
      "iteration 5; log likelihood -12158.8277\n",
      "iteration 6; log likelihood -12134.2391\n",
      "iteration 7; log likelihood -12094.8182\n",
      "iteration 8; log likelihood -12031.7052\n",
      "iteration 9; log likelihood -11934.0347\n",
      "iteration 10; log likelihood -11788.1527\n",
      "iteration 11; log likelihood -11581.1799\n",
      "iteration 12; log likelihood -11334.8016\n",
      "iteration 13; log likelihood -11111.8928\n",
      "iteration 14; log likelihood -10941.5192\n",
      "iteration 15; log likelihood -10807.6485\n",
      "iteration 16; log likelihood -10688.9399\n",
      "iteration 17; log likelihood -10580.0496\n",
      "iteration 18; log likelihood -10484.3075\n",
      "iteration 19; log likelihood -10403.9853\n",
      "iteration 20; log likelihood -10339.7000\n",
      "iteration 21; log likelihood -10290.2618\n",
      "iteration 22; log likelihood -10253.1331\n",
      "iteration 23; log likelihood -10225.2065\n",
      "iteration 24; log likelihood -10203.7999\n",
      "iteration 25; log likelihood -10187.8746\n",
      "iteration 26; log likelihood -10176.2812\n",
      "iteration 27; log likelihood -10167.6882\n",
      "iteration 28; log likelihood -10161.1376\n",
      "iteration 29; log likelihood -10155.9771\n",
      "iteration 30; log likelihood -10151.7327\n",
      "iteration 31; log likelihood -10148.1031\n",
      "iteration 32; log likelihood -10145.0919\n",
      "iteration 33; log likelihood -10142.7227\n",
      "iteration 34; log likelihood -10140.8420\n",
      "iteration 35; log likelihood -10139.3202\n",
      "iteration 36; log likelihood -10138.0785\n",
      "iteration 37; log likelihood -10137.0600\n",
      "iteration 38; log likelihood -10136.2196\n",
      "early stopping previous_llh -10137.06002229493, log_likelihood -10136.219645766887\n"
     ]
    },
    {
     "data": {
      "application/vnd.jupyter.widget-view+json": {
       "model_id": "68e10ca89b624440ad291c29fcb93ab4",
       "version_major": 2,
       "version_minor": 0
      },
      "text/plain": [
       "HBox(children=(IntProgress(value=0, max=3355), HTML(value='')))"
      ]
     },
     "metadata": {},
     "output_type": "display_data"
    },
    {
     "data": {
      "application/vnd.jupyter.widget-view+json": {
       "model_id": "fab3a4609a6042a18808b1026d6acd71",
       "version_major": 2,
       "version_minor": 0
      },
      "text/plain": [
       "HBox(children=(IntProgress(value=0, max=112711), HTML(value='')))"
      ]
     },
     "metadata": {},
     "output_type": "display_data"
    },
    {
     "name": "stdout",
     "output_type": "stream",
     "text": [
      "pi is fixed\n",
      "A is fixed\n",
      "iteration 0; log likelihood -12581.4839\n",
      "iteration 1; log likelihood -10879.1229\n",
      "iteration 2; log likelihood -10874.2925\n",
      "iteration 3; log likelihood -10868.0760\n",
      "iteration 4; log likelihood -10859.1218\n",
      "iteration 5; log likelihood -10845.1780\n",
      "iteration 6; log likelihood -10822.6589\n",
      "iteration 7; log likelihood -10786.6808\n",
      "iteration 8; log likelihood -10732.5494\n",
      "iteration 9; log likelihood -10658.3780\n",
      "iteration 10; log likelihood -10564.5230\n",
      "iteration 11; log likelihood -10445.6967\n",
      "iteration 12; log likelihood -10282.9331\n",
      "iteration 13; log likelihood -10063.0120\n",
      "iteration 14; log likelihood -9822.4403\n",
      "iteration 15; log likelihood -9616.2530\n",
      "iteration 16; log likelihood -9458.3440\n",
      "iteration 17; log likelihood -9337.7178\n",
      "iteration 18; log likelihood -9242.8431\n",
      "iteration 19; log likelihood -9169.0557\n",
      "iteration 20; log likelihood -9113.8297\n",
      "iteration 21; log likelihood -9073.8941\n",
      "iteration 22; log likelihood -9045.5960\n",
      "iteration 23; log likelihood -9025.6080\n",
      "iteration 24; log likelihood -9011.2939\n",
      "iteration 25; log likelihood -9000.7902\n",
      "iteration 26; log likelihood -8992.8985\n",
      "iteration 27; log likelihood -8986.8712\n",
      "iteration 28; log likelihood -8982.2111\n",
      "iteration 29; log likelihood -8978.5623\n",
      "iteration 30; log likelihood -8975.6661\n",
      "iteration 31; log likelihood -8973.3352\n",
      "iteration 32; log likelihood -8971.4331\n",
      "iteration 33; log likelihood -8969.8599\n",
      "iteration 34; log likelihood -8968.5425\n",
      "iteration 35; log likelihood -8967.4275\n",
      "iteration 36; log likelihood -8966.4757\n",
      "early stopping previous_llh -8967.427480838567, log_likelihood -8966.475662181576\n"
     ]
    },
    {
     "data": {
      "application/vnd.jupyter.widget-view+json": {
       "model_id": "74ab90c848dd402e9df5e2ca8cf8dbcb",
       "version_major": 2,
       "version_minor": 0
      },
      "text/plain": [
       "HBox(children=(IntProgress(value=0, max=3355), HTML(value='')))"
      ]
     },
     "metadata": {},
     "output_type": "display_data"
    },
    {
     "data": {
      "application/vnd.jupyter.widget-view+json": {
       "model_id": "7bc73c3c677947c8a068df791c2a6e0e",
       "version_major": 2,
       "version_minor": 0
      },
      "text/plain": [
       "HBox(children=(IntProgress(value=0, max=112711), HTML(value='')))"
      ]
     },
     "metadata": {},
     "output_type": "display_data"
    },
    {
     "name": "stdout",
     "output_type": "stream",
     "text": [
      "pi is fixed\n",
      "A is fixed\n",
      "iteration 0; log likelihood -12700.9503\n",
      "iteration 1; log likelihood -10913.2783\n",
      "iteration 2; log likelihood -10907.5826\n",
      "iteration 3; log likelihood -10901.0819\n",
      "iteration 4; log likelihood -10892.7426\n",
      "iteration 5; log likelihood -10880.8829\n",
      "iteration 6; log likelihood -10862.7932\n",
      "iteration 7; log likelihood -10834.4861\n",
      "iteration 8; log likelihood -10791.1248\n",
      "iteration 9; log likelihood -10728.4689\n",
      "iteration 10; log likelihood -10643.5623\n",
      "iteration 11; log likelihood -10530.8114\n",
      "iteration 12; log likelihood -10376.4429\n",
      "iteration 13; log likelihood -10173.5872\n",
      "iteration 14; log likelihood -9954.9471\n",
      "iteration 15; log likelihood -9761.8053\n",
      "iteration 16; log likelihood -9599.6334\n",
      "iteration 17; log likelihood -9462.3344\n",
      "iteration 18; log likelihood -9348.2573\n",
      "iteration 19; log likelihood -9255.6496\n",
      "iteration 20; log likelihood -9182.5836\n",
      "iteration 21; log likelihood -9126.4692\n",
      "iteration 22; log likelihood -9084.1695\n",
      "iteration 23; log likelihood -9052.0798\n",
      "iteration 24; log likelihood -9028.4643\n",
      "iteration 25; log likelihood -9012.3374\n",
      "iteration 26; log likelihood -9001.1488\n",
      "iteration 27; log likelihood -8993.0665\n",
      "iteration 28; log likelihood -8987.0613\n",
      "iteration 29; log likelihood -8982.5106\n",
      "iteration 30; log likelihood -8979.0270\n",
      "iteration 31; log likelihood -8976.3437\n",
      "iteration 32; log likelihood -8974.2608\n",
      "iteration 33; log likelihood -8972.6280\n",
      "iteration 34; log likelihood -8971.3338\n",
      "iteration 35; log likelihood -8970.2950\n",
      "iteration 36; log likelihood -8969.4499\n",
      "early stopping previous_llh -8970.295000112508, log_likelihood -8969.449947136727\n"
     ]
    },
    {
     "data": {
      "application/vnd.jupyter.widget-view+json": {
       "model_id": "b4863c0c9f9840cdb87e57340d9dfc58",
       "version_major": 2,
       "version_minor": 0
      },
      "text/plain": [
       "HBox(children=(IntProgress(value=0, max=3355), HTML(value='')))"
      ]
     },
     "metadata": {},
     "output_type": "display_data"
    },
    {
     "data": {
      "application/vnd.jupyter.widget-view+json": {
       "model_id": "b7b28ca614eb48ccbddc00cb3f29a0a0",
       "version_major": 2,
       "version_minor": 0
      },
      "text/plain": [
       "HBox(children=(IntProgress(value=0, max=112711), HTML(value='')))"
      ]
     },
     "metadata": {},
     "output_type": "display_data"
    },
    {
     "name": "stdout",
     "output_type": "stream",
     "text": [
      "pi is fixed\n",
      "A is fixed\n",
      "iteration 0; log likelihood -13438.9031\n",
      "iteration 1; log likelihood -11608.1542\n",
      "iteration 2; log likelihood -11603.6439\n",
      "iteration 3; log likelihood -11598.4876\n",
      "iteration 4; log likelihood -11591.9970\n",
      "iteration 5; log likelihood -11583.0791\n",
      "iteration 6; log likelihood -11569.9635\n",
      "iteration 7; log likelihood -11549.8360\n",
      "iteration 8; log likelihood -11518.4931\n",
      "iteration 9; log likelihood -11470.3955\n",
      "iteration 10; log likelihood -11399.7996\n",
      "iteration 11; log likelihood -11303.2596\n",
      "iteration 12; log likelihood -11181.6406\n",
      "iteration 13; log likelihood -11037.6948\n",
      "iteration 14; log likelihood -10870.8392\n",
      "iteration 15; log likelihood -10681.3517\n",
      "iteration 16; log likelihood -10479.1521\n",
      "iteration 17; log likelihood -10279.7374\n",
      "iteration 18; log likelihood -10101.2292\n",
      "iteration 19; log likelihood -9957.4346\n",
      "iteration 20; log likelihood -9848.1299\n",
      "iteration 21; log likelihood -9766.2529\n",
      "iteration 22; log likelihood -9704.9347\n",
      "iteration 23; log likelihood -9658.4010\n",
      "iteration 24; log likelihood -9622.4439\n",
      "iteration 25; log likelihood -9595.2391\n",
      "iteration 26; log likelihood -9575.3831\n",
      "iteration 27; log likelihood -9560.9666\n",
      "iteration 28; log likelihood -9550.4529\n",
      "iteration 29; log likelihood -9542.7454\n",
      "iteration 30; log likelihood -9537.0583\n",
      "iteration 31; log likelihood -9532.8244\n",
      "iteration 32; log likelihood -9529.6445\n",
      "iteration 33; log likelihood -9527.2386\n",
      "iteration 34; log likelihood -9525.4021\n",
      "iteration 35; log likelihood -9523.9814\n",
      "iteration 36; log likelihood -9522.8633\n",
      "iteration 37; log likelihood -9521.9669\n",
      "early stopping previous_llh -9522.863322190868, log_likelihood -9521.966876285713\n"
     ]
    },
    {
     "data": {
      "application/vnd.jupyter.widget-view+json": {
       "model_id": "edc7b4dce7dd40668141c60800a11a22",
       "version_major": 2,
       "version_minor": 0
      },
      "text/plain": [
       "HBox(children=(IntProgress(value=0, max=3355), HTML(value='')))"
      ]
     },
     "metadata": {},
     "output_type": "display_data"
    },
    {
     "data": {
      "application/vnd.jupyter.widget-view+json": {
       "model_id": "4fca06a063294ae09d0b1294be8d8452",
       "version_major": 2,
       "version_minor": 0
      },
      "text/plain": [
       "HBox(children=(IntProgress(value=0, max=112711), HTML(value='')))"
      ]
     },
     "metadata": {},
     "output_type": "display_data"
    },
    {
     "name": "stdout",
     "output_type": "stream",
     "text": [
      "pi is fixed\n",
      "A is fixed\n",
      "iteration 0; log likelihood -35170.1957\n",
      "iteration 1; log likelihood -29479.4330\n",
      "iteration 2; log likelihood -29475.4167\n",
      "iteration 3; log likelihood -29467.4931\n",
      "iteration 4; log likelihood -29449.6246\n",
      "iteration 5; log likelihood -29407.7091\n",
      "iteration 6; log likelihood -29313.5095\n",
      "iteration 7; log likelihood -29138.3116\n",
      "iteration 8; log likelihood -28898.9574\n",
      "iteration 9; log likelihood -28659.2668\n",
      "iteration 10; log likelihood -28465.3044\n",
      "iteration 11; log likelihood -28314.4164\n",
      "iteration 12; log likelihood -28189.3818\n",
      "iteration 13; log likelihood -28080.5292\n",
      "iteration 14; log likelihood -27980.2149\n",
      "iteration 15; log likelihood -27884.0672\n",
      "iteration 16; log likelihood -27788.9867\n",
      "iteration 17; log likelihood -27690.2336\n",
      "iteration 18; log likelihood -27588.1500\n",
      "iteration 19; log likelihood -27491.2034\n",
      "iteration 20; log likelihood -27406.4264\n",
      "iteration 21; log likelihood -27334.9656\n",
      "iteration 22; log likelihood -27274.1364\n",
      "iteration 23; log likelihood -27223.1227\n",
      "iteration 24; log likelihood -27181.1344\n",
      "iteration 25; log likelihood -27146.5082\n",
      "iteration 26; log likelihood -27117.8447\n",
      "iteration 27; log likelihood -27093.9449\n",
      "iteration 28; log likelihood -27073.7244\n",
      "iteration 29; log likelihood -27056.1980\n",
      "iteration 30; log likelihood -27040.5662\n",
      "iteration 31; log likelihood -27026.2097\n",
      "iteration 32; log likelihood -27012.7118\n",
      "iteration 33; log likelihood -26999.9203\n",
      "iteration 34; log likelihood -26987.8478\n",
      "iteration 35; log likelihood -26976.4794\n",
      "iteration 36; log likelihood -26965.7668\n",
      "iteration 37; log likelihood -26955.6964\n",
      "iteration 38; log likelihood -26946.2887\n",
      "iteration 39; log likelihood -26937.5578\n",
      "iteration 40; log likelihood -26929.4883\n",
      "iteration 41; log likelihood -26922.0409\n",
      "iteration 42; log likelihood -26915.1662\n",
      "iteration 43; log likelihood -26908.8133\n",
      "iteration 44; log likelihood -26902.9338\n",
      "iteration 45; log likelihood -26897.4841\n",
      "iteration 46; log likelihood -26892.4251\n",
      "iteration 47; log likelihood -26887.7206\n",
      "iteration 48; log likelihood -26883.3253\n",
      "iteration 49; log likelihood -26879.1503\n",
      "iteration 50; log likelihood -26875.0120\n",
      "iteration 51; log likelihood -26870.7828\n",
      "iteration 52; log likelihood -26866.8029\n",
      "iteration 53; log likelihood -26863.4204\n",
      "iteration 54; log likelihood -26860.5220\n",
      "iteration 55; log likelihood -26857.9287\n",
      "iteration 56; log likelihood -26855.5527\n",
      "iteration 57; log likelihood -26853.3537\n",
      "iteration 58; log likelihood -26851.3074\n",
      "iteration 59; log likelihood -26849.3953\n",
      "iteration 60; log likelihood -26847.6016\n",
      "iteration 61; log likelihood -26845.9125\n",
      "iteration 62; log likelihood -26844.3161\n",
      "iteration 63; log likelihood -26842.8017\n",
      "iteration 64; log likelihood -26841.3602\n",
      "iteration 65; log likelihood -26839.9842\n",
      "iteration 66; log likelihood -26838.6678\n",
      "iteration 67; log likelihood -26837.4072\n",
      "iteration 68; log likelihood -26836.2006\n",
      "iteration 69; log likelihood -26835.0475\n",
      "iteration 70; log likelihood -26833.9475\n",
      "iteration 71; log likelihood -26832.9004\n",
      "iteration 72; log likelihood -26831.9052\n",
      "early stopping previous_llh -26832.90035872311, log_likelihood -26831.905152663312\n"
     ]
    },
    {
     "data": {
      "application/vnd.jupyter.widget-view+json": {
       "model_id": "7c888de245d74519a9beeb3afc01683d",
       "version_major": 2,
       "version_minor": 0
      },
      "text/plain": [
       "HBox(children=(IntProgress(value=0, max=2755), HTML(value='')))"
      ]
     },
     "metadata": {},
     "output_type": "display_data"
    },
    {
     "data": {
      "application/vnd.jupyter.widget-view+json": {
       "model_id": "9ae8e61482494089a3edfa2565f6e702",
       "version_major": 2,
       "version_minor": 0
      },
      "text/plain": [
       "HBox(children=(IntProgress(value=0, max=8292), HTML(value='')))"
      ]
     },
     "metadata": {},
     "output_type": "display_data"
    },
    {
     "data": {
      "application/vnd.jupyter.widget-view+json": {
       "model_id": "ae215e7ec9074485a7dcaa69d9958a2a",
       "version_major": 2,
       "version_minor": 0
      },
      "text/plain": [
       "HBox(children=(IntProgress(value=0, max=10337), HTML(value='')))"
      ]
     },
     "metadata": {},
     "output_type": "display_data"
    },
    {
     "data": {
      "application/vnd.jupyter.widget-view+json": {
       "model_id": "520def4139b9441f9937a1800eaa85a0",
       "version_major": 2,
       "version_minor": 0
      },
      "text/plain": [
       "HBox(children=(IntProgress(value=0, max=5584), HTML(value='')))"
      ]
     },
     "metadata": {},
     "output_type": "display_data"
    },
    {
     "data": {
      "application/vnd.jupyter.widget-view+json": {
       "model_id": "967877f0e687442fb51703903c6a1711",
       "version_major": 2,
       "version_minor": 0
      },
      "text/plain": [
       "HBox(children=(IntProgress(value=0, max=3009), HTML(value='')))"
      ]
     },
     "metadata": {},
     "output_type": "display_data"
    },
    {
     "name": "stdout",
     "output_type": "stream",
     "text": [
      "pi is fixed\n",
      "A is fixed\n",
      "iteration 0; log likelihood -13146.1050\n",
      "iteration 1; log likelihood -11381.4451\n",
      "iteration 2; log likelihood -11376.5316\n",
      "iteration 3; log likelihood -11370.0290\n",
      "iteration 4; log likelihood -11360.4644\n",
      "iteration 5; log likelihood -11345.2788\n",
      "iteration 6; log likelihood -11320.2512\n",
      "iteration 7; log likelihood -11279.3798\n",
      "iteration 8; log likelihood -11216.4070\n",
      "iteration 9; log likelihood -11127.8094\n",
      "iteration 10; log likelihood -11012.0537\n",
      "iteration 11; log likelihood -10859.7553\n",
      "iteration 12; log likelihood -10647.3230\n",
      "iteration 13; log likelihood -10375.6418\n",
      "iteration 14; log likelihood -10106.1050\n",
      "iteration 15; log likelihood -9884.2258\n",
      "iteration 16; log likelihood -9717.0886\n",
      "iteration 17; log likelihood -9595.6900\n",
      "iteration 18; log likelihood -9507.6604\n",
      "iteration 19; log likelihood -9444.5306\n",
      "iteration 20; log likelihood -9399.9218\n",
      "iteration 21; log likelihood -9368.5665\n",
      "iteration 22; log likelihood -9346.5196\n",
      "iteration 23; log likelihood -9330.9410\n",
      "iteration 24; log likelihood -9319.7946\n",
      "iteration 25; log likelihood -9311.6638\n",
      "iteration 26; log likelihood -9305.6001\n",
      "iteration 27; log likelihood -9300.9771\n",
      "iteration 28; log likelihood -9297.3778\n",
      "iteration 29; log likelihood -9294.5199\n",
      "iteration 30; log likelihood -9292.2093\n",
      "iteration 31; log likelihood -9290.3103\n",
      "iteration 32; log likelihood -9288.7272\n",
      "iteration 33; log likelihood -9287.3925\n",
      "iteration 34; log likelihood -9286.2604\n",
      "iteration 35; log likelihood -9285.3000\n",
      "early stopping previous_llh -9286.260396740567, log_likelihood -9285.30004127153\n"
     ]
    },
    {
     "data": {
      "application/vnd.jupyter.widget-view+json": {
       "model_id": "982ab1c71796413287ba2a4d5af8161a",
       "version_major": 2,
       "version_minor": 0
      },
      "text/plain": [
       "HBox(children=(IntProgress(value=0, max=3355), HTML(value='')))"
      ]
     },
     "metadata": {},
     "output_type": "display_data"
    },
    {
     "data": {
      "application/vnd.jupyter.widget-view+json": {
       "model_id": "3e1c14993b644d5f8f2bb994b8165006",
       "version_major": 2,
       "version_minor": 0
      },
      "text/plain": [
       "HBox(children=(IntProgress(value=0, max=112711), HTML(value='')))"
      ]
     },
     "metadata": {},
     "output_type": "display_data"
    },
    {
     "name": "stdout",
     "output_type": "stream",
     "text": [
      "pi is fixed\n",
      "A is fixed\n",
      "iteration 0; log likelihood -13075.7350\n",
      "iteration 1; log likelihood -11427.7273\n",
      "iteration 2; log likelihood -11422.4380\n",
      "iteration 3; log likelihood -11415.6634\n",
      "iteration 4; log likelihood -11405.9883\n",
      "iteration 5; log likelihood -11391.0228\n",
      "iteration 6; log likelihood -11366.9252\n",
      "iteration 7; log likelihood -11328.3129\n",
      "iteration 8; log likelihood -11269.4676\n",
      "iteration 9; log likelihood -11186.6701\n",
      "iteration 10; log likelihood -11077.8865\n",
      "iteration 11; log likelihood -10936.0542\n",
      "iteration 12; log likelihood -10744.9477\n",
      "iteration 13; log likelihood -10506.0681\n",
      "iteration 14; log likelihood -10267.3066\n",
      "iteration 15; log likelihood -10064.2984\n",
      "iteration 16; log likelihood -9890.1094\n",
      "iteration 17; log likelihood -9741.4848\n",
      "iteration 18; log likelihood -9625.2835\n",
      "iteration 19; log likelihood -9540.0911\n",
      "iteration 20; log likelihood -9479.5717\n",
      "iteration 21; log likelihood -9437.2868\n",
      "iteration 22; log likelihood -9407.9884\n",
      "iteration 23; log likelihood -9387.7192\n",
      "iteration 24; log likelihood -9373.5669\n",
      "iteration 25; log likelihood -9363.4858\n",
      "iteration 26; log likelihood -9356.1225\n",
      "iteration 27; log likelihood -9350.6108\n",
      "iteration 28; log likelihood -9346.3957\n",
      "iteration 29; log likelihood -9343.1133\n",
      "iteration 30; log likelihood -9340.5174\n",
      "iteration 31; log likelihood -9338.4374\n",
      "iteration 32; log likelihood -9336.7528\n",
      "iteration 33; log likelihood -9335.3772\n",
      "iteration 34; log likelihood -9334.2474\n",
      "iteration 35; log likelihood -9333.3145\n",
      "early stopping previous_llh -9334.247406193523, log_likelihood -9333.314544422125\n"
     ]
    },
    {
     "data": {
      "application/vnd.jupyter.widget-view+json": {
       "model_id": "6e7a3158cda241b7982dec11066bfc07",
       "version_major": 2,
       "version_minor": 0
      },
      "text/plain": [
       "HBox(children=(IntProgress(value=0, max=3355), HTML(value='')))"
      ]
     },
     "metadata": {},
     "output_type": "display_data"
    },
    {
     "data": {
      "application/vnd.jupyter.widget-view+json": {
       "model_id": "cc2228cd6c8645a09813368bd2e8cadb",
       "version_major": 2,
       "version_minor": 0
      },
      "text/plain": [
       "HBox(children=(IntProgress(value=0, max=112711), HTML(value='')))"
      ]
     },
     "metadata": {},
     "output_type": "display_data"
    },
    {
     "name": "stdout",
     "output_type": "stream",
     "text": [
      "pi is fixed\n",
      "A is fixed\n",
      "iteration 0; log likelihood -9347.5364\n",
      "iteration 1; log likelihood -7721.0658\n",
      "iteration 2; log likelihood -7712.0302\n",
      "iteration 3; log likelihood -7691.1352\n",
      "iteration 4; log likelihood -7644.3787\n",
      "iteration 5; log likelihood -7578.0523\n",
      "iteration 6; log likelihood -7461.4215\n",
      "iteration 7; log likelihood -7293.5770\n",
      "iteration 8; log likelihood -7123.0760\n",
      "iteration 9; log likelihood -6993.9046\n",
      "iteration 10; log likelihood -6904.9683\n",
      "iteration 11; log likelihood -6839.0393\n",
      "iteration 12; log likelihood -6786.4923\n",
      "iteration 13; log likelihood -6743.5544\n",
      "iteration 14; log likelihood -6707.9584\n",
      "iteration 15; log likelihood -6677.8163\n",
      "iteration 16; log likelihood -6651.7735\n",
      "iteration 17; log likelihood -6629.1326\n",
      "iteration 18; log likelihood -6609.6224\n",
      "iteration 19; log likelihood -6593.0394\n",
      "iteration 20; log likelihood -6579.1050\n",
      "iteration 21; log likelihood -6567.4892\n",
      "iteration 22; log likelihood -6557.8242\n",
      "iteration 23; log likelihood -6549.7097\n",
      "iteration 24; log likelihood -6542.7674\n",
      "iteration 25; log likelihood -6536.9952\n",
      "iteration 26; log likelihood -6532.4093\n",
      "iteration 27; log likelihood -6528.6340\n",
      "iteration 28; log likelihood -6525.4812\n",
      "iteration 29; log likelihood -6522.8358\n",
      "iteration 30; log likelihood -6520.6055\n",
      "iteration 31; log likelihood -6518.7134\n",
      "iteration 32; log likelihood -6517.0946\n",
      "iteration 33; log likelihood -6515.6945\n",
      "iteration 34; log likelihood -6514.4685\n",
      "iteration 35; log likelihood -6513.3833\n",
      "iteration 36; log likelihood -6512.4198\n",
      "early stopping previous_llh -6513.3833135576515, log_likelihood -6512.419844275826\n"
     ]
    },
    {
     "data": {
      "application/vnd.jupyter.widget-view+json": {
       "model_id": "e2664396d6234886909976a8dbde097c",
       "version_major": 2,
       "version_minor": 0
      },
      "text/plain": [
       "HBox(children=(IntProgress(value=0, max=2755), HTML(value='')))"
      ]
     },
     "metadata": {},
     "output_type": "display_data"
    },
    {
     "data": {
      "application/vnd.jupyter.widget-view+json": {
       "model_id": "94fb0792587c42d1815380308e25e072",
       "version_major": 2,
       "version_minor": 0
      },
      "text/plain": [
       "HBox(children=(IntProgress(value=0, max=8292), HTML(value='')))"
      ]
     },
     "metadata": {},
     "output_type": "display_data"
    },
    {
     "data": {
      "application/vnd.jupyter.widget-view+json": {
       "model_id": "cab5183808534741ba6421301c2b7f08",
       "version_major": 2,
       "version_minor": 0
      },
      "text/plain": [
       "HBox(children=(IntProgress(value=0, max=10337), HTML(value='')))"
      ]
     },
     "metadata": {},
     "output_type": "display_data"
    },
    {
     "data": {
      "application/vnd.jupyter.widget-view+json": {
       "model_id": "300167078dfd40bc9fc3325969cf3994",
       "version_major": 2,
       "version_minor": 0
      },
      "text/plain": [
       "HBox(children=(IntProgress(value=0, max=5584), HTML(value='')))"
      ]
     },
     "metadata": {},
     "output_type": "display_data"
    },
    {
     "data": {
      "application/vnd.jupyter.widget-view+json": {
       "model_id": "cf116ffb10f54262804137a80d68cc46",
       "version_major": 2,
       "version_minor": 0
      },
      "text/plain": [
       "HBox(children=(IntProgress(value=0, max=3009), HTML(value='')))"
      ]
     },
     "metadata": {},
     "output_type": "display_data"
    },
    {
     "name": "stdout",
     "output_type": "stream",
     "text": [
      "pi is fixed\n",
      "A is fixed\n",
      "iteration 0; log likelihood -49775.9855\n",
      "iteration 1; log likelihood -42714.8105\n",
      "iteration 2; log likelihood -42712.9876\n",
      "iteration 3; log likelihood -42710.7019\n",
      "iteration 4; log likelihood -42707.4447\n",
      "iteration 5; log likelihood -42702.3064\n",
      "iteration 6; log likelihood -42693.5876\n",
      "iteration 7; log likelihood -42678.0762\n",
      "iteration 8; log likelihood -42649.7653\n",
      "iteration 9; log likelihood -42597.8552\n",
      "iteration 10; log likelihood -42504.5568\n",
      "iteration 11; log likelihood -42345.1958\n",
      "iteration 12; log likelihood -42095.5000\n",
      "iteration 13; log likelihood -41748.4713\n",
      "iteration 14; log likelihood -41331.4119\n",
      "iteration 15; log likelihood -40900.5136\n",
      "iteration 16; log likelihood -40507.9906\n",
      "iteration 17; log likelihood -40178.5329\n",
      "iteration 18; log likelihood -39913.2764\n",
      "iteration 19; log likelihood -39702.7052\n",
      "iteration 20; log likelihood -39535.8120\n",
      "iteration 21; log likelihood -39403.8648\n",
      "iteration 22; log likelihood -39300.3600\n",
      "iteration 23; log likelihood -39219.8079\n",
      "iteration 24; log likelihood -39157.1613\n",
      "iteration 25; log likelihood -39107.9842\n",
      "iteration 26; log likelihood -39068.7246\n",
      "iteration 27; log likelihood -39036.7497\n",
      "iteration 28; log likelihood -39010.1902\n",
      "iteration 29; log likelihood -38987.7361\n",
      "iteration 30; log likelihood -38968.4630\n",
      "iteration 31; log likelihood -38951.7054\n",
      "iteration 32; log likelihood -38936.9659\n",
      "iteration 33; log likelihood -38923.8597\n",
      "iteration 34; log likelihood -38912.0857\n",
      "iteration 35; log likelihood -38901.4092\n",
      "iteration 36; log likelihood -38891.6478\n",
      "iteration 37; log likelihood -38882.6589\n",
      "iteration 38; log likelihood -38874.3305\n",
      "iteration 39; log likelihood -38866.5724\n",
      "iteration 40; log likelihood -38859.3103\n",
      "iteration 41; log likelihood -38852.4817\n",
      "iteration 42; log likelihood -38846.0329\n",
      "iteration 43; log likelihood -38839.9181\n",
      "iteration 44; log likelihood -38834.0986\n",
      "iteration 45; log likelihood -38828.5422\n",
      "iteration 46; log likelihood -38823.2233\n",
      "iteration 47; log likelihood -38818.1217\n",
      "iteration 48; log likelihood -38813.2218\n",
      "iteration 49; log likelihood -38808.5119\n",
      "iteration 50; log likelihood -38803.9828\n",
      "iteration 51; log likelihood -38799.6266\n",
      "iteration 52; log likelihood -38795.4366\n",
      "iteration 53; log likelihood -38791.4061\n",
      "iteration 54; log likelihood -38787.5288\n",
      "iteration 55; log likelihood -38783.7986\n",
      "iteration 56; log likelihood -38780.2098\n",
      "iteration 57; log likelihood -38776.7575\n",
      "iteration 58; log likelihood -38773.4373\n",
      "iteration 59; log likelihood -38770.2454\n",
      "iteration 60; log likelihood -38767.1787\n",
      "iteration 61; log likelihood -38764.2346\n",
      "iteration 62; log likelihood -38761.4116\n",
      "iteration 63; log likelihood -38758.7089\n",
      "iteration 64; log likelihood -38756.1269\n",
      "iteration 65; log likelihood -38753.6665\n",
      "iteration 66; log likelihood -38751.3293\n",
      "iteration 67; log likelihood -38749.1170\n",
      "iteration 68; log likelihood -38747.0307\n",
      "iteration 69; log likelihood -38745.0707\n",
      "iteration 70; log likelihood -38743.2361\n",
      "iteration 71; log likelihood -38741.5250\n",
      "iteration 72; log likelihood -38739.9339\n",
      "iteration 73; log likelihood -38738.4581\n",
      "iteration 74; log likelihood -38737.0922\n",
      "iteration 75; log likelihood -38735.8297\n",
      "iteration 76; log likelihood -38734.6637\n",
      "iteration 77; log likelihood -38733.5868\n",
      "iteration 78; log likelihood -38732.5916\n",
      "early stopping previous_llh -38733.5868129532, log_likelihood -38732.59162326974\n"
     ]
    },
    {
     "data": {
      "application/vnd.jupyter.widget-view+json": {
       "model_id": "a9a47638351745a184ef1ab83b90220d",
       "version_major": 2,
       "version_minor": 0
      },
      "text/plain": [
       "HBox(children=(IntProgress(value=0, max=3355), HTML(value='')))"
      ]
     },
     "metadata": {},
     "output_type": "display_data"
    },
    {
     "data": {
      "application/vnd.jupyter.widget-view+json": {
       "model_id": "efecc08bece54c5885fc72ba372671c2",
       "version_major": 2,
       "version_minor": 0
      },
      "text/plain": [
       "HBox(children=(IntProgress(value=0, max=112711), HTML(value='')))"
      ]
     },
     "metadata": {},
     "output_type": "display_data"
    },
    {
     "name": "stdout",
     "output_type": "stream",
     "text": [
      "pi is fixed\n",
      "A is fixed\n",
      "iteration 0; log likelihood -8766.0574\n",
      "iteration 1; log likelihood -7288.7761\n",
      "iteration 2; log likelihood -7281.6966\n",
      "iteration 3; log likelihood -7269.6989\n",
      "iteration 4; log likelihood -7243.4316\n",
      "iteration 5; log likelihood -7186.0954\n",
      "iteration 6; log likelihood -7068.3408\n",
      "iteration 7; log likelihood -6875.3836\n",
      "iteration 8; log likelihood -6655.9800\n",
      "iteration 9; log likelihood -6485.2255\n",
      "iteration 10; log likelihood -6372.9202\n",
      "iteration 11; log likelihood -6295.3782\n",
      "iteration 12; log likelihood -6237.1951\n",
      "iteration 13; log likelihood -6190.6700\n",
      "iteration 14; log likelihood -6151.5907\n",
      "iteration 15; log likelihood -6117.5221\n",
      "iteration 16; log likelihood -6087.1531\n",
      "iteration 17; log likelihood -6060.0057\n",
      "iteration 18; log likelihood -6036.0793\n",
      "iteration 19; log likelihood -6015.4393\n",
      "iteration 20; log likelihood -5997.9434\n",
      "iteration 21; log likelihood -5983.4853\n",
      "iteration 22; log likelihood -5972.1024\n",
      "iteration 23; log likelihood -5963.2671\n",
      "iteration 24; log likelihood -5956.3441\n",
      "iteration 25; log likelihood -5950.7670\n",
      "iteration 26; log likelihood -5946.0149\n",
      "iteration 27; log likelihood -5942.1768\n",
      "iteration 28; log likelihood -5939.3360\n",
      "iteration 29; log likelihood -5937.1073\n",
      "iteration 30; log likelihood -5935.3074\n",
      "iteration 31; log likelihood -5933.8343\n",
      "iteration 32; log likelihood -5932.6131\n",
      "iteration 33; log likelihood -5931.5794\n",
      "iteration 34; log likelihood -5930.6633\n",
      "early stopping previous_llh -5931.579356171736, log_likelihood -5930.663323671329\n"
     ]
    },
    {
     "data": {
      "application/vnd.jupyter.widget-view+json": {
       "model_id": "e65d5b85e3f94ad1b2c62b10bbb417f4",
       "version_major": 2,
       "version_minor": 0
      },
      "text/plain": [
       "HBox(children=(IntProgress(value=0, max=2755), HTML(value='')))"
      ]
     },
     "metadata": {},
     "output_type": "display_data"
    },
    {
     "data": {
      "application/vnd.jupyter.widget-view+json": {
       "model_id": "b5b1af6d183b46af94dd612f9e1b2e70",
       "version_major": 2,
       "version_minor": 0
      },
      "text/plain": [
       "HBox(children=(IntProgress(value=0, max=8292), HTML(value='')))"
      ]
     },
     "metadata": {},
     "output_type": "display_data"
    },
    {
     "data": {
      "application/vnd.jupyter.widget-view+json": {
       "model_id": "806ff2c7187541fb8cc974f3c78648ed",
       "version_major": 2,
       "version_minor": 0
      },
      "text/plain": [
       "HBox(children=(IntProgress(value=0, max=10337), HTML(value='')))"
      ]
     },
     "metadata": {},
     "output_type": "display_data"
    },
    {
     "data": {
      "application/vnd.jupyter.widget-view+json": {
       "model_id": "d62a931e782343ba9ba710f6af865980",
       "version_major": 2,
       "version_minor": 0
      },
      "text/plain": [
       "HBox(children=(IntProgress(value=0, max=5584), HTML(value='')))"
      ]
     },
     "metadata": {},
     "output_type": "display_data"
    },
    {
     "data": {
      "application/vnd.jupyter.widget-view+json": {
       "model_id": "a7036f9cd3544fb89c620149df35bdee",
       "version_major": 2,
       "version_minor": 0
      },
      "text/plain": [
       "HBox(children=(IntProgress(value=0, max=3009), HTML(value='')))"
      ]
     },
     "metadata": {},
     "output_type": "display_data"
    },
    {
     "name": "stdout",
     "output_type": "stream",
     "text": [
      "pi is fixed\n",
      "A is fixed\n",
      "iteration 0; log likelihood -11458.6576\n",
      "iteration 1; log likelihood -9834.8387\n",
      "iteration 2; log likelihood -9829.1402\n",
      "iteration 3; log likelihood -9822.7550\n",
      "iteration 4; log likelihood -9814.5293\n",
      "iteration 5; log likelihood -9802.5045\n",
      "iteration 6; log likelihood -9783.2491\n",
      "iteration 7; log likelihood -9750.9957\n",
      "iteration 8; log likelihood -9697.2079\n",
      "iteration 9; log likelihood -9611.5825\n",
      "iteration 10; log likelihood -9483.1786\n",
      "iteration 11; log likelihood -9300.4016\n",
      "iteration 12; log likelihood -9067.8062\n",
      "iteration 13; log likelihood -8832.3810\n",
      "iteration 14; log likelihood -8635.8319\n",
      "iteration 15; log likelihood -8477.4599\n",
      "iteration 16; log likelihood -8352.9442\n",
      "iteration 17; log likelihood -8260.8261\n",
      "iteration 18; log likelihood -8194.9259\n",
      "iteration 19; log likelihood -8148.1053\n",
      "iteration 20; log likelihood -8114.9642\n",
      "iteration 21; log likelihood -8091.5758\n",
      "iteration 22; log likelihood -8074.9747\n",
      "iteration 23; log likelihood -8062.9897\n",
      "iteration 24; log likelihood -8054.1158\n",
      "iteration 25; log likelihood -8047.3467\n",
      "iteration 26; log likelihood -8042.0502\n",
      "iteration 27; log likelihood -8037.8629\n",
      "iteration 28; log likelihood -8034.5523\n",
      "iteration 29; log likelihood -8031.9210\n",
      "iteration 30; log likelihood -8029.8002\n",
      "iteration 31; log likelihood -8028.0546\n",
      "iteration 32; log likelihood -8026.5750\n",
      "iteration 33; log likelihood -8025.2756\n",
      "iteration 34; log likelihood -8024.1094\n",
      "iteration 35; log likelihood -8023.0799\n",
      "iteration 36; log likelihood -8022.2130\n",
      "early stopping previous_llh -8023.079930835385, log_likelihood -8022.213033993677\n"
     ]
    },
    {
     "data": {
      "application/vnd.jupyter.widget-view+json": {
       "model_id": "0b84ed0bb59d48d2adf3cf63cb35db3f",
       "version_major": 2,
       "version_minor": 0
      },
      "text/plain": [
       "HBox(children=(IntProgress(value=0, max=3355), HTML(value='')))"
      ]
     },
     "metadata": {},
     "output_type": "display_data"
    },
    {
     "data": {
      "application/vnd.jupyter.widget-view+json": {
       "model_id": "c7b9b443ce394ea69fa23667e14bd421",
       "version_major": 2,
       "version_minor": 0
      },
      "text/plain": [
       "HBox(children=(IntProgress(value=0, max=112711), HTML(value='')))"
      ]
     },
     "metadata": {},
     "output_type": "display_data"
    },
    {
     "name": "stdout",
     "output_type": "stream",
     "text": [
      "pi is fixed\n",
      "A is fixed\n",
      "iteration 0; log likelihood -13296.6645\n",
      "iteration 1; log likelihood -11533.4804\n",
      "iteration 2; log likelihood -11529.1342\n",
      "iteration 3; log likelihood -11523.9116\n",
      "iteration 4; log likelihood -11516.8096\n",
      "iteration 5; log likelihood -11506.1049\n",
      "iteration 6; log likelihood -11488.8696\n",
      "iteration 7; log likelihood -11460.5050\n",
      "iteration 8; log likelihood -11414.9983\n",
      "iteration 9; log likelihood -11346.9127\n",
      "iteration 10; log likelihood -11254.0565\n",
      "iteration 11; log likelihood -11135.6227\n",
      "iteration 12; log likelihood -10981.9768\n",
      "iteration 13; log likelihood -10768.2970\n",
      "iteration 14; log likelihood -10494.2513\n",
      "iteration 15; log likelihood -10219.0481\n",
      "iteration 16; log likelihood -9986.6337\n",
      "iteration 17; log likelihood -9808.0463\n",
      "iteration 18; log likelihood -9679.4305\n",
      "iteration 19; log likelihood -9588.8554\n",
      "iteration 20; log likelihood -9526.4378\n",
      "iteration 21; log likelihood -9484.2515\n",
      "iteration 22; log likelihood -9455.7237\n",
      "iteration 23; log likelihood -9435.9127\n",
      "iteration 24; log likelihood -9421.4324\n",
      "iteration 25; log likelihood -9410.5735\n",
      "iteration 26; log likelihood -9402.5894\n",
      "iteration 27; log likelihood -9396.7472\n",
      "iteration 28; log likelihood -9392.3810\n",
      "iteration 29; log likelihood -9389.0289\n",
      "iteration 30; log likelihood -9386.3929\n",
      "iteration 31; log likelihood -9384.2716\n",
      "iteration 32; log likelihood -9382.5234\n",
      "iteration 33; log likelihood -9381.0515\n",
      "iteration 34; log likelihood -9379.7954\n",
      "iteration 35; log likelihood -9378.7188\n",
      "iteration 36; log likelihood -9377.7948\n",
      "early stopping previous_llh -9378.718805075861, log_likelihood -9377.794834107455\n"
     ]
    },
    {
     "data": {
      "application/vnd.jupyter.widget-view+json": {
       "model_id": "1e54d1089e6044bebbae616f84651c54",
       "version_major": 2,
       "version_minor": 0
      },
      "text/plain": [
       "HBox(children=(IntProgress(value=0, max=3355), HTML(value='')))"
      ]
     },
     "metadata": {},
     "output_type": "display_data"
    },
    {
     "data": {
      "application/vnd.jupyter.widget-view+json": {
       "model_id": "1e4d04963f324aa7834633d24492bef5",
       "version_major": 2,
       "version_minor": 0
      },
      "text/plain": [
       "HBox(children=(IntProgress(value=0, max=112711), HTML(value='')))"
      ]
     },
     "metadata": {},
     "output_type": "display_data"
    },
    {
     "name": "stdout",
     "output_type": "stream",
     "text": [
      "pi is fixed\n",
      "A is fixed\n",
      "iteration 0; log likelihood -11951.4334\n",
      "iteration 1; log likelihood -10197.7929\n",
      "iteration 2; log likelihood -10192.7331\n",
      "iteration 3; log likelihood -10186.6003\n",
      "iteration 4; log likelihood -10178.5124\n",
      "iteration 5; log likelihood -10167.1170\n",
      "iteration 6; log likelihood -10150.3888\n",
      "iteration 7; log likelihood -10125.5839\n",
      "iteration 8; log likelihood -10089.7367\n",
      "iteration 9; log likelihood -10040.9300\n",
      "iteration 10; log likelihood -9979.2390\n",
      "iteration 11; log likelihood -9904.6545\n",
      "iteration 12; log likelihood -9810.6139\n",
      "iteration 13; log likelihood -9677.7124\n",
      "iteration 14; log likelihood -9489.2173\n",
      "iteration 15; log likelihood -9277.5098\n",
      "iteration 16; log likelihood -9094.1681\n",
      "iteration 17; log likelihood -8943.5232\n",
      "iteration 18; log likelihood -8814.0284\n",
      "iteration 19; log likelihood -8706.6276\n",
      "iteration 20; log likelihood -8624.5057\n",
      "iteration 21; log likelihood -8565.4940\n",
      "iteration 22; log likelihood -8524.2820\n",
      "iteration 23; log likelihood -8495.3134\n",
      "iteration 24; log likelihood -8474.4914\n",
      "iteration 25; log likelihood -8459.5186\n",
      "iteration 26; log likelihood -8448.7649\n",
      "iteration 27; log likelihood -8440.9102\n",
      "iteration 28; log likelihood -8435.0563\n",
      "iteration 29; log likelihood -8430.6195\n",
      "iteration 30; log likelihood -8427.2019\n",
      "iteration 31; log likelihood -8424.5258\n",
      "iteration 32; log likelihood -8422.3979\n",
      "iteration 33; log likelihood -8420.6831\n",
      "iteration 34; log likelihood -8419.2853\n",
      "iteration 35; log likelihood -8418.1346\n",
      "iteration 36; log likelihood -8417.1790\n",
      "early stopping previous_llh -8418.134619677976, log_likelihood -8417.179049856677\n"
     ]
    },
    {
     "data": {
      "application/vnd.jupyter.widget-view+json": {
       "model_id": "108fc349aebb4315a1a0596714eda4a0",
       "version_major": 2,
       "version_minor": 0
      },
      "text/plain": [
       "HBox(children=(IntProgress(value=0, max=3355), HTML(value='')))"
      ]
     },
     "metadata": {},
     "output_type": "display_data"
    },
    {
     "data": {
      "application/vnd.jupyter.widget-view+json": {
       "model_id": "02cdfa23541144cebbdd1b0827baf8d5",
       "version_major": 2,
       "version_minor": 0
      },
      "text/plain": [
       "HBox(children=(IntProgress(value=0, max=112711), HTML(value='')))"
      ]
     },
     "metadata": {},
     "output_type": "display_data"
    },
    {
     "name": "stdout",
     "output_type": "stream",
     "text": [
      "pi is fixed\n",
      "A is fixed\n",
      "iteration 0; log likelihood -12087.8863\n",
      "iteration 1; log likelihood -10425.6340\n",
      "iteration 2; log likelihood -10414.1728\n",
      "iteration 3; log likelihood -10400.7130\n",
      "iteration 4; log likelihood -10382.3546\n",
      "iteration 5; log likelihood -10354.5472\n",
      "iteration 6; log likelihood -10310.6183\n",
      "iteration 7; log likelihood -10242.5469\n",
      "iteration 8; log likelihood -10143.6626\n",
      "iteration 9; log likelihood -10010.5171\n",
      "iteration 10; log likelihood -9841.0102\n",
      "iteration 11; log likelihood -9639.8194\n",
      "iteration 12; log likelihood -9435.3972\n",
      "iteration 13; log likelihood -9262.8650\n",
      "iteration 14; log likelihood -9127.5356\n",
      "iteration 15; log likelihood -9016.7499\n",
      "iteration 16; log likelihood -8921.8371\n",
      "iteration 17; log likelihood -8842.3876\n",
      "iteration 18; log likelihood -8779.3327\n",
      "iteration 19; log likelihood -8730.7606\n",
      "iteration 20; log likelihood -8693.5743\n",
      "iteration 21; log likelihood -8665.1298\n",
      "iteration 22; log likelihood -8643.4481\n",
      "iteration 23; log likelihood -8626.8097\n",
      "iteration 24; log likelihood -8613.2251\n",
      "iteration 25; log likelihood -8601.6080\n",
      "iteration 26; log likelihood -8592.9878\n",
      "iteration 27; log likelihood -8586.7214\n",
      "iteration 28; log likelihood -8581.9420\n",
      "iteration 29; log likelihood -8578.0895\n",
      "iteration 30; log likelihood -8574.8584\n",
      "iteration 31; log likelihood -8572.1227\n",
      "iteration 32; log likelihood -8569.8243\n",
      "iteration 33; log likelihood -8567.9074\n",
      "iteration 34; log likelihood -8566.3084\n",
      "iteration 35; log likelihood -8564.9652\n",
      "iteration 36; log likelihood -8563.8249\n",
      "iteration 37; log likelihood -8562.8450\n",
      "early stopping previous_llh -8563.824931262085, log_likelihood -8562.845029080898\n"
     ]
    },
    {
     "data": {
      "application/vnd.jupyter.widget-view+json": {
       "model_id": "f9437c901f0f4c0c86a92602c285aa2d",
       "version_major": 2,
       "version_minor": 0
      },
      "text/plain": [
       "HBox(children=(IntProgress(value=0, max=3355), HTML(value='')))"
      ]
     },
     "metadata": {},
     "output_type": "display_data"
    },
    {
     "data": {
      "application/vnd.jupyter.widget-view+json": {
       "model_id": "ae068d8a6ba84cf3a2b3cbcc6dbdc5d0",
       "version_major": 2,
       "version_minor": 0
      },
      "text/plain": [
       "HBox(children=(IntProgress(value=0, max=112711), HTML(value='')))"
      ]
     },
     "metadata": {},
     "output_type": "display_data"
    },
    {
     "name": "stdout",
     "output_type": "stream",
     "text": [
      "pi is fixed\n",
      "A is fixed\n",
      "iteration 0; log likelihood -12047.1969\n",
      "iteration 1; log likelihood -10426.7504\n",
      "iteration 2; log likelihood -10419.4942\n",
      "iteration 3; log likelihood -10410.5731\n",
      "iteration 4; log likelihood -10398.5474\n",
      "iteration 5; log likelihood -10381.2310\n",
      "iteration 6; log likelihood -10355.4900\n",
      "iteration 7; log likelihood -10317.4584\n",
      "iteration 8; log likelihood -10263.6838\n",
      "iteration 9; log likelihood -10193.1794\n",
      "iteration 10; log likelihood -10109.2741\n",
      "iteration 11; log likelihood -10019.7588\n",
      "iteration 12; log likelihood -9934.0331\n",
      "iteration 13; log likelihood -9858.3988\n",
      "iteration 14; log likelihood -9793.9377\n",
      "iteration 15; log likelihood -9738.3097\n",
      "iteration 16; log likelihood -9688.7707\n",
      "iteration 17; log likelihood -9643.4007\n",
      "iteration 18; log likelihood -9600.8808\n",
      "iteration 19; log likelihood -9560.5759\n",
      "iteration 20; log likelihood -9522.2347\n",
      "iteration 21; log likelihood -9485.2196\n",
      "iteration 22; log likelihood -9448.2614\n",
      "iteration 23; log likelihood -9409.9234\n",
      "iteration 24; log likelihood -9369.1883\n",
      "iteration 25; log likelihood -9325.7381\n",
      "iteration 26; log likelihood -9279.6810\n",
      "iteration 27; log likelihood -9230.1071\n",
      "iteration 28; log likelihood -9172.3229\n",
      "iteration 29; log likelihood -9103.2346\n",
      "iteration 30; log likelihood -9020.1761\n",
      "iteration 31; log likelihood -8920.4187\n",
      "iteration 32; log likelihood -8810.2864\n",
      "iteration 33; log likelihood -8724.7399\n",
      "iteration 34; log likelihood -8671.1470\n",
      "iteration 35; log likelihood -8643.0608\n",
      "iteration 36; log likelihood -8628.3389\n",
      "iteration 37; log likelihood -8618.8261\n",
      "iteration 38; log likelihood -8610.8142\n",
      "iteration 39; log likelihood -8604.4640\n",
      "iteration 40; log likelihood -8599.3415\n",
      "iteration 41; log likelihood -8594.4721\n",
      "iteration 42; log likelihood -8590.8253\n",
      "iteration 43; log likelihood -8588.2727\n",
      "iteration 44; log likelihood -8586.2395\n",
      "iteration 45; log likelihood -8584.4771\n",
      "iteration 46; log likelihood -8582.8202\n",
      "iteration 47; log likelihood -8581.2982\n",
      "iteration 48; log likelihood -8580.0546\n",
      "iteration 49; log likelihood -8579.0830\n",
      "early stopping previous_llh -8580.054626846382, log_likelihood -8579.083001051404\n"
     ]
    },
    {
     "data": {
      "application/vnd.jupyter.widget-view+json": {
       "model_id": "5fa0921898334cd0a200777713773fb1",
       "version_major": 2,
       "version_minor": 0
      },
      "text/plain": [
       "HBox(children=(IntProgress(value=0, max=3355), HTML(value='')))"
      ]
     },
     "metadata": {},
     "output_type": "display_data"
    },
    {
     "data": {
      "application/vnd.jupyter.widget-view+json": {
       "model_id": "d72ac680ace3484db43539ff31c14fbd",
       "version_major": 2,
       "version_minor": 0
      },
      "text/plain": [
       "HBox(children=(IntProgress(value=0, max=112711), HTML(value='')))"
      ]
     },
     "metadata": {},
     "output_type": "display_data"
    },
    {
     "name": "stdout",
     "output_type": "stream",
     "text": [
      "pi is fixed\n",
      "A is fixed\n",
      "iteration 0; log likelihood -13294.8651\n",
      "iteration 1; log likelihood -11453.2922\n",
      "iteration 2; log likelihood -11447.2731\n",
      "iteration 3; log likelihood -11438.5068\n",
      "iteration 4; log likelihood -11424.1483\n",
      "iteration 5; log likelihood -11399.1221\n",
      "iteration 6; log likelihood -11355.5465\n",
      "iteration 7; log likelihood -11285.0976\n",
      "iteration 8; log likelihood -11185.7628\n",
      "iteration 9; log likelihood -11063.7211\n",
      "iteration 10; log likelihood -10919.8033\n",
      "iteration 11; log likelihood -10735.6244\n",
      "iteration 12; log likelihood -10496.7694\n",
      "iteration 13; log likelihood -10247.3256\n",
      "iteration 14; log likelihood -10046.1824\n",
      "iteration 15; log likelihood -9897.3186\n",
      "iteration 16; log likelihood -9782.2876\n",
      "iteration 17; log likelihood -9689.0971\n",
      "iteration 18; log likelihood -9612.6565\n",
      "iteration 19; log likelihood -9549.3595\n",
      "iteration 20; log likelihood -9497.5571\n",
      "iteration 21; log likelihood -9459.0681\n",
      "iteration 22; log likelihood -9431.9822\n",
      "iteration 23; log likelihood -9412.8632\n",
      "iteration 24; log likelihood -9399.1623\n",
      "iteration 25; log likelihood -9389.2025\n",
      "iteration 26; log likelihood -9381.8643\n",
      "iteration 27; log likelihood -9376.3813\n",
      "iteration 28; log likelihood -9372.2163\n",
      "iteration 29; log likelihood -9368.9881\n",
      "iteration 30; log likelihood -9366.4287\n",
      "iteration 31; log likelihood -9364.3548\n",
      "iteration 32; log likelihood -9362.6461\n",
      "iteration 33; log likelihood -9361.2245\n",
      "iteration 34; log likelihood -9360.0365\n",
      "iteration 35; log likelihood -9359.0412\n",
      "early stopping previous_llh -9360.036481849265, log_likelihood -9359.04117445694\n"
     ]
    },
    {
     "data": {
      "application/vnd.jupyter.widget-view+json": {
       "model_id": "ab008f6ae71244029865378093a1c0ea",
       "version_major": 2,
       "version_minor": 0
      },
      "text/plain": [
       "HBox(children=(IntProgress(value=0, max=3355), HTML(value='')))"
      ]
     },
     "metadata": {},
     "output_type": "display_data"
    },
    {
     "data": {
      "application/vnd.jupyter.widget-view+json": {
       "model_id": "09ff963484de426abdd6115e8e8f65d9",
       "version_major": 2,
       "version_minor": 0
      },
      "text/plain": [
       "HBox(children=(IntProgress(value=0, max=112711), HTML(value='')))"
      ]
     },
     "metadata": {},
     "output_type": "display_data"
    }
   ],
   "source": [
    "origins = []\n",
    "for ciphertext in tqdm(list(encrypted_path.iterdir())):\n",
    "    if ciphertext.suffix != '.txt':\n",
    "        continue\n",
    "    \n",
    "    encrypted_sequences, language = bilingual_load_sequences(ciphertext)\n",
    "    decoded_tokens, decoded_text = decode(encrypted_sequences, language)\n",
    "    \n",
    "    output_name = ciphertext.name.replace('en', 'de')\n",
    "    output_path = decrypted_path / output_name\n",
    "    with open(output_path, 'w+') as f:\n",
    "        f.write('\\n'.join(decoded_text))\n",
    "    \n",
    "    origin_file = find_origin(decoded_tokens, language)\n",
    "    origins.append((ciphertext.name, origin_file))"
   ]
  },
  {
   "cell_type": "code",
   "execution_count": 327,
   "metadata": {},
   "outputs": [],
   "source": [
    "origins = sorted(origins)\n",
    "origins_str = [f'{enc} {orig}'for enc, orig in origins]"
   ]
  },
  {
   "cell_type": "code",
   "execution_count": 328,
   "metadata": {},
   "outputs": [],
   "source": [
    "with open('authors.txt', 'w+') as f:\n",
    "    f.write('\\n'.join(origins_str))"
   ]
  },
  {
   "cell_type": "code",
   "execution_count": 329,
   "metadata": {},
   "outputs": [
    {
     "name": "stdout",
     "output_type": "stream",
     "text": [
      "decrypted/0_decrypted.txt\n",
      "decrypted/100_decrypted.txt\n",
      "decrypted/101_decrypted.txt\n",
      "decrypted/102_decrypted.txt\n",
      "decrypted/103_decrypted.txt\n",
      "decrypted/104_decrypted.txt\n",
      "decrypted/105_decrypted.txt\n",
      "decrypted/106_decrypted.txt\n",
      "decrypted/107_decrypted.txt\n",
      "decrypted/108_decrypted.txt\n",
      "decrypted/109_decrypted.txt\n",
      "decrypted/10_decrypted.txt\n",
      "decrypted/110_decrypted.txt\n",
      "decrypted/111_decrypted.txt\n",
      "decrypted/112_decrypted.txt\n",
      "decrypted/113_decrypted.txt\n",
      "decrypted/114_decrypted.txt\n",
      "decrypted/115_decrypted.txt\n",
      "decrypted/116_decrypted.txt\n",
      "decrypted/117_decrypted.txt\n",
      "decrypted/118_decrypted.txt\n",
      "decrypted/119_decrypted.txt\n",
      "decrypted/11_decrypted.txt\n",
      "decrypted/120_decrypted.txt\n",
      "decrypted/121_decrypted.txt\n",
      "decrypted/122_decrypted.txt\n",
      "decrypted/123_decrypted.txt\n",
      "decrypted/124_decrypted.txt\n",
      "decrypted/125_decrypted.txt\n",
      "decrypted/126_decrypted.txt\n",
      "decrypted/127_decrypted.txt\n",
      "decrypted/128_decrypted.txt\n",
      "decrypted/129_decrypted.txt\n",
      "decrypted/12_decrypted.txt\n",
      "decrypted/130_decrypted.txt\n",
      "decrypted/131_decrypted.txt\n",
      "decrypted/132_decrypted.txt\n",
      "decrypted/133_decrypted.txt\n",
      "decrypted/134_decrypted.txt\n",
      "decrypted/135_decrypted.txt\n",
      "decrypted/136_decrypted.txt\n",
      "decrypted/137_decrypted.txt\n",
      "decrypted/138_decrypted.txt\n",
      "decrypted/139_decrypted.txt\n",
      "decrypted/13_decrypted.txt\n",
      "decrypted/140_decrypted.txt\n",
      "decrypted/141_decrypted.txt\n",
      "decrypted/142_decrypted.txt\n",
      "decrypted/14_decrypted.txt\n",
      "decrypted/15_decrypted.txt\n",
      "decrypted/16_decrypted.txt\n",
      "decrypted/17_decrypted.txt\n",
      "decrypted/18_decrypted.txt\n",
      "decrypted/19_decrypted.txt\n",
      "decrypted/1_decrypted.txt\n",
      "decrypted/20_decrypted.txt\n",
      "decrypted/21_decrypted.txt\n",
      "decrypted/22_decrypted.txt\n",
      "decrypted/23_decrypted.txt\n",
      "decrypted/24_decrypted.txt\n",
      "decrypted/25_decrypted.txt\n",
      "decrypted/26_decrypted.txt\n",
      "decrypted/27_decrypted.txt\n",
      "decrypted/28_decrypted.txt\n",
      "decrypted/29_decrypted.txt\n",
      "decrypted/2_decrypted.txt\n",
      "decrypted/30_decrypted.txt\n",
      "decrypted/31_decrypted.txt\n",
      "decrypted/32_decrypted.txt\n",
      "decrypted/33_decrypted.txt\n",
      "decrypted/34_decrypted.txt\n",
      "decrypted/35_decrypted.txt\n",
      "decrypted/36_decrypted.txt\n",
      "decrypted/37_decrypted.txt\n",
      "decrypted/38_decrypted.txt\n",
      "decrypted/39_decrypted.txt\n",
      "decrypted/3_decrypted.txt\n",
      "decrypted/40_decrypted.txt\n",
      "decrypted/41_decrypted.txt\n",
      "decrypted/42_decrypted.txt\n",
      "decrypted/43_decrypted.txt\n",
      "decrypted/44_decrypted.txt\n",
      "decrypted/45_decrypted.txt\n",
      "decrypted/46_decrypted.txt\n",
      "decrypted/47_decrypted.txt\n",
      "decrypted/48_decrypted.txt\n",
      "decrypted/49_decrypted.txt\n",
      "decrypted/4_decrypted.txt\n",
      "decrypted/50_decrypted.txt\n",
      "decrypted/51_decrypted.txt\n",
      "decrypted/52_decrypted.txt\n",
      "decrypted/53_decrypted.txt\n",
      "decrypted/54_decrypted.txt\n",
      "decrypted/55_decrypted.txt\n",
      "decrypted/56_decrypted.txt\n",
      "decrypted/57_decrypted.txt\n",
      "decrypted/58_decrypted.txt\n",
      "decrypted/59_decrypted.txt\n",
      "decrypted/5_decrypted.txt\n",
      "decrypted/60_decrypted.txt\n",
      "decrypted/61_decrypted.txt\n",
      "decrypted/62_decrypted.txt\n",
      "decrypted/63_decrypted.txt\n",
      "decrypted/64_decrypted.txt\n",
      "decrypted/65_decrypted.txt\n",
      "decrypted/66_decrypted.txt\n",
      "decrypted/67_decrypted.txt\n",
      "decrypted/68_decrypted.txt\n",
      "decrypted/69_decrypted.txt\n",
      "decrypted/6_decrypted.txt\n",
      "decrypted/70_decrypted.txt\n",
      "decrypted/71_decrypted.txt\n",
      "decrypted/72_decrypted.txt\n",
      "decrypted/73_decrypted.txt\n",
      "decrypted/74_decrypted.txt\n",
      "decrypted/75_decrypted.txt\n",
      "decrypted/76_decrypted.txt\n",
      "decrypted/77_decrypted.txt\n",
      "decrypted/78_decrypted.txt\n",
      "decrypted/79_decrypted.txt\n",
      "decrypted/7_decrypted.txt\n",
      "decrypted/80_decrypted.txt\n",
      "decrypted/81_decrypted.txt\n",
      "decrypted/82_decrypted.txt\n",
      "decrypted/83_decrypted.txt\n",
      "decrypted/84_decrypted.txt\n",
      "decrypted/85_decrypted.txt\n",
      "decrypted/86_decrypted.txt\n",
      "decrypted/87_decrypted.txt\n",
      "decrypted/88_decrypted.txt\n",
      "decrypted/89_decrypted.txt\n",
      "decrypted/8_decrypted.txt\n",
      "decrypted/90_decrypted.txt\n",
      "decrypted/91_decrypted.txt\n",
      "decrypted/92_decrypted.txt\n",
      "decrypted/93_decrypted.txt\n",
      "decrypted/94_decrypted.txt\n",
      "decrypted/95_decrypted.txt\n",
      "decrypted/96_decrypted.txt\n",
      "decrypted/97_decrypted.txt\n",
      "decrypted/98_decrypted.txt\n",
      "decrypted/99_decrypted.txt\n",
      "decrypted/9_decrypted.txt\n"
     ]
    }
   ],
   "source": [
    "!tar -cvzf results.tar.gz decrypted/*.txt"
   ]
  },
  {
   "cell_type": "markdown",
   "metadata": {},
   "source": [
    "#### End of actual hometask, below code was used for debug/testing"
   ]
  },
  {
   "cell_type": "markdown",
   "metadata": {},
   "source": [
    "---"
   ]
  },
  {
   "cell_type": "code",
   "execution_count": null,
   "metadata": {},
   "outputs": [],
   "source": [
    "assert(False), 'do not go gentle into that good night'"
   ]
  },
  {
   "cell_type": "code",
   "execution_count": null,
   "metadata": {},
   "outputs": [],
   "source": [
    "# sequence = [1, 2, 3, 27]\n",
    "# num_states = 27\n",
    "# num_output_states = 28\n",
    "\n",
    "# alpha = np.random.rand(num_states, len(sequence))\n",
    "# prev_alpha = np.random.rand(num_states, 1)\n",
    "# A = np.random.rand(num_states, num_states)\n",
    "# B = np.random.rand(num_states, num_output_states)\n",
    "\n",
    "def multiply_non_numpy_way(alpha, A, B, sequence):\n",
    "    num_states = len(alpha)\n",
    "    \n",
    "    res = np.zeros((num_states, len(sequence)))\n",
    "    for t, xt in enumerate(sequence):\n",
    "        for i in range(num_states):\n",
    "            for j in range(num_states):\n",
    "                res[i, t] += alpha[j, t] * A[i, j] * B[i, xt]\n",
    "    return res\n",
    "\n",
    "def multiply_numpy_way(alpha, A, B, sequence):\n",
    "    num_states = len(alpha)\n",
    "    \n",
    "    res = np.zeros((num_states, len(sequence)))\n",
    "    for t, xt in enumerate(sequence):\n",
    "        res[:, t] = A.dot(alpha[:, t]) * B[:, xt]\n",
    "    return res\n",
    "\n",
    "try:\n",
    "    np.allclose(multiply_numpy_way(alpha, A, B, sequence), multiply_non_numpy_way(alpha, A, B, sequence))\n",
    "except NameError:\n",
    "    print('skip check')\n",
    "    \n",
    "def multiply_non_numpy_way_prev(prev_alpha, A, B, sequence):\n",
    "    num_states = len(prev_alpha)\n",
    "    \n",
    "    res = np.zeros((num_states, len(sequence)))\n",
    "    for t, xt in enumerate(sequence):\n",
    "        for i in range(num_states):\n",
    "            for j in range(num_states):\n",
    "                res[i, t] += prev_alpha[j, 0] * A[i, j] * B[i, xt]\n",
    "        prev_alpha = res[:, t].reshape(-1, 1)\n",
    "        \n",
    "    return res\n",
    "\n",
    "def multiply_numpy_way_prev(prev_alpha, A, B, sequence):\n",
    "    num_states = len(alpha)\n",
    "    \n",
    "    res = np.zeros((num_states, len(sequence)))\n",
    "    for t, xt in enumerate(sequence):\n",
    "        res[:, t] = A.dot(prev_alpha).flatten() * B[:, xt]\n",
    "        prev_alpha = res[:, t].copy()\n",
    "        \n",
    "    return res\n",
    "\n",
    "try:\n",
    "    np.allclose(multiply_non_numpy_way_prev(prev_alpha, A, B, sequence), multiply_numpy_way_prev(prev_alpha, A, B, sequence))\n",
    "except NameError:\n",
    "    print('skip check')\n",
    "    \n",
    "\n",
    "def B_non_numpy_way(beta, A, B, sequence):\n",
    "    num_states = len(beta)\n",
    "    res = np.zeros((num_states, len(sequence)))\n",
    "    \n",
    "    for t, xt in enumerate(sequence):\n",
    "        for i in range(num_states):\n",
    "            for j in range(num_states):\n",
    "                res[i, t] += beta[j, t] * A[j, i] * B[j, xt]\n",
    "    return res\n",
    "\n",
    "def B_numpy_way(beta, A, B, sequence):\n",
    "    num_states = len(beta)\n",
    "    res = np.zeros((num_states, len(sequence)))\n",
    "    \n",
    "    for t, xt in enumerate(sequence):\n",
    "#         res[i, t] += beta[j,t] * A[j,i] * B[j, xt]\n",
    "        res[:, t] = (beta[:,t] * B[:, xt]).dot(A)\n",
    "    return res\n",
    "\n",
    "\n",
    "try:\n",
    "    assert(np.allclose(B_numpy_way(beta, A, B, sequence), B_non_numpy_way(beta, A, B, sequence)))\n",
    "except NameError:\n",
    "    print('skip check')"
   ]
  },
  {
   "cell_type": "code",
   "execution_count": null,
   "metadata": {},
   "outputs": [],
   "source": [
    "# divide classes for clarity\n",
    "class HMM(HMM_base):        \n",
    "    def forward_backward(self, sequence):\n",
    "        # alpha[i][t] = p(x_1, ..., x_t, z_t = i)\n",
    "        alpha, alpha_norms = self.forward(sequence)\n",
    "        \n",
    "        # beta[i][t] = p(x_t+1, ..., x_T|z_t = i)\n",
    "        beta = self.backward(sequence, alpha_norms)\n",
    "\n",
    "        # gamma[i][t] = p(z_t = i|x_1, ..., x_T)\n",
    "        gamma = (alpha * beta) / np.sum(alpha * beta, 0)# * (alpha_norms.T ** 2)\n",
    "        # gamma is normalized -> no need to apply alpha_norms\n",
    "\n",
    "        # xi[i][j] = p(z_t = i, z_{t+1} = j|x_1, ..., x_T)\n",
    "        xi = np.zeros_like(self.A)\n",
    "        for t in range(1, len(sequence)-1):\n",
    "            this_xi = alpha[:, t].reshape(-1, 1) * self.A * beta[:, t+1] * self.B[:, sequence[t+1]]\n",
    "            xi += this_xi / np.sum(this_xi)\n",
    "        \n",
    "        # * alpha_norms[len(sequence)-1]\n",
    "        log_likelihood = np.log(np.sum(alpha[:, len(sequence)-1]))\n",
    "        return alpha, beta, gamma, xi, log_likelihood\n",
    "    \n",
    "    def forward(self, sequence, scale=False):\n",
    "        # alpha[i][t] = p(x_1, ..., x_t, z_t = i)\n",
    "        alpha = np.zeros((len(self.pi), len(sequence)))\n",
    "        alpha_norms = np.zeros(len(sequence)) if scale else None\n",
    "        \n",
    "        for t, xt in enumerate(sequence):\n",
    "            if t == 0:\n",
    "                prev_alpha = self.pi * self.B[:, xt]\n",
    "                alpha_initialized = True\n",
    "            else:\n",
    "#                 prev_alpha = self.A.T.dot(prev_alpha).flatten() * self.B[:, xt]\n",
    "#                 prev_alpha = (self.A.T * prev_alpha).sum(axis=1) * self.B[:, xt]\n",
    "                prev_alpha = (np.exp(np.log(self.A.T) + np.log(prev_alpha))).sum(axis=1)\n",
    "                prev_alpha = np.log(prev_alpha) + np.log(self.B[:, xt])\n",
    "                prev_alpha = np.exp(prev_alpha)\n",
    "#                 prev_beta = prev_beta.sum(axis=1)\n",
    "            \n",
    "            alpha_norm = np.sum(prev_alpha)\n",
    "            \n",
    "            if scale:\n",
    "                prev_alpha = prev_alpha / alpha_norm\n",
    "                alpha_norms[t] = alpha_norm\n",
    "                \n",
    "            alpha[:, t] = prev_alpha.copy()\n",
    "            \n",
    "        \n",
    "        assert(alpha_initialized)\n",
    "        return alpha, alpha_norms\n",
    "    \n",
    "    def backward(self, sequence, alpha_norms=None):\n",
    "        # beta[i][t] = p(x_t+1, ..., x_T|z_t = i)\n",
    "        num_states = len(self.pi)\n",
    "        beta = np.zeros((num_states, len(sequence)))\n",
    "    \n",
    "        for ind, xt in enumerate(sequence[::-1]):\n",
    "            t = len(sequence) - ind - 1\n",
    "            if ind == 0:\n",
    "                prev_beta = np.ones(num_states)\n",
    "                beta_initialized = True\n",
    "            else:\n",
    "#                 prev_beta = (prev_beta * self.B[:, xt_plus1]).dot(self.A.T)\n",
    "                prev_beta = np.log1p(prev_beta) + np.log1p(self.B[:, xt_plus1]) + np.log1p(self.A)\n",
    "                prev_beta = np.exp(prev_beta)\n",
    "                prev_beta = prev_beta.sum(axis=1)\n",
    "                \n",
    "            \n",
    "            if alpha_norms is not None:\n",
    "                prev_beta = prev_beta / alpha_norms[t]\n",
    "            beta[:, t] = prev_beta.copy()\n",
    "            xt_plus1 = xt\n",
    "    \n",
    "        assert(beta_initialized)\n",
    "        \n",
    "        return beta\n",
    "\n",
    "    def output(self, sequences):\n",
    "        # Output some decoded states. \n",
    "        for i, sequence in enumerate(sequences):\n",
    "            \n",
    "            observations = [self.observations_to_char_mapping[x] for x in sequence]                \n",
    "            map_states = [self.states_to_char_mapping[x] for x in self.max_posterior_decode(sequence)]\n",
    "            print('(states):       %s\\n(observations): %s' % (''.join(map_states), ''.join(observations)))\n"
   ]
  },
  {
   "cell_type": "code",
   "execution_count": null,
   "metadata": {},
   "outputs": [],
   "source": [
    "# class HMM_cycles(HMM):\n",
    "#     def forward(self, sequence):\n",
    "#         # alpha[i][t] = p(x_1, ..., x_t, z_t = i)\n",
    "#         alpha = np.zeros((len(self.pi), len(sequence)))\n",
    "        \n",
    "#         num_states = len(self.pi)\n",
    "#         for t, xt in enumerate(sequence):\n",
    "#             if t == 0:\n",
    "#                 alpha[:, 0] = self.pi * self.B[:, xt]\n",
    "#                 alpha_initialized = True\n",
    "#             else:\n",
    "#                 for i in range(num_states):\n",
    "#                     for j in range(num_states):\n",
    "#                         alpha[i, t] += alpha[j, t - 1] * self.A[j, i] * self.B[i, xt]\n",
    "    \n",
    "#         assert(alpha_initialized)\n",
    "        \n",
    "#         return alpha\n",
    "    \n",
    "#     def backward(self, sequence):\n",
    "#         # beta[i][t] = p(x_t+1, ..., x_T|z_t = i)\n",
    "#         num_states = len(self.pi)\n",
    "#         beta = np.zeros((num_states, len(sequence)))\n",
    "        \n",
    "#         for ind, xt in enumerate(sequence[::-1]):\n",
    "#             t = len(sequence) - ind - 1\n",
    "#             if ind == 0:\n",
    "#                 beta[:, t] = 1.0\n",
    "#                 beta_initialized = True\n",
    "#             else:\n",
    "#                 for i in range(num_states):\n",
    "#                     for j in range(num_states):\n",
    "#                         beta[i, t] += beta[j, t + 1] * self.A[i, j] * self.B[j, xt_plus1]\n",
    "#             xt_plus1 = xt\n",
    "\n",
    "#         assert(beta_initialized)\n",
    "        \n",
    "#         return beta\n",
    "    \n",
    "# # Since it's a substitution cipher we assume hidden states and observations have same alphabet.\n",
    "# state_to_char_mapping = int_to_char_mapping\n",
    "# observation_to_char_mapping = int_to_char_mapping\n",
    "\n",
    "# # Initialize a HMM with the correct state/output spaces.\n",
    "# hmm = HMM(observation_to_char_mapping, state_to_char_mapping)\n",
    "# hmm_cycles = HMM_cycles(observation_to_char_mapping, state_to_char_mapping)\n",
    "\n",
    "# hmm_cycles.pi = hmm.pi.copy()\n",
    "# hmm_cycles.A = hmm.A.copy()\n",
    "# hmm_cycles.B = hmm.B.copy()\n",
    "\n",
    "# for sequence in tqdm(encrypted_sequences[:100]):\n",
    "#     assert(np.allclose(hmm.forward(sequence), hmm_cycles.forward(sequence)))\n",
    "#     assert(np.allclose(hmm.backward(sequence), hmm_cycles.backward(sequence)))"
   ]
  }
 ],
 "metadata": {
  "kernelspec": {
   "display_name": "Python 3",
   "language": "python",
   "name": "python3"
  },
  "language_info": {
   "codemirror_mode": {
    "name": "ipython",
    "version": 3
   },
   "file_extension": ".py",
   "mimetype": "text/x-python",
   "name": "python",
   "nbconvert_exporter": "python",
   "pygments_lexer": "ipython3",
   "version": "3.7.4"
  }
 },
 "nbformat": 4,
 "nbformat_minor": 4
}
