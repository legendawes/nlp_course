{
 "cells": [
  {
   "cell_type": "markdown",
   "metadata": {},
   "source": [
    "**Maximum likelihood estimatation from observed and unobserved data**\n",
    "\n",
    "You are given a bag containing red and blue coins. All the red coins have the same probability of heads. All the blue coins have the same probability of heads (possibly different from that of the red coins).\n",
    "\n",
    "Your task is to estimate the proportion of red coins in the bag and the probability of heads for both the red and the blue coin."
   ]
  },
  {
   "cell_type": "code",
   "execution_count": 1,
   "metadata": {
    "scrolled": true
   },
   "outputs": [],
   "source": [
    "import ipywidgets as widgets\n",
    "# prob_red = widgets.FloatSlider(min=0.0, max=1.0, description='prob_red')\n",
    "# prob_head_red = widgets.FloatSlider(min=0.0, max=1.0, description='head_red')\n",
    "# prob_head_blue = widgets.FloatSlider(min=0.0, max=1.0, description='head_blue')\n",
    "# display(prob_red, prob_head_red, prob_head_blue)"
   ]
  },
  {
   "cell_type": "code",
   "execution_count": 2,
   "metadata": {},
   "outputs": [],
   "source": [
    "prob_red, prob_head_red, prob_head_blue = 0.3, 0.6, 0.2"
   ]
  },
  {
   "cell_type": "markdown",
   "metadata": {},
   "source": [
    "Use these widgets to control the model."
   ]
  },
  {
   "cell_type": "code",
   "execution_count": 3,
   "metadata": {},
   "outputs": [],
   "source": [
    "import random\n",
    "def choose_coin():\n",
    "    return 'R' if random.random() < prob_red else 'B'\n",
    "\n",
    "def flip_coin(coin):\n",
    "    uar = random.random()\n",
    "    if coin == 'R':\n",
    "        if uar < prob_head_red:\n",
    "            return 'H'\n",
    "    elif uar < prob_head_blue:\n",
    "        return 'H'\n",
    "    return 'T'\n",
    "\n",
    "def flip_random_coin_n_times(n, hidden=False):\n",
    "    coin = choose_coin()\n",
    "    return ('_' if hidden else coin, ''.join([flip_coin(coin) for i in range(n)]))\n",
    "\n",
    "def flip_m_random_coins_n_times(m, n, hidden=False):\n",
    "    return [flip_random_coin_n_times(n, hidden) for i in range(m)]"
   ]
  },
  {
   "cell_type": "markdown",
   "metadata": {},
   "source": [
    "Use the above methods to sample from the model. The optional parameter 'hidden' controls whether the colour of the coin is observed in the samples."
   ]
  },
  {
   "cell_type": "code",
   "execution_count": 4,
   "metadata": {},
   "outputs": [
    {
     "data": {
      "text/plain": [
       "[('B',\n",
       "  'TTTTTTTTTTHTHTTHTHTTTTTTTTTTHHTHTTTTTTTTHHTTTTTTTHTTTTTTHTHTTTHTTTHTTTTHTTHTTTTTTTTTTTTTHTTTTTHTTHHH'),\n",
       " ('B',\n",
       "  'TTTTTTTTTTHHTTTTTTTTTTHTTTTTTTTTTTTTTTTTTTTTTTTTTTTTHTTHTTTTTTTTTHHHTTTTTTTHHHTTTHTTTTHTTHTTTTTHHTTT'),\n",
       " ('B',\n",
       "  'TTTHHHTTHTTHTTTTTTTTTTTTHTHTTTTTTHTTTHHHTTTHHTTTTTTTTTTTTTTHTHHHTTTTTTTHTTHTTTTTTTHTTTTTTTTTTHTTTTTT'),\n",
       " ('R',\n",
       "  'HTHHHTHTTTTHHTTHTHTHTHHTHHTTHHTHTHTHHHHTHHHHTTTHHTHHTHTHHHHTHTTHHHTTTTTTTTHHHTHHTHHTHTHTHTHTTTTHHHHH'),\n",
       " ('R',\n",
       "  'TTTHTHTTHHTTTHTHHTHHTHHHHHHHTTHHTHHTHHHHTHHTHHHHHHHHTHTHHHHTHTHHHHTHHHHHHHTHTHHHHHTTHHTHHHTHHHTHHHHH')]"
      ]
     },
     "execution_count": 4,
     "metadata": {},
     "output_type": "execute_result"
    }
   ],
   "source": [
    "flip_m_random_coins_n_times(5, 100)"
   ]
  },
  {
   "cell_type": "code",
   "execution_count": 5,
   "metadata": {},
   "outputs": [
    {
     "data": {
      "text/plain": [
       "[('_',\n",
       "  'HTTTTHTHTTTTTTHTTTTTTHTTTTTHHTTTHTTTHTTTTTTTHTTTTTTTTTTTTTHTTTTTTHHTTTTTTTTHTTHHTTTTTTTTTTTHTTTHHTTT'),\n",
       " ('_',\n",
       "  'HHHTTTHTHHHHHHTHTHHTHHHHHHHHTTTTTHTTTHHTTTTTHTTTTHHTHHTHTHHHHHHHTHHHHTHTHHTHTTHTTTHTHHTTHHTTHHTTTHTH'),\n",
       " ('_',\n",
       "  'TTTTTTHTTTTHTHHTHTTHTTTHTTTHTTHTTTHHTTTTTTTTTTTTHTTTHTTTTHTTHTTTTTTHTTHTHHTHTTTHTHTTHTHTTTTTTTTTTHTT'),\n",
       " ('_',\n",
       "  'TTHTTTTHTHTTHTTTTTTHTHHHHTTTTTTTTTTTTTTTHHTTHHTTTTTTTTTTHTHTHTTTTTTTTTTTHTTHTTHTTTHHTTHHTHTTHHTTTTTT'),\n",
       " ('_',\n",
       "  'THHHHHHTHTHHTTTTHHHHHHTHHHHTTTHTHTHTHTHHHHTHHHHHTHHTTHTHTHTHHTHHTHTTTTHHHHHTTHHTHHTTHHTHHTTHHTHTTTHH')]"
      ]
     },
     "execution_count": 5,
     "metadata": {},
     "output_type": "execute_result"
    }
   ],
   "source": [
    "flip_m_random_coins_n_times(5, 100, hidden=True)"
   ]
  },
  {
   "cell_type": "markdown",
   "metadata": {},
   "source": [
    "**TASK 1** Implement the following two functions to estimate parameters for the model in the observed case. Splitting the work into two separate functions will simplify things for the next task. \n",
    "\n",
    "* How could you measure the error in your estimates?\n",
    "* How does the error decrease with the sample size?\n",
    "* If you were only allowed to flip coins a total of N times how would you choose m (the number of coins) and n the number of times to flip each coin? Why?"
   ]
  },
  {
   "cell_type": "code",
   "execution_count": 6,
   "metadata": {},
   "outputs": [],
   "source": [
    "from collections import Counter, defaultdict"
   ]
  },
  {
   "cell_type": "code",
   "execution_count": 7,
   "metadata": {},
   "outputs": [],
   "source": [
    "def compute_sufficient_statistics(samples):\n",
    "    statistics = []\n",
    "    for coin_color, coin_throws in samples:\n",
    "        heads_tails_couter = Counter(coin_throws)\n",
    "        statistics.append((coin_color, heads_tails_couter['H'], sum(heads_tails_couter.values())))\n",
    "    return statistics\n",
    "#     assert 'Implement me to compute the sufficient statistics for the model from the samples.'\n",
    "\n",
    "def mle(sufficient_statistics):\n",
    "    color_counter = Counter()\n",
    "    heads_counter = defaultdict(Counter)\n",
    "    \n",
    "    for color, heads_count, total_count in sufficient_statistics:\n",
    "        color_counter[color] += 1\n",
    "        heads_counter[color]['H'] += heads_count\n",
    "        heads_counter[color]['total'] += total_count\n",
    "    \n",
    "    prob_red = color_counter['R'] / sum(color_counter.values())\n",
    "    \n",
    "    probs = []\n",
    "    for color in ['R', 'B']:\n",
    "        try:\n",
    "            heads_prob = heads_counter[color]['H'] / heads_counter[color]['total']\n",
    "        except ZeroDivisionError:\n",
    "            heads_prob = None\n",
    "        probs.append(heads_prob)\n",
    "        \n",
    "    prob_head_red, prob_head_blue = probs\n",
    "        \n",
    "    return prob_red, prob_head_red, prob_head_blue\n",
    "#     assert 'Implement me to compute mle parameter estimates given sufficient statistics.'"
   ]
  },
  {
   "cell_type": "code",
   "execution_count": 8,
   "metadata": {},
   "outputs": [],
   "source": [
    "def compute_sufficient_statistics(samples):\n",
    "    color_counter = Counter()\n",
    "    heads_counter = defaultdict(Counter)\n",
    "    \n",
    "    for coin_color, coin_throws in samples:\n",
    "        heads_counter[coin_color] += Counter(coin_throws)\n",
    "        color_counter[coin_color] += len(coin_throws)\n",
    "    \n",
    "    total = sum(color_counter.values())\n",
    "    red, red_head, blue_head = color_counter['R'], heads_counter['R']['H'], heads_counter['B']['H']\n",
    "    return total, red, red_head, blue_head\n",
    "#     assert 'Implement me to compute the sufficient statistics for the model from the samples.'\n",
    "\n",
    "def mle(total, red, red_head, blue_head):\n",
    "    prob_red = red / total\n",
    "    prob_head_red = red_head / red\n",
    "    prob_head_blue = blue_head / (total - red)\n",
    "        \n",
    "    return prob_red, prob_head_red, prob_head_blue\n",
    "#     assert 'Implement me to compute mle parameter estimates given sufficient statistics.'"
   ]
  },
  {
   "cell_type": "code",
   "execution_count": 9,
   "metadata": {},
   "outputs": [
    {
     "data": {
      "text/plain": [
       "(0.263, 0.6000760456273764, 0.20019267299864316)"
      ]
     },
     "execution_count": 9,
     "metadata": {},
     "output_type": "execute_result"
    }
   ],
   "source": [
    "mle(*compute_sufficient_statistics(flip_m_random_coins_n_times(1000, 1000, hidden=False)))\n",
    "\n",
    "# 1.06 in vid"
   ]
  },
  {
   "cell_type": "markdown",
   "metadata": {},
   "source": [
    "**TASK 2** Given a sample from a single coin whose colour is unobserved, estimate the posterior probability that the coin is red, given some estimates of the model parameters.\n",
    "\n",
    "* If you pass in the true model parameters (e.g. prob_red.value, prob_head_red.value and prob_head_blue.value), how quickly does the posterior change? Use the plot_distribution function to view this.\n",
    "* How does this depend on the model parameters?"
   ]
  },
  {
   "cell_type": "code",
   "execution_count": 10,
   "metadata": {},
   "outputs": [],
   "source": [
    "def compute_posterior_prob_red(sample, estimate_prob_red, estimate_prob_head_red, estimate_prob_head_blue):\n",
    "    count_head = sample.count('H')\n",
    "    count_tail = len(sample) - count_head\n",
    "    \n",
    "    # probability to observe our data if color is blue or color is red: binomial\n",
    "    joint_red = estimate_prob_red * estimate_prob_head_red**count_head * (1 - estimate_prob_head_red)**count_tail\n",
    "    joint_blue = (1 - estimate_prob_red) * estimate_prob_head_blue**count_head * (1 - estimate_prob_head_blue)**count_tail\n",
    "    return joint_red / (joint_red + joint_blue)\n"
   ]
  },
  {
   "cell_type": "code",
   "execution_count": 12,
   "metadata": {},
   "outputs": [
    {
     "data": {
      "text/plain": [
       "(0.4, 0.585, 0.20333333333333334)"
      ]
     },
     "execution_count": 12,
     "metadata": {},
     "output_type": "execute_result"
    }
   ],
   "source": [
    "estimate_prob_red, estimate_prob_head_red, estimate_prob_head_blue = mle(*compute_sufficient_statistics(flip_m_random_coins_n_times(10, 100, hidden=False)))\n",
    "estimate_prob_red, estimate_prob_head_red, estimate_prob_head_blue"
   ]
  },
  {
   "cell_type": "code",
   "execution_count": 13,
   "metadata": {},
   "outputs": [
    {
     "data": {
      "text/plain": [
       "'B'"
      ]
     },
     "execution_count": 13,
     "metadata": {},
     "output_type": "execute_result"
    }
   ],
   "source": [
    "true_color, sample = flip_m_random_coins_n_times(1, 30, hidden=False)[0]\n",
    "true_color"
   ]
  },
  {
   "cell_type": "code",
   "execution_count": 14,
   "metadata": {},
   "outputs": [
    {
     "data": {
      "text/plain": [
       "6.026721083450672e-05"
      ]
     },
     "execution_count": 14,
     "metadata": {},
     "output_type": "execute_result"
    }
   ],
   "source": [
    "compute_posterior_prob_red(sample, estimate_prob_red, estimate_prob_head_red, estimate_prob_head_blue)"
   ]
  },
  {
   "cell_type": "markdown",
   "metadata": {},
   "source": [
    "**TASK 3** Reusing your code from Tasks 1 and 2, implement expectation maximization algorithm to find a (locally optimal) solution to the parameters when the colour of the coins is not observed."
   ]
  },
  {
   "cell_type": "code",
   "execution_count": 30,
   "metadata": {},
   "outputs": [],
   "source": [
    "def mle(total, count_red, count_red_head, count_blue_head):\n",
    "    estimate_prob_red = count_red / total\n",
    "    estimate_prob_head_red = count_red_head / count_red\n",
    "    estimate_prob_head_blue = count_blue_head / (total - count_red)\n",
    "    return estimate_prob_red, estimate_prob_head_red, estimate_prob_head_blue"
   ]
  },
  {
   "cell_type": "code",
   "execution_count": 31,
   "metadata": {},
   "outputs": [],
   "source": [
    "def compute_expected_statistics(samples, estimate_prob_red, estimate_prob_head_red, estimate_prob_head_blue):\n",
    "    # we want to compute probability of samples given our current estimates\n",
    "    total, red, red_head, blue_head = 0, 0.0, 0.0, 0.0\n",
    "    for color, throws in samples:\n",
    "        posterior_prob_red = compute_posterior_prob_red(throws, estimate_prob_red, estimate_prob_head_red, estimate_prob_head_blue)\n",
    "        total += len(throws)\n",
    "        red += posterior_prob_red * len(throws)\n",
    "        red_head += posterior_prob_red * throws.count('H')\n",
    "        blue_head += (1 - posterior_prob_red) * throws.count('H')\n",
    "    \n",
    "    return total, red, red_head, blue_head\n",
    "#     assert 'Compute the sufficient statistics for this sample given these parameter estimates.'\n",
    "    \n",
    "def expectation_maximization(samples, iterations, estimate_prob_red, estimate_prob_head_red, estimate_prob_head_blue):\n",
    "    for n_inter in range(iterations):\n",
    "        total, expected_red, expected_red_head, expected_blue_head = compute_expected_statistics(samples, estimate_prob_red, estimate_prob_head_red, estimate_prob_head_blue)\n",
    "        estimate_prob_red, estimate_prob_head_red, estimate_prob_head_blue = mle(total, expected_red, expected_red_head, expected_blue_head)\n",
    "    return estimate_prob_red, estimate_prob_head_red, estimate_prob_head_blue\n",
    "        \n",
    "#     assert 'Compute the mle parameter estimates for the model from a sample without labels. '"
   ]
  },
  {
   "cell_type": "code",
   "execution_count": 32,
   "metadata": {},
   "outputs": [],
   "source": [
    "samples = flip_m_random_coins_n_times(1000, 1000, hidden=True)"
   ]
  },
  {
   "cell_type": "code",
   "execution_count": 36,
   "metadata": {},
   "outputs": [
    {
     "data": {
      "text/plain": [
       "(0.7, 0.19970285714285715, 0.5999466666666666)"
      ]
     },
     "execution_count": 36,
     "metadata": {},
     "output_type": "execute_result"
    }
   ],
   "source": [
    "expectation_maximization(samples, 100, 0.5, 0.5, 0.6)\n",
    "# EM cannot know which color is which! -> depends on init"
   ]
  },
  {
   "cell_type": "code",
   "execution_count": 37,
   "metadata": {},
   "outputs": [
    {
     "data": {
      "text/plain": [
       "(0.3, 0.6, 0.2)"
      ]
     },
     "execution_count": 37,
     "metadata": {},
     "output_type": "execute_result"
    }
   ],
   "source": [
    "prob_red, prob_head_red, prob_head_blue"
   ]
  }
 ],
 "metadata": {
  "kernelspec": {
   "display_name": "Python 3",
   "language": "python",
   "name": "python3"
  },
  "language_info": {
   "codemirror_mode": {
    "name": "ipython",
    "version": 3
   },
   "file_extension": ".py",
   "mimetype": "text/x-python",
   "name": "python",
   "nbconvert_exporter": "python",
   "pygments_lexer": "ipython3",
   "version": "3.7.3"
  }
 },
 "nbformat": 4,
 "nbformat_minor": 4
}
