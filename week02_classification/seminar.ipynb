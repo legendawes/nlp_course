{
 "cells": [
  {
   "cell_type": "markdown",
   "metadata": {},
   "source": [
    "# Large scale text analysis with deep learning (3 points)\n",
    "\n",
    "Today we're gonna apply the newly learned tools for the task of predicting job salary.\n",
    "\n",
    "<img src=\"https://kaggle2.blob.core.windows.net/competitions/kaggle/3342/media/salary%20prediction%20engine%20v2.png\" width=400px>\n",
    "\n",
    "_Special thanks to [Oleg Vasilev](https://github.com/Omrigan/) for the core assignment idea._"
   ]
  },
  {
   "cell_type": "code",
   "execution_count": 1,
   "metadata": {},
   "outputs": [],
   "source": [
    "import numpy as np\n",
    "import pandas as pd\n",
    "import matplotlib.pyplot as plt\n",
    "%matplotlib inline"
   ]
  },
  {
   "cell_type": "markdown",
   "metadata": {},
   "source": [
    "### About the challenge\n",
    "For starters, let's download and unpack the data from [here](https://www.dropbox.com/s/5msc5ix7ndyba10/Train_rev1.csv.tar.gz?dl=0). \n",
    "\n",
    "You can also get it from [yadisk url](https://yadi.sk/d/vVEOWPFY3NruT7) the competition [page](https://www.kaggle.com/c/job-salary-prediction/data) (pick `Train_rev1.*`)."
   ]
  },
  {
   "cell_type": "code",
   "execution_count": 2,
   "metadata": {},
   "outputs": [
    {
     "name": "stdout",
     "output_type": "stream",
     "text": [
      "  % Total    % Received % Xferd  Average Speed   Time    Time     Time  Current\n",
      "                                 Dload  Upload   Total   Spent    Left  Speed\n",
      "  0     0    0     0    0     0      0      0 --:--:-- --:--:-- --:--:--     0\n",
      "  0     0    0     0    0     0      0      0 --:--:-- --:--:-- --:--:--     0\n",
      "100  119M  100  119M    0     0  9991k      0  0:00:12  0:00:12 --:--:-- 11.5M\n",
      "Train_rev1.csv\n"
     ]
    },
    {
     "data": {
      "text/plain": [
       "(244768, 12)"
      ]
     },
     "execution_count": 2,
     "metadata": {},
     "output_type": "execute_result"
    }
   ],
   "source": [
    "# !curl -L https://www.dropbox.com/s/5msc5ix7ndyba10/Train_rev1.csv.tar.gz?dl=1 -o Train_rev1.csv.tar.gz\n",
    "# !tar -xvzf ./Train_rev1.csv.tar.gz\n",
    "data = pd.read_csv(\"./Train_rev1.csv\", index_col=None)\n",
    "data.shape"
   ]
  },
  {
   "cell_type": "markdown",
   "metadata": {},
   "source": [
    "One problem with salary prediction is that it's oddly distributed: there are many people who are paid standard salaries and a few that get tons o money. The distribution is fat-tailed on the right side, which is inconvenient for MSE minimization.\n",
    "\n",
    "There are several techniques to combat this: using a different loss function, predicting log-target instead of raw target or even replacing targets with their percentiles among all salaries in the training set. We gonna use logarithm for now.\n",
    "\n",
    "_You can read more [in the official description](https://www.kaggle.com/c/job-salary-prediction#description)._"
   ]
  },
  {
   "cell_type": "code",
   "execution_count": 3,
   "metadata": {},
   "outputs": [
    {
     "data": {
      "image/png": "[encoded data removed]",
      "text/plain": [
       "<Figure size 576x288 with 2 Axes>"
      ]
     },
     "metadata": {
      "needs_background": "light"
     },
     "output_type": "display_data"
    }
   ],
   "source": [
    "data['Log1pSalary'] = np.log1p(data['SalaryNormalized']).astype('float32')\n",
    "\n",
    "plt.figure(figsize=[8, 4])\n",
    "plt.subplot(1, 2, 1)\n",
    "plt.hist(data[\"SalaryNormalized\"], bins=20);\n",
    "\n",
    "plt.subplot(1, 2, 2)\n",
    "plt.hist(data['Log1pSalary'], bins=20);"
   ]
  },
  {
   "cell_type": "markdown",
   "metadata": {},
   "source": [
    "Our task is to predict one number, __Log1pSalary__.\n",
    "\n",
    "To do so, our model can access a number of features:\n",
    "* Free text: __`Title`__ and  __`FullDescription`__\n",
    "* Categorical: __`Category`__, __`Company`__, __`LocationNormalized`__, __`ContractType`__, and __`ContractTime`__."
   ]
  },
  {
   "cell_type": "code",
   "execution_count": 4,
   "metadata": {},
   "outputs": [
    {
     "data": {
      "text/html": [
       "<div>\n",
       "<style scoped>\n",
       "    .dataframe tbody tr th:only-of-type {\n",
       "        vertical-align: middle;\n",
       "    }\n",
       "\n",
       "    .dataframe tbody tr th {\n",
       "        vertical-align: top;\n",
       "    }\n",
       "\n",
       "    .dataframe thead th {\n",
       "        text-align: right;\n",
       "    }\n",
       "</style>\n",
       "<table border=\"1\" class=\"dataframe\">\n",
       "  <thead>\n",
       "    <tr style=\"text-align: right;\">\n",
       "      <th></th>\n",
       "      <th>Id</th>\n",
       "      <th>Title</th>\n",
       "      <th>FullDescription</th>\n",
       "      <th>LocationRaw</th>\n",
       "      <th>LocationNormalized</th>\n",
       "      <th>ContractType</th>\n",
       "      <th>ContractTime</th>\n",
       "      <th>Company</th>\n",
       "      <th>Category</th>\n",
       "      <th>SalaryRaw</th>\n",
       "      <th>SalaryNormalized</th>\n",
       "      <th>SourceName</th>\n",
       "      <th>Log1pSalary</th>\n",
       "    </tr>\n",
       "  </thead>\n",
       "  <tbody>\n",
       "    <tr>\n",
       "      <td>129344</td>\n",
       "      <td>70144207</td>\n",
       "      <td>HEAD CHEF VACANCY WILTSHIRE</td>\n",
       "      <td>WILTSHIRE IS WHERE THIS HEAD CHEF VACANCY IS T...</td>\n",
       "      <td>Wiltshire South West</td>\n",
       "      <td>Wiltshire</td>\n",
       "      <td>NaN</td>\n",
       "      <td>NaN</td>\n",
       "      <td>ME Talent Ltd</td>\n",
       "      <td>Hospitality &amp; Catering Jobs</td>\n",
       "      <td>From 34,000 to 38,000 per annum and benefits a...</td>\n",
       "      <td>36000</td>\n",
       "      <td>caterer.com</td>\n",
       "      <td>10.491302</td>\n",
       "    </tr>\n",
       "    <tr>\n",
       "      <td>226124</td>\n",
       "      <td>72440974</td>\n",
       "      <td>Maintenance Manager  Mechanical &amp; Electrical</td>\n",
       "      <td>Brief Outline An opportunity has arisen for an...</td>\n",
       "      <td>Kent South East</td>\n",
       "      <td>Kent</td>\n",
       "      <td>NaN</td>\n",
       "      <td>permanent</td>\n",
       "      <td>HumRes Recruitment</td>\n",
       "      <td>Engineering Jobs</td>\n",
       "      <td>55000 - 60000 per annum + Company Car, Pension</td>\n",
       "      <td>57500</td>\n",
       "      <td>totaljobs.com</td>\n",
       "      <td>10.959558</td>\n",
       "    </tr>\n",
       "    <tr>\n",
       "      <td>196022</td>\n",
       "      <td>71808093</td>\n",
       "      <td>Care Services Administrator</td>\n",
       "      <td>We want to make excellent care even better Nig...</td>\n",
       "      <td>Wandsworth, London</td>\n",
       "      <td>Wandsworth</td>\n",
       "      <td>NaN</td>\n",
       "      <td>permanent</td>\n",
       "      <td>Nightingale Hammerson</td>\n",
       "      <td>Charity &amp; Voluntary Jobs</td>\n",
       "      <td>23,500 per annum</td>\n",
       "      <td>23500</td>\n",
       "      <td>charityjob.co.uk</td>\n",
       "      <td>10.064798</td>\n",
       "    </tr>\n",
       "  </tbody>\n",
       "</table>\n",
       "</div>"
      ],
      "text/plain": [
       "              Id                                         Title  \\\n",
       "129344  70144207                   HEAD CHEF VACANCY WILTSHIRE   \n",
       "226124  72440974  Maintenance Manager  Mechanical & Electrical   \n",
       "196022  71808093                   Care Services Administrator   \n",
       "\n",
       "                                          FullDescription  \\\n",
       "129344  WILTSHIRE IS WHERE THIS HEAD CHEF VACANCY IS T...   \n",
       "226124  Brief Outline An opportunity has arisen for an...   \n",
       "196022  We want to make excellent care even better Nig...   \n",
       "\n",
       "                 LocationRaw LocationNormalized ContractType ContractTime  \\\n",
       "129344  Wiltshire South West          Wiltshire          NaN          NaN   \n",
       "226124       Kent South East               Kent          NaN    permanent   \n",
       "196022    Wandsworth, London         Wandsworth          NaN    permanent   \n",
       "\n",
       "                      Company                     Category  \\\n",
       "129344          ME Talent Ltd  Hospitality & Catering Jobs   \n",
       "226124     HumRes Recruitment             Engineering Jobs   \n",
       "196022  Nightingale Hammerson     Charity & Voluntary Jobs   \n",
       "\n",
       "                                                SalaryRaw  SalaryNormalized  \\\n",
       "129344  From 34,000 to 38,000 per annum and benefits a...             36000   \n",
       "226124     55000 - 60000 per annum + Company Car, Pension             57500   \n",
       "196022                                   23,500 per annum             23500   \n",
       "\n",
       "              SourceName  Log1pSalary  \n",
       "129344       caterer.com    10.491302  \n",
       "226124     totaljobs.com    10.959558  \n",
       "196022  charityjob.co.uk    10.064798  "
      ]
     },
     "execution_count": 4,
     "metadata": {},
     "output_type": "execute_result"
    }
   ],
   "source": [
    "text_columns = [\"Title\", \"FullDescription\"]\n",
    "categorical_columns = [\"Category\", \"Company\", \"LocationNormalized\", \"ContractType\", \"ContractTime\"]\n",
    "target_column = \"Log1pSalary\"\n",
    "\n",
    "data[categorical_columns] = data[categorical_columns].fillna('NaN') # cast missing values to string \"NaN\"\n",
    "\n",
    "data.sample(3)"
   ]
  },
  {
   "cell_type": "markdown",
   "metadata": {},
   "source": [
    "### Preprocessing text data\n",
    "\n",
    "Just like last week, applying NLP to a problem begins from tokenization: splitting raw text into sequences of tokens (words, punctuation, etc).\n",
    "\n",
    "__Your task__ is to lowercase and tokenize all texts under `Title` and `FullDescription` columns. Store the tokenized data as a __space-separated__ string of tokens for performance reasons.\n",
    "\n",
    "It's okay to use nltk tokenizers. Assertions were designed for WordPunctTokenizer, slight deviations are okay."
   ]
  },
  {
   "cell_type": "code",
   "execution_count": 5,
   "metadata": {},
   "outputs": [
    {
     "name": "stdout",
     "output_type": "stream",
     "text": [
      "Raw text:\n",
      "2         Mathematical Modeller / Simulation Analyst / O...\n",
      "100002    A successful and high achieving specialist sch...\n",
      "200002    Web Designer  HTML, CSS, JavaScript, Photoshop...\n",
      "Name: FullDescription, dtype: object\n"
     ]
    }
   ],
   "source": [
    "print(\"Raw text:\")\n",
    "print(data[\"FullDescription\"][2::100000])"
   ]
  },
  {
   "cell_type": "code",
   "execution_count": 6,
   "metadata": {},
   "outputs": [],
   "source": [
    "import nltk\n",
    "tokenizer = nltk.tokenize.WordPunctTokenizer()\n",
    "\n",
    "def preprocess(text):\n",
    "    if isinstance(text, str):\n",
    "        return ' '.join(tokenizer.tokenize(text.lower()))\n",
    "    else:\n",
    "        return ''\n",
    "\n",
    "columns_to_tokenize = ['Title', 'FullDescription']\n",
    "for column in columns_to_tokenize:\n",
    "    data[column] = data[column].apply(preprocess)"
   ]
  },
  {
   "cell_type": "markdown",
   "metadata": {},
   "source": [
    "Now we can assume that our text is a space-separated list of tokens:"
   ]
  },
  {
   "cell_type": "code",
   "execution_count": 7,
   "metadata": {},
   "outputs": [
    {
     "name": "stdout",
     "output_type": "stream",
     "text": [
      "Tokenized:\n",
      "2         mathematical modeller / simulation analyst / o...\n",
      "100002    a successful and high achieving specialist sch...\n",
      "200002    web designer html , css , javascript , photosh...\n",
      "Name: FullDescription, dtype: object\n"
     ]
    }
   ],
   "source": [
    "print(\"Tokenized:\")\n",
    "print(data[\"FullDescription\"][2::100000])\n",
    "assert data[\"FullDescription\"][2][:50] == 'mathematical modeller / simulation analyst / opera'\n",
    "assert data[\"Title\"][54321] == 'international digital account manager ( german )'"
   ]
  },
  {
   "cell_type": "markdown",
   "metadata": {},
   "source": [
    "Not all words are equally useful. Some of them are typos or rare words that are only present a few times. \n",
    "\n",
    "Let's count how many times is each word present in the data so that we can build a \"white list\" of known words."
   ]
  },
  {
   "cell_type": "code",
   "execution_count": 8,
   "metadata": {},
   "outputs": [
    {
     "data": {
      "text/plain": [
       "'engineering systems analyst'"
      ]
     },
     "execution_count": 8,
     "metadata": {},
     "output_type": "execute_result"
    }
   ],
   "source": [
    "data[columns_to_tokenize].values[0][0]"
   ]
  },
  {
   "cell_type": "code",
   "execution_count": 9,
   "metadata": {},
   "outputs": [],
   "source": [
    "# Count how many times does each token occur in both \"Title\" and \"FullDescription\" in total\n",
    "# build a dictionary { token -> it's count }\n",
    "from collections import Counter\n",
    "token_counts = Counter([word for texts in data[columns_to_tokenize].values\n",
    "                        for text in texts\n",
    "                        for word in text.split()])\n",
    "\n",
    "# hint: you may or may not want to use collections.Counter"
   ]
  },
  {
   "cell_type": "code",
   "execution_count": 10,
   "metadata": {},
   "outputs": [
    {
     "name": "stdout",
     "output_type": "stream",
     "text": [
      "Total unique tokens : 202704\n",
      "('and', 2657388)\n",
      "('.', 2523216)\n",
      "(',', 2318606)\n",
      "('the', 2080994)\n",
      "('to', 2019884)\n",
      "...\n",
      "('stephanietraveltraderecruitmnt', 1)\n",
      "('ruabon', 1)\n",
      "('lowehays', 1)\n",
      "Correct!\n"
     ]
    }
   ],
   "source": [
    "print(\"Total unique tokens :\", len(token_counts))\n",
    "print('\\n'.join(map(str, token_counts.most_common(n=5))))\n",
    "print('...')\n",
    "print('\\n'.join(map(str, token_counts.most_common()[-3:])))\n",
    "\n",
    "assert token_counts.most_common(1)[0][1] in  range(2600000, 2700000)\n",
    "assert len(token_counts) in range(200000, 210000)\n",
    "print('Correct!')"
   ]
  },
  {
   "cell_type": "code",
   "execution_count": 11,
   "metadata": {},
   "outputs": [
    {
     "data": {
      "image/png": "[encoded data removed]",
      "text/plain": [
       "<Figure size 432x288 with 1 Axes>"
      ]
     },
     "metadata": {
      "needs_background": "light"
     },
     "output_type": "display_data"
    }
   ],
   "source": [
    "# Let's see how many words are there for each count\n",
    "plt.hist(list(token_counts.values()), range=[0, 10**4], bins=50, log=True)\n",
    "plt.xlabel(\"Word counts\");"
   ]
  },
  {
   "cell_type": "markdown",
   "metadata": {},
   "source": [
    "Now filter tokens a list of all tokens that occur at least 10 times."
   ]
  },
  {
   "cell_type": "code",
   "execution_count": 12,
   "metadata": {},
   "outputs": [],
   "source": [
    "min_count = 10\n",
    "\n",
    "# tokens from token_counts keys that had at least min_count occurrences throughout the dataset\n",
    "tokens = [token for token, count in token_counts.items() if count >= min_count]"
   ]
  },
  {
   "cell_type": "code",
   "execution_count": 13,
   "metadata": {},
   "outputs": [
    {
     "name": "stdout",
     "output_type": "stream",
     "text": [
      "Vocabulary size: 34158\n",
      "Correct!\n"
     ]
    }
   ],
   "source": [
    "# Add a special tokens for unknown and empty words\n",
    "UNK, PAD = \"UNK\", \"PAD\"\n",
    "tokens = [UNK, PAD] + sorted(tokens)\n",
    "print(\"Vocabulary size:\", len(tokens))\n",
    "\n",
    "assert type(tokens) == list\n",
    "assert len(tokens) in range(30000, 40000)\n",
    "assert 'me' in tokens\n",
    "assert UNK in tokens\n",
    "print(\"Correct!\")"
   ]
  },
  {
   "cell_type": "markdown",
   "metadata": {},
   "source": [
    "Build an inverse token index: a dictionary from token(string) to it's index in `tokens` (int)"
   ]
  },
  {
   "cell_type": "code",
   "execution_count": 14,
   "metadata": {},
   "outputs": [],
   "source": [
    "token_to_id = {token:ind for ind, token in enumerate(tokens)}"
   ]
  },
  {
   "cell_type": "code",
   "execution_count": 15,
   "metadata": {},
   "outputs": [
    {
     "name": "stdout",
     "output_type": "stream",
     "text": [
      "Correct!\n"
     ]
    }
   ],
   "source": [
    "assert isinstance(token_to_id, dict)\n",
    "assert len(token_to_id) == len(tokens)\n",
    "for tok in tokens:\n",
    "    assert tokens[token_to_id[tok]] == tok\n",
    "\n",
    "print(\"Correct!\")"
   ]
  },
  {
   "cell_type": "markdown",
   "metadata": {},
   "source": [
    "And finally, let's use the vocabulary you've built to map text lines into neural network-digestible matrices."
   ]
  },
  {
   "cell_type": "code",
   "execution_count": 16,
   "metadata": {},
   "outputs": [],
   "source": [
    "UNK_IX, PAD_IX = map(token_to_id.get, [UNK, PAD])\n",
    "\n",
    "def as_matrix(sequences, max_len=None):\n",
    "    \"\"\" Convert a list of tokens into a matrix with padding \"\"\"\n",
    "    if isinstance(sequences[0], str):\n",
    "        sequences = list(map(str.split, sequences))\n",
    "        \n",
    "    max_len = min(max(map(len, sequences)), max_len or float('inf'))\n",
    "    \n",
    "    matrix = np.full((len(sequences), max_len), np.int32(PAD_IX))\n",
    "    for i,seq in enumerate(sequences):\n",
    "        row_ix = [token_to_id.get(word, UNK_IX) for word in seq[:max_len]]\n",
    "        matrix[i, :len(row_ix)] = row_ix\n",
    "    \n",
    "    return matrix"
   ]
  },
  {
   "cell_type": "code",
   "execution_count": 17,
   "metadata": {},
   "outputs": [
    {
     "name": "stdout",
     "output_type": "stream",
     "text": [
      "Lines:\n",
      "engineering systems analyst\n",
      "hr assistant\n",
      "senior ec & i engineer\n",
      "\n",
      "Matrix:\n",
      "[[10807 30161  2166     1     1]\n",
      " [15020  2844     1     1     1]\n",
      " [27645 10201    16 15215 10804]]\n"
     ]
    }
   ],
   "source": [
    "print(\"Lines:\")\n",
    "print('\\n'.join(data[\"Title\"][::100000].values), end='\\n\\n')\n",
    "print(\"Matrix:\")\n",
    "print(as_matrix(data[\"Title\"][::100000]))"
   ]
  },
  {
   "cell_type": "markdown",
   "metadata": {},
   "source": [
    "Now let's  encode the categirical data we have.\n",
    "\n",
    "As usual, we shall use one-hot encoding for simplicity. Kudos if you implement more advanced encodings: tf-idf, pseudo-time-series, etc."
   ]
  },
  {
   "cell_type": "code",
   "execution_count": 18,
   "metadata": {},
   "outputs": [
    {
     "data": {
      "text/plain": [
       "DictVectorizer(dtype=<class 'numpy.float32'>, separator='=', sort=True,\n",
       "               sparse=False)"
      ]
     },
     "execution_count": 18,
     "metadata": {},
     "output_type": "execute_result"
    }
   ],
   "source": [
    "from sklearn.feature_extraction import DictVectorizer\n",
    "\n",
    "# we only consider top-1k most frequent companies to minimize memory usage\n",
    "top_companies, top_counts = zip(*Counter(data['Company']).most_common(1000))\n",
    "recognized_companies = set(top_companies)\n",
    "data[\"Company\"] = data[\"Company\"].apply(lambda comp: comp if comp in recognized_companies else \"Other\")\n",
    "\n",
    "categorical_vectorizer = DictVectorizer(dtype=np.float32, sparse=False)\n",
    "categorical_vectorizer.fit(data[categorical_columns].apply(dict, axis=1))"
   ]
  },
  {
   "cell_type": "markdown",
   "metadata": {},
   "source": [
    "### The deep learning part\n",
    "\n",
    "Once we've learned to tokenize the data, let's design a machine learning experiment.\n",
    "\n",
    "As before, we won't focus too much on validation, opting for a simple train-test split.\n",
    "\n",
    "__To be completely rigorous,__ we've comitted a small crime here: we used the whole data for tokenization and vocabulary building. A more strict way would be to do that part on training set only. You may want to do that and measure the magnitude of changes."
   ]
  },
  {
   "cell_type": "code",
   "execution_count": 19,
   "metadata": {},
   "outputs": [
    {
     "name": "stdout",
     "output_type": "stream",
     "text": [
      "Train size =  195814\n",
      "Validation size =  48954\n"
     ]
    }
   ],
   "source": [
    "from sklearn.model_selection import train_test_split\n",
    "\n",
    "data_train, data_val = train_test_split(data, test_size=0.2, random_state=42)\n",
    "data_train.index = range(len(data_train))\n",
    "data_val.index = range(len(data_val))\n",
    "\n",
    "print(\"Train size = \", len(data_train))\n",
    "print(\"Validation size = \", len(data_val))"
   ]
  },
  {
   "cell_type": "code",
   "execution_count": 20,
   "metadata": {},
   "outputs": [],
   "source": [
    "def make_batch(data, max_len=None, word_dropout=0):\n",
    "    \"\"\"\n",
    "    Creates a keras-friendly dict from the batch data.\n",
    "    :param word_dropout: replaces token index with UNK_IX with this probability\n",
    "    :returns: a dict with {'title' : int64[batch, title_max_len]\n",
    "    \"\"\"\n",
    "    batch = {}\n",
    "    batch[\"Title\"] = as_matrix(data[\"Title\"].values, max_len)\n",
    "    batch[\"FullDescription\"] = as_matrix(data[\"FullDescription\"].values, max_len)\n",
    "    batch['Categorical'] = categorical_vectorizer.transform(data[categorical_columns].apply(dict, axis=1))\n",
    "    \n",
    "    if word_dropout != 0:\n",
    "        batch[\"FullDescription\"] = apply_word_dropout(batch[\"FullDescription\"], 1. - word_dropout)\n",
    "    \n",
    "    if target_column in data.columns:\n",
    "        batch[target_column] = data[target_column].values\n",
    "    \n",
    "    return batch\n",
    "\n",
    "def apply_word_dropout(matrix, keep_prop, replace_with=UNK_IX, pad_ix=PAD_IX,):\n",
    "    dropout_mask = np.random.choice(2, np.shape(matrix), p=[keep_prop, 1 - keep_prop])\n",
    "    dropout_mask &= matrix != pad_ix\n",
    "    return np.choose(dropout_mask, [matrix, np.full_like(matrix, replace_with)])"
   ]
  },
  {
   "cell_type": "code",
   "execution_count": 21,
   "metadata": {},
   "outputs": [
    {
     "data": {
      "text/plain": [
       "{'Title': array([[27645, 29893, 33674,     1,     1,     1,     1],\n",
       "        [29239,   197, 19175, 20042, 15554, 23162,  4051],\n",
       "        [10609, 30412, 17746,    33,  8705, 29157,    65]], dtype=int32),\n",
       " 'FullDescription': array([[27645, 29893, 33674, 32939,   982, 27645, 29893, 33674, 16451,\n",
       "         32939],\n",
       "        [29239,   197, 19175, 20042, 15554, 23162,  4051, 25511,   907,\n",
       "            82],\n",
       "        [30746, 21956, 20601,  6409, 16451,  8165, 27493,   982, 30412,\n",
       "         17746]], dtype=int32),\n",
       " 'Categorical': array([[0., 0., 0., ..., 0., 0., 0.],\n",
       "        [0., 0., 0., ..., 0., 0., 0.],\n",
       "        [0., 0., 0., ..., 0., 0., 0.]], dtype=float32),\n",
       " 'Log1pSalary': array([ 9.71154 , 10.463132, 10.71444 ], dtype=float32)}"
      ]
     },
     "execution_count": 21,
     "metadata": {},
     "output_type": "execute_result"
    }
   ],
   "source": [
    "make_batch(data_train[:3], max_len=10)"
   ]
  },
  {
   "cell_type": "markdown",
   "metadata": {},
   "source": [
    "#### Architecture\n",
    "\n",
    "Our basic model consists of three branches:\n",
    "* Title encoder\n",
    "* Description encoder\n",
    "* Categorical features encoder\n",
    "\n",
    "We will then feed all 3 branches into one common network that predicts salary.\n",
    "\n",
    "<img src=\"https://github.com/yandexdataschool/nlp_course/raw/master/resources/w2_conv_arch.png\" width=600px>"
   ]
  },
  {
   "cell_type": "markdown",
   "metadata": {},
   "source": [
    "This clearly doesn't fit into keras' __Sequential__ interface. To build such a network, one will have to use __[Keras Functional API](https://keras.io/models/model/)__."
   ]
  },
  {
   "cell_type": "code",
   "execution_count": 24,
   "metadata": {},
   "outputs": [],
   "source": [
    "import keras"
   ]
  },
  {
   "cell_type": "code",
   "execution_count": 25,
   "metadata": {},
   "outputs": [],
   "source": [
    "import keras.layers as L"
   ]
  },
  {
   "cell_type": "code",
   "execution_count": 48,
   "metadata": {},
   "outputs": [],
   "source": [
    "def build_model(n_tokens=len(tokens), n_cat_features=len(categorical_vectorizer.vocabulary_), hid_size=64):\n",
    "    \"\"\" Build a model that maps three data sources to a single linear output: predicted log1p(salary) \"\"\"\n",
    "    \n",
    "    l_title = L.Input(shape=[None], name=\"Title\")\n",
    "    l_descr = L.Input(shape=[None], name=\"FullDescription\")\n",
    "    l_categ = L.Input(shape=[n_cat_features], name=\"Categorical\")\n",
    "    \n",
    "    # Build your monster!\n",
    "    shared_emb = L.Embedding(n_tokens, 64)\n",
    "    \n",
    "    l_title_emb = shared_emb(l_title)\n",
    "    l_title_emb = L.GlobalMaxPool1D()(l_title_emb)\n",
    "\n",
    "    l_descr_emb = shared_emb(l_descr)\n",
    "    l_descr_emb = L.Dense(hid_size)(l_descr_emb)\n",
    "    l_descr_emb = L.GlobalMaxPool1D()(l_descr_emb)\n",
    "\n",
    "    # <YOUR CODE>\n",
    "    l_cat_emb = L.Dense(128)(l_categ)\n",
    "    \n",
    "    l_concat = L.Concatenate()([l_cat_emb, l_descr_emb, l_title_emb])\n",
    "    output_layer = L.Dense(128)(l_concat)\n",
    "    output_layer = L.Dense(1)(output_layer)\n",
    "    # end of your code\n",
    "    \n",
    "    model = keras.models.Model(inputs=[l_title, l_descr,\n",
    "                                       l_categ], outputs=[output_layer])\n",
    "    model.compile('adam', 'mean_squared_error', metrics=['mean_absolute_error'])\n",
    "    return model\n",
    "    "
   ]
  },
  {
   "cell_type": "code",
   "execution_count": 49,
   "metadata": {},
   "outputs": [
    {
     "name": "stdout",
     "output_type": "stream",
     "text": [
      "Model: \"model_7\"\n",
      "__________________________________________________________________________________________________\n",
      "Layer (type)                    Output Shape         Param #     Connected to                     \n",
      "==================================================================================================\n",
      "FullDescription (InputLayer)    (None, None)         0                                            \n",
      "__________________________________________________________________________________________________\n",
      "embedding_9 (Embedding)         (None, None, 64)     2186112     Title[0][0]                      \n",
      "                                                                 FullDescription[0][0]            \n",
      "__________________________________________________________________________________________________\n",
      "Title (InputLayer)              (None, None)         0                                            \n",
      "__________________________________________________________________________________________________\n",
      "Categorical (InputLayer)        (None, 3768)         0                                            \n",
      "__________________________________________________________________________________________________\n",
      "dense_16 (Dense)                (None, None, 64)     4160        embedding_9[1][0]                \n",
      "__________________________________________________________________________________________________\n",
      "dense_17 (Dense)                (None, 128)          482432      Categorical[0][0]                \n",
      "__________________________________________________________________________________________________\n",
      "global_max_pooling1d_10 (Global (None, 64)           0           dense_16[0][0]                   \n",
      "__________________________________________________________________________________________________\n",
      "global_max_pooling1d_9 (GlobalM (None, 64)           0           embedding_9[0][0]                \n",
      "__________________________________________________________________________________________________\n",
      "concatenate_4 (Concatenate)     (None, 256)          0           dense_17[0][0]                   \n",
      "                                                                 global_max_pooling1d_10[0][0]    \n",
      "                                                                 global_max_pooling1d_9[0][0]     \n",
      "__________________________________________________________________________________________________\n",
      "dense_18 (Dense)                (None, 128)          32896       concatenate_4[0][0]              \n",
      "__________________________________________________________________________________________________\n",
      "dense_19 (Dense)                (None, 1)            129         dense_18[0][0]                   \n",
      "==================================================================================================\n",
      "Total params: 2,705,729\n",
      "Trainable params: 2,705,729\n",
      "Non-trainable params: 0\n",
      "__________________________________________________________________________________________________\n"
     ]
    }
   ],
   "source": [
    "model = build_model()\n",
    "model.summary()\n",
    "\n",
    "dummy_pred = model.predict(make_batch(data_train[:100]))\n",
    "dummy_loss = model.train_on_batch(make_batch(data_train[:100]), data_train['Log1pSalary'][:100])[0]\n",
    "assert dummy_pred.shape == (100, 1)\n",
    "assert len(np.unique(dummy_pred)) > 20, \"model returns suspiciously few unique outputs. Check your initialization\"\n",
    "assert np.ndim(dummy_loss) == 0 and 0. <= dummy_loss <= 250., \"make sure you minimize MSE\""
   ]
  },
  {
   "cell_type": "markdown",
   "metadata": {},
   "source": [
    "#### Training and evaluation\n",
    "\n",
    "As usual, we gonna feed our monster with random minibatches of data. \n",
    "\n",
    "As we train, we want to monitor not only loss function, which is computed in log-space, but also the actual error measured in dollars."
   ]
  },
  {
   "cell_type": "code",
   "execution_count": 50,
   "metadata": {},
   "outputs": [],
   "source": [
    "def iterate_minibatches(data, batch_size=256, shuffle=True, cycle=False, **kwargs):\n",
    "    \"\"\" iterates minibatches of data in random order \"\"\"\n",
    "    while True:\n",
    "        indices = np.arange(len(data))\n",
    "        if shuffle:\n",
    "            indices = np.random.permutation(indices)\n",
    "\n",
    "        for start in range(0, len(indices), batch_size):\n",
    "            batch = make_batch(data.iloc[indices[start : start + batch_size]], **kwargs)\n",
    "            target = batch.pop(target_column)\n",
    "            yield batch, target\n",
    "        \n",
    "        if not cycle: break"
   ]
  },
  {
   "cell_type": "markdown",
   "metadata": {},
   "source": [
    "### Model training\n",
    "\n",
    "We can now fit our model the usual minibatch way. The interesting part is that we train on an infinite stream of minibatches, produced by `iterate_minibatches` function."
   ]
  },
  {
   "cell_type": "code",
   "execution_count": 51,
   "metadata": {},
   "outputs": [
    {
     "name": "stdout",
     "output_type": "stream",
     "text": [
      "Epoch 1/10\n",
      "100/100 [==============================] - 60s 604ms/step - loss: 11.9531 - mean_absolute_error: 2.0052 - val_loss: 0.2061 - val_mean_absolute_error: 0.3599\n",
      "Epoch 2/10\n",
      "100/100 [==============================] - 53s 528ms/step - loss: 0.1673 - mean_absolute_error: 0.3133 - val_loss: 0.1565 - val_mean_absolute_error: 0.2812\n",
      "Epoch 3/10\n",
      "100/100 [==============================] - 54s 537ms/step - loss: 0.1248 - mean_absolute_error: 0.2677 - val_loss: 0.1122 - val_mean_absolute_error: 0.2584\n",
      "Epoch 4/10\n",
      "100/100 [==============================] - 53s 526ms/step - loss: 0.1142 - mean_absolute_error: 0.2543 - val_loss: 0.1230 - val_mean_absolute_error: 0.2468\n",
      "Epoch 5/10\n",
      "100/100 [==============================] - 58s 581ms/step - loss: 0.1061 - mean_absolute_error: 0.2457 - val_loss: 0.1058 - val_mean_absolute_error: 0.2399\n",
      "Epoch 6/10\n",
      "100/100 [==============================] - 55s 552ms/step - loss: 0.1026 - mean_absolute_error: 0.2403 - val_loss: 0.0826 - val_mean_absolute_error: 0.2353\n",
      "Epoch 7/10\n",
      "100/100 [==============================] - 59s 592ms/step - loss: 0.0989 - mean_absolute_error: 0.2345 - val_loss: 0.0875 - val_mean_absolute_error: 0.2332\n",
      "Epoch 8/10\n",
      "100/100 [==============================] - 55s 555ms/step - loss: 0.0934 - mean_absolute_error: 0.2293 - val_loss: 0.0905 - val_mean_absolute_error: 0.2316\n",
      "Epoch 9/10\n",
      "100/100 [==============================] - 53s 531ms/step - loss: 0.0920 - mean_absolute_error: 0.2253 - val_loss: 0.1091 - val_mean_absolute_error: 0.2312\n",
      "Epoch 10/10\n",
      "100/100 [==============================] - 54s 536ms/step - loss: 0.0903 - mean_absolute_error: 0.2251 - val_loss: 0.0982 - val_mean_absolute_error: 0.2277\n"
     ]
    },
    {
     "data": {
      "text/plain": [
       "<keras.callbacks.callbacks.History at 0x7f9bb352eb90>"
      ]
     },
     "execution_count": 51,
     "metadata": {},
     "output_type": "execute_result"
    }
   ],
   "source": [
    "batch_size = 256\n",
    "epochs = 10            # definitely too small\n",
    "steps_per_epoch = 100  # for full pass over data: (len(data_train) - 1) // batch_size + 1\n",
    "\n",
    "model = build_model()\n",
    "\n",
    "model.fit_generator(iterate_minibatches(data_train, batch_size, cycle=True, word_dropout=0.05), \n",
    "                    epochs=epochs, steps_per_epoch=steps_per_epoch,\n",
    "                    \n",
    "                    validation_data=iterate_minibatches(data_val, batch_size, cycle=True),\n",
    "                    validation_steps=data_val.shape[0] // batch_size\n",
    "                   )"
   ]
  },
  {
   "cell_type": "code",
   "execution_count": 52,
   "metadata": {},
   "outputs": [
    {
     "name": "stdout",
     "output_type": "stream",
     "text": [
      "Train results:\n",
      "Mean square error: 0.08629\n",
      "Mean absolute error: 0.21958\n",
      "Val results:\n",
      "Mean square error: 0.09184\n",
      "Mean absolute error: 0.22736\n"
     ]
    }
   ],
   "source": [
    "def print_metrics(model, data, batch_size=batch_size, name=\"\", **kw):\n",
    "    squared_error = abs_error = num_samples = 0.0\n",
    "    for batch_x, batch_y in iterate_minibatches(data, batch_size=batch_size, shuffle=False, **kw):\n",
    "        batch_pred = model.predict(batch_x)[:, 0]\n",
    "        squared_error += np.sum(np.square(batch_pred - batch_y))\n",
    "        abs_error += np.sum(np.abs(batch_pred - batch_y))\n",
    "        num_samples += len(batch_y)\n",
    "    print(\"%s results:\" % (name or \"\"))\n",
    "    print(\"Mean square error: %.5f\" % (squared_error / num_samples))\n",
    "    print(\"Mean absolute error: %.5f\" % (abs_error / num_samples))\n",
    "    return squared_error, abs_error\n",
    "    \n",
    "print_metrics(model, data_train, name='Train')\n",
    "print_metrics(model, data_val, name='Val');"
   ]
  },
  {
   "cell_type": "markdown",
   "metadata": {},
   "source": [
    "### Bonus part: explaining model predictions\n",
    "\n",
    "It's usually a good idea to understand how your model works before you let it make actual decisions. It's simple for linear models: just see which words learned positive or negative weights. However, its much harder for neural networks that learn complex nonlinear dependencies.\n",
    "\n",
    "There are, however, some ways to look inside the black box:\n",
    "* Seeing how model responds to input perturbations\n",
    "* Finding inputs that maximize/minimize activation of some chosen neurons (_read more [on distill.pub](https://distill.pub/2018/building-blocks/)_)\n",
    "* Building local linear approximations to your neural network: [article](https://arxiv.org/abs/1602.04938), [eli5 library](https://github.com/TeamHG-Memex/eli5/tree/master/eli5/formatters)\n",
    "\n",
    "Today we gonna try the first method just because it's the simplest one."
   ]
  },
  {
   "cell_type": "code",
   "execution_count": 53,
   "metadata": {},
   "outputs": [],
   "source": [
    "def explain(model, sample, col_name='Title'):\n",
    "    \"\"\" Computes the effect each word had on model predictions \"\"\"\n",
    "    sample = dict(sample)\n",
    "    sample_col_tokens = [tokens[token_to_id.get(tok, 0)] for tok in sample[col_name].split()]\n",
    "    data_drop_one_token = pd.DataFrame([sample] * (len(sample_col_tokens) + 1))\n",
    "\n",
    "    for drop_i in range(len(sample_col_tokens)):\n",
    "        data_drop_one_token.loc[drop_i, col_name] = ' '.join(UNK if i == drop_i else tok\n",
    "                                                   for i, tok in enumerate(sample_col_tokens)) \n",
    "\n",
    "    *predictions_drop_one_token, baseline_pred = model.predict(make_batch(data_drop_one_token))[:, 0]\n",
    "    diffs = baseline_pred - predictions_drop_one_token\n",
    "    return list(zip(sample_col_tokens, diffs))"
   ]
  },
  {
   "cell_type": "code",
   "execution_count": 54,
   "metadata": {},
   "outputs": [],
   "source": [
    "from IPython.display import HTML, display_html\n",
    "\n",
    "def draw_html(tokens_and_weights, cmap=plt.get_cmap(\"bwr\"), display=True,\n",
    "              token_template=\"\"\"<span style=\"background-color: {color_hex}\">{token}</span>\"\"\",\n",
    "              font_style=\"font-size:14px;\"\n",
    "             ):\n",
    "    \n",
    "    def get_color_hex(weight):\n",
    "        rgba = cmap(1. / (1 + np.exp(weight)), bytes=True)\n",
    "        return '#%02X%02X%02X' % rgba[:3]\n",
    "    \n",
    "    tokens_html = [\n",
    "        token_template.format(token=token, color_hex=get_color_hex(weight))\n",
    "        for token, weight in tokens_and_weights\n",
    "    ]\n",
    "    \n",
    "    \n",
    "    raw_html = \"\"\"<p style=\"{}\">{}</p>\"\"\".format(font_style, ' '.join(tokens_html))\n",
    "    if display:\n",
    "        display_html(HTML(raw_html))\n",
    "        \n",
    "    return raw_html\n",
    "    "
   ]
  },
  {
   "cell_type": "code",
   "execution_count": 55,
   "metadata": {},
   "outputs": [
    {
     "data": {
      "text/html": [
       "<p style=\"font-size:20px;\"><span style=\"background-color: #FFF0F0\">sales</span> <span style=\"background-color: #BABAFF\">specialist</span> <span style=\"background-color: #FFE0E0\">iv</span> <span style=\"background-color: #FFF4F4\">access</span> <span style=\"background-color: #FFDCDC\">and</span> <span style=\"background-color: #FFDADA\">infusion</span></p>"
      ]
     },
     "metadata": {},
     "output_type": "display_data"
    },
    {
     "data": {
      "text/html": [
       "<p style=\"font-size:14px;\"><span style=\"background-color: #FFFEFE\">sales</span> <span style=\"background-color: #FFFEFE\">representative</span> <span style=\"background-color: #FFFEFE\">medical</span> <span style=\"background-color: #FFFEFE\">sales</span> <span style=\"background-color: #FFFEFE\">iv</span> <span style=\"background-color: #FFFEFE\">access</span> <span style=\"background-color: #FFFEFE\">and</span> <span style=\"background-color: #FFFEFE\">infusion</span> <span style=\"background-color: #FFFEFE\">an</span> <span style=\"background-color: #FFFEFE\">opportunity</span> <span style=\"background-color: #FFFEFE\">to</span> <span style=\"background-color: #FFFEFE\">work</span> <span style=\"background-color: #FFFEFE\">for</span> <span style=\"background-color: #FFFEFE\">the</span> <span style=\"background-color: #FFFEFE\">industry</span> <span style=\"background-color: #FFFEFE\">leading</span> <span style=\"background-color: #FFFEFE\">manufacturer</span> <span style=\"background-color: #FFFEFE\">of</span> <span style=\"background-color: #FFFEFE\">iv</span> <span style=\"background-color: #FFFEFE\">access</span> <span style=\"background-color: #FFFEFE\">and</span> <span style=\"background-color: #FFFEFE\">infusion</span> <span style=\"background-color: #FFFEFE\">solutions</span> <span style=\"background-color: #FFFEFE\">.</span> <span style=\"background-color: #FFFEFE\">formally</span> <span style=\"background-color: #FFFEFE\">recognised</span> <span style=\"background-color: #FFFEFE\">as</span> <span style=\"background-color: #FFFEFE\">the</span> <span style=\"background-color: #FFFEFE\">number</span> <span style=\"background-color: #FFFEFE\">****</span> <span style=\"background-color: #FFFEFE\">company</span> <span style=\"background-color: #FFFEFE\">in</span> <span style=\"background-color: #FFFEFE\">this</span> <span style=\"background-color: #FFFEFE\">market</span> <span style=\"background-color: #FFFEFE\">space</span> <span style=\"background-color: #FFFEFE\">,</span> <span style=\"background-color: #FFFEFE\">our</span> <span style=\"background-color: #FFFEFE\">client</span> <span style=\"background-color: #FFFEFE\">are</span> <span style=\"background-color: #FFFEFE\">an</span> <span style=\"background-color: #FFFEFE\">ethical</span> <span style=\"background-color: #FFFEFE\">and</span> <span style=\"background-color: #FFFEFE\">dynamic</span> <span style=\"background-color: #FFFEFE\">organisation</span> <span style=\"background-color: #FFFEFE\">absolutely</span> <span style=\"background-color: #FFFEFE\">committed</span> <span style=\"background-color: #FFFEFE\">to</span> <span style=\"background-color: #FFFEFE\">the</span> <span style=\"background-color: #FFFEFE\">advancement</span> <span style=\"background-color: #FFFEFE\">of</span> <span style=\"background-color: #FFFEFE\">innovative</span> <span style=\"background-color: #FFFEFE\">technologies</span> <span style=\"background-color: #FFFEFE\">.</span> <span style=\"background-color: #FFFEFE\">job</span> <span style=\"background-color: #FFFEFE\">title</span> <span style=\"background-color: #FFFEFE\">:</span> <span style=\"background-color: #FFFEFE\">sales</span> <span style=\"background-color: #FFFEFE\">specialist</span> <span style=\"background-color: #FFFEFE\">iv</span> <span style=\"background-color: #FFFEFE\">access</span> <span style=\"background-color: #FFFEFE\">and</span> <span style=\"background-color: #FFFEFE\">infusion</span> <span style=\"background-color: #FFFEFE\">selling</span> <span style=\"background-color: #FFFEFE\">:</span> <span style=\"background-color: #FFFEFE\">medication</span> <span style=\"background-color: #FFFEFE\">delivery</span> <span style=\"background-color: #FFFEFE\">solutions</span> <span style=\"background-color: #FFFEFE\">selling</span> <span style=\"background-color: #FFFEFE\">to</span> <span style=\"background-color: #FFFEFE\">:</span> <span style=\"background-color: #FFFEFE\">iv</span> <span style=\"background-color: #FFFEFE\">teams</span> <span style=\"background-color: #FFFEFE\">,</span> <span style=\"background-color: #FFFEFE\">infection</span> <span style=\"background-color: #FFFEFE\">control</span> <span style=\"background-color: #FFFEFE\">,</span> <span style=\"background-color: #FFFEFE\">lead</span> <span style=\"background-color: #FFFEFE\">intensive</span> <span style=\"background-color: #FFFEFE\">care</span> <span style=\"background-color: #FFFEFE\">nurse</span> <span style=\"background-color: #FFFEFE\">specialists</span> <span style=\"background-color: #FFFEFE\">,</span> <span style=\"background-color: #FFFEFE\">ward</span> <span style=\"background-color: #FFFEFE\">managers</span> <span style=\"background-color: #F8F8FF\">territory</span> <span style=\"background-color: #FFFEFE\">:</span> <span style=\"background-color: #FFFEFE\">east</span> <span style=\"background-color: #FFFEFE\">midlands</span> <span style=\"background-color: #FFFEFE\">location</span> <span style=\"background-color: #FFFEFE\">:</span> <span style=\"background-color: #FFFEFE\">east</span> <span style=\"background-color: #FFFEFE\">midlands</span> <span style=\"background-color: #FFFEFE\">package</span> <span style=\"background-color: #FFFEFE\">:</span> <span style=\"background-color: #FCFCFF\">basic</span> <span style=\"background-color: #FFFEFE\">:</span> <span style=\"background-color: #FFFEFE\">****</span> <span style=\"background-color: #FFFEFE\">k</span> <span style=\"background-color: #FFFEFE\">****</span> <span style=\"background-color: #FFFEFE\">k</span> <span style=\"background-color: #FFFEFE\">,</span> <span style=\"background-color: #FFFEFE\">uncapped</span> <span style=\"background-color: #FFFEFE\">bonus</span> <span style=\"background-color: #FFFEFE\">in</span> <span style=\"background-color: #FFFEFE\">addition</span> <span style=\"background-color: #FFFEFE\">,</span> <span style=\"background-color: #FFFEFE\">full</span> <span style=\"background-color: #F8F8FF\">corporate</span> <span style=\"background-color: #FFFEFE\">benefits</span> <span style=\"background-color: #FFFEFE\">company</span> <span style=\"background-color: #FFFEFE\">information</span> <span style=\"background-color: #FFFEFE\">hugely</span> <span style=\"background-color: #FFFEFE\">ethical</span> <span style=\"background-color: #FFFEFE\">and</span> <span style=\"background-color: #FFFEFE\">professional</span> <span style=\"background-color: #E2E2FF\">global</span> <span style=\"background-color: #FFFEFE\">organisation</span> <span style=\"background-color: #FCFCFF\">extremely</span> <span style=\"background-color: #FFFEFE\">well</span> <span style=\"background-color: #FFFEFE\">established</span> <span style=\"background-color: #FFFEFE\">in</span> <span style=\"background-color: #FFFEFE\">the</span> <span style=\"background-color: #FFFEFE\">uk</span> <span style=\"background-color: #FFFEFE\">the</span> <span style=\"background-color: #FFFEFE\">market</span> <span style=\"background-color: #FFFEFE\">leader</span> <span style=\"background-color: #FFFEFE\">across</span> <span style=\"background-color: #FEFEFF\">all</span> <span style=\"background-color: #FFFEFE\">of</span> <span style=\"background-color: #FFFEFE\">their</span> <span style=\"background-color: #FFFEFE\">core</span> <span style=\"background-color: #FFFEFE\">business</span> <span style=\"background-color: #FFFEFE\">areas</span> <span style=\"background-color: #FFFEFE\">focus</span> <span style=\"background-color: #FFFEFE\">on</span> <span style=\"background-color: #FFFEFE\">providing</span> <span style=\"background-color: #FFFEFE\">cutting</span> <span style=\"background-color: #FFFEFE\">edge</span> <span style=\"background-color: #FFFEFE\">solutions</span> <span style=\"background-color: #FFFEFE\">along</span> <span style=\"background-color: #FEFEFF\">with</span> <span style=\"background-color: #FFFEFE\">outstanding</span> <span style=\"background-color: #FFFEFE\">service</span> <span style=\"background-color: #FFFEFE\">and</span> <span style=\"background-color: #FCFCFF\">support</span> <span style=\"background-color: #FFFEFE\">a</span> <span style=\"background-color: #FFFEFE\">business</span> <span style=\"background-color: #FFFEFE\">that</span> <span style=\"background-color: #FFFEFE\">retain</span> <span style=\"background-color: #FFFEFE\">talented</span> <span style=\"background-color: #FFFEFE\">personnel</span> <span style=\"background-color: #FFFEFE\">by</span> <span style=\"background-color: #FFFEFE\">offering</span> <span style=\"background-color: #FFFEFE\">a</span> <span style=\"background-color: #FFFEFE\">strong</span> <span style=\"background-color: #F3F3FF\">platform</span> <span style=\"background-color: #FFFEFE\">for</span> <span style=\"background-color: #FFFEFE\">career</span> <span style=\"background-color: #FFFEFE\">development</span> <span style=\"background-color: #FFFEFE\">sales</span> <span style=\"background-color: #FFFEFE\">specialist</span> <span style=\"background-color: #FFFEFE\">iv</span> <span style=\"background-color: #FFFEFE\">access</span> <span style=\"background-color: #FFFEFE\">and</span> <span style=\"background-color: #FFFEFE\">infusion</span> <span style=\"background-color: #FFFEFE\">you</span> <span style=\"background-color: #FFFEFE\">must</span> <span style=\"background-color: #FFFEFE\">have</span> <span style=\"background-color: #FFFEFE\">/</span> <span style=\"background-color: #FFFEFE\">be</span> <span style=\"background-color: #FFFEFE\">the</span> <span style=\"background-color: #FFFEFE\">following</span> <span style=\"background-color: #FFFEFE\">at</span> <span style=\"background-color: #FFFEFE\">least</span> <span style=\"background-color: #FFFEFE\">2</span> <span style=\"background-color: #F2F2FF\">years</span> <span style=\"background-color: #FFFEFE\">medical</span> <span style=\"background-color: #FFFEFE\">device</span> <span style=\"background-color: #FFFEFE\">sales</span> <span style=\"background-color: #FEFEFF\">experience</span> <span style=\"background-color: #FFFEFE\">.</span> <span style=\"background-color: #FFFEFE\">candidates</span> <span style=\"background-color: #FFFEFE\">who</span> <span style=\"background-color: #FFFEFE\">have</span> <span style=\"background-color: #FFFEFE\">sold</span> <span style=\"background-color: #FFFEFE\">disposables</span> <span style=\"background-color: #FFFEFE\">/</span> <span style=\"background-color: #FFFEFE\">consumables</span> <span style=\"background-color: #FFFEFE\">or</span> <span style=\"background-color: #FFFEFE\">similar</span> <span style=\"background-color: #FFFEFE\">into</span> <span style=\"background-color: #FFFEFE\">hospitals</span> <span style=\"background-color: #FFFEFE\">would</span> <span style=\"background-color: #FFFEFE\">be</span> <span style=\"background-color: #FFFEFE\">of</span> <span style=\"background-color: #FFFEFE\">particular</span> <span style=\"background-color: #FFFEFE\">interest</span> <span style=\"background-color: #FFFEFE\">.</span> <span style=\"background-color: #FFFEFE\">candidates</span> <span style=\"background-color: #FFFEFE\">must</span> <span style=\"background-color: #FFFEFE\">have</span> <span style=\"background-color: #FFFEFE\">sold</span> <span style=\"background-color: #FFFEFE\">into</span> <span style=\"background-color: #FFFEFE\">hospitals</span> <span style=\"background-color: #FFFEFE\">demonstrable</span> <span style=\"background-color: #FFFEFE\">performance</span> <span style=\"background-color: #FFFEFE\">and</span> <span style=\"background-color: #FFFEFE\">achievements</span> <span style=\"background-color: #FFFEFE\">so</span> <span style=\"background-color: #FFFEFE\">far</span> <span style=\"background-color: #FFFEFE\">personable</span> <span style=\"background-color: #FFFEFE\">,</span> <span style=\"background-color: #FFFEFE\">adaptable</span> <span style=\"background-color: #FFFEFE\">and</span> <span style=\"background-color: #FFFEFE\">willing</span> <span style=\"background-color: #FFFEFE\">to</span> <span style=\"background-color: #FFFEFE\">learn</span> <span style=\"background-color: #FFFEFE\">keen</span> <span style=\"background-color: #FFFEFE\">and</span> <span style=\"background-color: #FFFEFE\">eager</span> <span style=\"background-color: #FFFEFE\">to</span> <span style=\"background-color: #FFFEFE\">be</span> <span style=\"background-color: #FFFEFE\">a</span> <span style=\"background-color: #FFFEFE\">success</span> <span style=\"background-color: #FFFEFE\">candidates</span> <span style=\"background-color: #FFFEFE\">must</span> <span style=\"background-color: #FFFEFE\">have</span> <span style=\"background-color: #FFFEFE\">a</span> <span style=\"background-color: #FFFEFE\">degree</span> <span style=\"background-color: #FFFEFE\">or</span> <span style=\"background-color: #FFFEFE\">at</span> <span style=\"background-color: #FFFEFE\">least</span> <span style=\"background-color: #FFFEFE\">be</span> <span style=\"background-color: #FFFEFE\">able</span> <span style=\"background-color: #FFFEFE\">to</span> <span style=\"background-color: #FFFEFE\">show</span> <span style=\"background-color: #FFFEFE\">a</span> <span style=\"background-color: #FFFEFE\">strong</span> <span style=\"background-color: #FFFEFE\">ability</span> <span style=\"background-color: #FFFEFE\">to</span> <span style=\"background-color: #FFFEFE\">learn</span> <span style=\"background-color: #FFFEFE\">role</span> <span style=\"background-color: #FFFEFE\">information</span> <span style=\"background-color: #FEFEFF\">managing</span> <span style=\"background-color: #FFFEFE\">the</span> <span style=\"background-color: #FFFEFE\">east</span> <span style=\"background-color: #FFFEFE\">midlands</span> <span style=\"background-color: #FFFEFE\">region</span> <span style=\"background-color: #FFFEFE\">selling</span> <span style=\"background-color: #FFFEFE\">across</span> <span style=\"background-color: #FFFEFE\">the</span> <span style=\"background-color: #FFFEFE\">company</span> <span style=\"background-color: #FFFEFE\">'</span> <span style=\"background-color: #FFFEFE\">s</span> <span style=\"background-color: #FFFEFE\">range</span> <span style=\"background-color: #FFFEFE\">of</span> <span style=\"background-color: #FFFEFE\">iv</span> <span style=\"background-color: #FFFEFE\">and</span> <span style=\"background-color: #FFFEFE\">infusion</span> <span style=\"background-color: #FFFEFE\">solutions</span> <span style=\"background-color: #FFFEFE\">portfolio</span> <span style=\"background-color: #FFFEFE\">selling</span> <span style=\"background-color: #FFFEFE\">into</span> <span style=\"background-color: #FFFEFE\">lead</span> <span style=\"background-color: #FFFEFE\">intensive</span> <span style=\"background-color: #FFFEFE\">care</span> <span style=\"background-color: #FFFEFE\">nurse</span> <span style=\"background-color: #FFFEFE\">specialists</span> <span style=\"background-color: #FFFEFE\">,</span> <span style=\"background-color: #FFFEFE\">ward</span> <span style=\"background-color: #FFFEFE\">managers</span> <span style=\"background-color: #FFFEFE\">,</span> <span style=\"background-color: #FFFEFE\">iv</span> <span style=\"background-color: #FFFEFE\">teams</span> <span style=\"background-color: #FFFEFE\">,</span> <span style=\"background-color: #FFFEFE\">infection</span> <span style=\"background-color: #FFFEFE\">control</span> <span style=\"background-color: #FFFEFE\">teams</span> <span style=\"background-color: #FFFEFE\">,</span> <span style=\"background-color: #F2F2FF\">procurement</span> <span style=\"background-color: #FFFEFE\">sales</span> <span style=\"background-color: #FFFEFE\">specialist</span> <span style=\"background-color: #FFFEFE\">iv</span> <span style=\"background-color: #FFFEFE\">access</span> <span style=\"background-color: #FFFEFE\">and</span> <span style=\"background-color: #FFFEFE\">infusion</span> <span style=\"background-color: #FFFEFE\">candidates</span> <span style=\"background-color: #FFFEFE\">must</span> <span style=\"background-color: #FFFEFE\">be</span> <span style=\"background-color: #FFFEFE\">eligible</span> <span style=\"background-color: #FFFEFE\">to</span> <span style=\"background-color: #FFFEFE\">work</span> <span style=\"background-color: #FFFEFE\">and</span> <span style=\"background-color: #FFFEFE\">live</span> <span style=\"background-color: #FFFEFE\">in</span> <span style=\"background-color: #FFFEFE\">the</span> <span style=\"background-color: #FFFEFE\">uk</span> <span style=\"background-color: #FFFEFE\">.</span> <span style=\"background-color: #FFFEFE\">please</span> <span style=\"background-color: #FFFEFE\">contact</span> <span style=\"background-color: #FFFEFE\">allan</span> <span style=\"background-color: #FFFEFE\">waller</span> <span style=\"background-color: #FFFEFE\">on</span> <span style=\"background-color: #FFFEFE\">****</span> <span style=\"background-color: #FFFEFE\">****</span> <span style=\"background-color: #FFFEFE\">****</span> <span style=\"background-color: #FFFEFE\">or</span> <span style=\"background-color: #FFFEFE\">please</span> <span style=\"background-color: #FFFEFE\">hit</span> <span style=\"background-color: #FFFEFE\">the</span> <span style=\"background-color: #FFFEFE\">apply</span> <span style=\"background-color: #FFFEFE\">button</span> <span style=\"background-color: #FFFEFE\">.</span> <span style=\"background-color: #FFFEFE\">this</span> <span style=\"background-color: #FFFEFE\">job</span> <span style=\"background-color: #FFFEFE\">was</span> <span style=\"background-color: #FFFEFE\">originally</span> <span style=\"background-color: #FCFCFF\">posted</span> <span style=\"background-color: #FFFEFE\">as</span> <span style=\"background-color: #FAFAFF\">www</span> <span style=\"background-color: #FFFEFE\">.</span> <span style=\"background-color: #FFFEFE\">salestarget</span> <span style=\"background-color: #FFFEFE\">.</span> <span style=\"background-color: #FFFEFE\">co</span> <span style=\"background-color: #FFFEFE\">.</span> <span style=\"background-color: #FFFEFE\">uk</span> <span style=\"background-color: #FFFEFE\">/</span> <span style=\"background-color: #FAFAFF\">jobseeking</span> <span style=\"background-color: #FFFEFE\">/</span> <span style=\"background-color: #FFFEFE\">UNK</span> <span style=\"background-color: #FFFEFE\">****</span></p>"
      ]
     },
     "metadata": {},
     "output_type": "display_data"
    }
   ],
   "source": [
    "i = 36605\n",
    "tokens_and_weights = explain(model, data.loc[i], \"Title\")\n",
    "draw_html([(tok, weight * 5) for tok, weight in tokens_and_weights], font_style='font-size:20px;');\n",
    "\n",
    "tokens_and_weights = explain(model, data.loc[i], \"FullDescription\")\n",
    "draw_html([(tok, weight * 10) for tok, weight in tokens_and_weights]);"
   ]
  },
  {
   "cell_type": "code",
   "execution_count": 56,
   "metadata": {},
   "outputs": [
    {
     "data": {
      "text/html": [
       "<p style=\"font-size:20px;\"><span style=\"background-color: #FFD0D0\">cleaning</span> <span style=\"background-color: #FFEEEE\">operative</span></p>"
      ]
     },
     "metadata": {},
     "output_type": "display_data"
    },
    {
     "data": {
      "text/html": [
       "<p style=\"font-size:14px;\"><span style=\"background-color: #FEFEFF\">12</span> <span style=\"background-color: #FEFEFF\">.</span> <span style=\"background-color: #FAFAFF\">5</span> <span style=\"background-color: #FCFCFF\">hours</span> <span style=\"background-color: #FEFEFF\">per</span> <span style=\"background-color: #FCFCFF\">week</span> <span style=\"background-color: #FEFEFF\">monday</span> <span style=\"background-color: #F3F3FF\">friday</span> <span style=\"background-color: #FEFEFF\">9am</span> <span style=\"background-color: #FEFEFF\">11</span> <span style=\"background-color: #FEFEFF\">.</span> <span style=\"background-color: #FEFEFF\">30am</span> <span style=\"background-color: #DADAFF\">duties</span> <span style=\"background-color: #FEFEFF\">to</span> <span style=\"background-color: #F8F8FF\">include</span> <span style=\"background-color: #FEFEFF\">sweeping</span> <span style=\"background-color: #FEFEFF\">,</span> <span style=\"background-color: #ECECFF\">mopping</span> <span style=\"background-color: #FEFEFF\">,</span> <span style=\"background-color: #FEFEFF\">vacuuming</span> <span style=\"background-color: #FEFEFF\">,</span> <span style=\"background-color: #FEFEFF\">buffing</span> <span style=\"background-color: #FEFEFF\">,</span> <span style=\"background-color: #FEFEFF\">cleaning</span> <span style=\"background-color: #FEFEFF\">staff</span> <span style=\"background-color: #FEFEFF\">toilets</span> <span style=\"background-color: #FEFEFF\">and</span> <span style=\"background-color: #FEFEFF\">rest</span> <span style=\"background-color: #F8F8FF\">room</span> <span style=\"background-color: #FEFEFF\">.</span> <span style=\"background-color: #D6D6FF\">must</span> <span style=\"background-color: #FEFEFF\">be</span> <span style=\"background-color: #FEFEFF\">able</span> <span style=\"background-color: #FEFEFF\">to</span> <span style=\"background-color: #FEFEFF\">read</span> <span style=\"background-color: #FEFEFF\">as</span> <span style=\"background-color: #FEFEFF\">they</span> <span style=\"background-color: #FEFEFF\">will</span> <span style=\"background-color: #FEFEFF\">be</span> <span style=\"background-color: #FEFEFF\">using</span> <span style=\"background-color: #FEFEFF\">UNK</span> <span style=\"background-color: #FEFEFF\">which</span> <span style=\"background-color: #B3B3FF\">need</span> <span style=\"background-color: #FEFEFF\">UNK</span> <span style=\"background-color: #FEFEFF\">as</span> <span style=\"background-color: #FEFEFF\">per</span> <span style=\"background-color: #FEFEFF\">instructions</span> <span style=\"background-color: #FEFEFF\">on</span> <span style=\"background-color: #FAFAFF\">the</span> <span style=\"background-color: #FEFEFF\">containers</span> <span style=\"background-color: #FEFEFF\">.</span> <span style=\"background-color: #FEFEFF\">sucessfull</span> <span style=\"background-color: #FEFEFF\">applicants</span> <span style=\"background-color: #FEFEFF\">will</span> <span style=\"background-color: #FEFEFF\">be</span> <span style=\"background-color: #FCFCFF\">trained</span> <span style=\"background-color: #FEFEFF\">on</span> <span style=\"background-color: #FEFEFF\">all</span> <span style=\"background-color: #CECEFF\">electrical</span> <span style=\"background-color: #FEFEFF\">appliances</span> <span style=\"background-color: #FEFEFF\">and</span> <span style=\"background-color: #FEFEFF\">UNK</span> <span style=\"background-color: #C3C3FF\">of</span> <span style=\"background-color: #FEFEFF\">cleaning</span> <span style=\"background-color: #FEFEFF\">materials</span> <span style=\"background-color: #FFFEFE\">.</span></p>"
      ]
     },
     "metadata": {},
     "output_type": "display_data"
    }
   ],
   "source": [
    "i = 12077\n",
    "tokens_and_weights = explain(model, data.loc[i], \"Title\")\n",
    "draw_html([(tok, weight * 5) for tok, weight in tokens_and_weights], font_style='font-size:20px;');\n",
    "\n",
    "tokens_and_weights = explain(model, data.loc[i], \"FullDescription\")\n",
    "draw_html([(tok, weight * 10) for tok, weight in tokens_and_weights]);"
   ]
  },
  {
   "cell_type": "code",
   "execution_count": 57,
   "metadata": {},
   "outputs": [
    {
     "name": "stdout",
     "output_type": "stream",
     "text": [
      "Index: 170207\n",
      "Salary (gbp): 26359.719\n"
     ]
    },
    {
     "data": {
      "text/html": [
       "<p style=\"font-size:20px;\"><span style=\"background-color: #FFF8F8\">area</span> <span style=\"background-color: #E6E6FF\">sales</span> <span style=\"background-color: #4040FF\">manager</span></p>"
      ]
     },
     "metadata": {},
     "output_type": "display_data"
    },
    {
     "data": {
      "text/html": [
       "<p style=\"font-size:14px;\"><span style=\"background-color: #FFE4E4\">area</span> <span style=\"background-color: #FFE4E4\">sales</span> <span style=\"background-color: #FFE4E4\">manager</span> <span style=\"background-color: #FFE4E4\">industrial</span> <span style=\"background-color: #FFE4E4\">weighing</span> <span style=\"background-color: #FFE4E4\">equipment</span> <span style=\"background-color: #FFE8E8\">basic</span> <span style=\"background-color: #FFE4E4\">salary</span> <span style=\"background-color: #FFE4E4\">********</span> <span style=\"background-color: #FFE4E4\">bristol</span> <span style=\"background-color: #FFE4E4\">,</span> <span style=\"background-color: #FFE4E4\">bath</span> <span style=\"background-color: #FFE4E4\">the</span> <span style=\"background-color: #FFE4E4\">role</span> <span style=\"background-color: #FFE4E4\">:</span> <span style=\"background-color: #FFE4E4\">as</span> <span style=\"background-color: #FFE4E4\">an</span> <span style=\"background-color: #FFE4E4\">area</span> <span style=\"background-color: #FFE4E4\">sales</span> <span style=\"background-color: #FFE4E4\">manager</span> <span style=\"background-color: #FFE4E4\">you</span> <span style=\"background-color: #FFE4E4\">will</span> <span style=\"background-color: #FFE4E4\">be</span> <span style=\"background-color: #FFE4E4\">given</span> <span style=\"background-color: #FFE4E4\">a</span> <span style=\"background-color: #FFE4E4\">portfolio</span> <span style=\"background-color: #FFE4E4\">of</span> <span style=\"background-color: #FFE4E4\">accounts</span> <span style=\"background-color: #FFE4E4\">that</span> <span style=\"background-color: #FFE4E4\">will</span> <span style=\"background-color: #FFE4E4\">include</span> <span style=\"background-color: #FFE4E4\">;</span> <span style=\"background-color: #FFE4E4\">manufacturers</span> <span style=\"background-color: #FFE4E4\">,</span> <span style=\"background-color: #FFEEEE\">distributors</span> <span style=\"background-color: #FFE4E4\">and</span> <span style=\"background-color: #FFE4E4\">end</span> <span style=\"background-color: #FFE4E4\">users</span> <span style=\"background-color: #FFE4E4\">.</span> <span style=\"background-color: #FFE4E4\">60</span> <span style=\"background-color: #FFE4E4\">%</span> <span style=\"background-color: #FFE4E4\">of</span> <span style=\"background-color: #FFE4E4\">your</span> <span style=\"background-color: #FFE4E4\">time</span> <span style=\"background-color: #FFE4E4\">will</span> <span style=\"background-color: #FFE4E4\">be</span> <span style=\"background-color: #FFE4E4\">focused</span> <span style=\"background-color: #FFE4E4\">on</span> <span style=\"background-color: #FFE4E4\">existing</span> <span style=\"background-color: #FFE4E4\">accounts</span> <span style=\"background-color: #FFE4E4\">and</span> <span style=\"background-color: #FFE4E4\">the</span> <span style=\"background-color: #FFE4E4\">remainder</span> <span style=\"background-color: #FFE4E4\">will</span> <span style=\"background-color: #FFE4E4\">be</span> <span style=\"background-color: #FFE4E4\">focused</span> <span style=\"background-color: #FFE4E4\">on</span> <span style=\"background-color: #FFE4E4\">developing</span> <span style=\"background-color: #FFE4E4\">new</span> <span style=\"background-color: #FFE4E4\">revenue</span> <span style=\"background-color: #FFE8E8\">streams</span> <span style=\"background-color: #FFE4E4\">.</span> <span style=\"background-color: #FFE4E4\">the</span> <span style=\"background-color: #FFE4E4\">company</span> <span style=\"background-color: #FFE4E4\">:</span> <span style=\"background-color: #FFE4E4\">very</span> <span style=\"background-color: #FFE4E4\">few</span> <span style=\"background-color: #FFE4E4\">companies</span> <span style=\"background-color: #FFE4E4\">enjoy</span> <span style=\"background-color: #FFE4E4\">the</span> <span style=\"background-color: #FFE4E4\">brand</span> <span style=\"background-color: #FFE4E4\">reputation</span> <span style=\"background-color: #FFE4E4\">that</span> <span style=\"background-color: #FFE4E4\">our</span> <span style=\"background-color: #FFE4E4\">client</span> <span style=\"background-color: #FFE4E4\">has</span> <span style=\"background-color: #FFE4E4\">.</span> <span style=\"background-color: #FFE4E4\">they</span> <span style=\"background-color: #FFE4E4\">produce</span> <span style=\"background-color: #FFE4E4\">quality</span> <span style=\"background-color: #FFE4E4\">,</span> <span style=\"background-color: #FFE4E4\">innovative</span> <span style=\"background-color: #FFE4E4\">products</span> <span style=\"background-color: #FFE4E4\">and</span> <span style=\"background-color: #FFE4E4\">back</span> <span style=\"background-color: #FFE4E4\">this</span> <span style=\"background-color: #FFE4E4\">up</span> <span style=\"background-color: #FFE4E4\">with</span> <span style=\"background-color: #EEEEFF\">excellent</span> <span style=\"background-color: #FFE4E4\">levels</span> <span style=\"background-color: #FFE4E4\">of</span> <span style=\"background-color: #FFE4E4\">customer</span> <span style=\"background-color: #FFE4E4\">service</span> <span style=\"background-color: #FFE4E4\">.</span> <span style=\"background-color: #FFE4E4\">in</span> <span style=\"background-color: #FFE4E4\">addition</span> <span style=\"background-color: #FFE4E4\">they</span> <span style=\"background-color: #FFE4E4\">invest</span> <span style=\"background-color: #FFE4E4\">in</span> <span style=\"background-color: #FFE4E4\">their</span> <span style=\"background-color: #FFE4E4\">people</span> <span style=\"background-color: #FFE4E4\">and</span> <span style=\"background-color: #FFE4E4\">offer</span> <span style=\"background-color: #FFE4E4\">structured</span> <span style=\"background-color: #FFE4E4\">training</span> <span style=\"background-color: #FFE4E4\">and</span> <span style=\"background-color: #FFE4E4\">good</span> <span style=\"background-color: #FFE4E4\">prospects</span> <span style=\"background-color: #FFE4E4\">.</span> <span style=\"background-color: #FFE4E4\">the</span> <span style=\"background-color: #FFE4E4\">person</span> <span style=\"background-color: #FFE4E4\">:</span> <span style=\"background-color: #FFE4E4\">dealing</span> <span style=\"background-color: #FFE4E4\">with</span> <span style=\"background-color: #FFE4E4\">both</span> <span style=\"background-color: #FFE8E8\">technical</span> <span style=\"background-color: #FFE4E4\">and</span> <span style=\"background-color: #FFE4E4\">commercial</span> <span style=\"background-color: #FFE4E4\">decision</span> <span style=\"background-color: #FFE4E4\">makers</span> <span style=\"background-color: #FFE4E4\">it</span> <span style=\"background-color: #FFE4E4\">is</span> <span style=\"background-color: #FFE4E4\">important</span> <span style=\"background-color: #FFE4E4\">that</span> <span style=\"background-color: #FFE4E4\">the</span> <span style=\"background-color: #FFE4E4\">successful</span> <span style=\"background-color: #FFE4E4\">area</span> <span style=\"background-color: #FFE4E4\">sales</span> <span style=\"background-color: #FFE4E4\">manager</span> <span style=\"background-color: #FFE4E4\">has</span> <span style=\"background-color: #FFE4E4\">the</span> <span style=\"background-color: #FFE4E4\">aptitude</span> <span style=\"background-color: #FFE4E4\">to</span> <span style=\"background-color: #FFE4E4\">sell</span> <span style=\"background-color: #FFE4E4\">on</span> <span style=\"background-color: #FFE4E4\">both</span> <span style=\"background-color: #FFE4E4\">features</span> <span style=\"background-color: #FFE4E4\">and</span> <span style=\"background-color: #FFE4E4\">benefits</span> <span style=\"background-color: #FFE4E4\">and</span> <span style=\"background-color: #FFE4E4\">the</span> <span style=\"background-color: #FFE4E4\">commercial</span> <span style=\"background-color: #FFE4E4\">proposition</span> <span style=\"background-color: #FFE4E4\">.</span> <span style=\"background-color: #FFE4E4\">to</span> <span style=\"background-color: #FFE4E4\">be</span> <span style=\"background-color: #FFE4E4\">considered</span> <span style=\"background-color: #FFE4E4\">you</span> <span style=\"background-color: #FFE4E4\">will</span> <span style=\"background-color: #FFE4E4\">need</span> <span style=\"background-color: #FFE4E4\">to</span> <span style=\"background-color: #FFE4E4\">be</span> <span style=\"background-color: #FFE4E4\">an</span> <span style=\"background-color: #FFE4E4\">accomplished</span> <span style=\"background-color: #FFE4E4\">sales</span> <span style=\"background-color: #FFE4E4\">professional</span> <span style=\"background-color: #FFE4E4\">with</span> <span style=\"background-color: #FFE4E4\">a</span> <span style=\"background-color: #FFE4E4\">proven</span> <span style=\"background-color: #F0F0FF\">track</span> <span style=\"background-color: #FFE4E4\">record</span> <span style=\"background-color: #FFE4E4\">of</span> <span style=\"background-color: #FFE4E4\">hitting</span> <span style=\"background-color: #FFE4E4\">targets</span> <span style=\"background-color: #FFE4E4\">.</span> <span style=\"background-color: #FFE4E4\">the</span> <span style=\"background-color: #FFE4E4\">package</span> <span style=\"background-color: #FFE4E4\">for</span> <span style=\"background-color: #FFE4E4\">area</span> <span style=\"background-color: #FFE4E4\">sales</span> <span style=\"background-color: #FFE4E4\">manager</span> <span style=\"background-color: #FFE4E4\">:</span> <span style=\"background-color: #FFE4E4\">salary</span> <span style=\"background-color: #FFE4E4\">:</span> <span style=\"background-color: #FFE4E4\">********</span> <span style=\"background-color: #FFE4E4\">bonus</span> <span style=\"background-color: #FFE4E4\">/</span> <span style=\"background-color: #FFE4E4\">ote</span> <span style=\"background-color: #FFE4E4\">:</span> <span style=\"background-color: #FFE4E4\">****</span> <span style=\"background-color: #FFE4E4\">car</span> <span style=\"background-color: #FFE4E4\">:</span> <span style=\"background-color: #FFE4E4\">car</span> <span style=\"background-color: #FFE4E4\">or</span> <span style=\"background-color: #FFE4E4\">allowancebenefits</span> <span style=\"background-color: #FFE4E4\">:</span> <span style=\"background-color: #FFE4E4\">mobile</span> <span style=\"background-color: #FFE4E4\">,</span> <span style=\"background-color: #FFE4E4\">laptop</span> <span style=\"background-color: #FFE4E4\">,</span> <span style=\"background-color: #FFE4E4\">pension</span> <span style=\"background-color: #FFE4E4\">,</span> <span style=\"background-color: #FFE4E4\">location</span> <span style=\"background-color: #FFE4E4\">:</span> <span style=\"background-color: #FFE4E4\">the</span> <span style=\"background-color: #FFE4E4\">position</span> <span style=\"background-color: #FFE4E4\">of</span> <span style=\"background-color: #FFE4E4\">area</span> <span style=\"background-color: #FFE4E4\">sales</span> <span style=\"background-color: #FFE4E4\">manager</span> <span style=\"background-color: #FFE4E4\">covers</span> <span style=\"background-color: #FFE4E4\">bristol</span> <span style=\"background-color: #FFE4E4\">,</span> <span style=\"background-color: #FFE4E4\">bath</span> <span style=\"background-color: #FFE4E4\">,</span> <span style=\"background-color: #FFF6F6\">gloucester</span> <span style=\"background-color: #FFE4E4\">,</span> <span style=\"background-color: #FFE4E4\">newport</span> <span style=\"background-color: #FFE4E4\">,</span> <span style=\"background-color: #FFE4E4\">cardiff</span> <span style=\"background-color: #FFE4E4\">,</span> <span style=\"background-color: #FFE4E4\">exeter</span> <span style=\"background-color: #FFE4E4\">and</span> <span style=\"background-color: #FFE4E4\">taunton</span> <span style=\"background-color: #FFE4E4\">south</span> <span style=\"background-color: #FFE4E4\">west</span> <span style=\"background-color: #FFE4E4\">and</span> <span style=\"background-color: #FFE4E4\">wales</span> <span style=\"background-color: #FFE4E4\">:</span> <span style=\"background-color: #FFE4E4\">avon</span> <span style=\"background-color: #FFE4E4\">,</span> <span style=\"background-color: #FFE4E4\">bristol</span> <span style=\"background-color: #FFE4E4\">,</span> <span style=\"background-color: #FFE4E4\">bath</span> <span style=\"background-color: #FFE4E4\">,</span> <span style=\"background-color: #FFE4E4\">somerset</span> <span style=\"background-color: #FFE4E4\">,</span> <span style=\"background-color: #FFE4E4\">dorset</span> <span style=\"background-color: #FFE4E4\">,</span> <span style=\"background-color: #FFE4E4\">gloucestershire</span> <span style=\"background-color: #FFE4E4\">,</span> <span style=\"background-color: #FFE4E4\">cornwall</span> <span style=\"background-color: #FFE4E4\">,</span> <span style=\"background-color: #FFE4E4\">wiltshire</span> <span style=\"background-color: #FFE4E4\">,</span> <span style=\"background-color: #FFE4E4\">glamorgan</span> <span style=\"background-color: #FFE4E4\">,</span> <span style=\"background-color: #FFE4E4\">carmarthenshire</span> <span style=\"background-color: #FFE4E4\">,</span> <span style=\"background-color: #FFE4E4\">cardiff</span> <span style=\"background-color: #FFE4E4\">,</span> <span style=\"background-color: #FFE4E4\">swansea</span> <span style=\"background-color: #FFE4E4\">bms</span> <span style=\"background-color: #FFE4E4\">is</span> <span style=\"background-color: #FFE4E4\">a</span> <span style=\"background-color: #FFE4E4\">leading</span> <span style=\"background-color: #FFF8F8\">consultancy</span> <span style=\"background-color: #FFE4E4\">specialising</span> <span style=\"background-color: #FFE4E4\">in</span> <span style=\"background-color: #FFE4E4\">sales</span> <span style=\"background-color: #FFE4E4\">recruitment</span> <span style=\"background-color: #FFE4E4\">.</span> <span style=\"background-color: #FFE4E4\">established</span> <span style=\"background-color: #FFE4E4\">in</span> <span style=\"background-color: #FFE4E4\">1990</span> <span style=\"background-color: #FFE4E4\">,</span> <span style=\"background-color: #FFE4E4\">bms</span> <span style=\"background-color: #FFE4E4\">has</span> <span style=\"background-color: #FFE4E4\">achieved</span> <span style=\"background-color: #FFE4E4\">a</span> <span style=\"background-color: #FFE4E4\">truly</span> <span style=\"background-color: #FFE4E4\">nationwide</span> <span style=\"background-color: #FFE4E4\">presence</span> <span style=\"background-color: #FFE4E4\">through</span> <span style=\"background-color: #FFE4E4\">a</span> <span style=\"background-color: #FFE4E4\">number</span> <span style=\"background-color: #FFE4E4\">of</span> <span style=\"background-color: #FFE8E8\">regional</span> <span style=\"background-color: #FFE4E4\">centres</span> <span style=\"background-color: #FFE4E4\">.</span> <span style=\"background-color: #FFE4E4\">the</span> <span style=\"background-color: #FFE4E4\">south</span> <span style=\"background-color: #FFE4E4\">west</span> <span style=\"background-color: #FFE4E4\">operation</span> <span style=\"background-color: #FFE4E4\">,</span> <span style=\"background-color: #FFE4E4\">established</span> <span style=\"background-color: #FFE4E4\">in</span> <span style=\"background-color: #FFE4E4\">1999</span> <span style=\"background-color: #FFE4E4\">,</span> <span style=\"background-color: #FFE4E4\">was</span> <span style=\"background-color: #FFE4E4\">introduced</span> <span style=\"background-color: #FFE4E4\">to</span> <span style=\"background-color: #FFE4E4\">service</span> <span style=\"background-color: #FFE4E4\">the</span> <span style=\"background-color: #FFE4E4\">needs</span> <span style=\"background-color: #FFE4E4\">of</span> <span style=\"background-color: #FFE4E4\">candidates</span> <span style=\"background-color: #FFE4E4\">and</span> <span style=\"background-color: #FFE4E4\">clients</span> <span style=\"background-color: #FFE4E4\">alike</span> <span style=\"background-color: #FFE4E4\">throughout</span> <span style=\"background-color: #FFE4E4\">the</span> <span style=\"background-color: #FFE4E4\">south</span> <span style=\"background-color: #FFE4E4\">west</span> <span style=\"background-color: #FFE4E4\">and</span> <span style=\"background-color: #FFE4E4\">wales</span> <span style=\"background-color: #FFE4E4\">.</span> <span style=\"background-color: #FFE4E4\">offering</span> <span style=\"background-color: #FFE4E4\">sales</span> <span style=\"background-color: #FFE4E4\">jobs</span> <span style=\"background-color: #FFE4E4\">for</span> <span style=\"background-color: #FFE4E4\">trainees</span> <span style=\"background-color: #FFE4E4\">,</span> <span style=\"background-color: #FFE4E4\">sales</span> <span style=\"background-color: #FFE4E4\">representatives</span> <span style=\"background-color: #FFE4E4\">,</span> <span style=\"background-color: #FFE4E4\">sales</span> <span style=\"background-color: #FFE4E4\">executives</span> <span style=\"background-color: #FFE4E4\">,</span> <span style=\"background-color: #FFE4E4\">sales</span> <span style=\"background-color: #FFF4F4\">engineers</span> <span style=\"background-color: #FFE4E4\">,</span> <span style=\"background-color: #FFE4E4\">area</span> <span style=\"background-color: #FFE4E4\">sales</span> <span style=\"background-color: #FFE4E4\">managers</span> <span style=\"background-color: #FFE4E4\">,</span> <span style=\"background-color: #FFE6E6\">territory</span> <span style=\"background-color: #FFE4E4\">managers</span> <span style=\"background-color: #FFE4E4\">and</span> <span style=\"background-color: #FFE4E4\">account</span> <span style=\"background-color: #FFE4E4\">managers</span> <span style=\"background-color: #FFE4E4\">,</span> <span style=\"background-color: #FFE4E4\">opportunities</span> <span style=\"background-color: #FFE4E4\">are</span> <span style=\"background-color: #FFE4E4\">available</span> <span style=\"background-color: #FFE4E4\">in</span> <span style=\"background-color: #FFE4E4\">every</span> <span style=\"background-color: #FFE4E4\">corner</span> <span style=\"background-color: #FFE4E4\">of</span> <span style=\"background-color: #FFE4E4\">the</span> <span style=\"background-color: #FFE4E4\">uk</span> <span style=\"background-color: #FFE4E4\">.</span> <span style=\"background-color: #FFEAEA\">initial</span> <span style=\"background-color: #FFE4E4\">meetings</span> <span style=\"background-color: #FFE4E4\">occur</span> <span style=\"background-color: #FFE4E4\">at</span> <span style=\"background-color: #FFE4E4\">the</span> <span style=\"background-color: #FFE4E4\">convenient</span> <span style=\"background-color: #FFE4E4\">location</span> <span style=\"background-color: #FFE4E4\">of</span> <span style=\"background-color: #FFE4E4\">bristol</span> <span style=\"background-color: #FFE4E4\">just</span> <span style=\"background-color: #FFE4E4\">off</span> <span style=\"background-color: #FFE4E4\">the</span> <span style=\"background-color: #FFE4E4\">m4</span> <span style=\"background-color: #FFE4E4\">and</span> <span style=\"background-color: #FFE4E4\">m32</span> <span style=\"background-color: #FFE4E4\">and</span> <span style=\"background-color: #FFEAEA\">within</span> <span style=\"background-color: #FFE4E4\">easy</span> <span style=\"background-color: #FFE4E4\">reach</span> <span style=\"background-color: #FFE4E4\">of</span> <span style=\"background-color: #FFE4E4\">the</span> <span style=\"background-color: #FFE4E4\">m5</span> <span style=\"background-color: #FFE4E4\">.</span> <span style=\"background-color: #FFE4E4\">we</span> <span style=\"background-color: #FFE4E4\">are</span> <span style=\"background-color: #FFE4E4\">committed</span> <span style=\"background-color: #FFE4E4\">to</span> <span style=\"background-color: #FFE4E4\">meeting</span> <span style=\"background-color: #FFE4E4\">all</span> <span style=\"background-color: #FFE4E4\">potentially</span> <span style=\"background-color: #FFE4E4\">suitable</span> <span style=\"background-color: #FFE4E4\">candidates</span> <span style=\"background-color: #FFE4E4\">face</span> <span style=\"background-color: #FFE4E4\">to</span> <span style=\"background-color: #FFE4E4\">face</span> <span style=\"background-color: #FFE4E4\">.</span> <span style=\"background-color: #FFE4E4\">furthermore</span> <span style=\"background-color: #FFE4E4\">,</span> <span style=\"background-color: #FFE4E4\">our</span> <span style=\"background-color: #FFE4E4\">organisation</span> <span style=\"background-color: #FFE4E4\">consists</span> <span style=\"background-color: #FFE4E4\">of</span> <span style=\"background-color: #FFE4E4\">several</span> <span style=\"background-color: #FFE4E4\">highly</span> <span style=\"background-color: #FFE4E4\">focused</span> <span style=\"background-color: #FFF2F2\">teams</span> <span style=\"background-color: #FFE4E4\">,</span> <span style=\"background-color: #FFE4E4\">aimed</span> <span style=\"background-color: #FFE4E4\">at</span> <span style=\"background-color: #FFE4E4\">specific</span> <span style=\"background-color: #FFE4E4\">market</span> <span style=\"background-color: #FFE4E4\">sectors</span> <span style=\"background-color: #FFE4E4\">,</span> <span style=\"background-color: #FFE4E4\">enabling</span> <span style=\"background-color: #FFE4E4\">us</span> <span style=\"background-color: #FFE4E4\">to</span> <span style=\"background-color: #FFECEC\">deliver</span> <span style=\"background-color: #FFE4E4\">a</span> <span style=\"background-color: #FFE4E4\">service</span> <span style=\"background-color: #FFE4E4\">directly</span> <span style=\"background-color: #FFE4E4\">tailored</span> <span style=\"background-color: #FFE4E4\">to</span> <span style=\"background-color: #FFE4E4\">your</span> <span style=\"background-color: #FFE4E4\">needs</span> <span style=\"background-color: #FFE4E4\">.</span> <span style=\"background-color: #FFE4E4\">please</span> <span style=\"background-color: #FFE4E4\">take</span> <span style=\"background-color: #FFE4E4\">the</span> <span style=\"background-color: #FFE4E4\">time</span> <span style=\"background-color: #FFE4E4\">to</span> <span style=\"background-color: #FFE4E4\">search</span> <span style=\"background-color: #FFE4E4\">our</span> <span style=\"background-color: #FFE4E4\">website</span> <span style=\"background-color: #FFE4E4\">n</span> <span style=\"background-color: #FFE4E4\">/</span> <span style=\"background-color: #FFE4E4\">a</span> <span style=\"background-color: #FFE4E4\">/</span> <span style=\"background-color: #FFE4E4\">sales</span> <span style=\"background-color: #FFE4E4\">.</span> <span style=\"background-color: #FFE4E4\">alternatively</span> <span style=\"background-color: #FFE4E4\">contact</span> <span style=\"background-color: #FFE4E4\">chloe</span> <span style=\"background-color: #FFF4F4\">jones</span> <span style=\"background-color: #FFE4E4\">on</span> <span style=\"background-color: #FFE4E4\">n</span> <span style=\"background-color: #FFE4E4\">/</span> <span style=\"background-color: #FFE4E4\">a</span></p>"
      ]
     },
     "metadata": {},
     "output_type": "display_data"
    }
   ],
   "source": [
    "i = np.random.randint(len(data))\n",
    "print(\"Index:\", i)\n",
    "print(\"Salary (gbp):\", np.expm1(model.predict(make_batch(data.iloc[i: i+1]))[0, 0]))\n",
    "\n",
    "tokens_and_weights = explain(model, data.loc[i], \"Title\")\n",
    "draw_html([(tok, weight * 5) for tok, weight in tokens_and_weights], font_style='font-size:20px;');\n",
    "\n",
    "tokens_and_weights = explain(model, data.loc[i], \"FullDescription\")\n",
    "draw_html([(tok, weight * 10) for tok, weight in tokens_and_weights]);"
   ]
  },
  {
   "cell_type": "markdown",
   "metadata": {},
   "source": [
    "__Terrible start-up idea #1962:__ make a tool that automaticaly rephrases your job description (or CV) to meet salary expectations :)"
   ]
  }
 ],
 "metadata": {
  "kernelspec": {
   "display_name": "nlp_kernel",
   "language": "python",
   "name": "nlp_kernel"
  },
  "language_info": {
   "codemirror_mode": {
    "name": "ipython",
    "version": 3
   },
   "file_extension": ".py",
   "mimetype": "text/x-python",
   "name": "python",
   "nbconvert_exporter": "python",
   "pygments_lexer": "ipython3",
   "version": "3.7.4"
  }
 },
 "nbformat": 4,
 "nbformat_minor": 2
}
